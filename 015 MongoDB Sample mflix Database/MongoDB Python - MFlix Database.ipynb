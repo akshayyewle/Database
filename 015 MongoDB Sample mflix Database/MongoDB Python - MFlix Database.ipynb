{
 "cells": [
  {
   "cell_type": "markdown",
   "metadata": {},
   "source": [
    "# **Setup**"
   ]
  },
  {
   "cell_type": "code",
   "execution_count": 2,
   "metadata": {},
   "outputs": [],
   "source": [
    "from pymongo import MongoClient\n",
    "import pandas as pd"
   ]
  },
  {
   "cell_type": "markdown",
   "metadata": {},
   "source": [
    "# **Connect To MongoDB Atlas Cluster**"
   ]
  },
  {
   "cell_type": "code",
   "execution_count": 3,
   "metadata": {},
   "outputs": [],
   "source": [
    "# MongoDB_Cluster_Username = \"username\"\n",
    "# MongoDB_Cluster_Password = \"password\"\n",
    "\n",
    "MongoDB_Cluster_Username = input(\"Enter MongoDB Username: \")\n",
    "MongoDB_Cluster_Password = input(\"Enter MongoDB Password: \")\n",
    "\n",
    "MongoDB_Cluster_Name = 'mongodb-cluster00.kyxdfwz.mongodb.net/'\n",
    "\n",
    "client = MongoClient(f\"mongodb+srv://{MongoDB_Cluster_Username}:{MongoDB_Cluster_Password}@{MongoDB_Cluster_Name}\")"
   ]
  },
  {
   "cell_type": "markdown",
   "metadata": {},
   "source": [
    "## **Get List Of Databases**"
   ]
  },
  {
   "cell_type": "code",
   "execution_count": 4,
   "metadata": {},
   "outputs": [
    {
     "data": {
      "text/plain": [
       "['sample_airbnb',\n",
       " 'sample_analytics',\n",
       " 'sample_geospatial',\n",
       " 'sample_guides',\n",
       " 'sample_mflix',\n",
       " 'sample_restaurants',\n",
       " 'sample_supplies',\n",
       " 'sample_training',\n",
       " 'sample_weatherdata',\n",
       " 'admin',\n",
       " 'local']"
      ]
     },
     "execution_count": 4,
     "metadata": {},
     "output_type": "execute_result"
    }
   ],
   "source": [
    "# List Available Databases\n",
    "client.list_database_names()"
   ]
  },
  {
   "cell_type": "markdown",
   "metadata": {},
   "source": [
    "## **Get List Of Collections**"
   ]
  },
  {
   "cell_type": "code",
   "execution_count": 5,
   "metadata": {},
   "outputs": [
    {
     "data": {
      "text/plain": [
       "['theaters', 'sessions', 'embedded_movies', 'movies', 'users', 'comments']"
      ]
     },
     "execution_count": 5,
     "metadata": {},
     "output_type": "execute_result"
    }
   ],
   "source": [
    "# Access the database collection directly\n",
    "db = client['sample_mflix']\n",
    "\n",
    "# Get List Of Collections\n",
    "db.list_collection_names()"
   ]
  },
  {
   "cell_type": "markdown",
   "metadata": {},
   "source": [
    "## **Collection Count & Size**"
   ]
  },
  {
   "cell_type": "code",
   "execution_count": 24,
   "metadata": {},
   "outputs": [
    {
     "name": "stdout",
     "output_type": "stream",
     "text": [
      "theaters - 21349 349831 159744\n",
      "sessions - 21349 540 20480\n",
      "embedded_movies - 21349 75388777 72273920\n",
      "movies - 21349 34119032 19779584\n",
      "users - 21349 29568 36864\n",
      "comments - 21349 11686292 6373376\n"
     ]
    }
   ],
   "source": [
    "for collection in db.list_collection_names():\n",
    "    collection_count = db.movies.count_documents({})\n",
    "    collection_size = db.command('collstats',collection)['size']\n",
    "    collection_storagesize = db.command('collstats',collection)['storageSize']\n",
    "    print(collection,'-',collection_count,collection_size,collection_storagesize)"
   ]
  },
  {
   "cell_type": "markdown",
   "metadata": {},
   "source": [
    "# **Query The Database**"
   ]
  },
  {
   "cell_type": "markdown",
   "metadata": {},
   "source": [
    "## **Select Random Document**"
   ]
  },
  {
   "cell_type": "code",
   "execution_count": 29,
   "metadata": {},
   "outputs": [
    {
     "data": {
      "text/plain": [
       "{'_id': ObjectId('573a1390f29313caabcd516c'),\n",
       " 'plot': 'Original advertising for the film describes it as a drama of primitive life on the shores of the North Pacific...',\n",
       " 'genres': ['Drama', 'History'],\n",
       " 'runtime': 65,\n",
       " 'cast': ['Stanley Hunt',\n",
       "  'Sarah Constance Smith Hunt',\n",
       "  'Mrs. George Walkus',\n",
       "  \"Paddy 'Malid\"],\n",
       " 'num_mflix_comments': 1,\n",
       " 'poster': 'https://m.media-amazon.com/images/M/MV5BMjE3MjAyNzM5NV5BMl5BanBnXkFtZTgwMjA5OTg5NjE@._V1_SY1000_SX677_AL_.jpg',\n",
       " 'title': 'In the Land of the Head Hunters',\n",
       " 'lastupdated': '2015-09-16 12:11:37.770000000',\n",
       " 'languages': ['English'],\n",
       " 'released': datetime.datetime(1914, 12, 7, 0, 0),\n",
       " 'directors': ['Edward S. Curtis'],\n",
       " 'writers': ['Edward S. Curtis (story)'],\n",
       " 'awards': {'wins': 1, 'nominations': 0, 'text': '1 win.'},\n",
       " 'year': 1914,\n",
       " 'imdb': {'rating': 5.8, 'votes': 223, 'id': 4150},\n",
       " 'countries': ['USA'],\n",
       " 'type': 'movie',\n",
       " 'tomatoes': {'viewer': {'rating': 2.7, 'numReviews': 64, 'meter': 18},\n",
       "  'dvd': datetime.datetime(2000, 8, 15, 0, 0),\n",
       "  'website': 'http://www.milestonefilms.com/',\n",
       "  'production': 'World Film Corporation',\n",
       "  'lastUpdated': datetime.datetime(2015, 8, 18, 19, 21, 12)}}"
      ]
     },
     "execution_count": 29,
     "metadata": {},
     "output_type": "execute_result"
    }
   ],
   "source": [
    "client.sample_mflix['movies'].find_one()"
   ]
  },
  {
   "cell_type": "markdown",
   "metadata": {},
   "source": [
    "## **Get Distinct Values For A Field**"
   ]
  },
  {
   "cell_type": "code",
   "execution_count": 43,
   "metadata": {},
   "outputs": [
    {
     "name": "stdout",
     "output_type": "stream",
     "text": [
      "No. Of Genres:  25\n",
      "['Action', 'Adventure', 'Animation', 'Biography', 'Comedy', 'Crime', 'Documentary', 'Drama', 'Family', 'Fantasy', 'Film-Noir', 'History', 'Horror', 'Music', 'Musical', 'Mystery', 'News', 'Romance', 'Sci-Fi', 'Short', 'Sport', 'Talk-Show', 'Thriller', 'War', 'Western']\n"
     ]
    }
   ],
   "source": [
    "genres_list = db['movies'].distinct('genres')\n",
    "\n",
    "print('No. Of Genres: ', len(genres_list))\n",
    "print(genres_list)"
   ]
  },
  {
   "cell_type": "markdown",
   "metadata": {},
   "source": [
    "## **Movie Count by Genre**"
   ]
  },
  {
   "cell_type": "code",
   "execution_count": 32,
   "metadata": {},
   "outputs": [
    {
     "data": {
      "text/plain": [
       "['Action',\n",
       " 'Adventure',\n",
       " 'Animation',\n",
       " 'Biography',\n",
       " 'Comedy',\n",
       " 'Crime',\n",
       " 'Documentary',\n",
       " 'Drama',\n",
       " 'Family',\n",
       " 'Fantasy',\n",
       " 'Film-Noir',\n",
       " 'History',\n",
       " 'Horror',\n",
       " 'Music',\n",
       " 'Musical',\n",
       " 'Mystery',\n",
       " 'News',\n",
       " 'Romance',\n",
       " 'Sci-Fi',\n",
       " 'Short',\n",
       " 'Sport',\n",
       " 'Talk-Show',\n",
       " 'Thriller',\n",
       " 'War',\n",
       " 'Western']"
      ]
     },
     "execution_count": 32,
     "metadata": {},
     "output_type": "execute_result"
    }
   ],
   "source": [
    "# Number of movies in each genre\n",
    "client.sample_mflix['movies'].find({},{\"genres\":1}).distinct(\"genres\")"
   ]
  },
  {
   "cell_type": "code",
   "execution_count": 39,
   "metadata": {},
   "outputs": [
    {
     "ename": "SyntaxError",
     "evalue": "invalid syntax (3791244610.py, line 3)",
     "output_type": "error",
     "traceback": [
      "\u001b[1;36m  Cell \u001b[1;32mIn[39], line 3\u001b[1;36m\u001b[0m\n\u001b[1;33m    {$unwind: \"$genres\"},\u001b[0m\n\u001b[1;37m     ^\u001b[0m\n\u001b[1;31mSyntaxError\u001b[0m\u001b[1;31m:\u001b[0m invalid syntax\n"
     ]
    }
   ],
   "source": [
    "#  Count of movies in the database by distinct genres\n",
    "db.movies.aggregate([\n",
    "    {$unwind: \"$genres\"},\n",
    "    {$group: {_id: \"$genres\", count: { $sum: 1 }}},\n",
    "    {$sort: {count: -1}}\n",
    "    ])"
   ]
  }
 ],
 "metadata": {
  "kernelspec": {
   "display_name": "Python 3",
   "language": "python",
   "name": "python3"
  },
  "language_info": {
   "codemirror_mode": {
    "name": "ipython",
    "version": 3
   },
   "file_extension": ".py",
   "mimetype": "text/x-python",
   "name": "python",
   "nbconvert_exporter": "python",
   "pygments_lexer": "ipython3",
   "version": "3.12.4"
  }
 },
 "nbformat": 4,
 "nbformat_minor": 2
}
