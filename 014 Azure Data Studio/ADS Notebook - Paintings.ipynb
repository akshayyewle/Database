{
    "metadata": {
        "kernelspec": {
            "name": "SQL",
            "display_name": "SQL",
            "language": "sql"
        },
        "language_info": {
            "name": "sql",
            "version": ""
        }
    },
    "nbformat_minor": 2,
    "nbformat": 4,
    "cells": [
        {
            "cell_type": "code",
            "source": [
                "SELECT * FROM Museum\r\n",
                "WHERE city = 'London' AND state = 'England'\r\n",
                "ORDER BY name DESC\r\n",
                "LIMIT 10"
            ],
            "metadata": {
                "azdata_cell_guid": "c0e99268-7da5-409f-b91b-2050f7d1193c",
                "language": "sql"
            },
            "outputs": [
                {
                    "output_type": "display_data",
                    "data": {
                        "text/html": "(2 row(s) affected)"
                    },
                    "metadata": {}
                },
                {
                    "output_type": "display_data",
                    "data": {
                        "text/html": "Total execution time: 00:00:00.003"
                    },
                    "metadata": {}
                },
                {
                    "output_type": "execute_result",
                    "metadata": {},
                    "execution_count": 2,
                    "data": {
                        "application/vnd.dataresource+json": {
                            "schema": {
                                "fields": [
                                    {
                                        "name": "museum_id"
                                    },
                                    {
                                        "name": "name"
                                    },
                                    {
                                        "name": "address"
                                    },
                                    {
                                        "name": "city"
                                    },
                                    {
                                        "name": "state"
                                    },
                                    {
                                        "name": "postal"
                                    },
                                    {
                                        "name": "country"
                                    },
                                    {
                                        "name": "phone"
                                    },
                                    {
                                        "name": "url"
                                    }
                                ]
                            },
                            "data": [
                                {
                                    "museum_id": "62",
                                    "name": "The Tate Gallery",
                                    "address": "Millbank",
                                    "city": "London",
                                    "state": "England",
                                    "postal": "SW1P 4RG",
                                    "country": "UK",
                                    "phone": "+44 (0)20 7887 8888",
                                    "url": "https://www.tate.org.uk/visit/tate-britain"
                                },
                                {
                                    "museum_id": "47",
                                    "name": "National Gallery",
                                    "address": "Trafalgar Square",
                                    "city": "London",
                                    "state": "England",
                                    "postal": "WC2N 5DN",
                                    "country": "UK",
                                    "phone": "+44 (0)20 7747 2885",
                                    "url": "https://www.nationalgallery.org.uk/"
                                }
                            ]
                        },
                        "text/html": [
                            "<table>",
                            "<tr><th>museum_id</th><th>name</th><th>address</th><th>city</th><th>state</th><th>postal</th><th>country</th><th>phone</th><th>url</th></tr>",
                            "<tr><td>62</td><td>The Tate Gallery</td><td>Millbank</td><td>London</td><td>England</td><td>SW1P 4RG</td><td>UK</td><td>+44 (0)20 7887 8888</td><td>https://www.tate.org.uk/visit/tate-britain</td></tr>",
                            "<tr><td>47</td><td>National Gallery</td><td>Trafalgar Square</td><td>London</td><td>England</td><td>WC2N 5DN</td><td>UK</td><td>+44 (0)20 7747 2885</td><td>https://www.nationalgallery.org.uk/</td></tr>",
                            "</table>"
                        ]
                    }
                }
            ],
            "execution_count": 2
        }
    ]
}