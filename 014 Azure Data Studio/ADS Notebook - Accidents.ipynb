{
    "metadata": {
        "kernelspec": {
            "name": "SQL",
            "display_name": "SQL",
            "language": "sql"
        },
        "language_info": {
            "name": "sql",
            "version": ""
        }
    },
    "nbformat_minor": 2,
    "nbformat": 4,
    "cells": [
        {
            "cell_type": "markdown",
            "source": [
                "# **Setup**"
            ],
            "metadata": {
                "language": "sql",
                "azdata_cell_guid": "8c2e604d-7067-4414-ae96-f0a786f88121"
            },
            "attachments": {}
        },
        {
            "cell_type": "code",
            "source": [
                "SELECT * FROM accident\r\n",
                "WHERE \"Severity\" = 'Slight' \r\n",
                "    AND \"Day\" = 'Monday'\r\n",
                "    AND \"LightConditions\" = 'Darkness'\r\n",
                "    AND \"WeatherConditions\" LIKE '%Fine%'\r\n",
                "LIMIT 10"
            ],
            "metadata": {
                "azdata_cell_guid": "56da0085-f114-4163-9d9a-86523968c2ba",
                "language": "sql",
                "tags": []
            },
            "outputs": [
                {
                    "output_type": "display_data",
                    "data": {
                        "text/html": "(10 row(s) affected)"
                    },
                    "metadata": {}
                },
                {
                    "output_type": "display_data",
                    "data": {
                        "text/html": "Total execution time: 00:00:00.003"
                    },
                    "metadata": {}
                },
                {
                    "output_type": "execute_result",
                    "metadata": {},
                    "execution_count": 13,
                    "data": {
                        "application/vnd.dataresource+json": {
                            "schema": {
                                "fields": [
                                    {
                                        "name": "AccidentIndex"
                                    },
                                    {
                                        "name": "Severity"
                                    },
                                    {
                                        "name": "Date"
                                    },
                                    {
                                        "name": "Day"
                                    },
                                    {
                                        "name": "SpeedLimit"
                                    },
                                    {
                                        "name": "LightConditions"
                                    },
                                    {
                                        "name": "WeatherConditions"
                                    },
                                    {
                                        "name": "RoadConditions"
                                    },
                                    {
                                        "name": "Area"
                                    }
                                ]
                            },
                            "data": [
                                {
                                    "AccidentIndex": "201501BS70001",
                                    "Severity": "Slight",
                                    "Date": "12/1/2015",
                                    "Day": "Monday",
                                    "SpeedLimit": "30",
                                    "LightConditions": "Darkness",
                                    "WeatherConditions": "Fine no high winds",
                                    "RoadConditions": "Dry",
                                    "Area": "Urban"
                                },
                                {
                                    "AccidentIndex": "201501BS70061",
                                    "Severity": "Slight",
                                    "Date": "9/2/2015",
                                    "Day": "Monday",
                                    "SpeedLimit": "30",
                                    "LightConditions": "Darkness",
                                    "WeatherConditions": "Fine no high winds",
                                    "RoadConditions": "Dry",
                                    "Area": "Urban"
                                },
                                {
                                    "AccidentIndex": "201501BS70189",
                                    "Severity": "Slight",
                                    "Date": "12/1/2015",
                                    "Day": "Monday",
                                    "SpeedLimit": "30",
                                    "LightConditions": "Darkness",
                                    "WeatherConditions": "Fine no high winds",
                                    "RoadConditions": "Dry",
                                    "Area": "Urban"
                                },
                                {
                                    "AccidentIndex": "201501BS70268",
                                    "Severity": "Slight",
                                    "Date": "18/05/2015",
                                    "Day": "Monday",
                                    "SpeedLimit": "30",
                                    "LightConditions": "Darkness",
                                    "WeatherConditions": "Fine no high winds",
                                    "RoadConditions": "Dry",
                                    "Area": "Urban"
                                },
                                {
                                    "AccidentIndex": "201501BS70455",
                                    "Severity": "Slight",
                                    "Date": "3/8/2015",
                                    "Day": "Monday",
                                    "SpeedLimit": "30",
                                    "LightConditions": "Darkness",
                                    "WeatherConditions": "Fine no high winds",
                                    "RoadConditions": "Dry",
                                    "Area": "Urban"
                                },
                                {
                                    "AccidentIndex": "201501BS70473",
                                    "Severity": "Slight",
                                    "Date": "17/08/2015",
                                    "Day": "Monday",
                                    "SpeedLimit": "30",
                                    "LightConditions": "Darkness",
                                    "WeatherConditions": "Fine no high winds",
                                    "RoadConditions": "Dry",
                                    "Area": "Urban"
                                },
                                {
                                    "AccidentIndex": "201501BS70507",
                                    "Severity": "Slight",
                                    "Date": "7/9/2015",
                                    "Day": "Monday",
                                    "SpeedLimit": "30",
                                    "LightConditions": "Darkness",
                                    "WeatherConditions": "Fine no high winds",
                                    "RoadConditions": "Dry",
                                    "Area": "Urban"
                                },
                                {
                                    "AccidentIndex": "201501BS70510",
                                    "Severity": "Slight",
                                    "Date": "7/9/2015",
                                    "Day": "Monday",
                                    "SpeedLimit": "30",
                                    "LightConditions": "Darkness",
                                    "WeatherConditions": "Fine no high winds",
                                    "RoadConditions": "Dry",
                                    "Area": "Urban"
                                },
                                {
                                    "AccidentIndex": "201501BS70611",
                                    "Severity": "Slight",
                                    "Date": "19/10/2015",
                                    "Day": "Monday",
                                    "SpeedLimit": "30",
                                    "LightConditions": "Darkness",
                                    "WeatherConditions": "Fine no high winds",
                                    "RoadConditions": "Dry",
                                    "Area": "Rural"
                                },
                                {
                                    "AccidentIndex": "201501BS70670",
                                    "Severity": "Slight",
                                    "Date": "9/11/2015",
                                    "Day": "Monday",
                                    "SpeedLimit": "30",
                                    "LightConditions": "Darkness",
                                    "WeatherConditions": "Fine no high winds",
                                    "RoadConditions": "Dry",
                                    "Area": "Urban"
                                }
                            ]
                        },
                        "text/html": [
                            "<table>",
                            "<tr><th>AccidentIndex</th><th>Severity</th><th>Date</th><th>Day</th><th>SpeedLimit</th><th>LightConditions</th><th>WeatherConditions</th><th>RoadConditions</th><th>Area</th></tr>",
                            "<tr><td>201501BS70001</td><td>Slight</td><td>12/1/2015</td><td>Monday</td><td>30</td><td>Darkness</td><td>Fine no high winds</td><td>Dry</td><td>Urban</td></tr>",
                            "<tr><td>201501BS70061</td><td>Slight</td><td>9/2/2015</td><td>Monday</td><td>30</td><td>Darkness</td><td>Fine no high winds</td><td>Dry</td><td>Urban</td></tr>",
                            "<tr><td>201501BS70189</td><td>Slight</td><td>12/1/2015</td><td>Monday</td><td>30</td><td>Darkness</td><td>Fine no high winds</td><td>Dry</td><td>Urban</td></tr>",
                            "<tr><td>201501BS70268</td><td>Slight</td><td>18/05/2015</td><td>Monday</td><td>30</td><td>Darkness</td><td>Fine no high winds</td><td>Dry</td><td>Urban</td></tr>",
                            "<tr><td>201501BS70455</td><td>Slight</td><td>3/8/2015</td><td>Monday</td><td>30</td><td>Darkness</td><td>Fine no high winds</td><td>Dry</td><td>Urban</td></tr>",
                            "<tr><td>201501BS70473</td><td>Slight</td><td>17/08/2015</td><td>Monday</td><td>30</td><td>Darkness</td><td>Fine no high winds</td><td>Dry</td><td>Urban</td></tr>",
                            "<tr><td>201501BS70507</td><td>Slight</td><td>7/9/2015</td><td>Monday</td><td>30</td><td>Darkness</td><td>Fine no high winds</td><td>Dry</td><td>Urban</td></tr>",
                            "<tr><td>201501BS70510</td><td>Slight</td><td>7/9/2015</td><td>Monday</td><td>30</td><td>Darkness</td><td>Fine no high winds</td><td>Dry</td><td>Urban</td></tr>",
                            "<tr><td>201501BS70611</td><td>Slight</td><td>19/10/2015</td><td>Monday</td><td>30</td><td>Darkness</td><td>Fine no high winds</td><td>Dry</td><td>Rural</td></tr>",
                            "<tr><td>201501BS70670</td><td>Slight</td><td>9/11/2015</td><td>Monday</td><td>30</td><td>Darkness</td><td>Fine no high winds</td><td>Dry</td><td>Urban</td></tr>",
                            "</table>"
                        ]
                    }
                }
            ],
            "execution_count": 13
        }
    ]
}