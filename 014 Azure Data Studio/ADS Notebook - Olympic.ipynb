{
    "metadata": {
        "kernelspec": {
            "name": "SQL",
            "display_name": "SQL",
            "language": "sql"
        },
        "language_info": {
            "name": "sql",
            "version": ""
        }
    },
    "nbformat_minor": 2,
    "nbformat": 4,
    "cells": [
        {
            "cell_type": "markdown",
            "source": [
                "# **Setup**"
            ],
            "metadata": {
                "language": "sql",
                "azdata_cell_guid": "22487dd6-7a66-4ca5-987d-3bfb275471e4"
            },
            "attachments": {}
        },
        {
            "cell_type": "code",
            "source": [
                "-- Get a list of databases\r\n",
                "SELECT datname FROM pg_database\r\n",
                "WHERE datistemplate = false"
            ],
            "metadata": {
                "azdata_cell_guid": "788733f5-d326-4892-980b-b2081b98f4d8",
                "language": "sql",
                "tags": []
            },
            "outputs": [
                {
                    "output_type": "display_data",
                    "data": {
                        "text/html": "(7 row(s) affected)"
                    },
                    "metadata": {}
                },
                {
                    "output_type": "display_data",
                    "data": {
                        "text/html": "Total execution time: 00:00:00.003"
                    },
                    "metadata": {}
                },
                {
                    "output_type": "execute_result",
                    "metadata": {},
                    "execution_count": 1,
                    "data": {
                        "application/vnd.dataresource+json": {
                            "schema": {
                                "fields": [
                                    {
                                        "name": "datname"
                                    }
                                ]
                            },
                            "data": [
                                {
                                    "datname": "postgres"
                                },
                                {
                                    "datname": "medical_ocd_database"
                                },
                                {
                                    "datname": "postgis_34_sample"
                                },
                                {
                                    "datname": "Covid19"
                                },
                                {
                                    "datname": "paintings"
                                },
                                {
                                    "datname": "olympic"
                                },
                                {
                                    "datname": "accidents"
                                }
                            ]
                        },
                        "text/html": [
                            "<table>",
                            "<tr><th>datname</th></tr>",
                            "<tr><td>postgres</td></tr>",
                            "<tr><td>medical_ocd_database</td></tr>",
                            "<tr><td>postgis_34_sample</td></tr>",
                            "<tr><td>Covid19</td></tr>",
                            "<tr><td>paintings</td></tr>",
                            "<tr><td>olympic</td></tr>",
                            "<tr><td>accidents</td></tr>",
                            "</table>"
                        ]
                    }
                }
            ],
            "execution_count": 1
        },
        {
            "cell_type": "code",
            "source": [
                "SELECT * FROM pg_catalog.pg_tables\r\n",
                "LIMIT 10;"
            ],
            "metadata": {
                "language": "sql",
                "azdata_cell_guid": "28b7fb4a-f88b-4ddc-92fe-e5634f456fc5"
            },
            "outputs": [
                {
                    "output_type": "display_data",
                    "data": {
                        "text/html": "(10 row(s) affected)"
                    },
                    "metadata": {}
                },
                {
                    "output_type": "display_data",
                    "data": {
                        "text/html": "Total execution time: 00:00:00.006"
                    },
                    "metadata": {}
                },
                {
                    "output_type": "execute_result",
                    "metadata": {},
                    "execution_count": 2,
                    "data": {
                        "application/vnd.dataresource+json": {
                            "schema": {
                                "fields": [
                                    {
                                        "name": "schemaname"
                                    },
                                    {
                                        "name": "tablename"
                                    },
                                    {
                                        "name": "tableowner"
                                    },
                                    {
                                        "name": "tablespace"
                                    },
                                    {
                                        "name": "hasindexes"
                                    },
                                    {
                                        "name": "hasrules"
                                    },
                                    {
                                        "name": "hastriggers"
                                    },
                                    {
                                        "name": "rowsecurity"
                                    }
                                ]
                            },
                            "data": [
                                {
                                    "schemaname": "public",
                                    "tablename": "spatial_ref_sys",
                                    "tableowner": "postgres",
                                    "tablespace": "NULL",
                                    "hasindexes": "True",
                                    "hasrules": "False",
                                    "hastriggers": "False",
                                    "rowsecurity": "False"
                                },
                                {
                                    "schemaname": "pg_catalog",
                                    "tablename": "pg_statistic",
                                    "tableowner": "postgres",
                                    "tablespace": "NULL",
                                    "hasindexes": "True",
                                    "hasrules": "False",
                                    "hastriggers": "False",
                                    "rowsecurity": "False"
                                },
                                {
                                    "schemaname": "pg_catalog",
                                    "tablename": "pg_type",
                                    "tableowner": "postgres",
                                    "tablespace": "NULL",
                                    "hasindexes": "True",
                                    "hasrules": "False",
                                    "hastriggers": "False",
                                    "rowsecurity": "False"
                                },
                                {
                                    "schemaname": "public",
                                    "tablename": "summer",
                                    "tableowner": "postgres",
                                    "tablespace": "NULL",
                                    "hasindexes": "False",
                                    "hasrules": "False",
                                    "hastriggers": "False",
                                    "rowsecurity": "False"
                                },
                                {
                                    "schemaname": "pg_catalog",
                                    "tablename": "pg_foreign_table",
                                    "tableowner": "postgres",
                                    "tablespace": "NULL",
                                    "hasindexes": "True",
                                    "hasrules": "False",
                                    "hastriggers": "False",
                                    "rowsecurity": "False"
                                },
                                {
                                    "schemaname": "pg_catalog",
                                    "tablename": "pg_authid",
                                    "tableowner": "postgres",
                                    "tablespace": "pg_global",
                                    "hasindexes": "True",
                                    "hasrules": "False",
                                    "hastriggers": "False",
                                    "rowsecurity": "False"
                                },
                                {
                                    "schemaname": "pg_catalog",
                                    "tablename": "pg_statistic_ext_data",
                                    "tableowner": "postgres",
                                    "tablespace": "NULL",
                                    "hasindexes": "True",
                                    "hasrules": "False",
                                    "hastriggers": "False",
                                    "rowsecurity": "False"
                                },
                                {
                                    "schemaname": "pg_catalog",
                                    "tablename": "pg_user_mapping",
                                    "tableowner": "postgres",
                                    "tablespace": "NULL",
                                    "hasindexes": "True",
                                    "hasrules": "False",
                                    "hastriggers": "False",
                                    "rowsecurity": "False"
                                },
                                {
                                    "schemaname": "pg_catalog",
                                    "tablename": "pg_subscription",
                                    "tableowner": "postgres",
                                    "tablespace": "pg_global",
                                    "hasindexes": "True",
                                    "hasrules": "False",
                                    "hastriggers": "False",
                                    "rowsecurity": "False"
                                },
                                {
                                    "schemaname": "pg_catalog",
                                    "tablename": "pg_attribute",
                                    "tableowner": "postgres",
                                    "tablespace": "NULL",
                                    "hasindexes": "True",
                                    "hasrules": "False",
                                    "hastriggers": "False",
                                    "rowsecurity": "False"
                                }
                            ]
                        },
                        "text/html": [
                            "<table>",
                            "<tr><th>schemaname</th><th>tablename</th><th>tableowner</th><th>tablespace</th><th>hasindexes</th><th>hasrules</th><th>hastriggers</th><th>rowsecurity</th></tr>",
                            "<tr><td>public</td><td>spatial_ref_sys</td><td>postgres</td><td>NULL</td><td>True</td><td>False</td><td>False</td><td>False</td></tr>",
                            "<tr><td>pg_catalog</td><td>pg_statistic</td><td>postgres</td><td>NULL</td><td>True</td><td>False</td><td>False</td><td>False</td></tr>",
                            "<tr><td>pg_catalog</td><td>pg_type</td><td>postgres</td><td>NULL</td><td>True</td><td>False</td><td>False</td><td>False</td></tr>",
                            "<tr><td>public</td><td>summer</td><td>postgres</td><td>NULL</td><td>False</td><td>False</td><td>False</td><td>False</td></tr>",
                            "<tr><td>pg_catalog</td><td>pg_foreign_table</td><td>postgres</td><td>NULL</td><td>True</td><td>False</td><td>False</td><td>False</td></tr>",
                            "<tr><td>pg_catalog</td><td>pg_authid</td><td>postgres</td><td>pg_global</td><td>True</td><td>False</td><td>False</td><td>False</td></tr>",
                            "<tr><td>pg_catalog</td><td>pg_statistic_ext_data</td><td>postgres</td><td>NULL</td><td>True</td><td>False</td><td>False</td><td>False</td></tr>",
                            "<tr><td>pg_catalog</td><td>pg_user_mapping</td><td>postgres</td><td>NULL</td><td>True</td><td>False</td><td>False</td><td>False</td></tr>",
                            "<tr><td>pg_catalog</td><td>pg_subscription</td><td>postgres</td><td>pg_global</td><td>True</td><td>False</td><td>False</td><td>False</td></tr>",
                            "<tr><td>pg_catalog</td><td>pg_attribute</td><td>postgres</td><td>NULL</td><td>True</td><td>False</td><td>False</td><td>False</td></tr>",
                            "</table>"
                        ]
                    }
                }
            ],
            "execution_count": 2
        },
        {
            "cell_type": "code",
            "source": [
                "SELECT column_name, data_type\r\n",
                "FROM information_schema.columns\r\n",
                "-- WHERE table_schema = 'public' --table_name = 'olympic' AND "
            ],
            "metadata": {
                "language": "sql",
                "azdata_cell_guid": "ecda0d6e-f554-4681-95da-e38b29ce5a0e"
            },
            "outputs": [
                {
                    "output_type": "display_data",
                    "data": {
                        "text/html": "(2083 row(s) affected)"
                    },
                    "metadata": {}
                },
                {
                    "output_type": "display_data",
                    "data": {
                        "text/html": "Total execution time: 00:00:00.026"
                    },
                    "metadata": {}
                },
                {
                    "output_type": "execute_result",
                    "metadata": {},
                    "execution_count": 3,
                    "data": {
                        "application/vnd.dataresource+json": {
                            "schema": {
                                "fields": [
                                    {
                                        "name": "column_name"
                                    },
                                    {
                                        "name": "data_type"
                                    }
                                ]
                            },
                            "data": [
                                {
                                    "column_name": "skip_rep",
                                    "data_type": "bigint"
                                },
                                {
                                    "column_name": "wal_distance",
                                    "data_type": "integer"
                                },
                                {
                                    "column_name": "block_distance",
                                    "data_type": "integer"
                                },
                                {
                                    "column_name": "io_depth",
                                    "data_type": "integer"
                                },
                                {
                                    "column_name": "subid",
                                    "data_type": "oid"
                                },
                                {
                                    "column_name": "last_archived_time",
                                    "data_type": "timestamp with time zone"
                                },
                                {
                                    "column_name": "pid",
                                    "data_type": "integer"
                                },
                                {
                                    "column_name": "leader_pid",
                                    "data_type": "integer"
                                },
                                {
                                    "column_name": "relid",
                                    "data_type": "oid"
                                },
                                {
                                    "column_name": "received_lsn",
                                    "data_type": "pg_lsn"
                                },
                                {
                                    "column_name": "last_msg_send_time",
                                    "data_type": "timestamp with time zone"
                                },
                                {
                                    "column_name": "last_msg_receipt_time",
                                    "data_type": "timestamp with time zone"
                                },
                                {
                                    "column_name": "latest_end_lsn",
                                    "data_type": "pg_lsn"
                                },
                                {
                                    "column_name": "latest_end_time",
                                    "data_type": "timestamp with time zone"
                                },
                                {
                                    "column_name": "pid",
                                    "data_type": "integer"
                                },
                                {
                                    "column_name": "ssl",
                                    "data_type": "boolean"
                                },
                                {
                                    "column_name": "fdwowner",
                                    "data_type": "oid"
                                },
                                {
                                    "column_name": "oid",
                                    "data_type": "oid"
                                },
                                {
                                    "column_name": "bits",
                                    "data_type": "integer"
                                },
                                {
                                    "column_name": "attmissingval",
                                    "data_type": "anyarray"
                                },
                                {
                                    "column_name": "client_serial",
                                    "data_type": "numeric"
                                },
                                {
                                    "column_name": "oid",
                                    "data_type": "oid"
                                },
                                {
                                    "column_name": "pid",
                                    "data_type": "integer"
                                },
                                {
                                    "column_name": "gss_authenticated",
                                    "data_type": "boolean"
                                },
                                {
                                    "column_name": "maximum_cardinality",
                                    "data_type": "integer"
                                },
                                {
                                    "column_name": "encrypted",
                                    "data_type": "boolean"
                                },
                                {
                                    "column_name": "credentials_delegated",
                                    "data_type": "boolean"
                                },
                                {
                                    "column_name": "archived_count",
                                    "data_type": "bigint"
                                },
                                {
                                    "column_name": "self_time",
                                    "data_type": "double precision"
                                },
                                {
                                    "column_name": "relnamespace",
                                    "data_type": "oid"
                                },
                                {
                                    "column_name": "datoid",
                                    "data_type": "oid"
                                },
                                {
                                    "column_name": "total_time",
                                    "data_type": "double precision"
                                },
                                {
                                    "column_name": "temporary",
                                    "data_type": "boolean"
                                },
                                {
                                    "column_name": "active",
                                    "data_type": "boolean"
                                },
                                {
                                    "column_name": "active_pid",
                                    "data_type": "integer"
                                },
                                {
                                    "column_name": "xmin",
                                    "data_type": "xid"
                                },
                                {
                                    "column_name": "catalog_xmin",
                                    "data_type": "xid"
                                },
                                {
                                    "column_name": "restart_lsn",
                                    "data_type": "pg_lsn"
                                },
                                {
                                    "column_name": "confirmed_flush_lsn",
                                    "data_type": "pg_lsn"
                                },
                                {
                                    "column_name": "reltype",
                                    "data_type": "oid"
                                },
                                {
                                    "column_name": "safe_wal_size",
                                    "data_type": "bigint"
                                },
                                {
                                    "column_name": "two_phase",
                                    "data_type": "boolean"
                                },
                                {
                                    "column_name": "conflicting",
                                    "data_type": "boolean"
                                },
                                {
                                    "column_name": "reloftype",
                                    "data_type": "oid"
                                },
                                {
                                    "column_name": "spill_txns",
                                    "data_type": "bigint"
                                },
                                {
                                    "column_name": "spill_count",
                                    "data_type": "bigint"
                                },
                                {
                                    "column_name": "spill_bytes",
                                    "data_type": "bigint"
                                },
                                {
                                    "column_name": "stream_txns",
                                    "data_type": "bigint"
                                },
                                {
                                    "column_name": "stream_count",
                                    "data_type": "bigint"
                                },
                                {
                                    "column_name": "stream_bytes",
                                    "data_type": "bigint"
                                },
                                {
                                    "column_name": "total_txns",
                                    "data_type": "bigint"
                                },
                                {
                                    "column_name": "total_bytes",
                                    "data_type": "bigint"
                                },
                                {
                                    "column_name": "stats_reset",
                                    "data_type": "timestamp with time zone"
                                },
                                {
                                    "column_name": "datid",
                                    "data_type": "oid"
                                },
                                {
                                    "column_name": "calls",
                                    "data_type": "bigint"
                                },
                                {
                                    "column_name": "numbackends",
                                    "data_type": "integer"
                                },
                                {
                                    "column_name": "xact_commit",
                                    "data_type": "bigint"
                                },
                                {
                                    "column_name": "xact_rollback",
                                    "data_type": "bigint"
                                },
                                {
                                    "column_name": "blks_read",
                                    "data_type": "bigint"
                                },
                                {
                                    "column_name": "blks_hit",
                                    "data_type": "bigint"
                                },
                                {
                                    "column_name": "tup_returned",
                                    "data_type": "bigint"
                                },
                                {
                                    "column_name": "tup_fetched",
                                    "data_type": "bigint"
                                },
                                {
                                    "column_name": "tup_inserted",
                                    "data_type": "bigint"
                                },
                                {
                                    "column_name": "tup_updated",
                                    "data_type": "bigint"
                                },
                                {
                                    "column_name": "tup_deleted",
                                    "data_type": "bigint"
                                },
                                {
                                    "column_name": "conflicts",
                                    "data_type": "bigint"
                                },
                                {
                                    "column_name": "temp_files",
                                    "data_type": "bigint"
                                },
                                {
                                    "column_name": "temp_bytes",
                                    "data_type": "bigint"
                                },
                                {
                                    "column_name": "deadlocks",
                                    "data_type": "bigint"
                                },
                                {
                                    "column_name": "checksum_failures",
                                    "data_type": "bigint"
                                },
                                {
                                    "column_name": "checksum_last_failure",
                                    "data_type": "timestamp with time zone"
                                },
                                {
                                    "column_name": "blk_read_time",
                                    "data_type": "double precision"
                                },
                                {
                                    "column_name": "blk_write_time",
                                    "data_type": "double precision"
                                },
                                {
                                    "column_name": "session_time",
                                    "data_type": "double precision"
                                },
                                {
                                    "column_name": "active_time",
                                    "data_type": "double precision"
                                },
                                {
                                    "column_name": "idle_in_transaction_time",
                                    "data_type": "double precision"
                                },
                                {
                                    "column_name": "sessions",
                                    "data_type": "bigint"
                                },
                                {
                                    "column_name": "sessions_abandoned",
                                    "data_type": "bigint"
                                },
                                {
                                    "column_name": "sessions_fatal",
                                    "data_type": "bigint"
                                },
                                {
                                    "column_name": "sessions_killed",
                                    "data_type": "bigint"
                                },
                                {
                                    "column_name": "stats_reset",
                                    "data_type": "timestamp with time zone"
                                },
                                {
                                    "column_name": "datid",
                                    "data_type": "oid"
                                },
                                {
                                    "column_name": "funcid",
                                    "data_type": "oid"
                                },
                                {
                                    "column_name": "confl_tablespace",
                                    "data_type": "bigint"
                                },
                                {
                                    "column_name": "confl_lock",
                                    "data_type": "bigint"
                                },
                                {
                                    "column_name": "confl_snapshot",
                                    "data_type": "bigint"
                                },
                                {
                                    "column_name": "confl_bufferpin",
                                    "data_type": "bigint"
                                },
                                {
                                    "column_name": "confl_deadlock",
                                    "data_type": "bigint"
                                },
                                {
                                    "column_name": "confl_active_logicalslot",
                                    "data_type": "bigint"
                                },
                                {
                                    "column_name": "funcid",
                                    "data_type": "oid"
                                },
                                {
                                    "column_name": "self_time",
                                    "data_type": "double precision"
                                },
                                {
                                    "column_name": "total_time",
                                    "data_type": "double precision"
                                },
                                {
                                    "column_name": "calls",
                                    "data_type": "bigint"
                                },
                                {
                                    "column_name": "relowner",
                                    "data_type": "oid"
                                },
                                {
                                    "column_name": "relam",
                                    "data_type": "oid"
                                },
                                {
                                    "column_name": "relfilenode",
                                    "data_type": "oid"
                                },
                                {
                                    "column_name": "reltablespace",
                                    "data_type": "oid"
                                },
                                {
                                    "column_name": "relpages",
                                    "data_type": "integer"
                                },
                                {
                                    "column_name": "reltuples",
                                    "data_type": "real"
                                },
                                {
                                    "column_name": "relallvisible",
                                    "data_type": "integer"
                                },
                                {
                                    "column_name": "reltoastrelid",
                                    "data_type": "oid"
                                },
                                {
                                    "column_name": "relhasindex",
                                    "data_type": "boolean"
                                },
                                {
                                    "column_name": "relisshared",
                                    "data_type": "boolean"
                                },
                                {
                                    "column_name": "relpersistence",
                                    "data_type": "\"char\""
                                },
                                {
                                    "column_name": "relkind",
                                    "data_type": "\"char\""
                                },
                                {
                                    "column_name": "relnatts",
                                    "data_type": "smallint"
                                },
                                {
                                    "column_name": "relchecks",
                                    "data_type": "smallint"
                                },
                                {
                                    "column_name": "relhasrules",
                                    "data_type": "boolean"
                                },
                                {
                                    "column_name": "relhastriggers",
                                    "data_type": "boolean"
                                },
                                {
                                    "column_name": "relhassubclass",
                                    "data_type": "boolean"
                                },
                                {
                                    "column_name": "relrowsecurity",
                                    "data_type": "boolean"
                                },
                                {
                                    "column_name": "relforcerowsecurity",
                                    "data_type": "boolean"
                                },
                                {
                                    "column_name": "relispopulated",
                                    "data_type": "boolean"
                                },
                                {
                                    "column_name": "relreplident",
                                    "data_type": "\"char\""
                                },
                                {
                                    "column_name": "relispartition",
                                    "data_type": "boolean"
                                },
                                {
                                    "column_name": "relrewrite",
                                    "data_type": "oid"
                                },
                                {
                                    "column_name": "relfrozenxid",
                                    "data_type": "xid"
                                },
                                {
                                    "column_name": "relminmxid",
                                    "data_type": "xid"
                                },
                                {
                                    "column_name": "relacl",
                                    "data_type": "ARRAY"
                                },
                                {
                                    "column_name": "interval_precision",
                                    "data_type": "integer"
                                },
                                {
                                    "column_name": "datetime_precision",
                                    "data_type": "integer"
                                },
                                {
                                    "column_name": "oid",
                                    "data_type": "oid"
                                },
                                {
                                    "column_name": "adrelid",
                                    "data_type": "oid"
                                },
                                {
                                    "column_name": "adnum",
                                    "data_type": "smallint"
                                },
                                {
                                    "column_name": "numeric_scale",
                                    "data_type": "integer"
                                },
                                {
                                    "column_name": "oid",
                                    "data_type": "oid"
                                },
                                {
                                    "column_name": "numeric_precision_radix",
                                    "data_type": "integer"
                                },
                                {
                                    "column_name": "connamespace",
                                    "data_type": "oid"
                                },
                                {
                                    "column_name": "contype",
                                    "data_type": "\"char\""
                                },
                                {
                                    "column_name": "condeferrable",
                                    "data_type": "boolean"
                                },
                                {
                                    "column_name": "condeferred",
                                    "data_type": "boolean"
                                },
                                {
                                    "column_name": "convalidated",
                                    "data_type": "boolean"
                                },
                                {
                                    "column_name": "conrelid",
                                    "data_type": "oid"
                                },
                                {
                                    "column_name": "contypid",
                                    "data_type": "oid"
                                },
                                {
                                    "column_name": "conindid",
                                    "data_type": "oid"
                                },
                                {
                                    "column_name": "conparentid",
                                    "data_type": "oid"
                                },
                                {
                                    "column_name": "confrelid",
                                    "data_type": "oid"
                                },
                                {
                                    "column_name": "confupdtype",
                                    "data_type": "\"char\""
                                },
                                {
                                    "column_name": "confdeltype",
                                    "data_type": "\"char\""
                                },
                                {
                                    "column_name": "confmatchtype",
                                    "data_type": "\"char\""
                                },
                                {
                                    "column_name": "conislocal",
                                    "data_type": "boolean"
                                },
                                {
                                    "column_name": "coninhcount",
                                    "data_type": "smallint"
                                },
                                {
                                    "column_name": "connoinherit",
                                    "data_type": "boolean"
                                },
                                {
                                    "column_name": "conkey",
                                    "data_type": "ARRAY"
                                },
                                {
                                    "column_name": "confkey",
                                    "data_type": "ARRAY"
                                },
                                {
                                    "column_name": "conpfeqop",
                                    "data_type": "ARRAY"
                                },
                                {
                                    "column_name": "conppeqop",
                                    "data_type": "ARRAY"
                                },
                                {
                                    "column_name": "conffeqop",
                                    "data_type": "ARRAY"
                                },
                                {
                                    "column_name": "confdelsetcols",
                                    "data_type": "ARRAY"
                                },
                                {
                                    "column_name": "conexclop",
                                    "data_type": "ARRAY"
                                },
                                {
                                    "column_name": "numeric_precision",
                                    "data_type": "integer"
                                },
                                {
                                    "column_name": "inhrelid",
                                    "data_type": "oid"
                                },
                                {
                                    "column_name": "inhparent",
                                    "data_type": "oid"
                                },
                                {
                                    "column_name": "inhseqno",
                                    "data_type": "integer"
                                },
                                {
                                    "column_name": "inhdetachpending",
                                    "data_type": "boolean"
                                },
                                {
                                    "column_name": "indexrelid",
                                    "data_type": "oid"
                                },
                                {
                                    "column_name": "indrelid",
                                    "data_type": "oid"
                                },
                                {
                                    "column_name": "indnatts",
                                    "data_type": "smallint"
                                },
                                {
                                    "column_name": "indnkeyatts",
                                    "data_type": "smallint"
                                },
                                {
                                    "column_name": "indisunique",
                                    "data_type": "boolean"
                                },
                                {
                                    "column_name": "indnullsnotdistinct",
                                    "data_type": "boolean"
                                },
                                {
                                    "column_name": "indisprimary",
                                    "data_type": "boolean"
                                },
                                {
                                    "column_name": "indisexclusion",
                                    "data_type": "boolean"
                                },
                                {
                                    "column_name": "indimmediate",
                                    "data_type": "boolean"
                                },
                                {
                                    "column_name": "indisclustered",
                                    "data_type": "boolean"
                                },
                                {
                                    "column_name": "indisvalid",
                                    "data_type": "boolean"
                                },
                                {
                                    "column_name": "indcheckxmin",
                                    "data_type": "boolean"
                                },
                                {
                                    "column_name": "indisready",
                                    "data_type": "boolean"
                                },
                                {
                                    "column_name": "indislive",
                                    "data_type": "boolean"
                                },
                                {
                                    "column_name": "indisreplident",
                                    "data_type": "boolean"
                                },
                                {
                                    "column_name": "indkey",
                                    "data_type": "ARRAY"
                                },
                                {
                                    "column_name": "indcollation",
                                    "data_type": "ARRAY"
                                },
                                {
                                    "column_name": "indclass",
                                    "data_type": "ARRAY"
                                },
                                {
                                    "column_name": "indoption",
                                    "data_type": "ARRAY"
                                },
                                {
                                    "column_name": "character_octet_length",
                                    "data_type": "integer"
                                },
                                {
                                    "column_name": "character_maximum_length",
                                    "data_type": "integer"
                                },
                                {
                                    "column_name": "oid",
                                    "data_type": "oid"
                                },
                                {
                                    "column_name": "interval_precision",
                                    "data_type": "integer"
                                },
                                {
                                    "column_name": "oprnamespace",
                                    "data_type": "oid"
                                },
                                {
                                    "column_name": "oprowner",
                                    "data_type": "oid"
                                },
                                {
                                    "column_name": "oprkind",
                                    "data_type": "\"char\""
                                },
                                {
                                    "column_name": "oprcanmerge",
                                    "data_type": "boolean"
                                },
                                {
                                    "column_name": "oprcanhash",
                                    "data_type": "boolean"
                                },
                                {
                                    "column_name": "oprleft",
                                    "data_type": "oid"
                                },
                                {
                                    "column_name": "oprright",
                                    "data_type": "oid"
                                },
                                {
                                    "column_name": "oprresult",
                                    "data_type": "oid"
                                },
                                {
                                    "column_name": "oprcom",
                                    "data_type": "oid"
                                },
                                {
                                    "column_name": "oprnegate",
                                    "data_type": "oid"
                                },
                                {
                                    "column_name": "oprcode",
                                    "data_type": "regproc"
                                },
                                {
                                    "column_name": "oprrest",
                                    "data_type": "regproc"
                                },
                                {
                                    "column_name": "oprjoin",
                                    "data_type": "regproc"
                                },
                                {
                                    "column_name": "oid",
                                    "data_type": "oid"
                                },
                                {
                                    "column_name": "opfmethod",
                                    "data_type": "oid"
                                },
                                {
                                    "column_name": "datetime_precision",
                                    "data_type": "integer"
                                },
                                {
                                    "column_name": "opfnamespace",
                                    "data_type": "oid"
                                },
                                {
                                    "column_name": "opfowner",
                                    "data_type": "oid"
                                },
                                {
                                    "column_name": "oid",
                                    "data_type": "oid"
                                },
                                {
                                    "column_name": "opcmethod",
                                    "data_type": "oid"
                                },
                                {
                                    "column_name": "numeric_scale",
                                    "data_type": "integer"
                                },
                                {
                                    "column_name": "opcnamespace",
                                    "data_type": "oid"
                                },
                                {
                                    "column_name": "opcowner",
                                    "data_type": "oid"
                                },
                                {
                                    "column_name": "opcfamily",
                                    "data_type": "oid"
                                },
                                {
                                    "column_name": "opcintype",
                                    "data_type": "oid"
                                },
                                {
                                    "column_name": "opcdefault",
                                    "data_type": "boolean"
                                },
                                {
                                    "column_name": "opckeytype",
                                    "data_type": "oid"
                                },
                                {
                                    "column_name": "oid",
                                    "data_type": "oid"
                                },
                                {
                                    "column_name": "numeric_precision_radix",
                                    "data_type": "integer"
                                },
                                {
                                    "column_name": "amhandler",
                                    "data_type": "regproc"
                                },
                                {
                                    "column_name": "amtype",
                                    "data_type": "\"char\""
                                },
                                {
                                    "column_name": "oid",
                                    "data_type": "oid"
                                },
                                {
                                    "column_name": "amopfamily",
                                    "data_type": "oid"
                                },
                                {
                                    "column_name": "amoplefttype",
                                    "data_type": "oid"
                                },
                                {
                                    "column_name": "amoprighttype",
                                    "data_type": "oid"
                                },
                                {
                                    "column_name": "amopstrategy",
                                    "data_type": "smallint"
                                },
                                {
                                    "column_name": "amoppurpose",
                                    "data_type": "\"char\""
                                },
                                {
                                    "column_name": "amopopr",
                                    "data_type": "oid"
                                },
                                {
                                    "column_name": "amopmethod",
                                    "data_type": "oid"
                                },
                                {
                                    "column_name": "amopsortfamily",
                                    "data_type": "oid"
                                },
                                {
                                    "column_name": "oid",
                                    "data_type": "oid"
                                },
                                {
                                    "column_name": "amprocfamily",
                                    "data_type": "oid"
                                },
                                {
                                    "column_name": "amproclefttype",
                                    "data_type": "oid"
                                },
                                {
                                    "column_name": "amprocrighttype",
                                    "data_type": "oid"
                                },
                                {
                                    "column_name": "amprocnum",
                                    "data_type": "smallint"
                                },
                                {
                                    "column_name": "amproc",
                                    "data_type": "regproc"
                                },
                                {
                                    "column_name": "oid",
                                    "data_type": "oid"
                                },
                                {
                                    "column_name": "numeric_precision",
                                    "data_type": "integer"
                                },
                                {
                                    "column_name": "lanowner",
                                    "data_type": "oid"
                                },
                                {
                                    "column_name": "lanispl",
                                    "data_type": "boolean"
                                },
                                {
                                    "column_name": "lanpltrusted",
                                    "data_type": "boolean"
                                },
                                {
                                    "column_name": "lanplcallfoid",
                                    "data_type": "oid"
                                },
                                {
                                    "column_name": "laninline",
                                    "data_type": "oid"
                                },
                                {
                                    "column_name": "lanvalidator",
                                    "data_type": "oid"
                                },
                                {
                                    "column_name": "lanacl",
                                    "data_type": "ARRAY"
                                },
                                {
                                    "column_name": "oid",
                                    "data_type": "oid"
                                },
                                {
                                    "column_name": "lomowner",
                                    "data_type": "oid"
                                },
                                {
                                    "column_name": "lomacl",
                                    "data_type": "ARRAY"
                                },
                                {
                                    "column_name": "loid",
                                    "data_type": "oid"
                                },
                                {
                                    "column_name": "pageno",
                                    "data_type": "integer"
                                },
                                {
                                    "column_name": "data",
                                    "data_type": "bytea"
                                },
                                {
                                    "column_name": "aggfnoid",
                                    "data_type": "regproc"
                                },
                                {
                                    "column_name": "aggkind",
                                    "data_type": "\"char\""
                                },
                                {
                                    "column_name": "aggnumdirectargs",
                                    "data_type": "smallint"
                                },
                                {
                                    "column_name": "aggtransfn",
                                    "data_type": "regproc"
                                },
                                {
                                    "column_name": "aggfinalfn",
                                    "data_type": "regproc"
                                },
                                {
                                    "column_name": "aggcombinefn",
                                    "data_type": "regproc"
                                },
                                {
                                    "column_name": "aggserialfn",
                                    "data_type": "regproc"
                                },
                                {
                                    "column_name": "aggdeserialfn",
                                    "data_type": "regproc"
                                },
                                {
                                    "column_name": "aggmtransfn",
                                    "data_type": "regproc"
                                },
                                {
                                    "column_name": "aggminvtransfn",
                                    "data_type": "regproc"
                                },
                                {
                                    "column_name": "aggmfinalfn",
                                    "data_type": "regproc"
                                },
                                {
                                    "column_name": "aggfinalextra",
                                    "data_type": "boolean"
                                },
                                {
                                    "column_name": "aggmfinalextra",
                                    "data_type": "boolean"
                                },
                                {
                                    "column_name": "aggfinalmodify",
                                    "data_type": "\"char\""
                                },
                                {
                                    "column_name": "aggmfinalmodify",
                                    "data_type": "\"char\""
                                },
                                {
                                    "column_name": "aggsortop",
                                    "data_type": "oid"
                                },
                                {
                                    "column_name": "aggtranstype",
                                    "data_type": "oid"
                                },
                                {
                                    "column_name": "aggtransspace",
                                    "data_type": "integer"
                                },
                                {
                                    "column_name": "aggmtranstype",
                                    "data_type": "oid"
                                },
                                {
                                    "column_name": "aggmtransspace",
                                    "data_type": "integer"
                                },
                                {
                                    "column_name": "character_octet_length",
                                    "data_type": "integer"
                                },
                                {
                                    "column_name": "character_maximum_length",
                                    "data_type": "integer"
                                },
                                {
                                    "column_name": "starelid",
                                    "data_type": "oid"
                                },
                                {
                                    "column_name": "staattnum",
                                    "data_type": "smallint"
                                },
                                {
                                    "column_name": "stainherit",
                                    "data_type": "boolean"
                                },
                                {
                                    "column_name": "stanullfrac",
                                    "data_type": "real"
                                },
                                {
                                    "column_name": "stawidth",
                                    "data_type": "integer"
                                },
                                {
                                    "column_name": "stadistinct",
                                    "data_type": "real"
                                },
                                {
                                    "column_name": "stakind1",
                                    "data_type": "smallint"
                                },
                                {
                                    "column_name": "stakind2",
                                    "data_type": "smallint"
                                },
                                {
                                    "column_name": "stakind3",
                                    "data_type": "smallint"
                                },
                                {
                                    "column_name": "stakind4",
                                    "data_type": "smallint"
                                },
                                {
                                    "column_name": "stakind5",
                                    "data_type": "smallint"
                                },
                                {
                                    "column_name": "staop1",
                                    "data_type": "oid"
                                },
                                {
                                    "column_name": "staop2",
                                    "data_type": "oid"
                                },
                                {
                                    "column_name": "staop3",
                                    "data_type": "oid"
                                },
                                {
                                    "column_name": "staop4",
                                    "data_type": "oid"
                                },
                                {
                                    "column_name": "staop5",
                                    "data_type": "oid"
                                },
                                {
                                    "column_name": "stacoll1",
                                    "data_type": "oid"
                                },
                                {
                                    "column_name": "stacoll2",
                                    "data_type": "oid"
                                },
                                {
                                    "column_name": "stacoll3",
                                    "data_type": "oid"
                                },
                                {
                                    "column_name": "stacoll4",
                                    "data_type": "oid"
                                },
                                {
                                    "column_name": "stacoll5",
                                    "data_type": "oid"
                                },
                                {
                                    "column_name": "stanumbers1",
                                    "data_type": "ARRAY"
                                },
                                {
                                    "column_name": "stanumbers2",
                                    "data_type": "ARRAY"
                                },
                                {
                                    "column_name": "stanumbers3",
                                    "data_type": "ARRAY"
                                },
                                {
                                    "column_name": "stanumbers4",
                                    "data_type": "ARRAY"
                                },
                                {
                                    "column_name": "stanumbers5",
                                    "data_type": "ARRAY"
                                },
                                {
                                    "column_name": "stavalues1",
                                    "data_type": "anyarray"
                                },
                                {
                                    "column_name": "stavalues2",
                                    "data_type": "anyarray"
                                },
                                {
                                    "column_name": "stavalues3",
                                    "data_type": "anyarray"
                                },
                                {
                                    "column_name": "stavalues4",
                                    "data_type": "anyarray"
                                },
                                {
                                    "column_name": "stavalues5",
                                    "data_type": "anyarray"
                                },
                                {
                                    "column_name": "oid",
                                    "data_type": "oid"
                                },
                                {
                                    "column_name": "stxrelid",
                                    "data_type": "oid"
                                },
                                {
                                    "column_name": "created",
                                    "data_type": "timestamp with time zone"
                                },
                                {
                                    "column_name": "stxnamespace",
                                    "data_type": "oid"
                                },
                                {
                                    "column_name": "stxowner",
                                    "data_type": "oid"
                                },
                                {
                                    "column_name": "stxstattarget",
                                    "data_type": "integer"
                                },
                                {
                                    "column_name": "stxkeys",
                                    "data_type": "ARRAY"
                                },
                                {
                                    "column_name": "stxkind",
                                    "data_type": "ARRAY"
                                },
                                {
                                    "column_name": "action_order",
                                    "data_type": "integer"
                                },
                                {
                                    "column_name": "stxoid",
                                    "data_type": "oid"
                                },
                                {
                                    "column_name": "stxdinherit",
                                    "data_type": "boolean"
                                },
                                {
                                    "column_name": "supported_value",
                                    "data_type": "integer"
                                },
                                {
                                    "column_name": "sizing_id",
                                    "data_type": "integer"
                                },
                                {
                                    "column_name": "integer_value",
                                    "data_type": "integer"
                                },
                                {
                                    "column_name": "stxdexpr",
                                    "data_type": "ARRAY"
                                },
                                {
                                    "column_name": "oid",
                                    "data_type": "oid"
                                },
                                {
                                    "column_name": "numeric_scale",
                                    "data_type": "integer"
                                },
                                {
                                    "column_name": "ev_class",
                                    "data_type": "oid"
                                },
                                {
                                    "column_name": "ev_type",
                                    "data_type": "\"char\""
                                },
                                {
                                    "column_name": "ev_enabled",
                                    "data_type": "\"char\""
                                },
                                {
                                    "column_name": "is_instead",
                                    "data_type": "boolean"
                                },
                                {
                                    "column_name": "numeric_precision_radix",
                                    "data_type": "integer"
                                },
                                {
                                    "column_name": "numeric_precision",
                                    "data_type": "integer"
                                },
                                {
                                    "column_name": "oid",
                                    "data_type": "oid"
                                },
                                {
                                    "column_name": "tgrelid",
                                    "data_type": "oid"
                                },
                                {
                                    "column_name": "tgparentid",
                                    "data_type": "oid"
                                },
                                {
                                    "column_name": "result_cast_maximum_cardinality",
                                    "data_type": "integer"
                                },
                                {
                                    "column_name": "tgfoid",
                                    "data_type": "oid"
                                },
                                {
                                    "column_name": "tgtype",
                                    "data_type": "smallint"
                                },
                                {
                                    "column_name": "tgenabled",
                                    "data_type": "\"char\""
                                },
                                {
                                    "column_name": "tgisinternal",
                                    "data_type": "boolean"
                                },
                                {
                                    "column_name": "tgconstrrelid",
                                    "data_type": "oid"
                                },
                                {
                                    "column_name": "tgconstrindid",
                                    "data_type": "oid"
                                },
                                {
                                    "column_name": "tgconstraint",
                                    "data_type": "oid"
                                },
                                {
                                    "column_name": "tgdeferrable",
                                    "data_type": "boolean"
                                },
                                {
                                    "column_name": "tginitdeferred",
                                    "data_type": "boolean"
                                },
                                {
                                    "column_name": "tgnargs",
                                    "data_type": "smallint"
                                },
                                {
                                    "column_name": "tgattr",
                                    "data_type": "ARRAY"
                                },
                                {
                                    "column_name": "tgargs",
                                    "data_type": "bytea"
                                },
                                {
                                    "column_name": "result_cast_interval_precision",
                                    "data_type": "integer"
                                },
                                {
                                    "column_name": "result_cast_datetime_precision",
                                    "data_type": "integer"
                                },
                                {
                                    "column_name": "result_cast_numeric_scale",
                                    "data_type": "integer"
                                },
                                {
                                    "column_name": "oid",
                                    "data_type": "oid"
                                },
                                {
                                    "column_name": "result_cast_numeric_precision_radix",
                                    "data_type": "integer"
                                },
                                {
                                    "column_name": "result_cast_numeric_precision",
                                    "data_type": "integer"
                                },
                                {
                                    "column_name": "evtowner",
                                    "data_type": "oid"
                                },
                                {
                                    "column_name": "evtfoid",
                                    "data_type": "oid"
                                },
                                {
                                    "column_name": "evtenabled",
                                    "data_type": "\"char\""
                                },
                                {
                                    "column_name": "result_cast_char_octet_length",
                                    "data_type": "integer"
                                },
                                {
                                    "column_name": "objoid",
                                    "data_type": "oid"
                                },
                                {
                                    "column_name": "classoid",
                                    "data_type": "oid"
                                },
                                {
                                    "column_name": "objsubid",
                                    "data_type": "integer"
                                },
                                {
                                    "column_name": "result_cast_char_max_length",
                                    "data_type": "integer"
                                },
                                {
                                    "column_name": "oid",
                                    "data_type": "oid"
                                },
                                {
                                    "column_name": "castsource",
                                    "data_type": "oid"
                                },
                                {
                                    "column_name": "casttarget",
                                    "data_type": "oid"
                                },
                                {
                                    "column_name": "castfunc",
                                    "data_type": "oid"
                                },
                                {
                                    "column_name": "castcontext",
                                    "data_type": "\"char\""
                                },
                                {
                                    "column_name": "castmethod",
                                    "data_type": "\"char\""
                                },
                                {
                                    "column_name": "oid",
                                    "data_type": "oid"
                                },
                                {
                                    "column_name": "enumtypid",
                                    "data_type": "oid"
                                },
                                {
                                    "column_name": "enumsortorder",
                                    "data_type": "real"
                                },
                                {
                                    "column_name": "last_altered",
                                    "data_type": "timestamp with time zone"
                                },
                                {
                                    "column_name": "oid",
                                    "data_type": "oid"
                                },
                                {
                                    "column_name": "created",
                                    "data_type": "timestamp with time zone"
                                },
                                {
                                    "column_name": "nspowner",
                                    "data_type": "oid"
                                },
                                {
                                    "column_name": "nspacl",
                                    "data_type": "ARRAY"
                                },
                                {
                                    "column_name": "oid",
                                    "data_type": "oid"
                                },
                                {
                                    "column_name": "max_dynamic_result_sets",
                                    "data_type": "integer"
                                },
                                {
                                    "column_name": "connamespace",
                                    "data_type": "oid"
                                },
                                {
                                    "column_name": "conowner",
                                    "data_type": "oid"
                                },
                                {
                                    "column_name": "conforencoding",
                                    "data_type": "integer"
                                },
                                {
                                    "column_name": "contoencoding",
                                    "data_type": "integer"
                                },
                                {
                                    "column_name": "conproc",
                                    "data_type": "regproc"
                                },
                                {
                                    "column_name": "condefault",
                                    "data_type": "boolean"
                                },
                                {
                                    "column_name": "classid",
                                    "data_type": "oid"
                                },
                                {
                                    "column_name": "objid",
                                    "data_type": "oid"
                                },
                                {
                                    "column_name": "objsubid",
                                    "data_type": "integer"
                                },
                                {
                                    "column_name": "refclassid",
                                    "data_type": "oid"
                                },
                                {
                                    "column_name": "refobjid",
                                    "data_type": "oid"
                                },
                                {
                                    "column_name": "refobjsubid",
                                    "data_type": "integer"
                                },
                                {
                                    "column_name": "deptype",
                                    "data_type": "\"char\""
                                },
                                {
                                    "column_name": "oid",
                                    "data_type": "oid"
                                },
                                {
                                    "column_name": "maximum_cardinality",
                                    "data_type": "integer"
                                },
                                {
                                    "column_name": "datdba",
                                    "data_type": "oid"
                                },
                                {
                                    "column_name": "encoding",
                                    "data_type": "integer"
                                },
                                {
                                    "column_name": "datlocprovider",
                                    "data_type": "\"char\""
                                },
                                {
                                    "column_name": "datistemplate",
                                    "data_type": "boolean"
                                },
                                {
                                    "column_name": "datallowconn",
                                    "data_type": "boolean"
                                },
                                {
                                    "column_name": "datconnlimit",
                                    "data_type": "integer"
                                },
                                {
                                    "column_name": "datfrozenxid",
                                    "data_type": "xid"
                                },
                                {
                                    "column_name": "datminmxid",
                                    "data_type": "xid"
                                },
                                {
                                    "column_name": "dattablespace",
                                    "data_type": "oid"
                                },
                                {
                                    "column_name": "interval_precision",
                                    "data_type": "integer"
                                },
                                {
                                    "column_name": "datetime_precision",
                                    "data_type": "integer"
                                },
                                {
                                    "column_name": "numeric_scale",
                                    "data_type": "integer"
                                },
                                {
                                    "column_name": "numeric_precision_radix",
                                    "data_type": "integer"
                                },
                                {
                                    "column_name": "numeric_precision",
                                    "data_type": "integer"
                                },
                                {
                                    "column_name": "datacl",
                                    "data_type": "ARRAY"
                                },
                                {
                                    "column_name": "setdatabase",
                                    "data_type": "oid"
                                },
                                {
                                    "column_name": "setrole",
                                    "data_type": "oid"
                                },
                                {
                                    "column_name": "character_octet_length",
                                    "data_type": "integer"
                                },
                                {
                                    "column_name": "oid",
                                    "data_type": "oid"
                                },
                                {
                                    "column_name": "character_maximum_length",
                                    "data_type": "integer"
                                },
                                {
                                    "column_name": "spcowner",
                                    "data_type": "oid"
                                },
                                {
                                    "column_name": "spcacl",
                                    "data_type": "ARRAY"
                                },
                                {
                                    "column_name": "maximum_cardinality",
                                    "data_type": "integer"
                                },
                                {
                                    "column_name": "oid",
                                    "data_type": "oid"
                                },
                                {
                                    "column_name": "interval_precision",
                                    "data_type": "integer"
                                },
                                {
                                    "column_name": "rolsuper",
                                    "data_type": "boolean"
                                },
                                {
                                    "column_name": "rolinherit",
                                    "data_type": "boolean"
                                },
                                {
                                    "column_name": "rolcreaterole",
                                    "data_type": "boolean"
                                },
                                {
                                    "column_name": "rolcreatedb",
                                    "data_type": "boolean"
                                },
                                {
                                    "column_name": "rolcanlogin",
                                    "data_type": "boolean"
                                },
                                {
                                    "column_name": "rolreplication",
                                    "data_type": "boolean"
                                },
                                {
                                    "column_name": "rolbypassrls",
                                    "data_type": "boolean"
                                },
                                {
                                    "column_name": "rolconnlimit",
                                    "data_type": "integer"
                                },
                                {
                                    "column_name": "datetime_precision",
                                    "data_type": "integer"
                                },
                                {
                                    "column_name": "rolvaliduntil",
                                    "data_type": "timestamp with time zone"
                                },
                                {
                                    "column_name": "oid",
                                    "data_type": "oid"
                                },
                                {
                                    "column_name": "roleid",
                                    "data_type": "oid"
                                },
                                {
                                    "column_name": "member",
                                    "data_type": "oid"
                                },
                                {
                                    "column_name": "grantor",
                                    "data_type": "oid"
                                },
                                {
                                    "column_name": "admin_option",
                                    "data_type": "boolean"
                                },
                                {
                                    "column_name": "inherit_option",
                                    "data_type": "boolean"
                                },
                                {
                                    "column_name": "set_option",
                                    "data_type": "boolean"
                                },
                                {
                                    "column_name": "dbid",
                                    "data_type": "oid"
                                },
                                {
                                    "column_name": "classid",
                                    "data_type": "oid"
                                },
                                {
                                    "column_name": "objid",
                                    "data_type": "oid"
                                },
                                {
                                    "column_name": "objsubid",
                                    "data_type": "integer"
                                },
                                {
                                    "column_name": "refclassid",
                                    "data_type": "oid"
                                },
                                {
                                    "column_name": "refobjid",
                                    "data_type": "oid"
                                },
                                {
                                    "column_name": "deptype",
                                    "data_type": "\"char\""
                                },
                                {
                                    "column_name": "objoid",
                                    "data_type": "oid"
                                },
                                {
                                    "column_name": "classoid",
                                    "data_type": "oid"
                                },
                                {
                                    "column_name": "numeric_scale",
                                    "data_type": "integer"
                                },
                                {
                                    "column_name": "oid",
                                    "data_type": "oid"
                                },
                                {
                                    "column_name": "numeric_precision_radix",
                                    "data_type": "integer"
                                },
                                {
                                    "column_name": "cfgnamespace",
                                    "data_type": "oid"
                                },
                                {
                                    "column_name": "cfgowner",
                                    "data_type": "oid"
                                },
                                {
                                    "column_name": "cfgparser",
                                    "data_type": "oid"
                                },
                                {
                                    "column_name": "mapcfg",
                                    "data_type": "oid"
                                },
                                {
                                    "column_name": "maptokentype",
                                    "data_type": "integer"
                                },
                                {
                                    "column_name": "mapseqno",
                                    "data_type": "integer"
                                },
                                {
                                    "column_name": "mapdict",
                                    "data_type": "oid"
                                },
                                {
                                    "column_name": "oid",
                                    "data_type": "oid"
                                },
                                {
                                    "column_name": "numeric_precision",
                                    "data_type": "integer"
                                },
                                {
                                    "column_name": "dictnamespace",
                                    "data_type": "oid"
                                },
                                {
                                    "column_name": "dictowner",
                                    "data_type": "oid"
                                },
                                {
                                    "column_name": "dicttemplate",
                                    "data_type": "oid"
                                },
                                {
                                    "column_name": "character_octet_length",
                                    "data_type": "integer"
                                },
                                {
                                    "column_name": "oid",
                                    "data_type": "oid"
                                },
                                {
                                    "column_name": "character_maximum_length",
                                    "data_type": "integer"
                                },
                                {
                                    "column_name": "prsnamespace",
                                    "data_type": "oid"
                                },
                                {
                                    "column_name": "prsstart",
                                    "data_type": "regproc"
                                },
                                {
                                    "column_name": "prstoken",
                                    "data_type": "regproc"
                                },
                                {
                                    "column_name": "prsend",
                                    "data_type": "regproc"
                                },
                                {
                                    "column_name": "prsheadline",
                                    "data_type": "regproc"
                                },
                                {
                                    "column_name": "prslextype",
                                    "data_type": "regproc"
                                },
                                {
                                    "column_name": "oid",
                                    "data_type": "oid"
                                },
                                {
                                    "column_name": "ordinal_position",
                                    "data_type": "integer"
                                },
                                {
                                    "column_name": "tmplnamespace",
                                    "data_type": "oid"
                                },
                                {
                                    "column_name": "tmplinit",
                                    "data_type": "regproc"
                                },
                                {
                                    "column_name": "tmpllexize",
                                    "data_type": "regproc"
                                },
                                {
                                    "column_name": "oid",
                                    "data_type": "oid"
                                },
                                {
                                    "column_name": "position_in_unique_constraint",
                                    "data_type": "integer"
                                },
                                {
                                    "column_name": "extowner",
                                    "data_type": "oid"
                                },
                                {
                                    "column_name": "extnamespace",
                                    "data_type": "oid"
                                },
                                {
                                    "column_name": "extrelocatable",
                                    "data_type": "boolean"
                                },
                                {
                                    "column_name": "ordinal_position",
                                    "data_type": "integer"
                                },
                                {
                                    "column_name": "extconfig",
                                    "data_type": "ARRAY"
                                },
                                {
                                    "column_name": "maximum_cardinality",
                                    "data_type": "integer"
                                },
                                {
                                    "column_name": "oid",
                                    "data_type": "oid"
                                },
                                {
                                    "column_name": "interval_precision",
                                    "data_type": "integer"
                                },
                                {
                                    "column_name": "fdwowner",
                                    "data_type": "oid"
                                },
                                {
                                    "column_name": "fdwhandler",
                                    "data_type": "oid"
                                },
                                {
                                    "column_name": "fdwvalidator",
                                    "data_type": "oid"
                                },
                                {
                                    "column_name": "fdwacl",
                                    "data_type": "ARRAY"
                                },
                                {
                                    "column_name": "datetime_precision",
                                    "data_type": "integer"
                                },
                                {
                                    "column_name": "oid",
                                    "data_type": "oid"
                                },
                                {
                                    "column_name": "numeric_scale",
                                    "data_type": "integer"
                                },
                                {
                                    "column_name": "srvowner",
                                    "data_type": "oid"
                                },
                                {
                                    "column_name": "srvfdw",
                                    "data_type": "oid"
                                },
                                {
                                    "column_name": "numeric_precision_radix",
                                    "data_type": "integer"
                                },
                                {
                                    "column_name": "numeric_precision",
                                    "data_type": "integer"
                                },
                                {
                                    "column_name": "srvacl",
                                    "data_type": "ARRAY"
                                },
                                {
                                    "column_name": "character_octet_length",
                                    "data_type": "integer"
                                },
                                {
                                    "column_name": "oid",
                                    "data_type": "oid"
                                },
                                {
                                    "column_name": "umuser",
                                    "data_type": "oid"
                                },
                                {
                                    "column_name": "umserver",
                                    "data_type": "oid"
                                },
                                {
                                    "column_name": "character_maximum_length",
                                    "data_type": "integer"
                                },
                                {
                                    "column_name": "ftrelid",
                                    "data_type": "oid"
                                },
                                {
                                    "column_name": "ftserver",
                                    "data_type": "oid"
                                },
                                {
                                    "column_name": "maximum_cardinality",
                                    "data_type": "integer"
                                },
                                {
                                    "column_name": "oid",
                                    "data_type": "oid"
                                },
                                {
                                    "column_name": "interval_precision",
                                    "data_type": "integer"
                                },
                                {
                                    "column_name": "polrelid",
                                    "data_type": "oid"
                                },
                                {
                                    "column_name": "polcmd",
                                    "data_type": "\"char\""
                                },
                                {
                                    "column_name": "polpermissive",
                                    "data_type": "boolean"
                                },
                                {
                                    "column_name": "polroles",
                                    "data_type": "ARRAY"
                                },
                                {
                                    "column_name": "datetime_precision",
                                    "data_type": "integer"
                                },
                                {
                                    "column_name": "numeric_scale",
                                    "data_type": "integer"
                                },
                                {
                                    "column_name": "roident",
                                    "data_type": "oid"
                                },
                                {
                                    "column_name": "numeric_precision_radix",
                                    "data_type": "integer"
                                },
                                {
                                    "column_name": "oid",
                                    "data_type": "oid"
                                },
                                {
                                    "column_name": "defaclrole",
                                    "data_type": "oid"
                                },
                                {
                                    "column_name": "defaclnamespace",
                                    "data_type": "oid"
                                },
                                {
                                    "column_name": "defaclobjtype",
                                    "data_type": "\"char\""
                                },
                                {
                                    "column_name": "defaclacl",
                                    "data_type": "ARRAY"
                                },
                                {
                                    "column_name": "objoid",
                                    "data_type": "oid"
                                },
                                {
                                    "column_name": "classoid",
                                    "data_type": "oid"
                                },
                                {
                                    "column_name": "objsubid",
                                    "data_type": "integer"
                                },
                                {
                                    "column_name": "privtype",
                                    "data_type": "\"char\""
                                },
                                {
                                    "column_name": "initprivs",
                                    "data_type": "ARRAY"
                                },
                                {
                                    "column_name": "objoid",
                                    "data_type": "oid"
                                },
                                {
                                    "column_name": "classoid",
                                    "data_type": "oid"
                                },
                                {
                                    "column_name": "objsubid",
                                    "data_type": "integer"
                                },
                                {
                                    "column_name": "numeric_precision",
                                    "data_type": "integer"
                                },
                                {
                                    "column_name": "character_octet_length",
                                    "data_type": "integer"
                                },
                                {
                                    "column_name": "objoid",
                                    "data_type": "oid"
                                },
                                {
                                    "column_name": "classoid",
                                    "data_type": "oid"
                                },
                                {
                                    "column_name": "character_maximum_length",
                                    "data_type": "integer"
                                },
                                {
                                    "column_name": "ordinal_position",
                                    "data_type": "integer"
                                },
                                {
                                    "column_name": "oid",
                                    "data_type": "oid"
                                },
                                {
                                    "column_name": "maximum_cardinality",
                                    "data_type": "integer"
                                },
                                {
                                    "column_name": "collnamespace",
                                    "data_type": "oid"
                                },
                                {
                                    "column_name": "collowner",
                                    "data_type": "oid"
                                },
                                {
                                    "column_name": "collprovider",
                                    "data_type": "\"char\""
                                },
                                {
                                    "column_name": "collisdeterministic",
                                    "data_type": "boolean"
                                },
                                {
                                    "column_name": "collencoding",
                                    "data_type": "integer"
                                },
                                {
                                    "column_name": "interval_precision",
                                    "data_type": "integer"
                                },
                                {
                                    "column_name": "datetime_precision",
                                    "data_type": "integer"
                                },
                                {
                                    "column_name": "numeric_scale",
                                    "data_type": "integer"
                                },
                                {
                                    "column_name": "numeric_precision_radix",
                                    "data_type": "integer"
                                },
                                {
                                    "column_name": "numeric_precision",
                                    "data_type": "integer"
                                },
                                {
                                    "column_name": "oid",
                                    "data_type": "oid"
                                },
                                {
                                    "column_name": "character_octet_length",
                                    "data_type": "integer"
                                },
                                {
                                    "column_name": "paracl",
                                    "data_type": "ARRAY"
                                },
                                {
                                    "column_name": "partrelid",
                                    "data_type": "oid"
                                },
                                {
                                    "column_name": "partstrat",
                                    "data_type": "\"char\""
                                },
                                {
                                    "column_name": "partnatts",
                                    "data_type": "smallint"
                                },
                                {
                                    "column_name": "partdefid",
                                    "data_type": "oid"
                                },
                                {
                                    "column_name": "partattrs",
                                    "data_type": "ARRAY"
                                },
                                {
                                    "column_name": "partclass",
                                    "data_type": "ARRAY"
                                },
                                {
                                    "column_name": "partcollation",
                                    "data_type": "ARRAY"
                                },
                                {
                                    "column_name": "character_maximum_length",
                                    "data_type": "integer"
                                },
                                {
                                    "column_name": "rngtypid",
                                    "data_type": "oid"
                                },
                                {
                                    "column_name": "rngsubtype",
                                    "data_type": "oid"
                                },
                                {
                                    "column_name": "rngmultitypid",
                                    "data_type": "oid"
                                },
                                {
                                    "column_name": "rngcollation",
                                    "data_type": "oid"
                                },
                                {
                                    "column_name": "rngsubopc",
                                    "data_type": "oid"
                                },
                                {
                                    "column_name": "rngcanonical",
                                    "data_type": "regproc"
                                },
                                {
                                    "column_name": "rngsubdiff",
                                    "data_type": "regproc"
                                },
                                {
                                    "column_name": "oid",
                                    "data_type": "oid"
                                },
                                {
                                    "column_name": "trftype",
                                    "data_type": "oid"
                                },
                                {
                                    "column_name": "trflang",
                                    "data_type": "oid"
                                },
                                {
                                    "column_name": "trffromsql",
                                    "data_type": "regproc"
                                },
                                {
                                    "column_name": "trftosql",
                                    "data_type": "regproc"
                                },
                                {
                                    "column_name": "seqrelid",
                                    "data_type": "oid"
                                },
                                {
                                    "column_name": "seqtypid",
                                    "data_type": "oid"
                                },
                                {
                                    "column_name": "seqstart",
                                    "data_type": "bigint"
                                },
                                {
                                    "column_name": "seqincrement",
                                    "data_type": "bigint"
                                },
                                {
                                    "column_name": "seqmax",
                                    "data_type": "bigint"
                                },
                                {
                                    "column_name": "seqmin",
                                    "data_type": "bigint"
                                },
                                {
                                    "column_name": "seqcache",
                                    "data_type": "bigint"
                                },
                                {
                                    "column_name": "seqcycle",
                                    "data_type": "boolean"
                                },
                                {
                                    "column_name": "oid",
                                    "data_type": "oid"
                                },
                                {
                                    "column_name": "ordinal_position",
                                    "data_type": "integer"
                                },
                                {
                                    "column_name": "pubowner",
                                    "data_type": "oid"
                                },
                                {
                                    "column_name": "puballtables",
                                    "data_type": "boolean"
                                },
                                {
                                    "column_name": "pubinsert",
                                    "data_type": "boolean"
                                },
                                {
                                    "column_name": "pubupdate",
                                    "data_type": "boolean"
                                },
                                {
                                    "column_name": "pubdelete",
                                    "data_type": "boolean"
                                },
                                {
                                    "column_name": "pubtruncate",
                                    "data_type": "boolean"
                                },
                                {
                                    "column_name": "pubviaroot",
                                    "data_type": "boolean"
                                },
                                {
                                    "column_name": "oid",
                                    "data_type": "oid"
                                },
                                {
                                    "column_name": "pnpubid",
                                    "data_type": "oid"
                                },
                                {
                                    "column_name": "pnnspid",
                                    "data_type": "oid"
                                },
                                {
                                    "column_name": "oid",
                                    "data_type": "oid"
                                },
                                {
                                    "column_name": "prpubid",
                                    "data_type": "oid"
                                },
                                {
                                    "column_name": "prrelid",
                                    "data_type": "oid"
                                },
                                {
                                    "column_name": "stats_reset",
                                    "data_type": "timestamp with time zone"
                                },
                                {
                                    "column_name": "prattrs",
                                    "data_type": "ARRAY"
                                },
                                {
                                    "column_name": "sync_error_count",
                                    "data_type": "bigint"
                                },
                                {
                                    "column_name": "srsubid",
                                    "data_type": "oid"
                                },
                                {
                                    "column_name": "srrelid",
                                    "data_type": "oid"
                                },
                                {
                                    "column_name": "srsubstate",
                                    "data_type": "\"char\""
                                },
                                {
                                    "column_name": "srsublsn",
                                    "data_type": "pg_lsn"
                                },
                                {
                                    "column_name": "apply_error_count",
                                    "data_type": "bigint"
                                },
                                {
                                    "column_name": "rolsuper",
                                    "data_type": "boolean"
                                },
                                {
                                    "column_name": "rolinherit",
                                    "data_type": "boolean"
                                },
                                {
                                    "column_name": "rolcreaterole",
                                    "data_type": "boolean"
                                },
                                {
                                    "column_name": "rolcreatedb",
                                    "data_type": "boolean"
                                },
                                {
                                    "column_name": "rolcanlogin",
                                    "data_type": "boolean"
                                },
                                {
                                    "column_name": "rolreplication",
                                    "data_type": "boolean"
                                },
                                {
                                    "column_name": "rolconnlimit",
                                    "data_type": "integer"
                                },
                                {
                                    "column_name": "oid",
                                    "data_type": "oid"
                                },
                                {
                                    "column_name": "rolvaliduntil",
                                    "data_type": "timestamp with time zone"
                                },
                                {
                                    "column_name": "rolbypassrls",
                                    "data_type": "boolean"
                                },
                                {
                                    "column_name": "subid",
                                    "data_type": "oid"
                                },
                                {
                                    "column_name": "oid",
                                    "data_type": "oid"
                                },
                                {
                                    "column_name": "subrunasowner",
                                    "data_type": "boolean"
                                },
                                {
                                    "column_name": "usesysid",
                                    "data_type": "oid"
                                },
                                {
                                    "column_name": "usecreatedb",
                                    "data_type": "boolean"
                                },
                                {
                                    "column_name": "usesuper",
                                    "data_type": "boolean"
                                },
                                {
                                    "column_name": "userepl",
                                    "data_type": "boolean"
                                },
                                {
                                    "column_name": "usebypassrls",
                                    "data_type": "boolean"
                                },
                                {
                                    "column_name": "subpasswordrequired",
                                    "data_type": "boolean"
                                },
                                {
                                    "column_name": "valuntil",
                                    "data_type": "timestamp with time zone"
                                },
                                {
                                    "column_name": "subdisableonerr",
                                    "data_type": "boolean"
                                },
                                {
                                    "column_name": "subtwophasestate",
                                    "data_type": "\"char\""
                                },
                                {
                                    "column_name": "grosysid",
                                    "data_type": "oid"
                                },
                                {
                                    "column_name": "grolist",
                                    "data_type": "ARRAY"
                                },
                                {
                                    "column_name": "substream",
                                    "data_type": "\"char\""
                                },
                                {
                                    "column_name": "usesysid",
                                    "data_type": "oid"
                                },
                                {
                                    "column_name": "usecreatedb",
                                    "data_type": "boolean"
                                },
                                {
                                    "column_name": "usesuper",
                                    "data_type": "boolean"
                                },
                                {
                                    "column_name": "userepl",
                                    "data_type": "boolean"
                                },
                                {
                                    "column_name": "usebypassrls",
                                    "data_type": "boolean"
                                },
                                {
                                    "column_name": "pronamespace",
                                    "data_type": "oid"
                                },
                                {
                                    "column_name": "valuntil",
                                    "data_type": "timestamp with time zone"
                                },
                                {
                                    "column_name": "subbinary",
                                    "data_type": "boolean"
                                },
                                {
                                    "column_name": "subenabled",
                                    "data_type": "boolean"
                                },
                                {
                                    "column_name": "subowner",
                                    "data_type": "oid"
                                },
                                {
                                    "column_name": "subskiplsn",
                                    "data_type": "pg_lsn"
                                },
                                {
                                    "column_name": "proowner",
                                    "data_type": "oid"
                                },
                                {
                                    "column_name": "subdbid",
                                    "data_type": "oid"
                                },
                                {
                                    "column_name": "prolang",
                                    "data_type": "oid"
                                },
                                {
                                    "column_name": "oid",
                                    "data_type": "oid"
                                },
                                {
                                    "column_name": "local_lsn",
                                    "data_type": "pg_lsn"
                                },
                                {
                                    "column_name": "remote_lsn",
                                    "data_type": "pg_lsn"
                                },
                                {
                                    "column_name": "local_id",
                                    "data_type": "oid"
                                },
                                {
                                    "column_name": "umuser",
                                    "data_type": "oid"
                                },
                                {
                                    "column_name": "procost",
                                    "data_type": "real"
                                },
                                {
                                    "column_name": "srvid",
                                    "data_type": "oid"
                                },
                                {
                                    "column_name": "umid",
                                    "data_type": "oid"
                                },
                                {
                                    "column_name": "tuples_excluded",
                                    "data_type": "bigint"
                                },
                                {
                                    "column_name": "prorows",
                                    "data_type": "real"
                                },
                                {
                                    "column_name": "tuples_processed",
                                    "data_type": "bigint"
                                },
                                {
                                    "column_name": "bytes_total",
                                    "data_type": "bigint"
                                },
                                {
                                    "column_name": "bytes_processed",
                                    "data_type": "bigint"
                                },
                                {
                                    "column_name": "relid",
                                    "data_type": "oid"
                                },
                                {
                                    "column_name": "hasindexes",
                                    "data_type": "boolean"
                                },
                                {
                                    "column_name": "hasrules",
                                    "data_type": "boolean"
                                },
                                {
                                    "column_name": "hastriggers",
                                    "data_type": "boolean"
                                },
                                {
                                    "column_name": "rowsecurity",
                                    "data_type": "boolean"
                                },
                                {
                                    "column_name": "datid",
                                    "data_type": "oid"
                                },
                                {
                                    "column_name": "pid",
                                    "data_type": "integer"
                                },
                                {
                                    "column_name": "tablespaces_streamed",
                                    "data_type": "bigint"
                                },
                                {
                                    "column_name": "tablespaces_total",
                                    "data_type": "bigint"
                                },
                                {
                                    "column_name": "hasindexes",
                                    "data_type": "boolean"
                                },
                                {
                                    "column_name": "ispopulated",
                                    "data_type": "boolean"
                                },
                                {
                                    "column_name": "provariadic",
                                    "data_type": "oid"
                                },
                                {
                                    "column_name": "backup_streamed",
                                    "data_type": "bigint"
                                },
                                {
                                    "column_name": "backup_total",
                                    "data_type": "bigint"
                                },
                                {
                                    "column_name": "pid",
                                    "data_type": "integer"
                                },
                                {
                                    "column_name": "partitions_done",
                                    "data_type": "bigint"
                                },
                                {
                                    "column_name": "prosupport",
                                    "data_type": "regproc"
                                },
                                {
                                    "column_name": "partitions_total",
                                    "data_type": "bigint"
                                },
                                {
                                    "column_name": "tuples_done",
                                    "data_type": "bigint"
                                },
                                {
                                    "column_name": "tuples_total",
                                    "data_type": "bigint"
                                },
                                {
                                    "column_name": "data_type",
                                    "data_type": "regtype"
                                },
                                {
                                    "column_name": "start_value",
                                    "data_type": "bigint"
                                },
                                {
                                    "column_name": "min_value",
                                    "data_type": "bigint"
                                },
                                {
                                    "column_name": "max_value",
                                    "data_type": "bigint"
                                },
                                {
                                    "column_name": "increment_by",
                                    "data_type": "bigint"
                                },
                                {
                                    "column_name": "cycle",
                                    "data_type": "boolean"
                                },
                                {
                                    "column_name": "cache_size",
                                    "data_type": "bigint"
                                },
                                {
                                    "column_name": "last_value",
                                    "data_type": "bigint"
                                },
                                {
                                    "column_name": "blocks_done",
                                    "data_type": "bigint"
                                },
                                {
                                    "column_name": "blocks_total",
                                    "data_type": "bigint"
                                },
                                {
                                    "column_name": "current_locker_pid",
                                    "data_type": "bigint"
                                },
                                {
                                    "column_name": "inherited",
                                    "data_type": "boolean"
                                },
                                {
                                    "column_name": "null_frac",
                                    "data_type": "real"
                                },
                                {
                                    "column_name": "avg_width",
                                    "data_type": "integer"
                                },
                                {
                                    "column_name": "n_distinct",
                                    "data_type": "real"
                                },
                                {
                                    "column_name": "most_common_vals",
                                    "data_type": "anyarray"
                                },
                                {
                                    "column_name": "most_common_freqs",
                                    "data_type": "ARRAY"
                                },
                                {
                                    "column_name": "histogram_bounds",
                                    "data_type": "anyarray"
                                },
                                {
                                    "column_name": "correlation",
                                    "data_type": "real"
                                },
                                {
                                    "column_name": "most_common_elems",
                                    "data_type": "anyarray"
                                },
                                {
                                    "column_name": "most_common_elem_freqs",
                                    "data_type": "ARRAY"
                                },
                                {
                                    "column_name": "elem_count_histogram",
                                    "data_type": "ARRAY"
                                },
                                {
                                    "column_name": "lockers_done",
                                    "data_type": "bigint"
                                },
                                {
                                    "column_name": "lockers_total",
                                    "data_type": "bigint"
                                },
                                {
                                    "column_name": "index_relid",
                                    "data_type": "oid"
                                },
                                {
                                    "column_name": "relid",
                                    "data_type": "oid"
                                },
                                {
                                    "column_name": "datid",
                                    "data_type": "oid"
                                },
                                {
                                    "column_name": "pid",
                                    "data_type": "integer"
                                },
                                {
                                    "column_name": "prokind",
                                    "data_type": "\"char\""
                                },
                                {
                                    "column_name": "kinds",
                                    "data_type": "ARRAY"
                                },
                                {
                                    "column_name": "inherited",
                                    "data_type": "boolean"
                                },
                                {
                                    "column_name": "index_rebuild_count",
                                    "data_type": "bigint"
                                },
                                {
                                    "column_name": "heap_blks_scanned",
                                    "data_type": "bigint"
                                },
                                {
                                    "column_name": "prosecdef",
                                    "data_type": "boolean"
                                },
                                {
                                    "column_name": "most_common_val_nulls",
                                    "data_type": "ARRAY"
                                },
                                {
                                    "column_name": "most_common_freqs",
                                    "data_type": "ARRAY"
                                },
                                {
                                    "column_name": "most_common_base_freqs",
                                    "data_type": "ARRAY"
                                },
                                {
                                    "column_name": "heap_blks_total",
                                    "data_type": "bigint"
                                },
                                {
                                    "column_name": "heap_tuples_written",
                                    "data_type": "bigint"
                                },
                                {
                                    "column_name": "heap_tuples_scanned",
                                    "data_type": "bigint"
                                },
                                {
                                    "column_name": "cluster_index_relid",
                                    "data_type": "oid"
                                },
                                {
                                    "column_name": "relid",
                                    "data_type": "oid"
                                },
                                {
                                    "column_name": "proleakproof",
                                    "data_type": "boolean"
                                },
                                {
                                    "column_name": "inherited",
                                    "data_type": "boolean"
                                },
                                {
                                    "column_name": "null_frac",
                                    "data_type": "real"
                                },
                                {
                                    "column_name": "avg_width",
                                    "data_type": "integer"
                                },
                                {
                                    "column_name": "n_distinct",
                                    "data_type": "real"
                                },
                                {
                                    "column_name": "most_common_vals",
                                    "data_type": "anyarray"
                                },
                                {
                                    "column_name": "most_common_freqs",
                                    "data_type": "ARRAY"
                                },
                                {
                                    "column_name": "histogram_bounds",
                                    "data_type": "anyarray"
                                },
                                {
                                    "column_name": "correlation",
                                    "data_type": "real"
                                },
                                {
                                    "column_name": "most_common_elems",
                                    "data_type": "anyarray"
                                },
                                {
                                    "column_name": "most_common_elem_freqs",
                                    "data_type": "ARRAY"
                                },
                                {
                                    "column_name": "elem_count_histogram",
                                    "data_type": "ARRAY"
                                },
                                {
                                    "column_name": "datid",
                                    "data_type": "oid"
                                },
                                {
                                    "column_name": "pid",
                                    "data_type": "integer"
                                },
                                {
                                    "column_name": "num_dead_tuples",
                                    "data_type": "bigint"
                                },
                                {
                                    "column_name": "max_dead_tuples",
                                    "data_type": "bigint"
                                },
                                {
                                    "column_name": "proisstrict",
                                    "data_type": "boolean"
                                },
                                {
                                    "column_name": "proretset",
                                    "data_type": "boolean"
                                },
                                {
                                    "column_name": "database",
                                    "data_type": "oid"
                                },
                                {
                                    "column_name": "relation",
                                    "data_type": "oid"
                                },
                                {
                                    "column_name": "page",
                                    "data_type": "integer"
                                },
                                {
                                    "column_name": "tuple",
                                    "data_type": "smallint"
                                },
                                {
                                    "column_name": "provolatile",
                                    "data_type": "\"char\""
                                },
                                {
                                    "column_name": "transactionid",
                                    "data_type": "xid"
                                },
                                {
                                    "column_name": "classid",
                                    "data_type": "oid"
                                },
                                {
                                    "column_name": "objid",
                                    "data_type": "oid"
                                },
                                {
                                    "column_name": "objsubid",
                                    "data_type": "smallint"
                                },
                                {
                                    "column_name": "proparallel",
                                    "data_type": "\"char\""
                                },
                                {
                                    "column_name": "pid",
                                    "data_type": "integer"
                                },
                                {
                                    "column_name": "pronargs",
                                    "data_type": "smallint"
                                },
                                {
                                    "column_name": "granted",
                                    "data_type": "boolean"
                                },
                                {
                                    "column_name": "fastpath",
                                    "data_type": "boolean"
                                },
                                {
                                    "column_name": "waitstart",
                                    "data_type": "timestamp with time zone"
                                },
                                {
                                    "column_name": "pronargdefaults",
                                    "data_type": "smallint"
                                },
                                {
                                    "column_name": "prorettype",
                                    "data_type": "oid"
                                },
                                {
                                    "column_name": "is_holdable",
                                    "data_type": "boolean"
                                },
                                {
                                    "column_name": "is_binary",
                                    "data_type": "boolean"
                                },
                                {
                                    "column_name": "is_scrollable",
                                    "data_type": "boolean"
                                },
                                {
                                    "column_name": "creation_time",
                                    "data_type": "timestamp with time zone"
                                },
                                {
                                    "column_name": "index_vacuum_count",
                                    "data_type": "bigint"
                                },
                                {
                                    "column_name": "proargtypes",
                                    "data_type": "ARRAY"
                                },
                                {
                                    "column_name": "heap_blks_vacuumed",
                                    "data_type": "bigint"
                                },
                                {
                                    "column_name": "proallargtypes",
                                    "data_type": "ARRAY"
                                },
                                {
                                    "column_name": "heap_blks_scanned",
                                    "data_type": "bigint"
                                },
                                {
                                    "column_name": "proargmodes",
                                    "data_type": "ARRAY"
                                },
                                {
                                    "column_name": "installed",
                                    "data_type": "boolean"
                                },
                                {
                                    "column_name": "superuser",
                                    "data_type": "boolean"
                                },
                                {
                                    "column_name": "trusted",
                                    "data_type": "boolean"
                                },
                                {
                                    "column_name": "relocatable",
                                    "data_type": "boolean"
                                },
                                {
                                    "column_name": "heap_blks_total",
                                    "data_type": "bigint"
                                },
                                {
                                    "column_name": "relid",
                                    "data_type": "oid"
                                },
                                {
                                    "column_name": "srid",
                                    "data_type": "integer"
                                },
                                {
                                    "column_name": "transaction",
                                    "data_type": "xid"
                                },
                                {
                                    "column_name": "coord_dimension",
                                    "data_type": "integer"
                                },
                                {
                                    "column_name": "prepared",
                                    "data_type": "timestamp with time zone"
                                },
                                {
                                    "column_name": "datid",
                                    "data_type": "oid"
                                },
                                {
                                    "column_name": "pid",
                                    "data_type": "integer"
                                },
                                {
                                    "column_name": "protrftypes",
                                    "data_type": "ARRAY"
                                },
                                {
                                    "column_name": "srid",
                                    "data_type": "integer"
                                },
                                {
                                    "column_name": "prepare_time",
                                    "data_type": "timestamp with time zone"
                                },
                                {
                                    "column_name": "parameter_types",
                                    "data_type": "ARRAY"
                                },
                                {
                                    "column_name": "result_types",
                                    "data_type": "ARRAY"
                                },
                                {
                                    "column_name": "from_sql",
                                    "data_type": "boolean"
                                },
                                {
                                    "column_name": "generic_plans",
                                    "data_type": "bigint"
                                },
                                {
                                    "column_name": "custom_plans",
                                    "data_type": "bigint"
                                },
                                {
                                    "column_name": "objoid",
                                    "data_type": "oid"
                                },
                                {
                                    "column_name": "classoid",
                                    "data_type": "oid"
                                },
                                {
                                    "column_name": "objsubid",
                                    "data_type": "integer"
                                },
                                {
                                    "column_name": "coord_dimension",
                                    "data_type": "integer"
                                },
                                {
                                    "column_name": "objnamespace",
                                    "data_type": "oid"
                                },
                                {
                                    "column_name": "current_child_table_relid",
                                    "data_type": "oid"
                                },
                                {
                                    "column_name": "child_tables_done",
                                    "data_type": "bigint"
                                },
                                {
                                    "column_name": "child_tables_total",
                                    "data_type": "bigint"
                                },
                                {
                                    "column_name": "auth_srid",
                                    "data_type": "integer"
                                },
                                {
                                    "column_name": "srid",
                                    "data_type": "integer"
                                },
                                {
                                    "column_name": "proacl",
                                    "data_type": "ARRAY"
                                },
                                {
                                    "column_name": "oid",
                                    "data_type": "oid"
                                },
                                {
                                    "column_name": "Year",
                                    "data_type": "bigint"
                                },
                                {
                                    "column_name": "typnamespace",
                                    "data_type": "oid"
                                },
                                {
                                    "column_name": "typowner",
                                    "data_type": "oid"
                                },
                                {
                                    "column_name": "typlen",
                                    "data_type": "smallint"
                                },
                                {
                                    "column_name": "typbyval",
                                    "data_type": "boolean"
                                },
                                {
                                    "column_name": "typtype",
                                    "data_type": "\"char\""
                                },
                                {
                                    "column_name": "typcategory",
                                    "data_type": "\"char\""
                                },
                                {
                                    "column_name": "typispreferred",
                                    "data_type": "boolean"
                                },
                                {
                                    "column_name": "typisdefined",
                                    "data_type": "boolean"
                                },
                                {
                                    "column_name": "typdelim",
                                    "data_type": "\"char\""
                                },
                                {
                                    "column_name": "typrelid",
                                    "data_type": "oid"
                                },
                                {
                                    "column_name": "sourceline",
                                    "data_type": "integer"
                                },
                                {
                                    "column_name": "pending_restart",
                                    "data_type": "boolean"
                                },
                                {
                                    "column_name": "typsubscript",
                                    "data_type": "regproc"
                                },
                                {
                                    "column_name": "sourceline",
                                    "data_type": "integer"
                                },
                                {
                                    "column_name": "seqno",
                                    "data_type": "integer"
                                },
                                {
                                    "column_name": "typelem",
                                    "data_type": "oid"
                                },
                                {
                                    "column_name": "typarray",
                                    "data_type": "oid"
                                },
                                {
                                    "column_name": "applied",
                                    "data_type": "boolean"
                                },
                                {
                                    "column_name": "typinput",
                                    "data_type": "regproc"
                                },
                                {
                                    "column_name": "rule_number",
                                    "data_type": "integer"
                                },
                                {
                                    "column_name": "typoutput",
                                    "data_type": "regproc"
                                },
                                {
                                    "column_name": "line_number",
                                    "data_type": "integer"
                                },
                                {
                                    "column_name": "typreceive",
                                    "data_type": "regproc"
                                },
                                {
                                    "column_name": "typsend",
                                    "data_type": "regproc"
                                },
                                {
                                    "column_name": "typmodin",
                                    "data_type": "regproc"
                                },
                                {
                                    "column_name": "typmodout",
                                    "data_type": "regproc"
                                },
                                {
                                    "column_name": "typanalyze",
                                    "data_type": "regproc"
                                },
                                {
                                    "column_name": "typalign",
                                    "data_type": "\"char\""
                                },
                                {
                                    "column_name": "typstorage",
                                    "data_type": "\"char\""
                                },
                                {
                                    "column_name": "typnotnull",
                                    "data_type": "boolean"
                                },
                                {
                                    "column_name": "map_number",
                                    "data_type": "integer"
                                },
                                {
                                    "column_name": "typbasetype",
                                    "data_type": "oid"
                                },
                                {
                                    "column_name": "line_number",
                                    "data_type": "integer"
                                },
                                {
                                    "column_name": "typtypmod",
                                    "data_type": "integer"
                                },
                                {
                                    "column_name": "typndims",
                                    "data_type": "integer"
                                },
                                {
                                    "column_name": "typcollation",
                                    "data_type": "oid"
                                },
                                {
                                    "column_name": "umuser",
                                    "data_type": "oid"
                                },
                                {
                                    "column_name": "oid",
                                    "data_type": "oid"
                                },
                                {
                                    "column_name": "utc_offset",
                                    "data_type": "interval"
                                },
                                {
                                    "column_name": "is_dst",
                                    "data_type": "boolean"
                                },
                                {
                                    "column_name": "typacl",
                                    "data_type": "ARRAY"
                                },
                                {
                                    "column_name": "attrelid",
                                    "data_type": "oid"
                                },
                                {
                                    "column_name": "utc_offset",
                                    "data_type": "interval"
                                },
                                {
                                    "column_name": "is_dst",
                                    "data_type": "boolean"
                                },
                                {
                                    "column_name": "oid",
                                    "data_type": "oid"
                                },
                                {
                                    "column_name": "atttypid",
                                    "data_type": "oid"
                                },
                                {
                                    "column_name": "attlen",
                                    "data_type": "smallint"
                                },
                                {
                                    "column_name": "off",
                                    "data_type": "bigint"
                                },
                                {
                                    "column_name": "size",
                                    "data_type": "bigint"
                                },
                                {
                                    "column_name": "allocated_size",
                                    "data_type": "bigint"
                                },
                                {
                                    "column_name": "attnum",
                                    "data_type": "smallint"
                                },
                                {
                                    "column_name": "attcacheoff",
                                    "data_type": "integer"
                                },
                                {
                                    "column_name": "atttypmod",
                                    "data_type": "integer"
                                },
                                {
                                    "column_name": "level",
                                    "data_type": "integer"
                                },
                                {
                                    "column_name": "total_bytes",
                                    "data_type": "bigint"
                                },
                                {
                                    "column_name": "total_nblocks",
                                    "data_type": "bigint"
                                },
                                {
                                    "column_name": "free_bytes",
                                    "data_type": "bigint"
                                },
                                {
                                    "column_name": "free_chunks",
                                    "data_type": "bigint"
                                },
                                {
                                    "column_name": "used_bytes",
                                    "data_type": "bigint"
                                },
                                {
                                    "column_name": "relid",
                                    "data_type": "oid"
                                },
                                {
                                    "column_name": "ext_stats_computed",
                                    "data_type": "bigint"
                                },
                                {
                                    "column_name": "ext_stats_total",
                                    "data_type": "bigint"
                                },
                                {
                                    "column_name": "seq_scan",
                                    "data_type": "bigint"
                                },
                                {
                                    "column_name": "last_seq_scan",
                                    "data_type": "timestamp with time zone"
                                },
                                {
                                    "column_name": "seq_tup_read",
                                    "data_type": "bigint"
                                },
                                {
                                    "column_name": "idx_scan",
                                    "data_type": "bigint"
                                },
                                {
                                    "column_name": "last_idx_scan",
                                    "data_type": "timestamp with time zone"
                                },
                                {
                                    "column_name": "idx_tup_fetch",
                                    "data_type": "bigint"
                                },
                                {
                                    "column_name": "n_tup_ins",
                                    "data_type": "bigint"
                                },
                                {
                                    "column_name": "n_tup_upd",
                                    "data_type": "bigint"
                                },
                                {
                                    "column_name": "n_tup_del",
                                    "data_type": "bigint"
                                },
                                {
                                    "column_name": "n_tup_hot_upd",
                                    "data_type": "bigint"
                                },
                                {
                                    "column_name": "n_tup_newpage_upd",
                                    "data_type": "bigint"
                                },
                                {
                                    "column_name": "n_live_tup",
                                    "data_type": "bigint"
                                },
                                {
                                    "column_name": "n_dead_tup",
                                    "data_type": "bigint"
                                },
                                {
                                    "column_name": "n_mod_since_analyze",
                                    "data_type": "bigint"
                                },
                                {
                                    "column_name": "n_ins_since_vacuum",
                                    "data_type": "bigint"
                                },
                                {
                                    "column_name": "last_vacuum",
                                    "data_type": "timestamp with time zone"
                                },
                                {
                                    "column_name": "last_autovacuum",
                                    "data_type": "timestamp with time zone"
                                },
                                {
                                    "column_name": "last_analyze",
                                    "data_type": "timestamp with time zone"
                                },
                                {
                                    "column_name": "last_autoanalyze",
                                    "data_type": "timestamp with time zone"
                                },
                                {
                                    "column_name": "vacuum_count",
                                    "data_type": "bigint"
                                },
                                {
                                    "column_name": "autovacuum_count",
                                    "data_type": "bigint"
                                },
                                {
                                    "column_name": "analyze_count",
                                    "data_type": "bigint"
                                },
                                {
                                    "column_name": "autoanalyze_count",
                                    "data_type": "bigint"
                                },
                                {
                                    "column_name": "relid",
                                    "data_type": "oid"
                                },
                                {
                                    "column_name": "sample_blks_scanned",
                                    "data_type": "bigint"
                                },
                                {
                                    "column_name": "sample_blks_total",
                                    "data_type": "bigint"
                                },
                                {
                                    "column_name": "seq_scan",
                                    "data_type": "bigint"
                                },
                                {
                                    "column_name": "seq_tup_read",
                                    "data_type": "bigint"
                                },
                                {
                                    "column_name": "idx_scan",
                                    "data_type": "bigint"
                                },
                                {
                                    "column_name": "idx_tup_fetch",
                                    "data_type": "bigint"
                                },
                                {
                                    "column_name": "n_tup_ins",
                                    "data_type": "bigint"
                                },
                                {
                                    "column_name": "n_tup_upd",
                                    "data_type": "bigint"
                                },
                                {
                                    "column_name": "n_tup_del",
                                    "data_type": "bigint"
                                },
                                {
                                    "column_name": "n_tup_hot_upd",
                                    "data_type": "bigint"
                                },
                                {
                                    "column_name": "n_tup_newpage_upd",
                                    "data_type": "bigint"
                                },
                                {
                                    "column_name": "relid",
                                    "data_type": "oid"
                                },
                                {
                                    "column_name": "relid",
                                    "data_type": "oid"
                                },
                                {
                                    "column_name": "datid",
                                    "data_type": "oid"
                                },
                                {
                                    "column_name": "seq_scan",
                                    "data_type": "bigint"
                                },
                                {
                                    "column_name": "last_seq_scan",
                                    "data_type": "timestamp with time zone"
                                },
                                {
                                    "column_name": "seq_tup_read",
                                    "data_type": "bigint"
                                },
                                {
                                    "column_name": "idx_scan",
                                    "data_type": "bigint"
                                },
                                {
                                    "column_name": "last_idx_scan",
                                    "data_type": "timestamp with time zone"
                                },
                                {
                                    "column_name": "idx_tup_fetch",
                                    "data_type": "bigint"
                                },
                                {
                                    "column_name": "n_tup_ins",
                                    "data_type": "bigint"
                                },
                                {
                                    "column_name": "n_tup_upd",
                                    "data_type": "bigint"
                                },
                                {
                                    "column_name": "n_tup_del",
                                    "data_type": "bigint"
                                },
                                {
                                    "column_name": "n_tup_hot_upd",
                                    "data_type": "bigint"
                                },
                                {
                                    "column_name": "n_tup_newpage_upd",
                                    "data_type": "bigint"
                                },
                                {
                                    "column_name": "n_live_tup",
                                    "data_type": "bigint"
                                },
                                {
                                    "column_name": "n_dead_tup",
                                    "data_type": "bigint"
                                },
                                {
                                    "column_name": "n_mod_since_analyze",
                                    "data_type": "bigint"
                                },
                                {
                                    "column_name": "n_ins_since_vacuum",
                                    "data_type": "bigint"
                                },
                                {
                                    "column_name": "last_vacuum",
                                    "data_type": "timestamp with time zone"
                                },
                                {
                                    "column_name": "last_autovacuum",
                                    "data_type": "timestamp with time zone"
                                },
                                {
                                    "column_name": "last_analyze",
                                    "data_type": "timestamp with time zone"
                                },
                                {
                                    "column_name": "last_autoanalyze",
                                    "data_type": "timestamp with time zone"
                                },
                                {
                                    "column_name": "vacuum_count",
                                    "data_type": "bigint"
                                },
                                {
                                    "column_name": "autovacuum_count",
                                    "data_type": "bigint"
                                },
                                {
                                    "column_name": "analyze_count",
                                    "data_type": "bigint"
                                },
                                {
                                    "column_name": "autoanalyze_count",
                                    "data_type": "bigint"
                                },
                                {
                                    "column_name": "relid",
                                    "data_type": "oid"
                                },
                                {
                                    "column_name": "pid",
                                    "data_type": "integer"
                                },
                                {
                                    "column_name": "stats_reset",
                                    "data_type": "timestamp with time zone"
                                },
                                {
                                    "column_name": "seq_scan",
                                    "data_type": "bigint"
                                },
                                {
                                    "column_name": "seq_tup_read",
                                    "data_type": "bigint"
                                },
                                {
                                    "column_name": "idx_scan",
                                    "data_type": "bigint"
                                },
                                {
                                    "column_name": "idx_tup_fetch",
                                    "data_type": "bigint"
                                },
                                {
                                    "column_name": "n_tup_ins",
                                    "data_type": "bigint"
                                },
                                {
                                    "column_name": "n_tup_upd",
                                    "data_type": "bigint"
                                },
                                {
                                    "column_name": "n_tup_del",
                                    "data_type": "bigint"
                                },
                                {
                                    "column_name": "n_tup_hot_upd",
                                    "data_type": "bigint"
                                },
                                {
                                    "column_name": "n_tup_newpage_upd",
                                    "data_type": "bigint"
                                },
                                {
                                    "column_name": "relid",
                                    "data_type": "oid"
                                },
                                {
                                    "column_name": "wal_sync_time",
                                    "data_type": "double precision"
                                },
                                {
                                    "column_name": "wal_write_time",
                                    "data_type": "double precision"
                                },
                                {
                                    "column_name": "seq_scan",
                                    "data_type": "bigint"
                                },
                                {
                                    "column_name": "last_seq_scan",
                                    "data_type": "timestamp with time zone"
                                },
                                {
                                    "column_name": "seq_tup_read",
                                    "data_type": "bigint"
                                },
                                {
                                    "column_name": "idx_scan",
                                    "data_type": "bigint"
                                },
                                {
                                    "column_name": "last_idx_scan",
                                    "data_type": "timestamp with time zone"
                                },
                                {
                                    "column_name": "idx_tup_fetch",
                                    "data_type": "bigint"
                                },
                                {
                                    "column_name": "n_tup_ins",
                                    "data_type": "bigint"
                                },
                                {
                                    "column_name": "n_tup_upd",
                                    "data_type": "bigint"
                                },
                                {
                                    "column_name": "n_tup_del",
                                    "data_type": "bigint"
                                },
                                {
                                    "column_name": "n_tup_hot_upd",
                                    "data_type": "bigint"
                                },
                                {
                                    "column_name": "n_tup_newpage_upd",
                                    "data_type": "bigint"
                                },
                                {
                                    "column_name": "n_live_tup",
                                    "data_type": "bigint"
                                },
                                {
                                    "column_name": "n_dead_tup",
                                    "data_type": "bigint"
                                },
                                {
                                    "column_name": "n_mod_since_analyze",
                                    "data_type": "bigint"
                                },
                                {
                                    "column_name": "n_ins_since_vacuum",
                                    "data_type": "bigint"
                                },
                                {
                                    "column_name": "last_vacuum",
                                    "data_type": "timestamp with time zone"
                                },
                                {
                                    "column_name": "last_autovacuum",
                                    "data_type": "timestamp with time zone"
                                },
                                {
                                    "column_name": "last_analyze",
                                    "data_type": "timestamp with time zone"
                                },
                                {
                                    "column_name": "last_autoanalyze",
                                    "data_type": "timestamp with time zone"
                                },
                                {
                                    "column_name": "vacuum_count",
                                    "data_type": "bigint"
                                },
                                {
                                    "column_name": "autovacuum_count",
                                    "data_type": "bigint"
                                },
                                {
                                    "column_name": "analyze_count",
                                    "data_type": "bigint"
                                },
                                {
                                    "column_name": "autoanalyze_count",
                                    "data_type": "bigint"
                                },
                                {
                                    "column_name": "relid",
                                    "data_type": "oid"
                                },
                                {
                                    "column_name": "wal_sync",
                                    "data_type": "bigint"
                                },
                                {
                                    "column_name": "wal_write",
                                    "data_type": "bigint"
                                },
                                {
                                    "column_name": "seq_scan",
                                    "data_type": "bigint"
                                },
                                {
                                    "column_name": "seq_tup_read",
                                    "data_type": "bigint"
                                },
                                {
                                    "column_name": "idx_scan",
                                    "data_type": "bigint"
                                },
                                {
                                    "column_name": "idx_tup_fetch",
                                    "data_type": "bigint"
                                },
                                {
                                    "column_name": "n_tup_ins",
                                    "data_type": "bigint"
                                },
                                {
                                    "column_name": "n_tup_upd",
                                    "data_type": "bigint"
                                },
                                {
                                    "column_name": "n_tup_del",
                                    "data_type": "bigint"
                                },
                                {
                                    "column_name": "n_tup_hot_upd",
                                    "data_type": "bigint"
                                },
                                {
                                    "column_name": "n_tup_newpage_upd",
                                    "data_type": "bigint"
                                },
                                {
                                    "column_name": "relid",
                                    "data_type": "oid"
                                },
                                {
                                    "column_name": "wal_buffers_full",
                                    "data_type": "bigint"
                                },
                                {
                                    "column_name": "wal_bytes",
                                    "data_type": "numeric"
                                },
                                {
                                    "column_name": "heap_blks_read",
                                    "data_type": "bigint"
                                },
                                {
                                    "column_name": "heap_blks_hit",
                                    "data_type": "bigint"
                                },
                                {
                                    "column_name": "idx_blks_read",
                                    "data_type": "bigint"
                                },
                                {
                                    "column_name": "idx_blks_hit",
                                    "data_type": "bigint"
                                },
                                {
                                    "column_name": "toast_blks_read",
                                    "data_type": "bigint"
                                },
                                {
                                    "column_name": "toast_blks_hit",
                                    "data_type": "bigint"
                                },
                                {
                                    "column_name": "tidx_blks_read",
                                    "data_type": "bigint"
                                },
                                {
                                    "column_name": "tidx_blks_hit",
                                    "data_type": "bigint"
                                },
                                {
                                    "column_name": "relid",
                                    "data_type": "oid"
                                },
                                {
                                    "column_name": "wal_fpi",
                                    "data_type": "bigint"
                                },
                                {
                                    "column_name": "wal_records",
                                    "data_type": "bigint"
                                },
                                {
                                    "column_name": "heap_blks_read",
                                    "data_type": "bigint"
                                },
                                {
                                    "column_name": "heap_blks_hit",
                                    "data_type": "bigint"
                                },
                                {
                                    "column_name": "idx_blks_read",
                                    "data_type": "bigint"
                                },
                                {
                                    "column_name": "idx_blks_hit",
                                    "data_type": "bigint"
                                },
                                {
                                    "column_name": "toast_blks_read",
                                    "data_type": "bigint"
                                },
                                {
                                    "column_name": "toast_blks_hit",
                                    "data_type": "bigint"
                                },
                                {
                                    "column_name": "tidx_blks_read",
                                    "data_type": "bigint"
                                },
                                {
                                    "column_name": "tidx_blks_hit",
                                    "data_type": "bigint"
                                },
                                {
                                    "column_name": "relid",
                                    "data_type": "oid"
                                },
                                {
                                    "column_name": "stats_reset",
                                    "data_type": "timestamp with time zone"
                                },
                                {
                                    "column_name": "fsync_time",
                                    "data_type": "double precision"
                                },
                                {
                                    "column_name": "heap_blks_read",
                                    "data_type": "bigint"
                                },
                                {
                                    "column_name": "heap_blks_hit",
                                    "data_type": "bigint"
                                },
                                {
                                    "column_name": "idx_blks_read",
                                    "data_type": "bigint"
                                },
                                {
                                    "column_name": "idx_blks_hit",
                                    "data_type": "bigint"
                                },
                                {
                                    "column_name": "toast_blks_read",
                                    "data_type": "bigint"
                                },
                                {
                                    "column_name": "toast_blks_hit",
                                    "data_type": "bigint"
                                },
                                {
                                    "column_name": "tidx_blks_read",
                                    "data_type": "bigint"
                                },
                                {
                                    "column_name": "tidx_blks_hit",
                                    "data_type": "bigint"
                                },
                                {
                                    "column_name": "relid",
                                    "data_type": "oid"
                                },
                                {
                                    "column_name": "indexrelid",
                                    "data_type": "oid"
                                },
                                {
                                    "column_name": "fsyncs",
                                    "data_type": "bigint"
                                },
                                {
                                    "column_name": "reuses",
                                    "data_type": "bigint"
                                },
                                {
                                    "column_name": "evictions",
                                    "data_type": "bigint"
                                },
                                {
                                    "column_name": "idx_scan",
                                    "data_type": "bigint"
                                },
                                {
                                    "column_name": "last_idx_scan",
                                    "data_type": "timestamp with time zone"
                                },
                                {
                                    "column_name": "idx_tup_read",
                                    "data_type": "bigint"
                                },
                                {
                                    "column_name": "idx_tup_fetch",
                                    "data_type": "bigint"
                                },
                                {
                                    "column_name": "relid",
                                    "data_type": "oid"
                                },
                                {
                                    "column_name": "indexrelid",
                                    "data_type": "oid"
                                },
                                {
                                    "column_name": "hits",
                                    "data_type": "bigint"
                                },
                                {
                                    "column_name": "op_bytes",
                                    "data_type": "bigint"
                                },
                                {
                                    "column_name": "extend_time",
                                    "data_type": "double precision"
                                },
                                {
                                    "column_name": "idx_scan",
                                    "data_type": "bigint"
                                },
                                {
                                    "column_name": "last_idx_scan",
                                    "data_type": "timestamp with time zone"
                                },
                                {
                                    "column_name": "idx_tup_read",
                                    "data_type": "bigint"
                                },
                                {
                                    "column_name": "idx_tup_fetch",
                                    "data_type": "bigint"
                                },
                                {
                                    "column_name": "relid",
                                    "data_type": "oid"
                                },
                                {
                                    "column_name": "indexrelid",
                                    "data_type": "oid"
                                },
                                {
                                    "column_name": "extends",
                                    "data_type": "bigint"
                                },
                                {
                                    "column_name": "writeback_time",
                                    "data_type": "double precision"
                                },
                                {
                                    "column_name": "writebacks",
                                    "data_type": "bigint"
                                },
                                {
                                    "column_name": "idx_scan",
                                    "data_type": "bigint"
                                },
                                {
                                    "column_name": "last_idx_scan",
                                    "data_type": "timestamp with time zone"
                                },
                                {
                                    "column_name": "idx_tup_read",
                                    "data_type": "bigint"
                                },
                                {
                                    "column_name": "idx_tup_fetch",
                                    "data_type": "bigint"
                                },
                                {
                                    "column_name": "relid",
                                    "data_type": "oid"
                                },
                                {
                                    "column_name": "indexrelid",
                                    "data_type": "oid"
                                },
                                {
                                    "column_name": "write_time",
                                    "data_type": "double precision"
                                },
                                {
                                    "column_name": "writes",
                                    "data_type": "bigint"
                                },
                                {
                                    "column_name": "read_time",
                                    "data_type": "double precision"
                                },
                                {
                                    "column_name": "idx_blks_read",
                                    "data_type": "bigint"
                                },
                                {
                                    "column_name": "idx_blks_hit",
                                    "data_type": "bigint"
                                },
                                {
                                    "column_name": "relid",
                                    "data_type": "oid"
                                },
                                {
                                    "column_name": "indexrelid",
                                    "data_type": "oid"
                                },
                                {
                                    "column_name": "reads",
                                    "data_type": "bigint"
                                },
                                {
                                    "column_name": "stats_reset",
                                    "data_type": "timestamp with time zone"
                                },
                                {
                                    "column_name": "buffers_alloc",
                                    "data_type": "bigint"
                                },
                                {
                                    "column_name": "idx_blks_read",
                                    "data_type": "bigint"
                                },
                                {
                                    "column_name": "idx_blks_hit",
                                    "data_type": "bigint"
                                },
                                {
                                    "column_name": "relid",
                                    "data_type": "oid"
                                },
                                {
                                    "column_name": "indexrelid",
                                    "data_type": "oid"
                                },
                                {
                                    "column_name": "buffers_backend_fsync",
                                    "data_type": "bigint"
                                },
                                {
                                    "column_name": "buffers_backend",
                                    "data_type": "bigint"
                                },
                                {
                                    "column_name": "maxwritten_clean",
                                    "data_type": "bigint"
                                },
                                {
                                    "column_name": "idx_blks_read",
                                    "data_type": "bigint"
                                },
                                {
                                    "column_name": "idx_blks_hit",
                                    "data_type": "bigint"
                                },
                                {
                                    "column_name": "relid",
                                    "data_type": "oid"
                                },
                                {
                                    "column_name": "buffers_clean",
                                    "data_type": "bigint"
                                },
                                {
                                    "column_name": "buffers_checkpoint",
                                    "data_type": "bigint"
                                },
                                {
                                    "column_name": "blks_read",
                                    "data_type": "bigint"
                                },
                                {
                                    "column_name": "blks_hit",
                                    "data_type": "bigint"
                                },
                                {
                                    "column_name": "relid",
                                    "data_type": "oid"
                                },
                                {
                                    "column_name": "checkpoint_sync_time",
                                    "data_type": "double precision"
                                },
                                {
                                    "column_name": "checkpoint_write_time",
                                    "data_type": "double precision"
                                },
                                {
                                    "column_name": "blks_read",
                                    "data_type": "bigint"
                                },
                                {
                                    "column_name": "blks_hit",
                                    "data_type": "bigint"
                                },
                                {
                                    "column_name": "relid",
                                    "data_type": "oid"
                                },
                                {
                                    "column_name": "checkpoints_req",
                                    "data_type": "bigint"
                                },
                                {
                                    "column_name": "checkpoints_timed",
                                    "data_type": "bigint"
                                },
                                {
                                    "column_name": "blks_read",
                                    "data_type": "bigint"
                                },
                                {
                                    "column_name": "blks_hit",
                                    "data_type": "bigint"
                                },
                                {
                                    "column_name": "datid",
                                    "data_type": "oid"
                                },
                                {
                                    "column_name": "stats_reset",
                                    "data_type": "timestamp with time zone"
                                },
                                {
                                    "column_name": "pid",
                                    "data_type": "integer"
                                },
                                {
                                    "column_name": "leader_pid",
                                    "data_type": "integer"
                                },
                                {
                                    "column_name": "usesysid",
                                    "data_type": "oid"
                                },
                                {
                                    "column_name": "last_failed_time",
                                    "data_type": "timestamp with time zone"
                                },
                                {
                                    "column_name": "attndims",
                                    "data_type": "smallint"
                                },
                                {
                                    "column_name": "client_addr",
                                    "data_type": "inet"
                                },
                                {
                                    "column_name": "attbyval",
                                    "data_type": "boolean"
                                },
                                {
                                    "column_name": "client_port",
                                    "data_type": "integer"
                                },
                                {
                                    "column_name": "backend_start",
                                    "data_type": "timestamp with time zone"
                                },
                                {
                                    "column_name": "xact_start",
                                    "data_type": "timestamp with time zone"
                                },
                                {
                                    "column_name": "query_start",
                                    "data_type": "timestamp with time zone"
                                },
                                {
                                    "column_name": "state_change",
                                    "data_type": "timestamp with time zone"
                                },
                                {
                                    "column_name": "attalign",
                                    "data_type": "\"char\""
                                },
                                {
                                    "column_name": "attstorage",
                                    "data_type": "\"char\""
                                },
                                {
                                    "column_name": "attcompression",
                                    "data_type": "\"char\""
                                },
                                {
                                    "column_name": "backend_xid",
                                    "data_type": "xid"
                                },
                                {
                                    "column_name": "backend_xmin",
                                    "data_type": "xid"
                                },
                                {
                                    "column_name": "query_id",
                                    "data_type": "bigint"
                                },
                                {
                                    "column_name": "attnotnull",
                                    "data_type": "boolean"
                                },
                                {
                                    "column_name": "atthasdef",
                                    "data_type": "boolean"
                                },
                                {
                                    "column_name": "pid",
                                    "data_type": "integer"
                                },
                                {
                                    "column_name": "usesysid",
                                    "data_type": "oid"
                                },
                                {
                                    "column_name": "failed_count",
                                    "data_type": "bigint"
                                },
                                {
                                    "column_name": "atthasmissing",
                                    "data_type": "boolean"
                                },
                                {
                                    "column_name": "client_addr",
                                    "data_type": "inet"
                                },
                                {
                                    "column_name": "attidentity",
                                    "data_type": "\"char\""
                                },
                                {
                                    "column_name": "client_port",
                                    "data_type": "integer"
                                },
                                {
                                    "column_name": "backend_start",
                                    "data_type": "timestamp with time zone"
                                },
                                {
                                    "column_name": "backend_xmin",
                                    "data_type": "xid"
                                },
                                {
                                    "column_name": "attgenerated",
                                    "data_type": "\"char\""
                                },
                                {
                                    "column_name": "sent_lsn",
                                    "data_type": "pg_lsn"
                                },
                                {
                                    "column_name": "write_lsn",
                                    "data_type": "pg_lsn"
                                },
                                {
                                    "column_name": "flush_lsn",
                                    "data_type": "pg_lsn"
                                },
                                {
                                    "column_name": "replay_lsn",
                                    "data_type": "pg_lsn"
                                },
                                {
                                    "column_name": "write_lag",
                                    "data_type": "interval"
                                },
                                {
                                    "column_name": "flush_lag",
                                    "data_type": "interval"
                                },
                                {
                                    "column_name": "replay_lag",
                                    "data_type": "interval"
                                },
                                {
                                    "column_name": "sync_priority",
                                    "data_type": "integer"
                                },
                                {
                                    "column_name": "attisdropped",
                                    "data_type": "boolean"
                                },
                                {
                                    "column_name": "reply_time",
                                    "data_type": "timestamp with time zone"
                                },
                                {
                                    "column_name": "attislocal",
                                    "data_type": "boolean"
                                },
                                {
                                    "column_name": "blks_zeroed",
                                    "data_type": "bigint"
                                },
                                {
                                    "column_name": "blks_hit",
                                    "data_type": "bigint"
                                },
                                {
                                    "column_name": "blks_read",
                                    "data_type": "bigint"
                                },
                                {
                                    "column_name": "blks_written",
                                    "data_type": "bigint"
                                },
                                {
                                    "column_name": "blks_exists",
                                    "data_type": "bigint"
                                },
                                {
                                    "column_name": "flushes",
                                    "data_type": "bigint"
                                },
                                {
                                    "column_name": "truncates",
                                    "data_type": "bigint"
                                },
                                {
                                    "column_name": "stats_reset",
                                    "data_type": "timestamp with time zone"
                                },
                                {
                                    "column_name": "pid",
                                    "data_type": "integer"
                                },
                                {
                                    "column_name": "attinhcount",
                                    "data_type": "smallint"
                                },
                                {
                                    "column_name": "receive_start_lsn",
                                    "data_type": "pg_lsn"
                                },
                                {
                                    "column_name": "receive_start_tli",
                                    "data_type": "integer"
                                },
                                {
                                    "column_name": "written_lsn",
                                    "data_type": "pg_lsn"
                                },
                                {
                                    "column_name": "flushed_lsn",
                                    "data_type": "pg_lsn"
                                },
                                {
                                    "column_name": "received_tli",
                                    "data_type": "integer"
                                },
                                {
                                    "column_name": "last_msg_send_time",
                                    "data_type": "timestamp with time zone"
                                },
                                {
                                    "column_name": "last_msg_receipt_time",
                                    "data_type": "timestamp with time zone"
                                },
                                {
                                    "column_name": "latest_end_lsn",
                                    "data_type": "pg_lsn"
                                },
                                {
                                    "column_name": "latest_end_time",
                                    "data_type": "timestamp with time zone"
                                },
                                {
                                    "column_name": "attstattarget",
                                    "data_type": "smallint"
                                },
                                {
                                    "column_name": "attcollation",
                                    "data_type": "oid"
                                },
                                {
                                    "column_name": "sender_port",
                                    "data_type": "integer"
                                },
                                {
                                    "column_name": "attacl",
                                    "data_type": "ARRAY"
                                },
                                {
                                    "column_name": "stats_reset",
                                    "data_type": "timestamp with time zone"
                                },
                                {
                                    "column_name": "prefetch",
                                    "data_type": "bigint"
                                },
                                {
                                    "column_name": "hit",
                                    "data_type": "bigint"
                                },
                                {
                                    "column_name": "skip_init",
                                    "data_type": "bigint"
                                },
                                {
                                    "column_name": "skip_new",
                                    "data_type": "bigint"
                                },
                                {
                                    "column_name": "skip_fpw",
                                    "data_type": "bigint"
                                },
                                {
                                    "column_name": "type",
                                    "data_type": "character varying"
                                },
                                {
                                    "column_name": "rolpassword",
                                    "data_type": "text"
                                },
                                {
                                    "column_name": "passwd",
                                    "data_type": "text"
                                },
                                {
                                    "column_name": "permissive",
                                    "data_type": "text"
                                },
                                {
                                    "column_name": "cmd",
                                    "data_type": "text"
                                },
                                {
                                    "column_name": "definition",
                                    "data_type": "text"
                                },
                                {
                                    "column_name": "definition",
                                    "data_type": "text"
                                },
                                {
                                    "column_name": "definition",
                                    "data_type": "text"
                                },
                                {
                                    "column_name": "indexdef",
                                    "data_type": "text"
                                },
                                {
                                    "column_name": "exprs",
                                    "data_type": "ARRAY"
                                },
                                {
                                    "column_name": "most_common_vals",
                                    "data_type": "ARRAY"
                                },
                                {
                                    "column_name": "expr",
                                    "data_type": "text"
                                },
                                {
                                    "column_name": "rowfilter",
                                    "data_type": "text"
                                },
                                {
                                    "column_name": "locktype",
                                    "data_type": "text"
                                },
                                {
                                    "column_name": "virtualxid",
                                    "data_type": "text"
                                },
                                {
                                    "column_name": "virtualtransaction",
                                    "data_type": "text"
                                },
                                {
                                    "column_name": "mode",
                                    "data_type": "text"
                                },
                                {
                                    "column_name": "name",
                                    "data_type": "text"
                                },
                                {
                                    "column_name": "statement",
                                    "data_type": "text"
                                },
                                {
                                    "column_name": "default_version",
                                    "data_type": "text"
                                },
                                {
                                    "column_name": "comment",
                                    "data_type": "text"
                                },
                                {
                                    "column_name": "version",
                                    "data_type": "text"
                                },
                                {
                                    "column_name": "comment",
                                    "data_type": "text"
                                },
                                {
                                    "column_name": "gid",
                                    "data_type": "text"
                                },
                                {
                                    "column_name": "name",
                                    "data_type": "text"
                                },
                                {
                                    "column_name": "statement",
                                    "data_type": "text"
                                },
                                {
                                    "column_name": "objtype",
                                    "data_type": "text"
                                },
                                {
                                    "column_name": "name",
                                    "data_type": "text"
                                },
                                {
                                    "column_name": "setting",
                                    "data_type": "text"
                                },
                                {
                                    "column_name": "unit",
                                    "data_type": "text"
                                },
                                {
                                    "column_name": "category",
                                    "data_type": "text"
                                },
                                {
                                    "column_name": "short_desc",
                                    "data_type": "text"
                                },
                                {
                                    "column_name": "extra_desc",
                                    "data_type": "text"
                                },
                                {
                                    "column_name": "context",
                                    "data_type": "text"
                                },
                                {
                                    "column_name": "vartype",
                                    "data_type": "text"
                                },
                                {
                                    "column_name": "source",
                                    "data_type": "text"
                                },
                                {
                                    "column_name": "min_val",
                                    "data_type": "text"
                                },
                                {
                                    "column_name": "max_val",
                                    "data_type": "text"
                                },
                                {
                                    "column_name": "enumvals",
                                    "data_type": "ARRAY"
                                },
                                {
                                    "column_name": "boot_val",
                                    "data_type": "text"
                                },
                                {
                                    "column_name": "reset_val",
                                    "data_type": "text"
                                },
                                {
                                    "column_name": "sourcefile",
                                    "data_type": "text"
                                },
                                {
                                    "column_name": "sourcefile",
                                    "data_type": "text"
                                },
                                {
                                    "column_name": "name",
                                    "data_type": "text"
                                },
                                {
                                    "column_name": "setting",
                                    "data_type": "text"
                                },
                                {
                                    "column_name": "error",
                                    "data_type": "text"
                                },
                                {
                                    "column_name": "file_name",
                                    "data_type": "text"
                                },
                                {
                                    "column_name": "type",
                                    "data_type": "text"
                                },
                                {
                                    "column_name": "database",
                                    "data_type": "ARRAY"
                                },
                                {
                                    "column_name": "user_name",
                                    "data_type": "ARRAY"
                                },
                                {
                                    "column_name": "address",
                                    "data_type": "text"
                                },
                                {
                                    "column_name": "netmask",
                                    "data_type": "text"
                                },
                                {
                                    "column_name": "auth_method",
                                    "data_type": "text"
                                },
                                {
                                    "column_name": "options",
                                    "data_type": "ARRAY"
                                },
                                {
                                    "column_name": "error",
                                    "data_type": "text"
                                },
                                {
                                    "column_name": "file_name",
                                    "data_type": "text"
                                },
                                {
                                    "column_name": "map_name",
                                    "data_type": "text"
                                },
                                {
                                    "column_name": "sys_name",
                                    "data_type": "text"
                                },
                                {
                                    "column_name": "pg_username",
                                    "data_type": "text"
                                },
                                {
                                    "column_name": "error",
                                    "data_type": "text"
                                },
                                {
                                    "column_name": "abbrev",
                                    "data_type": "text"
                                },
                                {
                                    "column_name": "name",
                                    "data_type": "text"
                                },
                                {
                                    "column_name": "abbrev",
                                    "data_type": "text"
                                },
                                {
                                    "column_name": "name",
                                    "data_type": "text"
                                },
                                {
                                    "column_name": "setting",
                                    "data_type": "text"
                                },
                                {
                                    "column_name": "name",
                                    "data_type": "text"
                                },
                                {
                                    "column_name": "name",
                                    "data_type": "text"
                                },
                                {
                                    "column_name": "ident",
                                    "data_type": "text"
                                },
                                {
                                    "column_name": "parent",
                                    "data_type": "text"
                                },
                                {
                                    "column_name": "application_name",
                                    "data_type": "text"
                                },
                                {
                                    "column_name": "client_hostname",
                                    "data_type": "text"
                                },
                                {
                                    "column_name": "wait_event_type",
                                    "data_type": "text"
                                },
                                {
                                    "column_name": "wait_event",
                                    "data_type": "text"
                                },
                                {
                                    "column_name": "state",
                                    "data_type": "text"
                                },
                                {
                                    "column_name": "query",
                                    "data_type": "text"
                                },
                                {
                                    "column_name": "backend_type",
                                    "data_type": "text"
                                },
                                {
                                    "column_name": "application_name",
                                    "data_type": "text"
                                },
                                {
                                    "column_name": "client_hostname",
                                    "data_type": "text"
                                },
                                {
                                    "column_name": "state",
                                    "data_type": "text"
                                },
                                {
                                    "column_name": "sync_state",
                                    "data_type": "text"
                                },
                                {
                                    "column_name": "name",
                                    "data_type": "text"
                                },
                                {
                                    "column_name": "status",
                                    "data_type": "text"
                                },
                                {
                                    "column_name": "slot_name",
                                    "data_type": "text"
                                },
                                {
                                    "column_name": "sender_host",
                                    "data_type": "text"
                                },
                                {
                                    "column_name": "conninfo",
                                    "data_type": "text"
                                },
                                {
                                    "column_name": "version",
                                    "data_type": "text"
                                },
                                {
                                    "column_name": "cipher",
                                    "data_type": "text"
                                },
                                {
                                    "column_name": "client_dn",
                                    "data_type": "text"
                                },
                                {
                                    "column_name": "issuer_dn",
                                    "data_type": "text"
                                },
                                {
                                    "column_name": "principal",
                                    "data_type": "text"
                                },
                                {
                                    "column_name": "slot_type",
                                    "data_type": "text"
                                },
                                {
                                    "column_name": "wal_status",
                                    "data_type": "text"
                                },
                                {
                                    "column_name": "slot_name",
                                    "data_type": "text"
                                },
                                {
                                    "column_name": "last_archived_wal",
                                    "data_type": "text"
                                },
                                {
                                    "column_name": "last_failed_wal",
                                    "data_type": "text"
                                },
                                {
                                    "column_name": "backend_type",
                                    "data_type": "text"
                                },
                                {
                                    "column_name": "object",
                                    "data_type": "text"
                                },
                                {
                                    "column_name": "context",
                                    "data_type": "text"
                                },
                                {
                                    "column_name": "phase",
                                    "data_type": "text"
                                },
                                {
                                    "column_name": "phase",
                                    "data_type": "text"
                                },
                                {
                                    "column_name": "command",
                                    "data_type": "text"
                                },
                                {
                                    "column_name": "phase",
                                    "data_type": "text"
                                },
                                {
                                    "column_name": "command",
                                    "data_type": "text"
                                },
                                {
                                    "column_name": "phase",
                                    "data_type": "text"
                                },
                                {
                                    "column_name": "phase",
                                    "data_type": "text"
                                },
                                {
                                    "column_name": "command",
                                    "data_type": "text"
                                },
                                {
                                    "column_name": "type",
                                    "data_type": "text"
                                },
                                {
                                    "column_name": "external_id",
                                    "data_type": "text"
                                },
                                {
                                    "column_name": "City",
                                    "data_type": "text"
                                },
                                {
                                    "column_name": "Sport",
                                    "data_type": "text"
                                },
                                {
                                    "column_name": "Discipline",
                                    "data_type": "text"
                                },
                                {
                                    "column_name": "Athlete",
                                    "data_type": "text"
                                },
                                {
                                    "column_name": "Country",
                                    "data_type": "text"
                                },
                                {
                                    "column_name": "Gender",
                                    "data_type": "text"
                                },
                                {
                                    "column_name": "Event",
                                    "data_type": "text"
                                },
                                {
                                    "column_name": "Medal",
                                    "data_type": "text"
                                },
                                {
                                    "column_name": "auth_name",
                                    "data_type": "character varying"
                                },
                                {
                                    "column_name": "srtext",
                                    "data_type": "character varying"
                                },
                                {
                                    "column_name": "proj4text",
                                    "data_type": "character varying"
                                },
                                {
                                    "column_name": "type",
                                    "data_type": "text"
                                },
                                {
                                    "column_name": "prosrc",
                                    "data_type": "text"
                                },
                                {
                                    "column_name": "proname",
                                    "data_type": "name"
                                },
                                {
                                    "column_name": "schemaname",
                                    "data_type": "name"
                                },
                                {
                                    "column_name": "indexrelname",
                                    "data_type": "name"
                                },
                                {
                                    "column_name": "relname",
                                    "data_type": "name"
                                },
                                {
                                    "column_name": "schemaname",
                                    "data_type": "name"
                                },
                                {
                                    "column_name": "indexrelname",
                                    "data_type": "name"
                                },
                                {
                                    "column_name": "relname",
                                    "data_type": "name"
                                },
                                {
                                    "column_name": "schemaname",
                                    "data_type": "name"
                                },
                                {
                                    "column_name": "indexrelname",
                                    "data_type": "name"
                                },
                                {
                                    "column_name": "relname",
                                    "data_type": "name"
                                },
                                {
                                    "column_name": "schemaname",
                                    "data_type": "name"
                                },
                                {
                                    "column_name": "indexrelname",
                                    "data_type": "name"
                                },
                                {
                                    "column_name": "relname",
                                    "data_type": "name"
                                },
                                {
                                    "column_name": "schemaname",
                                    "data_type": "name"
                                },
                                {
                                    "column_name": "relname",
                                    "data_type": "name"
                                },
                                {
                                    "column_name": "schemaname",
                                    "data_type": "name"
                                },
                                {
                                    "column_name": "relname",
                                    "data_type": "name"
                                },
                                {
                                    "column_name": "schemaname",
                                    "data_type": "name"
                                },
                                {
                                    "column_name": "relname",
                                    "data_type": "name"
                                },
                                {
                                    "column_name": "schemaname",
                                    "data_type": "name"
                                },
                                {
                                    "column_name": "relname",
                                    "data_type": "name"
                                },
                                {
                                    "column_name": "schemaname",
                                    "data_type": "name"
                                },
                                {
                                    "column_name": "relname",
                                    "data_type": "name"
                                },
                                {
                                    "column_name": "schemaname",
                                    "data_type": "name"
                                },
                                {
                                    "column_name": "relname",
                                    "data_type": "name"
                                },
                                {
                                    "column_name": "schemaname",
                                    "data_type": "name"
                                },
                                {
                                    "column_name": "relname",
                                    "data_type": "name"
                                },
                                {
                                    "column_name": "datname",
                                    "data_type": "name"
                                },
                                {
                                    "column_name": "schemaname",
                                    "data_type": "name"
                                },
                                {
                                    "column_name": "f_table_catalog",
                                    "data_type": "character varying"
                                },
                                {
                                    "column_name": "relname",
                                    "data_type": "name"
                                },
                                {
                                    "column_name": "schemaname",
                                    "data_type": "name"
                                },
                                {
                                    "column_name": "relname",
                                    "data_type": "name"
                                },
                                {
                                    "column_name": "schemaname",
                                    "data_type": "name"
                                },
                                {
                                    "column_name": "label",
                                    "data_type": "text"
                                },
                                {
                                    "column_name": "provider",
                                    "data_type": "text"
                                },
                                {
                                    "column_name": "objname",
                                    "data_type": "text"
                                },
                                {
                                    "column_name": "database",
                                    "data_type": "name"
                                },
                                {
                                    "column_name": "owner",
                                    "data_type": "name"
                                },
                                {
                                    "column_name": "datname",
                                    "data_type": "name"
                                },
                                {
                                    "column_name": "requires",
                                    "data_type": "ARRAY"
                                },
                                {
                                    "column_name": "f_table_schema",
                                    "data_type": "name"
                                },
                                {
                                    "column_name": "schema",
                                    "data_type": "name"
                                },
                                {
                                    "column_name": "name",
                                    "data_type": "name"
                                },
                                {
                                    "column_name": "installed_version",
                                    "data_type": "text"
                                },
                                {
                                    "column_name": "name",
                                    "data_type": "name"
                                },
                                {
                                    "column_name": "attnames",
                                    "data_type": "ARRAY"
                                },
                                {
                                    "column_name": "tablename",
                                    "data_type": "name"
                                },
                                {
                                    "column_name": "schemaname",
                                    "data_type": "name"
                                },
                                {
                                    "column_name": "pubname",
                                    "data_type": "name"
                                },
                                {
                                    "column_name": "datname",
                                    "data_type": "name"
                                },
                                {
                                    "column_name": "statistics_owner",
                                    "data_type": "name"
                                },
                                {
                                    "column_name": "f_table_name",
                                    "data_type": "name"
                                },
                                {
                                    "column_name": "proconfig",
                                    "data_type": "ARRAY"
                                },
                                {
                                    "column_name": "statistics_name",
                                    "data_type": "name"
                                },
                                {
                                    "column_name": "statistics_schemaname",
                                    "data_type": "name"
                                },
                                {
                                    "column_name": "tablename",
                                    "data_type": "name"
                                },
                                {
                                    "column_name": "schemaname",
                                    "data_type": "name"
                                },
                                {
                                    "column_name": "dependencies",
                                    "data_type": "pg_dependencies"
                                },
                                {
                                    "column_name": "n_distinct",
                                    "data_type": "pg_ndistinct"
                                },
                                {
                                    "column_name": "attnames",
                                    "data_type": "ARRAY"
                                },
                                {
                                    "column_name": "statistics_owner",
                                    "data_type": "name"
                                },
                                {
                                    "column_name": "datname",
                                    "data_type": "name"
                                },
                                {
                                    "column_name": "statistics_name",
                                    "data_type": "name"
                                },
                                {
                                    "column_name": "statistics_schemaname",
                                    "data_type": "name"
                                },
                                {
                                    "column_name": "f_geometry_column",
                                    "data_type": "name"
                                },
                                {
                                    "column_name": "prosqlbody",
                                    "data_type": "pg_node_tree"
                                },
                                {
                                    "column_name": "tablename",
                                    "data_type": "name"
                                },
                                {
                                    "column_name": "schemaname",
                                    "data_type": "name"
                                },
                                {
                                    "column_name": "attname",
                                    "data_type": "name"
                                },
                                {
                                    "column_name": "tablename",
                                    "data_type": "name"
                                },
                                {
                                    "column_name": "schemaname",
                                    "data_type": "name"
                                },
                                {
                                    "column_name": "sequenceowner",
                                    "data_type": "name"
                                },
                                {
                                    "column_name": "sequencename",
                                    "data_type": "name"
                                },
                                {
                                    "column_name": "schemaname",
                                    "data_type": "name"
                                },
                                {
                                    "column_name": "tablespace",
                                    "data_type": "name"
                                },
                                {
                                    "column_name": "indexname",
                                    "data_type": "name"
                                },
                                {
                                    "column_name": "proargdefaults",
                                    "data_type": "pg_node_tree"
                                },
                                {
                                    "column_name": "tablename",
                                    "data_type": "name"
                                },
                                {
                                    "column_name": "schemaname",
                                    "data_type": "name"
                                },
                                {
                                    "column_name": "tablespace",
                                    "data_type": "name"
                                },
                                {
                                    "column_name": "matviewowner",
                                    "data_type": "name"
                                },
                                {
                                    "column_name": "matviewname",
                                    "data_type": "name"
                                },
                                {
                                    "column_name": "schemaname",
                                    "data_type": "name"
                                },
                                {
                                    "column_name": "datname",
                                    "data_type": "name"
                                },
                                {
                                    "column_name": "tablespace",
                                    "data_type": "name"
                                },
                                {
                                    "column_name": "proargnames",
                                    "data_type": "ARRAY"
                                },
                                {
                                    "column_name": "f_table_catalog",
                                    "data_type": "name"
                                },
                                {
                                    "column_name": "tableowner",
                                    "data_type": "name"
                                },
                                {
                                    "column_name": "tablename",
                                    "data_type": "name"
                                },
                                {
                                    "column_name": "schemaname",
                                    "data_type": "name"
                                },
                                {
                                    "column_name": "viewowner",
                                    "data_type": "name"
                                },
                                {
                                    "column_name": "viewname",
                                    "data_type": "name"
                                },
                                {
                                    "column_name": "schemaname",
                                    "data_type": "name"
                                },
                                {
                                    "column_name": "srvname",
                                    "data_type": "name"
                                },
                                {
                                    "column_name": "rulename",
                                    "data_type": "name"
                                },
                                {
                                    "column_name": "usename",
                                    "data_type": "name"
                                },
                                {
                                    "column_name": "umoptions",
                                    "data_type": "ARRAY"
                                },
                                {
                                    "column_name": "tablename",
                                    "data_type": "name"
                                },
                                {
                                    "column_name": "f_table_schema",
                                    "data_type": "name"
                                },
                                {
                                    "column_name": "schemaname",
                                    "data_type": "name"
                                },
                                {
                                    "column_name": "with_check",
                                    "data_type": "text"
                                },
                                {
                                    "column_name": "qual",
                                    "data_type": "text"
                                },
                                {
                                    "column_name": "roles",
                                    "data_type": "ARRAY"
                                },
                                {
                                    "column_name": "policyname",
                                    "data_type": "name"
                                },
                                {
                                    "column_name": "subname",
                                    "data_type": "name"
                                },
                                {
                                    "column_name": "tablename",
                                    "data_type": "name"
                                },
                                {
                                    "column_name": "schemaname",
                                    "data_type": "name"
                                },
                                {
                                    "column_name": "useconfig",
                                    "data_type": "ARRAY"
                                },
                                {
                                    "column_name": "usename",
                                    "data_type": "name"
                                },
                                {
                                    "column_name": "groname",
                                    "data_type": "name"
                                },
                                {
                                    "column_name": "useconfig",
                                    "data_type": "ARRAY"
                                },
                                {
                                    "column_name": "passwd",
                                    "data_type": "text"
                                },
                                {
                                    "column_name": "usename",
                                    "data_type": "name"
                                },
                                {
                                    "column_name": "subslotname",
                                    "data_type": "name"
                                },
                                {
                                    "column_name": "subsynccommit",
                                    "data_type": "text"
                                },
                                {
                                    "column_name": "subpublications",
                                    "data_type": "ARRAY"
                                },
                                {
                                    "column_name": "suborigin",
                                    "data_type": "text"
                                },
                                {
                                    "column_name": "rolconfig",
                                    "data_type": "ARRAY"
                                },
                                {
                                    "column_name": "subname",
                                    "data_type": "name"
                                },
                                {
                                    "column_name": "rolname",
                                    "data_type": "name"
                                },
                                {
                                    "column_name": "subconninfo",
                                    "data_type": "text"
                                },
                                {
                                    "column_name": "prqual",
                                    "data_type": "pg_node_tree"
                                },
                                {
                                    "column_name": "catalog_name",
                                    "data_type": "name"
                                },
                                {
                                    "column_name": "grantee",
                                    "data_type": "name"
                                },
                                {
                                    "column_name": "role_name",
                                    "data_type": "name"
                                },
                                {
                                    "column_name": "is_grantable",
                                    "data_type": "character varying"
                                },
                                {
                                    "column_name": "grantee",
                                    "data_type": "name"
                                },
                                {
                                    "column_name": "role_name",
                                    "data_type": "name"
                                },
                                {
                                    "column_name": "is_grantable",
                                    "data_type": "character varying"
                                },
                                {
                                    "column_name": "udt_catalog",
                                    "data_type": "name"
                                },
                                {
                                    "column_name": "udt_schema",
                                    "data_type": "name"
                                },
                                {
                                    "column_name": "udt_name",
                                    "data_type": "name"
                                },
                                {
                                    "column_name": "attribute_name",
                                    "data_type": "name"
                                },
                                {
                                    "column_name": "pubname",
                                    "data_type": "name"
                                },
                                {
                                    "column_name": "attribute_default",
                                    "data_type": "character varying"
                                },
                                {
                                    "column_name": "is_nullable",
                                    "data_type": "character varying"
                                },
                                {
                                    "column_name": "data_type",
                                    "data_type": "character varying"
                                },
                                {
                                    "column_name": "partexprs",
                                    "data_type": "pg_node_tree"
                                },
                                {
                                    "column_name": "parname",
                                    "data_type": "text"
                                },
                                {
                                    "column_name": "character_set_catalog",
                                    "data_type": "name"
                                },
                                {
                                    "column_name": "character_set_schema",
                                    "data_type": "name"
                                },
                                {
                                    "column_name": "character_set_name",
                                    "data_type": "name"
                                },
                                {
                                    "column_name": "collation_catalog",
                                    "data_type": "name"
                                },
                                {
                                    "column_name": "collation_schema",
                                    "data_type": "name"
                                },
                                {
                                    "column_name": "collation_name",
                                    "data_type": "name"
                                },
                                {
                                    "column_name": "collversion",
                                    "data_type": "text"
                                },
                                {
                                    "column_name": "collicurules",
                                    "data_type": "text"
                                },
                                {
                                    "column_name": "colliculocale",
                                    "data_type": "text"
                                },
                                {
                                    "column_name": "collctype",
                                    "data_type": "text"
                                },
                                {
                                    "column_name": "interval_type",
                                    "data_type": "character varying"
                                },
                                {
                                    "column_name": "collcollate",
                                    "data_type": "text"
                                },
                                {
                                    "column_name": "attribute_udt_catalog",
                                    "data_type": "name"
                                },
                                {
                                    "column_name": "attribute_udt_schema",
                                    "data_type": "name"
                                },
                                {
                                    "column_name": "attribute_udt_name",
                                    "data_type": "name"
                                },
                                {
                                    "column_name": "scope_catalog",
                                    "data_type": "name"
                                },
                                {
                                    "column_name": "scope_schema",
                                    "data_type": "name"
                                },
                                {
                                    "column_name": "scope_name",
                                    "data_type": "name"
                                },
                                {
                                    "column_name": "collname",
                                    "data_type": "name"
                                },
                                {
                                    "column_name": "dtd_identifier",
                                    "data_type": "name"
                                },
                                {
                                    "column_name": "is_derived_reference_attribute",
                                    "data_type": "character varying"
                                },
                                {
                                    "column_name": "character_set_catalog",
                                    "data_type": "name"
                                },
                                {
                                    "column_name": "character_set_schema",
                                    "data_type": "name"
                                },
                                {
                                    "column_name": "character_set_name",
                                    "data_type": "name"
                                },
                                {
                                    "column_name": "character_repertoire",
                                    "data_type": "name"
                                },
                                {
                                    "column_name": "form_of_use",
                                    "data_type": "name"
                                },
                                {
                                    "column_name": "default_collate_catalog",
                                    "data_type": "name"
                                },
                                {
                                    "column_name": "default_collate_schema",
                                    "data_type": "name"
                                },
                                {
                                    "column_name": "default_collate_name",
                                    "data_type": "name"
                                },
                                {
                                    "column_name": "constraint_catalog",
                                    "data_type": "name"
                                },
                                {
                                    "column_name": "constraint_schema",
                                    "data_type": "name"
                                },
                                {
                                    "column_name": "constraint_name",
                                    "data_type": "name"
                                },
                                {
                                    "column_name": "specific_catalog",
                                    "data_type": "name"
                                },
                                {
                                    "column_name": "specific_schema",
                                    "data_type": "name"
                                },
                                {
                                    "column_name": "specific_name",
                                    "data_type": "name"
                                },
                                {
                                    "column_name": "constraint_catalog",
                                    "data_type": "name"
                                },
                                {
                                    "column_name": "constraint_schema",
                                    "data_type": "name"
                                },
                                {
                                    "column_name": "constraint_name",
                                    "data_type": "name"
                                },
                                {
                                    "column_name": "check_clause",
                                    "data_type": "character varying"
                                },
                                {
                                    "column_name": "collation_catalog",
                                    "data_type": "name"
                                },
                                {
                                    "column_name": "collation_schema",
                                    "data_type": "name"
                                },
                                {
                                    "column_name": "collation_name",
                                    "data_type": "name"
                                },
                                {
                                    "column_name": "pad_attribute",
                                    "data_type": "character varying"
                                },
                                {
                                    "column_name": "collation_catalog",
                                    "data_type": "name"
                                },
                                {
                                    "column_name": "collation_schema",
                                    "data_type": "name"
                                },
                                {
                                    "column_name": "collation_name",
                                    "data_type": "name"
                                },
                                {
                                    "column_name": "character_set_catalog",
                                    "data_type": "name"
                                },
                                {
                                    "column_name": "character_set_schema",
                                    "data_type": "name"
                                },
                                {
                                    "column_name": "character_set_name",
                                    "data_type": "name"
                                },
                                {
                                    "column_name": "table_catalog",
                                    "data_type": "name"
                                },
                                {
                                    "column_name": "table_schema",
                                    "data_type": "name"
                                },
                                {
                                    "column_name": "table_name",
                                    "data_type": "name"
                                },
                                {
                                    "column_name": "column_name",
                                    "data_type": "name"
                                },
                                {
                                    "column_name": "dependent_column",
                                    "data_type": "name"
                                },
                                {
                                    "column_name": "domain_catalog",
                                    "data_type": "name"
                                },
                                {
                                    "column_name": "domain_schema",
                                    "data_type": "name"
                                },
                                {
                                    "column_name": "domain_name",
                                    "data_type": "name"
                                },
                                {
                                    "column_name": "table_catalog",
                                    "data_type": "name"
                                },
                                {
                                    "column_name": "table_schema",
                                    "data_type": "name"
                                },
                                {
                                    "column_name": "table_name",
                                    "data_type": "name"
                                },
                                {
                                    "column_name": "column_name",
                                    "data_type": "name"
                                },
                                {
                                    "column_name": "grantor",
                                    "data_type": "name"
                                },
                                {
                                    "column_name": "grantee",
                                    "data_type": "name"
                                },
                                {
                                    "column_name": "table_catalog",
                                    "data_type": "name"
                                },
                                {
                                    "column_name": "table_schema",
                                    "data_type": "name"
                                },
                                {
                                    "column_name": "table_name",
                                    "data_type": "name"
                                },
                                {
                                    "column_name": "column_name",
                                    "data_type": "name"
                                },
                                {
                                    "column_name": "privilege_type",
                                    "data_type": "character varying"
                                },
                                {
                                    "column_name": "is_grantable",
                                    "data_type": "character varying"
                                },
                                {
                                    "column_name": "udt_catalog",
                                    "data_type": "name"
                                },
                                {
                                    "column_name": "udt_schema",
                                    "data_type": "name"
                                },
                                {
                                    "column_name": "udt_name",
                                    "data_type": "name"
                                },
                                {
                                    "column_name": "table_catalog",
                                    "data_type": "name"
                                },
                                {
                                    "column_name": "table_schema",
                                    "data_type": "name"
                                },
                                {
                                    "column_name": "table_name",
                                    "data_type": "name"
                                },
                                {
                                    "column_name": "column_name",
                                    "data_type": "name"
                                },
                                {
                                    "column_name": "table_catalog",
                                    "data_type": "name"
                                },
                                {
                                    "column_name": "table_schema",
                                    "data_type": "name"
                                },
                                {
                                    "column_name": "table_name",
                                    "data_type": "name"
                                },
                                {
                                    "column_name": "column_name",
                                    "data_type": "name"
                                },
                                {
                                    "column_name": "label",
                                    "data_type": "text"
                                },
                                {
                                    "column_name": "column_default",
                                    "data_type": "character varying"
                                },
                                {
                                    "column_name": "is_nullable",
                                    "data_type": "character varying"
                                },
                                {
                                    "column_name": "data_type",
                                    "data_type": "character varying"
                                },
                                {
                                    "column_name": "provider",
                                    "data_type": "text"
                                },
                                {
                                    "column_name": "label",
                                    "data_type": "text"
                                },
                                {
                                    "column_name": "provider",
                                    "data_type": "text"
                                },
                                {
                                    "column_name": "roname",
                                    "data_type": "text"
                                },
                                {
                                    "column_name": "polwithcheck",
                                    "data_type": "pg_node_tree"
                                },
                                {
                                    "column_name": "polqual",
                                    "data_type": "pg_node_tree"
                                },
                                {
                                    "column_name": "interval_type",
                                    "data_type": "character varying"
                                },
                                {
                                    "column_name": "polname",
                                    "data_type": "name"
                                },
                                {
                                    "column_name": "character_set_catalog",
                                    "data_type": "name"
                                },
                                {
                                    "column_name": "character_set_schema",
                                    "data_type": "name"
                                },
                                {
                                    "column_name": "character_set_name",
                                    "data_type": "name"
                                },
                                {
                                    "column_name": "collation_catalog",
                                    "data_type": "name"
                                },
                                {
                                    "column_name": "collation_schema",
                                    "data_type": "name"
                                },
                                {
                                    "column_name": "collation_name",
                                    "data_type": "name"
                                },
                                {
                                    "column_name": "domain_catalog",
                                    "data_type": "name"
                                },
                                {
                                    "column_name": "domain_schema",
                                    "data_type": "name"
                                },
                                {
                                    "column_name": "domain_name",
                                    "data_type": "name"
                                },
                                {
                                    "column_name": "udt_catalog",
                                    "data_type": "name"
                                },
                                {
                                    "column_name": "udt_schema",
                                    "data_type": "name"
                                },
                                {
                                    "column_name": "udt_name",
                                    "data_type": "name"
                                },
                                {
                                    "column_name": "scope_catalog",
                                    "data_type": "name"
                                },
                                {
                                    "column_name": "scope_schema",
                                    "data_type": "name"
                                },
                                {
                                    "column_name": "scope_name",
                                    "data_type": "name"
                                },
                                {
                                    "column_name": "ftoptions",
                                    "data_type": "ARRAY"
                                },
                                {
                                    "column_name": "dtd_identifier",
                                    "data_type": "name"
                                },
                                {
                                    "column_name": "is_self_referencing",
                                    "data_type": "character varying"
                                },
                                {
                                    "column_name": "is_identity",
                                    "data_type": "character varying"
                                },
                                {
                                    "column_name": "identity_generation",
                                    "data_type": "character varying"
                                },
                                {
                                    "column_name": "identity_start",
                                    "data_type": "character varying"
                                },
                                {
                                    "column_name": "identity_increment",
                                    "data_type": "character varying"
                                },
                                {
                                    "column_name": "identity_maximum",
                                    "data_type": "character varying"
                                },
                                {
                                    "column_name": "identity_minimum",
                                    "data_type": "character varying"
                                },
                                {
                                    "column_name": "identity_cycle",
                                    "data_type": "character varying"
                                },
                                {
                                    "column_name": "is_generated",
                                    "data_type": "character varying"
                                },
                                {
                                    "column_name": "generation_expression",
                                    "data_type": "character varying"
                                },
                                {
                                    "column_name": "is_updatable",
                                    "data_type": "character varying"
                                },
                                {
                                    "column_name": "table_catalog",
                                    "data_type": "name"
                                },
                                {
                                    "column_name": "table_schema",
                                    "data_type": "name"
                                },
                                {
                                    "column_name": "table_name",
                                    "data_type": "name"
                                },
                                {
                                    "column_name": "column_name",
                                    "data_type": "name"
                                },
                                {
                                    "column_name": "constraint_catalog",
                                    "data_type": "name"
                                },
                                {
                                    "column_name": "constraint_schema",
                                    "data_type": "name"
                                },
                                {
                                    "column_name": "constraint_name",
                                    "data_type": "name"
                                },
                                {
                                    "column_name": "table_catalog",
                                    "data_type": "name"
                                },
                                {
                                    "column_name": "table_schema",
                                    "data_type": "name"
                                },
                                {
                                    "column_name": "table_name",
                                    "data_type": "name"
                                },
                                {
                                    "column_name": "constraint_catalog",
                                    "data_type": "name"
                                },
                                {
                                    "column_name": "constraint_schema",
                                    "data_type": "name"
                                },
                                {
                                    "column_name": "constraint_name",
                                    "data_type": "name"
                                },
                                {
                                    "column_name": "constraint_catalog",
                                    "data_type": "name"
                                },
                                {
                                    "column_name": "constraint_schema",
                                    "data_type": "name"
                                },
                                {
                                    "column_name": "constraint_name",
                                    "data_type": "name"
                                },
                                {
                                    "column_name": "domain_catalog",
                                    "data_type": "name"
                                },
                                {
                                    "column_name": "domain_schema",
                                    "data_type": "name"
                                },
                                {
                                    "column_name": "domain_name",
                                    "data_type": "name"
                                },
                                {
                                    "column_name": "is_deferrable",
                                    "data_type": "character varying"
                                },
                                {
                                    "column_name": "initially_deferred",
                                    "data_type": "character varying"
                                },
                                {
                                    "column_name": "udt_catalog",
                                    "data_type": "name"
                                },
                                {
                                    "column_name": "udt_schema",
                                    "data_type": "name"
                                },
                                {
                                    "column_name": "udt_name",
                                    "data_type": "name"
                                },
                                {
                                    "column_name": "domain_catalog",
                                    "data_type": "name"
                                },
                                {
                                    "column_name": "domain_schema",
                                    "data_type": "name"
                                },
                                {
                                    "column_name": "domain_name",
                                    "data_type": "name"
                                },
                                {
                                    "column_name": "domain_catalog",
                                    "data_type": "name"
                                },
                                {
                                    "column_name": "domain_schema",
                                    "data_type": "name"
                                },
                                {
                                    "column_name": "domain_name",
                                    "data_type": "name"
                                },
                                {
                                    "column_name": "data_type",
                                    "data_type": "character varying"
                                },
                                {
                                    "column_name": "umoptions",
                                    "data_type": "ARRAY"
                                },
                                {
                                    "column_name": "srvoptions",
                                    "data_type": "ARRAY"
                                },
                                {
                                    "column_name": "character_set_catalog",
                                    "data_type": "name"
                                },
                                {
                                    "column_name": "character_set_schema",
                                    "data_type": "name"
                                },
                                {
                                    "column_name": "character_set_name",
                                    "data_type": "name"
                                },
                                {
                                    "column_name": "collation_catalog",
                                    "data_type": "name"
                                },
                                {
                                    "column_name": "collation_schema",
                                    "data_type": "name"
                                },
                                {
                                    "column_name": "collation_name",
                                    "data_type": "name"
                                },
                                {
                                    "column_name": "srvversion",
                                    "data_type": "text"
                                },
                                {
                                    "column_name": "srvtype",
                                    "data_type": "text"
                                },
                                {
                                    "column_name": "srvname",
                                    "data_type": "name"
                                },
                                {
                                    "column_name": "fdwoptions",
                                    "data_type": "ARRAY"
                                },
                                {
                                    "column_name": "interval_type",
                                    "data_type": "character varying"
                                },
                                {
                                    "column_name": "fdwname",
                                    "data_type": "name"
                                },
                                {
                                    "column_name": "domain_default",
                                    "data_type": "character varying"
                                },
                                {
                                    "column_name": "udt_catalog",
                                    "data_type": "name"
                                },
                                {
                                    "column_name": "udt_schema",
                                    "data_type": "name"
                                },
                                {
                                    "column_name": "udt_name",
                                    "data_type": "name"
                                },
                                {
                                    "column_name": "scope_catalog",
                                    "data_type": "name"
                                },
                                {
                                    "column_name": "scope_schema",
                                    "data_type": "name"
                                },
                                {
                                    "column_name": "scope_name",
                                    "data_type": "name"
                                },
                                {
                                    "column_name": "extcondition",
                                    "data_type": "ARRAY"
                                },
                                {
                                    "column_name": "dtd_identifier",
                                    "data_type": "name"
                                },
                                {
                                    "column_name": "role_name",
                                    "data_type": "name"
                                },
                                {
                                    "column_name": "constraint_catalog",
                                    "data_type": "name"
                                },
                                {
                                    "column_name": "constraint_schema",
                                    "data_type": "name"
                                },
                                {
                                    "column_name": "constraint_name",
                                    "data_type": "name"
                                },
                                {
                                    "column_name": "table_catalog",
                                    "data_type": "name"
                                },
                                {
                                    "column_name": "table_schema",
                                    "data_type": "name"
                                },
                                {
                                    "column_name": "table_name",
                                    "data_type": "name"
                                },
                                {
                                    "column_name": "column_name",
                                    "data_type": "name"
                                },
                                {
                                    "column_name": "extversion",
                                    "data_type": "text"
                                },
                                {
                                    "column_name": "extname",
                                    "data_type": "name"
                                },
                                {
                                    "column_name": "specific_catalog",
                                    "data_type": "name"
                                },
                                {
                                    "column_name": "specific_schema",
                                    "data_type": "name"
                                },
                                {
                                    "column_name": "specific_name",
                                    "data_type": "name"
                                },
                                {
                                    "column_name": "tmplname",
                                    "data_type": "name"
                                },
                                {
                                    "column_name": "parameter_mode",
                                    "data_type": "character varying"
                                },
                                {
                                    "column_name": "is_result",
                                    "data_type": "character varying"
                                },
                                {
                                    "column_name": "as_locator",
                                    "data_type": "character varying"
                                },
                                {
                                    "column_name": "parameter_name",
                                    "data_type": "name"
                                },
                                {
                                    "column_name": "data_type",
                                    "data_type": "character varying"
                                },
                                {
                                    "column_name": "prsname",
                                    "data_type": "name"
                                },
                                {
                                    "column_name": "dictinitoption",
                                    "data_type": "text"
                                },
                                {
                                    "column_name": "character_set_catalog",
                                    "data_type": "name"
                                },
                                {
                                    "column_name": "character_set_schema",
                                    "data_type": "name"
                                },
                                {
                                    "column_name": "character_set_name",
                                    "data_type": "name"
                                },
                                {
                                    "column_name": "collation_catalog",
                                    "data_type": "name"
                                },
                                {
                                    "column_name": "collation_schema",
                                    "data_type": "name"
                                },
                                {
                                    "column_name": "collation_name",
                                    "data_type": "name"
                                },
                                {
                                    "column_name": "dictname",
                                    "data_type": "name"
                                },
                                {
                                    "column_name": "cfgname",
                                    "data_type": "name"
                                },
                                {
                                    "column_name": "description",
                                    "data_type": "text"
                                },
                                {
                                    "column_name": "rolpassword",
                                    "data_type": "text"
                                },
                                {
                                    "column_name": "interval_type",
                                    "data_type": "character varying"
                                },
                                {
                                    "column_name": "rolname",
                                    "data_type": "name"
                                },
                                {
                                    "column_name": "udt_catalog",
                                    "data_type": "name"
                                },
                                {
                                    "column_name": "udt_schema",
                                    "data_type": "name"
                                },
                                {
                                    "column_name": "udt_name",
                                    "data_type": "name"
                                },
                                {
                                    "column_name": "scope_catalog",
                                    "data_type": "name"
                                },
                                {
                                    "column_name": "scope_schema",
                                    "data_type": "name"
                                },
                                {
                                    "column_name": "scope_name",
                                    "data_type": "name"
                                },
                                {
                                    "column_name": "spcoptions",
                                    "data_type": "ARRAY"
                                },
                                {
                                    "column_name": "dtd_identifier",
                                    "data_type": "name"
                                },
                                {
                                    "column_name": "parameter_default",
                                    "data_type": "character varying"
                                },
                                {
                                    "column_name": "constraint_catalog",
                                    "data_type": "name"
                                },
                                {
                                    "column_name": "constraint_schema",
                                    "data_type": "name"
                                },
                                {
                                    "column_name": "constraint_name",
                                    "data_type": "name"
                                },
                                {
                                    "column_name": "unique_constraint_catalog",
                                    "data_type": "name"
                                },
                                {
                                    "column_name": "unique_constraint_schema",
                                    "data_type": "name"
                                },
                                {
                                    "column_name": "unique_constraint_name",
                                    "data_type": "name"
                                },
                                {
                                    "column_name": "match_option",
                                    "data_type": "character varying"
                                },
                                {
                                    "column_name": "update_rule",
                                    "data_type": "character varying"
                                },
                                {
                                    "column_name": "delete_rule",
                                    "data_type": "character varying"
                                },
                                {
                                    "column_name": "grantor",
                                    "data_type": "name"
                                },
                                {
                                    "column_name": "grantee",
                                    "data_type": "name"
                                },
                                {
                                    "column_name": "table_catalog",
                                    "data_type": "name"
                                },
                                {
                                    "column_name": "table_schema",
                                    "data_type": "name"
                                },
                                {
                                    "column_name": "table_name",
                                    "data_type": "name"
                                },
                                {
                                    "column_name": "column_name",
                                    "data_type": "name"
                                },
                                {
                                    "column_name": "privilege_type",
                                    "data_type": "character varying"
                                },
                                {
                                    "column_name": "is_grantable",
                                    "data_type": "character varying"
                                },
                                {
                                    "column_name": "specific_catalog",
                                    "data_type": "name"
                                },
                                {
                                    "column_name": "specific_schema",
                                    "data_type": "name"
                                },
                                {
                                    "column_name": "specific_name",
                                    "data_type": "name"
                                },
                                {
                                    "column_name": "routine_catalog",
                                    "data_type": "name"
                                },
                                {
                                    "column_name": "routine_schema",
                                    "data_type": "name"
                                },
                                {
                                    "column_name": "routine_name",
                                    "data_type": "name"
                                },
                                {
                                    "column_name": "table_catalog",
                                    "data_type": "name"
                                },
                                {
                                    "column_name": "table_schema",
                                    "data_type": "name"
                                },
                                {
                                    "column_name": "table_name",
                                    "data_type": "name"
                                },
                                {
                                    "column_name": "column_name",
                                    "data_type": "name"
                                },
                                {
                                    "column_name": "grantor",
                                    "data_type": "name"
                                },
                                {
                                    "column_name": "grantee",
                                    "data_type": "name"
                                },
                                {
                                    "column_name": "specific_catalog",
                                    "data_type": "name"
                                },
                                {
                                    "column_name": "specific_schema",
                                    "data_type": "name"
                                },
                                {
                                    "column_name": "specific_name",
                                    "data_type": "name"
                                },
                                {
                                    "column_name": "routine_catalog",
                                    "data_type": "name"
                                },
                                {
                                    "column_name": "routine_schema",
                                    "data_type": "name"
                                },
                                {
                                    "column_name": "routine_name",
                                    "data_type": "name"
                                },
                                {
                                    "column_name": "privilege_type",
                                    "data_type": "character varying"
                                },
                                {
                                    "column_name": "is_grantable",
                                    "data_type": "character varying"
                                },
                                {
                                    "column_name": "grantor",
                                    "data_type": "name"
                                },
                                {
                                    "column_name": "grantee",
                                    "data_type": "name"
                                },
                                {
                                    "column_name": "specific_catalog",
                                    "data_type": "name"
                                },
                                {
                                    "column_name": "specific_schema",
                                    "data_type": "name"
                                },
                                {
                                    "column_name": "specific_name",
                                    "data_type": "name"
                                },
                                {
                                    "column_name": "routine_catalog",
                                    "data_type": "name"
                                },
                                {
                                    "column_name": "routine_schema",
                                    "data_type": "name"
                                },
                                {
                                    "column_name": "routine_name",
                                    "data_type": "name"
                                },
                                {
                                    "column_name": "privilege_type",
                                    "data_type": "character varying"
                                },
                                {
                                    "column_name": "is_grantable",
                                    "data_type": "character varying"
                                },
                                {
                                    "column_name": "specific_catalog",
                                    "data_type": "name"
                                },
                                {
                                    "column_name": "specific_schema",
                                    "data_type": "name"
                                },
                                {
                                    "column_name": "specific_name",
                                    "data_type": "name"
                                },
                                {
                                    "column_name": "routine_catalog",
                                    "data_type": "name"
                                },
                                {
                                    "column_name": "routine_schema",
                                    "data_type": "name"
                                },
                                {
                                    "column_name": "routine_name",
                                    "data_type": "name"
                                },
                                {
                                    "column_name": "specific_catalog",
                                    "data_type": "name"
                                },
                                {
                                    "column_name": "specific_schema",
                                    "data_type": "name"
                                },
                                {
                                    "column_name": "specific_name",
                                    "data_type": "name"
                                },
                                {
                                    "column_name": "routine_catalog",
                                    "data_type": "name"
                                },
                                {
                                    "column_name": "routine_schema",
                                    "data_type": "name"
                                },
                                {
                                    "column_name": "routine_name",
                                    "data_type": "name"
                                },
                                {
                                    "column_name": "sequence_catalog",
                                    "data_type": "name"
                                },
                                {
                                    "column_name": "sequence_schema",
                                    "data_type": "name"
                                },
                                {
                                    "column_name": "sequence_name",
                                    "data_type": "name"
                                },
                                {
                                    "column_name": "specific_catalog",
                                    "data_type": "name"
                                },
                                {
                                    "column_name": "specific_schema",
                                    "data_type": "name"
                                },
                                {
                                    "column_name": "specific_name",
                                    "data_type": "name"
                                },
                                {
                                    "column_name": "routine_catalog",
                                    "data_type": "name"
                                },
                                {
                                    "column_name": "routine_schema",
                                    "data_type": "name"
                                },
                                {
                                    "column_name": "routine_name",
                                    "data_type": "name"
                                },
                                {
                                    "column_name": "table_catalog",
                                    "data_type": "name"
                                },
                                {
                                    "column_name": "table_schema",
                                    "data_type": "name"
                                },
                                {
                                    "column_name": "table_name",
                                    "data_type": "name"
                                },
                                {
                                    "column_name": "specific_catalog",
                                    "data_type": "name"
                                },
                                {
                                    "column_name": "specific_schema",
                                    "data_type": "name"
                                },
                                {
                                    "column_name": "specific_name",
                                    "data_type": "name"
                                },
                                {
                                    "column_name": "routine_catalog",
                                    "data_type": "name"
                                },
                                {
                                    "column_name": "routine_schema",
                                    "data_type": "name"
                                },
                                {
                                    "column_name": "routine_name",
                                    "data_type": "name"
                                },
                                {
                                    "column_name": "routine_type",
                                    "data_type": "character varying"
                                },
                                {
                                    "column_name": "module_catalog",
                                    "data_type": "name"
                                },
                                {
                                    "column_name": "module_schema",
                                    "data_type": "name"
                                },
                                {
                                    "column_name": "module_name",
                                    "data_type": "name"
                                },
                                {
                                    "column_name": "udt_catalog",
                                    "data_type": "name"
                                },
                                {
                                    "column_name": "udt_schema",
                                    "data_type": "name"
                                },
                                {
                                    "column_name": "udt_name",
                                    "data_type": "name"
                                },
                                {
                                    "column_name": "data_type",
                                    "data_type": "character varying"
                                },
                                {
                                    "column_name": "spcname",
                                    "data_type": "name"
                                },
                                {
                                    "column_name": "setconfig",
                                    "data_type": "ARRAY"
                                },
                                {
                                    "column_name": "character_set_catalog",
                                    "data_type": "name"
                                },
                                {
                                    "column_name": "character_set_schema",
                                    "data_type": "name"
                                },
                                {
                                    "column_name": "character_set_name",
                                    "data_type": "name"
                                },
                                {
                                    "column_name": "collation_catalog",
                                    "data_type": "name"
                                },
                                {
                                    "column_name": "collation_schema",
                                    "data_type": "name"
                                },
                                {
                                    "column_name": "collation_name",
                                    "data_type": "name"
                                },
                                {
                                    "column_name": "datcollversion",
                                    "data_type": "text"
                                },
                                {
                                    "column_name": "daticurules",
                                    "data_type": "text"
                                },
                                {
                                    "column_name": "daticulocale",
                                    "data_type": "text"
                                },
                                {
                                    "column_name": "datctype",
                                    "data_type": "text"
                                },
                                {
                                    "column_name": "interval_type",
                                    "data_type": "character varying"
                                },
                                {
                                    "column_name": "datcollate",
                                    "data_type": "text"
                                },
                                {
                                    "column_name": "type_udt_catalog",
                                    "data_type": "name"
                                },
                                {
                                    "column_name": "type_udt_schema",
                                    "data_type": "name"
                                },
                                {
                                    "column_name": "type_udt_name",
                                    "data_type": "name"
                                },
                                {
                                    "column_name": "scope_catalog",
                                    "data_type": "name"
                                },
                                {
                                    "column_name": "scope_schema",
                                    "data_type": "name"
                                },
                                {
                                    "column_name": "scope_name",
                                    "data_type": "name"
                                },
                                {
                                    "column_name": "datname",
                                    "data_type": "name"
                                },
                                {
                                    "column_name": "dtd_identifier",
                                    "data_type": "name"
                                },
                                {
                                    "column_name": "routine_body",
                                    "data_type": "character varying"
                                },
                                {
                                    "column_name": "routine_definition",
                                    "data_type": "character varying"
                                },
                                {
                                    "column_name": "external_name",
                                    "data_type": "character varying"
                                },
                                {
                                    "column_name": "external_language",
                                    "data_type": "character varying"
                                },
                                {
                                    "column_name": "parameter_style",
                                    "data_type": "character varying"
                                },
                                {
                                    "column_name": "is_deterministic",
                                    "data_type": "character varying"
                                },
                                {
                                    "column_name": "sql_data_access",
                                    "data_type": "character varying"
                                },
                                {
                                    "column_name": "is_null_call",
                                    "data_type": "character varying"
                                },
                                {
                                    "column_name": "sql_path",
                                    "data_type": "character varying"
                                },
                                {
                                    "column_name": "schema_level_routine",
                                    "data_type": "character varying"
                                },
                                {
                                    "column_name": "conname",
                                    "data_type": "name"
                                },
                                {
                                    "column_name": "is_user_defined_cast",
                                    "data_type": "character varying"
                                },
                                {
                                    "column_name": "is_implicitly_invocable",
                                    "data_type": "character varying"
                                },
                                {
                                    "column_name": "security_type",
                                    "data_type": "character varying"
                                },
                                {
                                    "column_name": "to_sql_specific_catalog",
                                    "data_type": "name"
                                },
                                {
                                    "column_name": "to_sql_specific_schema",
                                    "data_type": "name"
                                },
                                {
                                    "column_name": "to_sql_specific_name",
                                    "data_type": "name"
                                },
                                {
                                    "column_name": "as_locator",
                                    "data_type": "character varying"
                                },
                                {
                                    "column_name": "nspname",
                                    "data_type": "name"
                                },
                                {
                                    "column_name": "enumlabel",
                                    "data_type": "name"
                                },
                                {
                                    "column_name": "new_savepoint_level",
                                    "data_type": "character varying"
                                },
                                {
                                    "column_name": "is_udt_dependent",
                                    "data_type": "character varying"
                                },
                                {
                                    "column_name": "result_cast_from_data_type",
                                    "data_type": "character varying"
                                },
                                {
                                    "column_name": "result_cast_as_locator",
                                    "data_type": "character varying"
                                },
                                {
                                    "column_name": "description",
                                    "data_type": "text"
                                },
                                {
                                    "column_name": "evttags",
                                    "data_type": "ARRAY"
                                },
                                {
                                    "column_name": "result_cast_char_set_catalog",
                                    "data_type": "name"
                                },
                                {
                                    "column_name": "result_cast_char_set_schema",
                                    "data_type": "name"
                                },
                                {
                                    "column_name": "result_cast_char_set_name",
                                    "data_type": "name"
                                },
                                {
                                    "column_name": "result_cast_collation_catalog",
                                    "data_type": "name"
                                },
                                {
                                    "column_name": "result_cast_collation_schema",
                                    "data_type": "name"
                                },
                                {
                                    "column_name": "result_cast_collation_name",
                                    "data_type": "name"
                                },
                                {
                                    "column_name": "evtevent",
                                    "data_type": "name"
                                },
                                {
                                    "column_name": "evtname",
                                    "data_type": "name"
                                },
                                {
                                    "column_name": "tgnewtable",
                                    "data_type": "name"
                                },
                                {
                                    "column_name": "tgoldtable",
                                    "data_type": "name"
                                },
                                {
                                    "column_name": "result_cast_interval_type",
                                    "data_type": "character varying"
                                },
                                {
                                    "column_name": "tgqual",
                                    "data_type": "pg_node_tree"
                                },
                                {
                                    "column_name": "result_cast_type_udt_catalog",
                                    "data_type": "name"
                                },
                                {
                                    "column_name": "result_cast_type_udt_schema",
                                    "data_type": "name"
                                },
                                {
                                    "column_name": "result_cast_type_udt_name",
                                    "data_type": "name"
                                },
                                {
                                    "column_name": "result_cast_scope_catalog",
                                    "data_type": "name"
                                },
                                {
                                    "column_name": "result_cast_scope_schema",
                                    "data_type": "name"
                                },
                                {
                                    "column_name": "result_cast_scope_name",
                                    "data_type": "name"
                                },
                                {
                                    "column_name": "tgname",
                                    "data_type": "name"
                                },
                                {
                                    "column_name": "result_cast_dtd_identifier",
                                    "data_type": "name"
                                },
                                {
                                    "column_name": "catalog_name",
                                    "data_type": "name"
                                },
                                {
                                    "column_name": "schema_name",
                                    "data_type": "name"
                                },
                                {
                                    "column_name": "schema_owner",
                                    "data_type": "name"
                                },
                                {
                                    "column_name": "default_character_set_catalog",
                                    "data_type": "name"
                                },
                                {
                                    "column_name": "default_character_set_schema",
                                    "data_type": "name"
                                },
                                {
                                    "column_name": "default_character_set_name",
                                    "data_type": "name"
                                },
                                {
                                    "column_name": "sql_path",
                                    "data_type": "character varying"
                                },
                                {
                                    "column_name": "sequence_catalog",
                                    "data_type": "name"
                                },
                                {
                                    "column_name": "sequence_schema",
                                    "data_type": "name"
                                },
                                {
                                    "column_name": "sequence_name",
                                    "data_type": "name"
                                },
                                {
                                    "column_name": "data_type",
                                    "data_type": "character varying"
                                },
                                {
                                    "column_name": "ev_action",
                                    "data_type": "pg_node_tree"
                                },
                                {
                                    "column_name": "ev_qual",
                                    "data_type": "pg_node_tree"
                                },
                                {
                                    "column_name": "rulename",
                                    "data_type": "name"
                                },
                                {
                                    "column_name": "start_value",
                                    "data_type": "character varying"
                                },
                                {
                                    "column_name": "minimum_value",
                                    "data_type": "character varying"
                                },
                                {
                                    "column_name": "maximum_value",
                                    "data_type": "character varying"
                                },
                                {
                                    "column_name": "increment",
                                    "data_type": "character varying"
                                },
                                {
                                    "column_name": "cycle_option",
                                    "data_type": "character varying"
                                },
                                {
                                    "column_name": "feature_id",
                                    "data_type": "character varying"
                                },
                                {
                                    "column_name": "feature_name",
                                    "data_type": "character varying"
                                },
                                {
                                    "column_name": "sub_feature_id",
                                    "data_type": "character varying"
                                },
                                {
                                    "column_name": "sub_feature_name",
                                    "data_type": "character varying"
                                },
                                {
                                    "column_name": "is_supported",
                                    "data_type": "character varying"
                                },
                                {
                                    "column_name": "is_verified_by",
                                    "data_type": "character varying"
                                },
                                {
                                    "column_name": "comments",
                                    "data_type": "character varying"
                                },
                                {
                                    "column_name": "implementation_info_id",
                                    "data_type": "character varying"
                                },
                                {
                                    "column_name": "implementation_info_name",
                                    "data_type": "character varying"
                                },
                                {
                                    "column_name": "stxdmcv",
                                    "data_type": "pg_mcv_list"
                                },
                                {
                                    "column_name": "character_value",
                                    "data_type": "character varying"
                                },
                                {
                                    "column_name": "comments",
                                    "data_type": "character varying"
                                },
                                {
                                    "column_name": "feature_id",
                                    "data_type": "character varying"
                                },
                                {
                                    "column_name": "feature_name",
                                    "data_type": "character varying"
                                },
                                {
                                    "column_name": "is_supported",
                                    "data_type": "character varying"
                                },
                                {
                                    "column_name": "is_verified_by",
                                    "data_type": "character varying"
                                },
                                {
                                    "column_name": "comments",
                                    "data_type": "character varying"
                                },
                                {
                                    "column_name": "stxddependencies",
                                    "data_type": "pg_dependencies"
                                },
                                {
                                    "column_name": "sizing_name",
                                    "data_type": "character varying"
                                },
                                {
                                    "column_name": "stxdndistinct",
                                    "data_type": "pg_ndistinct"
                                },
                                {
                                    "column_name": "comments",
                                    "data_type": "character varying"
                                },
                                {
                                    "column_name": "constraint_catalog",
                                    "data_type": "name"
                                },
                                {
                                    "column_name": "constraint_schema",
                                    "data_type": "name"
                                },
                                {
                                    "column_name": "constraint_name",
                                    "data_type": "name"
                                },
                                {
                                    "column_name": "table_catalog",
                                    "data_type": "name"
                                },
                                {
                                    "column_name": "table_schema",
                                    "data_type": "name"
                                },
                                {
                                    "column_name": "table_name",
                                    "data_type": "name"
                                },
                                {
                                    "column_name": "constraint_type",
                                    "data_type": "character varying"
                                },
                                {
                                    "column_name": "is_deferrable",
                                    "data_type": "character varying"
                                },
                                {
                                    "column_name": "initially_deferred",
                                    "data_type": "character varying"
                                },
                                {
                                    "column_name": "enforced",
                                    "data_type": "character varying"
                                },
                                {
                                    "column_name": "nulls_distinct",
                                    "data_type": "character varying"
                                },
                                {
                                    "column_name": "grantor",
                                    "data_type": "name"
                                },
                                {
                                    "column_name": "grantee",
                                    "data_type": "name"
                                },
                                {
                                    "column_name": "table_catalog",
                                    "data_type": "name"
                                },
                                {
                                    "column_name": "table_schema",
                                    "data_type": "name"
                                },
                                {
                                    "column_name": "table_name",
                                    "data_type": "name"
                                },
                                {
                                    "column_name": "privilege_type",
                                    "data_type": "character varying"
                                },
                                {
                                    "column_name": "is_grantable",
                                    "data_type": "character varying"
                                },
                                {
                                    "column_name": "with_hierarchy",
                                    "data_type": "character varying"
                                },
                                {
                                    "column_name": "grantor",
                                    "data_type": "name"
                                },
                                {
                                    "column_name": "grantee",
                                    "data_type": "name"
                                },
                                {
                                    "column_name": "table_catalog",
                                    "data_type": "name"
                                },
                                {
                                    "column_name": "table_schema",
                                    "data_type": "name"
                                },
                                {
                                    "column_name": "table_name",
                                    "data_type": "name"
                                },
                                {
                                    "column_name": "privilege_type",
                                    "data_type": "character varying"
                                },
                                {
                                    "column_name": "is_grantable",
                                    "data_type": "character varying"
                                },
                                {
                                    "column_name": "with_hierarchy",
                                    "data_type": "character varying"
                                },
                                {
                                    "column_name": "table_catalog",
                                    "data_type": "name"
                                },
                                {
                                    "column_name": "table_schema",
                                    "data_type": "name"
                                },
                                {
                                    "column_name": "table_name",
                                    "data_type": "name"
                                },
                                {
                                    "column_name": "table_type",
                                    "data_type": "character varying"
                                },
                                {
                                    "column_name": "self_referencing_column_name",
                                    "data_type": "name"
                                },
                                {
                                    "column_name": "reference_generation",
                                    "data_type": "character varying"
                                },
                                {
                                    "column_name": "user_defined_type_catalog",
                                    "data_type": "name"
                                },
                                {
                                    "column_name": "user_defined_type_schema",
                                    "data_type": "name"
                                },
                                {
                                    "column_name": "user_defined_type_name",
                                    "data_type": "name"
                                },
                                {
                                    "column_name": "is_insertable_into",
                                    "data_type": "character varying"
                                },
                                {
                                    "column_name": "is_typed",
                                    "data_type": "character varying"
                                },
                                {
                                    "column_name": "commit_action",
                                    "data_type": "character varying"
                                },
                                {
                                    "column_name": "udt_catalog",
                                    "data_type": "name"
                                },
                                {
                                    "column_name": "udt_schema",
                                    "data_type": "name"
                                },
                                {
                                    "column_name": "udt_name",
                                    "data_type": "name"
                                },
                                {
                                    "column_name": "specific_catalog",
                                    "data_type": "name"
                                },
                                {
                                    "column_name": "specific_schema",
                                    "data_type": "name"
                                },
                                {
                                    "column_name": "specific_name",
                                    "data_type": "name"
                                },
                                {
                                    "column_name": "group_name",
                                    "data_type": "name"
                                },
                                {
                                    "column_name": "transform_type",
                                    "data_type": "character varying"
                                },
                                {
                                    "column_name": "trigger_catalog",
                                    "data_type": "name"
                                },
                                {
                                    "column_name": "trigger_schema",
                                    "data_type": "name"
                                },
                                {
                                    "column_name": "trigger_name",
                                    "data_type": "name"
                                },
                                {
                                    "column_name": "event_object_catalog",
                                    "data_type": "name"
                                },
                                {
                                    "column_name": "event_object_schema",
                                    "data_type": "name"
                                },
                                {
                                    "column_name": "event_object_table",
                                    "data_type": "name"
                                },
                                {
                                    "column_name": "event_object_column",
                                    "data_type": "name"
                                },
                                {
                                    "column_name": "trigger_catalog",
                                    "data_type": "name"
                                },
                                {
                                    "column_name": "trigger_schema",
                                    "data_type": "name"
                                },
                                {
                                    "column_name": "trigger_name",
                                    "data_type": "name"
                                },
                                {
                                    "column_name": "event_manipulation",
                                    "data_type": "character varying"
                                },
                                {
                                    "column_name": "event_object_catalog",
                                    "data_type": "name"
                                },
                                {
                                    "column_name": "event_object_schema",
                                    "data_type": "name"
                                },
                                {
                                    "column_name": "event_object_table",
                                    "data_type": "name"
                                },
                                {
                                    "column_name": "stxexprs",
                                    "data_type": "pg_node_tree"
                                },
                                {
                                    "column_name": "action_condition",
                                    "data_type": "character varying"
                                },
                                {
                                    "column_name": "action_statement",
                                    "data_type": "character varying"
                                },
                                {
                                    "column_name": "action_orientation",
                                    "data_type": "character varying"
                                },
                                {
                                    "column_name": "action_timing",
                                    "data_type": "character varying"
                                },
                                {
                                    "column_name": "action_reference_old_table",
                                    "data_type": "name"
                                },
                                {
                                    "column_name": "action_reference_new_table",
                                    "data_type": "name"
                                },
                                {
                                    "column_name": "action_reference_old_row",
                                    "data_type": "name"
                                },
                                {
                                    "column_name": "action_reference_new_row",
                                    "data_type": "name"
                                },
                                {
                                    "column_name": "stxname",
                                    "data_type": "name"
                                },
                                {
                                    "column_name": "grantor",
                                    "data_type": "name"
                                },
                                {
                                    "column_name": "grantee",
                                    "data_type": "name"
                                },
                                {
                                    "column_name": "udt_catalog",
                                    "data_type": "name"
                                },
                                {
                                    "column_name": "udt_schema",
                                    "data_type": "name"
                                },
                                {
                                    "column_name": "udt_name",
                                    "data_type": "name"
                                },
                                {
                                    "column_name": "privilege_type",
                                    "data_type": "character varying"
                                },
                                {
                                    "column_name": "is_grantable",
                                    "data_type": "character varying"
                                },
                                {
                                    "column_name": "grantor",
                                    "data_type": "name"
                                },
                                {
                                    "column_name": "grantee",
                                    "data_type": "name"
                                },
                                {
                                    "column_name": "udt_catalog",
                                    "data_type": "name"
                                },
                                {
                                    "column_name": "udt_schema",
                                    "data_type": "name"
                                },
                                {
                                    "column_name": "udt_name",
                                    "data_type": "name"
                                },
                                {
                                    "column_name": "privilege_type",
                                    "data_type": "character varying"
                                },
                                {
                                    "column_name": "is_grantable",
                                    "data_type": "character varying"
                                },
                                {
                                    "column_name": "grantor",
                                    "data_type": "name"
                                },
                                {
                                    "column_name": "grantee",
                                    "data_type": "name"
                                },
                                {
                                    "column_name": "object_catalog",
                                    "data_type": "name"
                                },
                                {
                                    "column_name": "object_schema",
                                    "data_type": "name"
                                },
                                {
                                    "column_name": "object_name",
                                    "data_type": "name"
                                },
                                {
                                    "column_name": "object_type",
                                    "data_type": "character varying"
                                },
                                {
                                    "column_name": "privilege_type",
                                    "data_type": "character varying"
                                },
                                {
                                    "column_name": "is_grantable",
                                    "data_type": "character varying"
                                },
                                {
                                    "column_name": "grantor",
                                    "data_type": "name"
                                },
                                {
                                    "column_name": "grantee",
                                    "data_type": "name"
                                },
                                {
                                    "column_name": "object_catalog",
                                    "data_type": "name"
                                },
                                {
                                    "column_name": "object_schema",
                                    "data_type": "name"
                                },
                                {
                                    "column_name": "object_name",
                                    "data_type": "name"
                                },
                                {
                                    "column_name": "object_type",
                                    "data_type": "character varying"
                                },
                                {
                                    "column_name": "privilege_type",
                                    "data_type": "character varying"
                                },
                                {
                                    "column_name": "is_grantable",
                                    "data_type": "character varying"
                                },
                                {
                                    "column_name": "user_defined_type_catalog",
                                    "data_type": "name"
                                },
                                {
                                    "column_name": "user_defined_type_schema",
                                    "data_type": "name"
                                },
                                {
                                    "column_name": "user_defined_type_name",
                                    "data_type": "name"
                                },
                                {
                                    "column_name": "user_defined_type_category",
                                    "data_type": "character varying"
                                },
                                {
                                    "column_name": "is_instantiable",
                                    "data_type": "character varying"
                                },
                                {
                                    "column_name": "is_final",
                                    "data_type": "character varying"
                                },
                                {
                                    "column_name": "ordering_form",
                                    "data_type": "character varying"
                                },
                                {
                                    "column_name": "ordering_category",
                                    "data_type": "character varying"
                                },
                                {
                                    "column_name": "ordering_routine_catalog",
                                    "data_type": "name"
                                },
                                {
                                    "column_name": "ordering_routine_schema",
                                    "data_type": "name"
                                },
                                {
                                    "column_name": "ordering_routine_name",
                                    "data_type": "name"
                                },
                                {
                                    "column_name": "reference_type",
                                    "data_type": "character varying"
                                },
                                {
                                    "column_name": "data_type",
                                    "data_type": "character varying"
                                },
                                {
                                    "column_name": "aggminitval",
                                    "data_type": "text"
                                },
                                {
                                    "column_name": "agginitval",
                                    "data_type": "text"
                                },
                                {
                                    "column_name": "character_set_catalog",
                                    "data_type": "name"
                                },
                                {
                                    "column_name": "character_set_schema",
                                    "data_type": "name"
                                },
                                {
                                    "column_name": "character_set_name",
                                    "data_type": "name"
                                },
                                {
                                    "column_name": "collation_catalog",
                                    "data_type": "name"
                                },
                                {
                                    "column_name": "collation_schema",
                                    "data_type": "name"
                                },
                                {
                                    "column_name": "collation_name",
                                    "data_type": "name"
                                },
                                {
                                    "column_name": "lanname",
                                    "data_type": "name"
                                },
                                {
                                    "column_name": "amname",
                                    "data_type": "name"
                                },
                                {
                                    "column_name": "opcname",
                                    "data_type": "name"
                                },
                                {
                                    "column_name": "opfname",
                                    "data_type": "name"
                                },
                                {
                                    "column_name": "interval_type",
                                    "data_type": "character varying"
                                },
                                {
                                    "column_name": "oprname",
                                    "data_type": "name"
                                },
                                {
                                    "column_name": "source_dtd_identifier",
                                    "data_type": "name"
                                },
                                {
                                    "column_name": "ref_dtd_identifier",
                                    "data_type": "name"
                                },
                                {
                                    "column_name": "view_catalog",
                                    "data_type": "name"
                                },
                                {
                                    "column_name": "view_schema",
                                    "data_type": "name"
                                },
                                {
                                    "column_name": "view_name",
                                    "data_type": "name"
                                },
                                {
                                    "column_name": "table_catalog",
                                    "data_type": "name"
                                },
                                {
                                    "column_name": "table_schema",
                                    "data_type": "name"
                                },
                                {
                                    "column_name": "table_name",
                                    "data_type": "name"
                                },
                                {
                                    "column_name": "column_name",
                                    "data_type": "name"
                                },
                                {
                                    "column_name": "table_catalog",
                                    "data_type": "name"
                                },
                                {
                                    "column_name": "table_schema",
                                    "data_type": "name"
                                },
                                {
                                    "column_name": "table_name",
                                    "data_type": "name"
                                },
                                {
                                    "column_name": "specific_catalog",
                                    "data_type": "name"
                                },
                                {
                                    "column_name": "specific_schema",
                                    "data_type": "name"
                                },
                                {
                                    "column_name": "specific_name",
                                    "data_type": "name"
                                },
                                {
                                    "column_name": "view_catalog",
                                    "data_type": "name"
                                },
                                {
                                    "column_name": "view_schema",
                                    "data_type": "name"
                                },
                                {
                                    "column_name": "view_name",
                                    "data_type": "name"
                                },
                                {
                                    "column_name": "table_catalog",
                                    "data_type": "name"
                                },
                                {
                                    "column_name": "table_schema",
                                    "data_type": "name"
                                },
                                {
                                    "column_name": "table_name",
                                    "data_type": "name"
                                },
                                {
                                    "column_name": "table_catalog",
                                    "data_type": "name"
                                },
                                {
                                    "column_name": "table_schema",
                                    "data_type": "name"
                                },
                                {
                                    "column_name": "table_name",
                                    "data_type": "name"
                                },
                                {
                                    "column_name": "view_definition",
                                    "data_type": "character varying"
                                },
                                {
                                    "column_name": "check_option",
                                    "data_type": "character varying"
                                },
                                {
                                    "column_name": "is_updatable",
                                    "data_type": "character varying"
                                },
                                {
                                    "column_name": "is_insertable_into",
                                    "data_type": "character varying"
                                },
                                {
                                    "column_name": "is_trigger_updatable",
                                    "data_type": "character varying"
                                },
                                {
                                    "column_name": "is_trigger_deletable",
                                    "data_type": "character varying"
                                },
                                {
                                    "column_name": "is_trigger_insertable_into",
                                    "data_type": "character varying"
                                },
                                {
                                    "column_name": "object_catalog",
                                    "data_type": "name"
                                },
                                {
                                    "column_name": "object_schema",
                                    "data_type": "name"
                                },
                                {
                                    "column_name": "object_name",
                                    "data_type": "name"
                                },
                                {
                                    "column_name": "object_type",
                                    "data_type": "character varying"
                                },
                                {
                                    "column_name": "dtd_identifier",
                                    "data_type": "name"
                                },
                                {
                                    "column_name": "object_catalog",
                                    "data_type": "name"
                                },
                                {
                                    "column_name": "object_schema",
                                    "data_type": "name"
                                },
                                {
                                    "column_name": "object_name",
                                    "data_type": "name"
                                },
                                {
                                    "column_name": "object_type",
                                    "data_type": "character varying"
                                },
                                {
                                    "column_name": "collection_type_identifier",
                                    "data_type": "name"
                                },
                                {
                                    "column_name": "data_type",
                                    "data_type": "character varying"
                                },
                                {
                                    "column_name": "indpred",
                                    "data_type": "pg_node_tree"
                                },
                                {
                                    "column_name": "indexprs",
                                    "data_type": "pg_node_tree"
                                },
                                {
                                    "column_name": "character_set_catalog",
                                    "data_type": "name"
                                },
                                {
                                    "column_name": "character_set_schema",
                                    "data_type": "name"
                                },
                                {
                                    "column_name": "character_set_name",
                                    "data_type": "name"
                                },
                                {
                                    "column_name": "collation_catalog",
                                    "data_type": "name"
                                },
                                {
                                    "column_name": "collation_schema",
                                    "data_type": "name"
                                },
                                {
                                    "column_name": "collation_name",
                                    "data_type": "name"
                                },
                                {
                                    "column_name": "conbin",
                                    "data_type": "pg_node_tree"
                                },
                                {
                                    "column_name": "conname",
                                    "data_type": "name"
                                },
                                {
                                    "column_name": "adbin",
                                    "data_type": "pg_node_tree"
                                },
                                {
                                    "column_name": "relpartbound",
                                    "data_type": "pg_node_tree"
                                },
                                {
                                    "column_name": "interval_type",
                                    "data_type": "character varying"
                                },
                                {
                                    "column_name": "reloptions",
                                    "data_type": "ARRAY"
                                },
                                {
                                    "column_name": "domain_default",
                                    "data_type": "character varying"
                                },
                                {
                                    "column_name": "udt_catalog",
                                    "data_type": "name"
                                },
                                {
                                    "column_name": "udt_schema",
                                    "data_type": "name"
                                },
                                {
                                    "column_name": "udt_name",
                                    "data_type": "name"
                                },
                                {
                                    "column_name": "scope_catalog",
                                    "data_type": "name"
                                },
                                {
                                    "column_name": "scope_schema",
                                    "data_type": "name"
                                },
                                {
                                    "column_name": "scope_name",
                                    "data_type": "name"
                                },
                                {
                                    "column_name": "relname",
                                    "data_type": "name"
                                },
                                {
                                    "column_name": "dtd_identifier",
                                    "data_type": "name"
                                },
                                {
                                    "column_name": "nspname",
                                    "data_type": "name"
                                },
                                {
                                    "column_name": "relname",
                                    "data_type": "name"
                                },
                                {
                                    "column_name": "attname",
                                    "data_type": "name"
                                },
                                {
                                    "column_name": "attfdwoptions",
                                    "data_type": "ARRAY"
                                },
                                {
                                    "column_name": "table_catalog",
                                    "data_type": "name"
                                },
                                {
                                    "column_name": "table_schema",
                                    "data_type": "name"
                                },
                                {
                                    "column_name": "table_name",
                                    "data_type": "name"
                                },
                                {
                                    "column_name": "column_name",
                                    "data_type": "name"
                                },
                                {
                                    "column_name": "option_name",
                                    "data_type": "name"
                                },
                                {
                                    "column_name": "option_value",
                                    "data_type": "character varying"
                                },
                                {
                                    "column_name": "attfdwoptions",
                                    "data_type": "ARRAY"
                                },
                                {
                                    "column_name": "attoptions",
                                    "data_type": "ARRAY"
                                },
                                {
                                    "column_name": "fdwoptions",
                                    "data_type": "ARRAY"
                                },
                                {
                                    "column_name": "foreign_data_wrapper_catalog",
                                    "data_type": "name"
                                },
                                {
                                    "column_name": "foreign_data_wrapper_name",
                                    "data_type": "name"
                                },
                                {
                                    "column_name": "authorization_identifier",
                                    "data_type": "name"
                                },
                                {
                                    "column_name": "foreign_data_wrapper_language",
                                    "data_type": "character varying"
                                },
                                {
                                    "column_name": "foreign_data_wrapper_catalog",
                                    "data_type": "name"
                                },
                                {
                                    "column_name": "foreign_data_wrapper_name",
                                    "data_type": "name"
                                },
                                {
                                    "column_name": "option_name",
                                    "data_type": "name"
                                },
                                {
                                    "column_name": "option_value",
                                    "data_type": "character varying"
                                },
                                {
                                    "column_name": "foreign_data_wrapper_catalog",
                                    "data_type": "name"
                                },
                                {
                                    "column_name": "foreign_data_wrapper_name",
                                    "data_type": "name"
                                },
                                {
                                    "column_name": "authorization_identifier",
                                    "data_type": "name"
                                },
                                {
                                    "column_name": "library_name",
                                    "data_type": "character varying"
                                },
                                {
                                    "column_name": "foreign_data_wrapper_language",
                                    "data_type": "character varying"
                                },
                                {
                                    "column_name": "attname",
                                    "data_type": "name"
                                },
                                {
                                    "column_name": "srvoptions",
                                    "data_type": "ARRAY"
                                },
                                {
                                    "column_name": "foreign_server_catalog",
                                    "data_type": "name"
                                },
                                {
                                    "column_name": "foreign_server_name",
                                    "data_type": "name"
                                },
                                {
                                    "column_name": "foreign_data_wrapper_catalog",
                                    "data_type": "name"
                                },
                                {
                                    "column_name": "foreign_data_wrapper_name",
                                    "data_type": "name"
                                },
                                {
                                    "column_name": "foreign_server_type",
                                    "data_type": "character varying"
                                },
                                {
                                    "column_name": "foreign_server_version",
                                    "data_type": "character varying"
                                },
                                {
                                    "column_name": "authorization_identifier",
                                    "data_type": "name"
                                },
                                {
                                    "column_name": "foreign_server_catalog",
                                    "data_type": "name"
                                },
                                {
                                    "column_name": "foreign_server_name",
                                    "data_type": "name"
                                },
                                {
                                    "column_name": "option_name",
                                    "data_type": "name"
                                },
                                {
                                    "column_name": "option_value",
                                    "data_type": "character varying"
                                },
                                {
                                    "column_name": "foreign_server_catalog",
                                    "data_type": "name"
                                },
                                {
                                    "column_name": "foreign_server_name",
                                    "data_type": "name"
                                },
                                {
                                    "column_name": "foreign_data_wrapper_catalog",
                                    "data_type": "name"
                                },
                                {
                                    "column_name": "foreign_data_wrapper_name",
                                    "data_type": "name"
                                },
                                {
                                    "column_name": "foreign_server_type",
                                    "data_type": "character varying"
                                },
                                {
                                    "column_name": "foreign_server_version",
                                    "data_type": "character varying"
                                },
                                {
                                    "column_name": "authorization_identifier",
                                    "data_type": "name"
                                },
                                {
                                    "column_name": "foreign_table_catalog",
                                    "data_type": "name"
                                },
                                {
                                    "column_name": "foreign_table_schema",
                                    "data_type": "name"
                                },
                                {
                                    "column_name": "foreign_table_name",
                                    "data_type": "name"
                                },
                                {
                                    "column_name": "ftoptions",
                                    "data_type": "ARRAY"
                                },
                                {
                                    "column_name": "foreign_server_catalog",
                                    "data_type": "name"
                                },
                                {
                                    "column_name": "foreign_server_name",
                                    "data_type": "name"
                                },
                                {
                                    "column_name": "authorization_identifier",
                                    "data_type": "name"
                                },
                                {
                                    "column_name": "foreign_table_catalog",
                                    "data_type": "name"
                                },
                                {
                                    "column_name": "foreign_table_schema",
                                    "data_type": "name"
                                },
                                {
                                    "column_name": "foreign_table_name",
                                    "data_type": "name"
                                },
                                {
                                    "column_name": "option_name",
                                    "data_type": "name"
                                },
                                {
                                    "column_name": "option_value",
                                    "data_type": "character varying"
                                },
                                {
                                    "column_name": "foreign_table_catalog",
                                    "data_type": "name"
                                },
                                {
                                    "column_name": "foreign_table_schema",
                                    "data_type": "name"
                                },
                                {
                                    "column_name": "foreign_table_name",
                                    "data_type": "name"
                                },
                                {
                                    "column_name": "foreign_server_catalog",
                                    "data_type": "name"
                                },
                                {
                                    "column_name": "foreign_server_name",
                                    "data_type": "name"
                                },
                                {
                                    "column_name": "typdefault",
                                    "data_type": "text"
                                },
                                {
                                    "column_name": "umoptions",
                                    "data_type": "ARRAY"
                                },
                                {
                                    "column_name": "typdefaultbin",
                                    "data_type": "pg_node_tree"
                                },
                                {
                                    "column_name": "authorization_identifier",
                                    "data_type": "name"
                                },
                                {
                                    "column_name": "foreign_server_catalog",
                                    "data_type": "name"
                                },
                                {
                                    "column_name": "foreign_server_name",
                                    "data_type": "name"
                                },
                                {
                                    "column_name": "srvowner",
                                    "data_type": "name"
                                },
                                {
                                    "column_name": "authorization_identifier",
                                    "data_type": "name"
                                },
                                {
                                    "column_name": "foreign_server_catalog",
                                    "data_type": "name"
                                },
                                {
                                    "column_name": "foreign_server_name",
                                    "data_type": "name"
                                },
                                {
                                    "column_name": "option_name",
                                    "data_type": "name"
                                },
                                {
                                    "column_name": "option_value",
                                    "data_type": "character varying"
                                },
                                {
                                    "column_name": "authorization_identifier",
                                    "data_type": "name"
                                },
                                {
                                    "column_name": "foreign_server_catalog",
                                    "data_type": "name"
                                },
                                {
                                    "column_name": "foreign_server_name",
                                    "data_type": "name"
                                },
                                {
                                    "column_name": "typname",
                                    "data_type": "name"
                                },
                                {
                                    "column_name": "funcname",
                                    "data_type": "name"
                                },
                                {
                                    "column_name": "schemaname",
                                    "data_type": "name"
                                },
                                {
                                    "column_name": "datname",
                                    "data_type": "name"
                                },
                                {
                                    "column_name": "schemaname",
                                    "data_type": "name"
                                },
                                {
                                    "column_name": "funcname",
                                    "data_type": "name"
                                },
                                {
                                    "column_name": "datname",
                                    "data_type": "name"
                                },
                                {
                                    "column_name": "database",
                                    "data_type": "name"
                                },
                                {
                                    "column_name": "plugin",
                                    "data_type": "name"
                                },
                                {
                                    "column_name": "slot_name",
                                    "data_type": "name"
                                },
                                {
                                    "column_name": "f_table_name",
                                    "data_type": "name"
                                },
                                {
                                    "column_name": "subname",
                                    "data_type": "name"
                                },
                                {
                                    "column_name": "usename",
                                    "data_type": "name"
                                },
                                {
                                    "column_name": "f_geography_column",
                                    "data_type": "name"
                                },
                                {
                                    "column_name": "usename",
                                    "data_type": "name"
                                },
                                {
                                    "column_name": "datname",
                                    "data_type": "name"
                                },
                                {
                                    "column_name": "relname",
                                    "data_type": "name"
                                },
                                {
                                    "column_name": "schemaname",
                                    "data_type": "name"
                                },
                                {
                                    "column_name": "relname",
                                    "data_type": "name"
                                },
                                {
                                    "column_name": "schemaname",
                                    "data_type": "name"
                                },
                                {
                                    "column_name": "relname",
                                    "data_type": "name"
                                },
                                {
                                    "column_name": "schemaname",
                                    "data_type": "name"
                                },
                                {
                                    "column_name": "indexrelname",
                                    "data_type": "name"
                                },
                                {
                                    "column_name": "relname",
                                    "data_type": "name"
                                },
                                {
                                    "column_name": "schemaname",
                                    "data_type": "name"
                                },
                                {
                                    "column_name": "indexrelname",
                                    "data_type": "name"
                                },
                                {
                                    "column_name": "relname",
                                    "data_type": "name"
                                },
                                {
                                    "column_name": "probin",
                                    "data_type": "text"
                                }
                            ]
                        },
                        "text/html": [
                            "<table>",
                            "<tr><th>column_name</th><th>data_type</th></tr>",
                            "<tr><td>skip_rep</td><td>bigint</td></tr>",
                            "<tr><td>wal_distance</td><td>integer</td></tr>",
                            "<tr><td>block_distance</td><td>integer</td></tr>",
                            "<tr><td>io_depth</td><td>integer</td></tr>",
                            "<tr><td>subid</td><td>oid</td></tr>",
                            "<tr><td>last_archived_time</td><td>timestamp with time zone</td></tr>",
                            "<tr><td>pid</td><td>integer</td></tr>",
                            "<tr><td>leader_pid</td><td>integer</td></tr>",
                            "<tr><td>relid</td><td>oid</td></tr>",
                            "<tr><td>received_lsn</td><td>pg_lsn</td></tr>",
                            "<tr><td>last_msg_send_time</td><td>timestamp with time zone</td></tr>",
                            "<tr><td>last_msg_receipt_time</td><td>timestamp with time zone</td></tr>",
                            "<tr><td>latest_end_lsn</td><td>pg_lsn</td></tr>",
                            "<tr><td>latest_end_time</td><td>timestamp with time zone</td></tr>",
                            "<tr><td>pid</td><td>integer</td></tr>",
                            "<tr><td>ssl</td><td>boolean</td></tr>",
                            "<tr><td>fdwowner</td><td>oid</td></tr>",
                            "<tr><td>oid</td><td>oid</td></tr>",
                            "<tr><td>bits</td><td>integer</td></tr>",
                            "<tr><td>attmissingval</td><td>anyarray</td></tr>",
                            "<tr><td>client_serial</td><td>numeric</td></tr>",
                            "<tr><td>oid</td><td>oid</td></tr>",
                            "<tr><td>pid</td><td>integer</td></tr>",
                            "<tr><td>gss_authenticated</td><td>boolean</td></tr>",
                            "<tr><td>maximum_cardinality</td><td>integer</td></tr>",
                            "<tr><td>encrypted</td><td>boolean</td></tr>",
                            "<tr><td>credentials_delegated</td><td>boolean</td></tr>",
                            "<tr><td>archived_count</td><td>bigint</td></tr>",
                            "<tr><td>self_time</td><td>double precision</td></tr>",
                            "<tr><td>relnamespace</td><td>oid</td></tr>",
                            "<tr><td>datoid</td><td>oid</td></tr>",
                            "<tr><td>total_time</td><td>double precision</td></tr>",
                            "<tr><td>temporary</td><td>boolean</td></tr>",
                            "<tr><td>active</td><td>boolean</td></tr>",
                            "<tr><td>active_pid</td><td>integer</td></tr>",
                            "<tr><td>xmin</td><td>xid</td></tr>",
                            "<tr><td>catalog_xmin</td><td>xid</td></tr>",
                            "<tr><td>restart_lsn</td><td>pg_lsn</td></tr>",
                            "<tr><td>confirmed_flush_lsn</td><td>pg_lsn</td></tr>",
                            "<tr><td>reltype</td><td>oid</td></tr>",
                            "<tr><td>safe_wal_size</td><td>bigint</td></tr>",
                            "<tr><td>two_phase</td><td>boolean</td></tr>",
                            "<tr><td>conflicting</td><td>boolean</td></tr>",
                            "<tr><td>reloftype</td><td>oid</td></tr>",
                            "<tr><td>spill_txns</td><td>bigint</td></tr>",
                            "<tr><td>spill_count</td><td>bigint</td></tr>",
                            "<tr><td>spill_bytes</td><td>bigint</td></tr>",
                            "<tr><td>stream_txns</td><td>bigint</td></tr>",
                            "<tr><td>stream_count</td><td>bigint</td></tr>",
                            "<tr><td>stream_bytes</td><td>bigint</td></tr>",
                            "<tr><td>total_txns</td><td>bigint</td></tr>",
                            "<tr><td>total_bytes</td><td>bigint</td></tr>",
                            "<tr><td>stats_reset</td><td>timestamp with time zone</td></tr>",
                            "<tr><td>datid</td><td>oid</td></tr>",
                            "<tr><td>calls</td><td>bigint</td></tr>",
                            "<tr><td>numbackends</td><td>integer</td></tr>",
                            "<tr><td>xact_commit</td><td>bigint</td></tr>",
                            "<tr><td>xact_rollback</td><td>bigint</td></tr>",
                            "<tr><td>blks_read</td><td>bigint</td></tr>",
                            "<tr><td>blks_hit</td><td>bigint</td></tr>",
                            "<tr><td>tup_returned</td><td>bigint</td></tr>",
                            "<tr><td>tup_fetched</td><td>bigint</td></tr>",
                            "<tr><td>tup_inserted</td><td>bigint</td></tr>",
                            "<tr><td>tup_updated</td><td>bigint</td></tr>",
                            "<tr><td>tup_deleted</td><td>bigint</td></tr>",
                            "<tr><td>conflicts</td><td>bigint</td></tr>",
                            "<tr><td>temp_files</td><td>bigint</td></tr>",
                            "<tr><td>temp_bytes</td><td>bigint</td></tr>",
                            "<tr><td>deadlocks</td><td>bigint</td></tr>",
                            "<tr><td>checksum_failures</td><td>bigint</td></tr>",
                            "<tr><td>checksum_last_failure</td><td>timestamp with time zone</td></tr>",
                            "<tr><td>blk_read_time</td><td>double precision</td></tr>",
                            "<tr><td>blk_write_time</td><td>double precision</td></tr>",
                            "<tr><td>session_time</td><td>double precision</td></tr>",
                            "<tr><td>active_time</td><td>double precision</td></tr>",
                            "<tr><td>idle_in_transaction_time</td><td>double precision</td></tr>",
                            "<tr><td>sessions</td><td>bigint</td></tr>",
                            "<tr><td>sessions_abandoned</td><td>bigint</td></tr>",
                            "<tr><td>sessions_fatal</td><td>bigint</td></tr>",
                            "<tr><td>sessions_killed</td><td>bigint</td></tr>",
                            "<tr><td>stats_reset</td><td>timestamp with time zone</td></tr>",
                            "<tr><td>datid</td><td>oid</td></tr>",
                            "<tr><td>funcid</td><td>oid</td></tr>",
                            "<tr><td>confl_tablespace</td><td>bigint</td></tr>",
                            "<tr><td>confl_lock</td><td>bigint</td></tr>",
                            "<tr><td>confl_snapshot</td><td>bigint</td></tr>",
                            "<tr><td>confl_bufferpin</td><td>bigint</td></tr>",
                            "<tr><td>confl_deadlock</td><td>bigint</td></tr>",
                            "<tr><td>confl_active_logicalslot</td><td>bigint</td></tr>",
                            "<tr><td>funcid</td><td>oid</td></tr>",
                            "<tr><td>self_time</td><td>double precision</td></tr>",
                            "<tr><td>total_time</td><td>double precision</td></tr>",
                            "<tr><td>calls</td><td>bigint</td></tr>",
                            "<tr><td>relowner</td><td>oid</td></tr>",
                            "<tr><td>relam</td><td>oid</td></tr>",
                            "<tr><td>relfilenode</td><td>oid</td></tr>",
                            "<tr><td>reltablespace</td><td>oid</td></tr>",
                            "<tr><td>relpages</td><td>integer</td></tr>",
                            "<tr><td>reltuples</td><td>real</td></tr>",
                            "<tr><td>relallvisible</td><td>integer</td></tr>",
                            "<tr><td>reltoastrelid</td><td>oid</td></tr>",
                            "<tr><td>relhasindex</td><td>boolean</td></tr>",
                            "<tr><td>relisshared</td><td>boolean</td></tr>",
                            "<tr><td>relpersistence</td><td>&quot;char&quot;</td></tr>",
                            "<tr><td>relkind</td><td>&quot;char&quot;</td></tr>",
                            "<tr><td>relnatts</td><td>smallint</td></tr>",
                            "<tr><td>relchecks</td><td>smallint</td></tr>",
                            "<tr><td>relhasrules</td><td>boolean</td></tr>",
                            "<tr><td>relhastriggers</td><td>boolean</td></tr>",
                            "<tr><td>relhassubclass</td><td>boolean</td></tr>",
                            "<tr><td>relrowsecurity</td><td>boolean</td></tr>",
                            "<tr><td>relforcerowsecurity</td><td>boolean</td></tr>",
                            "<tr><td>relispopulated</td><td>boolean</td></tr>",
                            "<tr><td>relreplident</td><td>&quot;char&quot;</td></tr>",
                            "<tr><td>relispartition</td><td>boolean</td></tr>",
                            "<tr><td>relrewrite</td><td>oid</td></tr>",
                            "<tr><td>relfrozenxid</td><td>xid</td></tr>",
                            "<tr><td>relminmxid</td><td>xid</td></tr>",
                            "<tr><td>relacl</td><td>ARRAY</td></tr>",
                            "<tr><td>interval_precision</td><td>integer</td></tr>",
                            "<tr><td>datetime_precision</td><td>integer</td></tr>",
                            "<tr><td>oid</td><td>oid</td></tr>",
                            "<tr><td>adrelid</td><td>oid</td></tr>",
                            "<tr><td>adnum</td><td>smallint</td></tr>",
                            "<tr><td>numeric_scale</td><td>integer</td></tr>",
                            "<tr><td>oid</td><td>oid</td></tr>",
                            "<tr><td>numeric_precision_radix</td><td>integer</td></tr>",
                            "<tr><td>connamespace</td><td>oid</td></tr>",
                            "<tr><td>contype</td><td>&quot;char&quot;</td></tr>",
                            "<tr><td>condeferrable</td><td>boolean</td></tr>",
                            "<tr><td>condeferred</td><td>boolean</td></tr>",
                            "<tr><td>convalidated</td><td>boolean</td></tr>",
                            "<tr><td>conrelid</td><td>oid</td></tr>",
                            "<tr><td>contypid</td><td>oid</td></tr>",
                            "<tr><td>conindid</td><td>oid</td></tr>",
                            "<tr><td>conparentid</td><td>oid</td></tr>",
                            "<tr><td>confrelid</td><td>oid</td></tr>",
                            "<tr><td>confupdtype</td><td>&quot;char&quot;</td></tr>",
                            "<tr><td>confdeltype</td><td>&quot;char&quot;</td></tr>",
                            "<tr><td>confmatchtype</td><td>&quot;char&quot;</td></tr>",
                            "<tr><td>conislocal</td><td>boolean</td></tr>",
                            "<tr><td>coninhcount</td><td>smallint</td></tr>",
                            "<tr><td>connoinherit</td><td>boolean</td></tr>",
                            "<tr><td>conkey</td><td>ARRAY</td></tr>",
                            "<tr><td>confkey</td><td>ARRAY</td></tr>",
                            "<tr><td>conpfeqop</td><td>ARRAY</td></tr>",
                            "<tr><td>conppeqop</td><td>ARRAY</td></tr>",
                            "<tr><td>conffeqop</td><td>ARRAY</td></tr>",
                            "<tr><td>confdelsetcols</td><td>ARRAY</td></tr>",
                            "<tr><td>conexclop</td><td>ARRAY</td></tr>",
                            "<tr><td>numeric_precision</td><td>integer</td></tr>",
                            "<tr><td>inhrelid</td><td>oid</td></tr>",
                            "<tr><td>inhparent</td><td>oid</td></tr>",
                            "<tr><td>inhseqno</td><td>integer</td></tr>",
                            "<tr><td>inhdetachpending</td><td>boolean</td></tr>",
                            "<tr><td>indexrelid</td><td>oid</td></tr>",
                            "<tr><td>indrelid</td><td>oid</td></tr>",
                            "<tr><td>indnatts</td><td>smallint</td></tr>",
                            "<tr><td>indnkeyatts</td><td>smallint</td></tr>",
                            "<tr><td>indisunique</td><td>boolean</td></tr>",
                            "<tr><td>indnullsnotdistinct</td><td>boolean</td></tr>",
                            "<tr><td>indisprimary</td><td>boolean</td></tr>",
                            "<tr><td>indisexclusion</td><td>boolean</td></tr>",
                            "<tr><td>indimmediate</td><td>boolean</td></tr>",
                            "<tr><td>indisclustered</td><td>boolean</td></tr>",
                            "<tr><td>indisvalid</td><td>boolean</td></tr>",
                            "<tr><td>indcheckxmin</td><td>boolean</td></tr>",
                            "<tr><td>indisready</td><td>boolean</td></tr>",
                            "<tr><td>indislive</td><td>boolean</td></tr>",
                            "<tr><td>indisreplident</td><td>boolean</td></tr>",
                            "<tr><td>indkey</td><td>ARRAY</td></tr>",
                            "<tr><td>indcollation</td><td>ARRAY</td></tr>",
                            "<tr><td>indclass</td><td>ARRAY</td></tr>",
                            "<tr><td>indoption</td><td>ARRAY</td></tr>",
                            "<tr><td>character_octet_length</td><td>integer</td></tr>",
                            "<tr><td>character_maximum_length</td><td>integer</td></tr>",
                            "<tr><td>oid</td><td>oid</td></tr>",
                            "<tr><td>interval_precision</td><td>integer</td></tr>",
                            "<tr><td>oprnamespace</td><td>oid</td></tr>",
                            "<tr><td>oprowner</td><td>oid</td></tr>",
                            "<tr><td>oprkind</td><td>&quot;char&quot;</td></tr>",
                            "<tr><td>oprcanmerge</td><td>boolean</td></tr>",
                            "<tr><td>oprcanhash</td><td>boolean</td></tr>",
                            "<tr><td>oprleft</td><td>oid</td></tr>",
                            "<tr><td>oprright</td><td>oid</td></tr>",
                            "<tr><td>oprresult</td><td>oid</td></tr>",
                            "<tr><td>oprcom</td><td>oid</td></tr>",
                            "<tr><td>oprnegate</td><td>oid</td></tr>",
                            "<tr><td>oprcode</td><td>regproc</td></tr>",
                            "<tr><td>oprrest</td><td>regproc</td></tr>",
                            "<tr><td>oprjoin</td><td>regproc</td></tr>",
                            "<tr><td>oid</td><td>oid</td></tr>",
                            "<tr><td>opfmethod</td><td>oid</td></tr>",
                            "<tr><td>datetime_precision</td><td>integer</td></tr>",
                            "<tr><td>opfnamespace</td><td>oid</td></tr>",
                            "<tr><td>opfowner</td><td>oid</td></tr>",
                            "<tr><td>oid</td><td>oid</td></tr>",
                            "<tr><td>opcmethod</td><td>oid</td></tr>",
                            "<tr><td>numeric_scale</td><td>integer</td></tr>",
                            "<tr><td>opcnamespace</td><td>oid</td></tr>",
                            "<tr><td>opcowner</td><td>oid</td></tr>",
                            "<tr><td>opcfamily</td><td>oid</td></tr>",
                            "<tr><td>opcintype</td><td>oid</td></tr>",
                            "<tr><td>opcdefault</td><td>boolean</td></tr>",
                            "<tr><td>opckeytype</td><td>oid</td></tr>",
                            "<tr><td>oid</td><td>oid</td></tr>",
                            "<tr><td>numeric_precision_radix</td><td>integer</td></tr>",
                            "<tr><td>amhandler</td><td>regproc</td></tr>",
                            "<tr><td>amtype</td><td>&quot;char&quot;</td></tr>",
                            "<tr><td>oid</td><td>oid</td></tr>",
                            "<tr><td>amopfamily</td><td>oid</td></tr>",
                            "<tr><td>amoplefttype</td><td>oid</td></tr>",
                            "<tr><td>amoprighttype</td><td>oid</td></tr>",
                            "<tr><td>amopstrategy</td><td>smallint</td></tr>",
                            "<tr><td>amoppurpose</td><td>&quot;char&quot;</td></tr>",
                            "<tr><td>amopopr</td><td>oid</td></tr>",
                            "<tr><td>amopmethod</td><td>oid</td></tr>",
                            "<tr><td>amopsortfamily</td><td>oid</td></tr>",
                            "<tr><td>oid</td><td>oid</td></tr>",
                            "<tr><td>amprocfamily</td><td>oid</td></tr>",
                            "<tr><td>amproclefttype</td><td>oid</td></tr>",
                            "<tr><td>amprocrighttype</td><td>oid</td></tr>",
                            "<tr><td>amprocnum</td><td>smallint</td></tr>",
                            "<tr><td>amproc</td><td>regproc</td></tr>",
                            "<tr><td>oid</td><td>oid</td></tr>",
                            "<tr><td>numeric_precision</td><td>integer</td></tr>",
                            "<tr><td>lanowner</td><td>oid</td></tr>",
                            "<tr><td>lanispl</td><td>boolean</td></tr>",
                            "<tr><td>lanpltrusted</td><td>boolean</td></tr>",
                            "<tr><td>lanplcallfoid</td><td>oid</td></tr>",
                            "<tr><td>laninline</td><td>oid</td></tr>",
                            "<tr><td>lanvalidator</td><td>oid</td></tr>",
                            "<tr><td>lanacl</td><td>ARRAY</td></tr>",
                            "<tr><td>oid</td><td>oid</td></tr>",
                            "<tr><td>lomowner</td><td>oid</td></tr>",
                            "<tr><td>lomacl</td><td>ARRAY</td></tr>",
                            "<tr><td>loid</td><td>oid</td></tr>",
                            "<tr><td>pageno</td><td>integer</td></tr>",
                            "<tr><td>data</td><td>bytea</td></tr>",
                            "<tr><td>aggfnoid</td><td>regproc</td></tr>",
                            "<tr><td>aggkind</td><td>&quot;char&quot;</td></tr>",
                            "<tr><td>aggnumdirectargs</td><td>smallint</td></tr>",
                            "<tr><td>aggtransfn</td><td>regproc</td></tr>",
                            "<tr><td>aggfinalfn</td><td>regproc</td></tr>",
                            "<tr><td>aggcombinefn</td><td>regproc</td></tr>",
                            "<tr><td>aggserialfn</td><td>regproc</td></tr>",
                            "<tr><td>aggdeserialfn</td><td>regproc</td></tr>",
                            "<tr><td>aggmtransfn</td><td>regproc</td></tr>",
                            "<tr><td>aggminvtransfn</td><td>regproc</td></tr>",
                            "<tr><td>aggmfinalfn</td><td>regproc</td></tr>",
                            "<tr><td>aggfinalextra</td><td>boolean</td></tr>",
                            "<tr><td>aggmfinalextra</td><td>boolean</td></tr>",
                            "<tr><td>aggfinalmodify</td><td>&quot;char&quot;</td></tr>",
                            "<tr><td>aggmfinalmodify</td><td>&quot;char&quot;</td></tr>",
                            "<tr><td>aggsortop</td><td>oid</td></tr>",
                            "<tr><td>aggtranstype</td><td>oid</td></tr>",
                            "<tr><td>aggtransspace</td><td>integer</td></tr>",
                            "<tr><td>aggmtranstype</td><td>oid</td></tr>",
                            "<tr><td>aggmtransspace</td><td>integer</td></tr>",
                            "<tr><td>character_octet_length</td><td>integer</td></tr>",
                            "<tr><td>character_maximum_length</td><td>integer</td></tr>",
                            "<tr><td>starelid</td><td>oid</td></tr>",
                            "<tr><td>staattnum</td><td>smallint</td></tr>",
                            "<tr><td>stainherit</td><td>boolean</td></tr>",
                            "<tr><td>stanullfrac</td><td>real</td></tr>",
                            "<tr><td>stawidth</td><td>integer</td></tr>",
                            "<tr><td>stadistinct</td><td>real</td></tr>",
                            "<tr><td>stakind1</td><td>smallint</td></tr>",
                            "<tr><td>stakind2</td><td>smallint</td></tr>",
                            "<tr><td>stakind3</td><td>smallint</td></tr>",
                            "<tr><td>stakind4</td><td>smallint</td></tr>",
                            "<tr><td>stakind5</td><td>smallint</td></tr>",
                            "<tr><td>staop1</td><td>oid</td></tr>",
                            "<tr><td>staop2</td><td>oid</td></tr>",
                            "<tr><td>staop3</td><td>oid</td></tr>",
                            "<tr><td>staop4</td><td>oid</td></tr>",
                            "<tr><td>staop5</td><td>oid</td></tr>",
                            "<tr><td>stacoll1</td><td>oid</td></tr>",
                            "<tr><td>stacoll2</td><td>oid</td></tr>",
                            "<tr><td>stacoll3</td><td>oid</td></tr>",
                            "<tr><td>stacoll4</td><td>oid</td></tr>",
                            "<tr><td>stacoll5</td><td>oid</td></tr>",
                            "<tr><td>stanumbers1</td><td>ARRAY</td></tr>",
                            "<tr><td>stanumbers2</td><td>ARRAY</td></tr>",
                            "<tr><td>stanumbers3</td><td>ARRAY</td></tr>",
                            "<tr><td>stanumbers4</td><td>ARRAY</td></tr>",
                            "<tr><td>stanumbers5</td><td>ARRAY</td></tr>",
                            "<tr><td>stavalues1</td><td>anyarray</td></tr>",
                            "<tr><td>stavalues2</td><td>anyarray</td></tr>",
                            "<tr><td>stavalues3</td><td>anyarray</td></tr>",
                            "<tr><td>stavalues4</td><td>anyarray</td></tr>",
                            "<tr><td>stavalues5</td><td>anyarray</td></tr>",
                            "<tr><td>oid</td><td>oid</td></tr>",
                            "<tr><td>stxrelid</td><td>oid</td></tr>",
                            "<tr><td>created</td><td>timestamp with time zone</td></tr>",
                            "<tr><td>stxnamespace</td><td>oid</td></tr>",
                            "<tr><td>stxowner</td><td>oid</td></tr>",
                            "<tr><td>stxstattarget</td><td>integer</td></tr>",
                            "<tr><td>stxkeys</td><td>ARRAY</td></tr>",
                            "<tr><td>stxkind</td><td>ARRAY</td></tr>",
                            "<tr><td>action_order</td><td>integer</td></tr>",
                            "<tr><td>stxoid</td><td>oid</td></tr>",
                            "<tr><td>stxdinherit</td><td>boolean</td></tr>",
                            "<tr><td>supported_value</td><td>integer</td></tr>",
                            "<tr><td>sizing_id</td><td>integer</td></tr>",
                            "<tr><td>integer_value</td><td>integer</td></tr>",
                            "<tr><td>stxdexpr</td><td>ARRAY</td></tr>",
                            "<tr><td>oid</td><td>oid</td></tr>",
                            "<tr><td>numeric_scale</td><td>integer</td></tr>",
                            "<tr><td>ev_class</td><td>oid</td></tr>",
                            "<tr><td>ev_type</td><td>&quot;char&quot;</td></tr>",
                            "<tr><td>ev_enabled</td><td>&quot;char&quot;</td></tr>",
                            "<tr><td>is_instead</td><td>boolean</td></tr>",
                            "<tr><td>numeric_precision_radix</td><td>integer</td></tr>",
                            "<tr><td>numeric_precision</td><td>integer</td></tr>",
                            "<tr><td>oid</td><td>oid</td></tr>",
                            "<tr><td>tgrelid</td><td>oid</td></tr>",
                            "<tr><td>tgparentid</td><td>oid</td></tr>",
                            "<tr><td>result_cast_maximum_cardinality</td><td>integer</td></tr>",
                            "<tr><td>tgfoid</td><td>oid</td></tr>",
                            "<tr><td>tgtype</td><td>smallint</td></tr>",
                            "<tr><td>tgenabled</td><td>&quot;char&quot;</td></tr>",
                            "<tr><td>tgisinternal</td><td>boolean</td></tr>",
                            "<tr><td>tgconstrrelid</td><td>oid</td></tr>",
                            "<tr><td>tgconstrindid</td><td>oid</td></tr>",
                            "<tr><td>tgconstraint</td><td>oid</td></tr>",
                            "<tr><td>tgdeferrable</td><td>boolean</td></tr>",
                            "<tr><td>tginitdeferred</td><td>boolean</td></tr>",
                            "<tr><td>tgnargs</td><td>smallint</td></tr>",
                            "<tr><td>tgattr</td><td>ARRAY</td></tr>",
                            "<tr><td>tgargs</td><td>bytea</td></tr>",
                            "<tr><td>result_cast_interval_precision</td><td>integer</td></tr>",
                            "<tr><td>result_cast_datetime_precision</td><td>integer</td></tr>",
                            "<tr><td>result_cast_numeric_scale</td><td>integer</td></tr>",
                            "<tr><td>oid</td><td>oid</td></tr>",
                            "<tr><td>result_cast_numeric_precision_radix</td><td>integer</td></tr>",
                            "<tr><td>result_cast_numeric_precision</td><td>integer</td></tr>",
                            "<tr><td>evtowner</td><td>oid</td></tr>",
                            "<tr><td>evtfoid</td><td>oid</td></tr>",
                            "<tr><td>evtenabled</td><td>&quot;char&quot;</td></tr>",
                            "<tr><td>result_cast_char_octet_length</td><td>integer</td></tr>",
                            "<tr><td>objoid</td><td>oid</td></tr>",
                            "<tr><td>classoid</td><td>oid</td></tr>",
                            "<tr><td>objsubid</td><td>integer</td></tr>",
                            "<tr><td>result_cast_char_max_length</td><td>integer</td></tr>",
                            "<tr><td>oid</td><td>oid</td></tr>",
                            "<tr><td>castsource</td><td>oid</td></tr>",
                            "<tr><td>casttarget</td><td>oid</td></tr>",
                            "<tr><td>castfunc</td><td>oid</td></tr>",
                            "<tr><td>castcontext</td><td>&quot;char&quot;</td></tr>",
                            "<tr><td>castmethod</td><td>&quot;char&quot;</td></tr>",
                            "<tr><td>oid</td><td>oid</td></tr>",
                            "<tr><td>enumtypid</td><td>oid</td></tr>",
                            "<tr><td>enumsortorder</td><td>real</td></tr>",
                            "<tr><td>last_altered</td><td>timestamp with time zone</td></tr>",
                            "<tr><td>oid</td><td>oid</td></tr>",
                            "<tr><td>created</td><td>timestamp with time zone</td></tr>",
                            "<tr><td>nspowner</td><td>oid</td></tr>",
                            "<tr><td>nspacl</td><td>ARRAY</td></tr>",
                            "<tr><td>oid</td><td>oid</td></tr>",
                            "<tr><td>max_dynamic_result_sets</td><td>integer</td></tr>",
                            "<tr><td>connamespace</td><td>oid</td></tr>",
                            "<tr><td>conowner</td><td>oid</td></tr>",
                            "<tr><td>conforencoding</td><td>integer</td></tr>",
                            "<tr><td>contoencoding</td><td>integer</td></tr>",
                            "<tr><td>conproc</td><td>regproc</td></tr>",
                            "<tr><td>condefault</td><td>boolean</td></tr>",
                            "<tr><td>classid</td><td>oid</td></tr>",
                            "<tr><td>objid</td><td>oid</td></tr>",
                            "<tr><td>objsubid</td><td>integer</td></tr>",
                            "<tr><td>refclassid</td><td>oid</td></tr>",
                            "<tr><td>refobjid</td><td>oid</td></tr>",
                            "<tr><td>refobjsubid</td><td>integer</td></tr>",
                            "<tr><td>deptype</td><td>&quot;char&quot;</td></tr>",
                            "<tr><td>oid</td><td>oid</td></tr>",
                            "<tr><td>maximum_cardinality</td><td>integer</td></tr>",
                            "<tr><td>datdba</td><td>oid</td></tr>",
                            "<tr><td>encoding</td><td>integer</td></tr>",
                            "<tr><td>datlocprovider</td><td>&quot;char&quot;</td></tr>",
                            "<tr><td>datistemplate</td><td>boolean</td></tr>",
                            "<tr><td>datallowconn</td><td>boolean</td></tr>",
                            "<tr><td>datconnlimit</td><td>integer</td></tr>",
                            "<tr><td>datfrozenxid</td><td>xid</td></tr>",
                            "<tr><td>datminmxid</td><td>xid</td></tr>",
                            "<tr><td>dattablespace</td><td>oid</td></tr>",
                            "<tr><td>interval_precision</td><td>integer</td></tr>",
                            "<tr><td>datetime_precision</td><td>integer</td></tr>",
                            "<tr><td>numeric_scale</td><td>integer</td></tr>",
                            "<tr><td>numeric_precision_radix</td><td>integer</td></tr>",
                            "<tr><td>numeric_precision</td><td>integer</td></tr>",
                            "<tr><td>datacl</td><td>ARRAY</td></tr>",
                            "<tr><td>setdatabase</td><td>oid</td></tr>",
                            "<tr><td>setrole</td><td>oid</td></tr>",
                            "<tr><td>character_octet_length</td><td>integer</td></tr>",
                            "<tr><td>oid</td><td>oid</td></tr>",
                            "<tr><td>character_maximum_length</td><td>integer</td></tr>",
                            "<tr><td>spcowner</td><td>oid</td></tr>",
                            "<tr><td>spcacl</td><td>ARRAY</td></tr>",
                            "<tr><td>maximum_cardinality</td><td>integer</td></tr>",
                            "<tr><td>oid</td><td>oid</td></tr>",
                            "<tr><td>interval_precision</td><td>integer</td></tr>",
                            "<tr><td>rolsuper</td><td>boolean</td></tr>",
                            "<tr><td>rolinherit</td><td>boolean</td></tr>",
                            "<tr><td>rolcreaterole</td><td>boolean</td></tr>",
                            "<tr><td>rolcreatedb</td><td>boolean</td></tr>",
                            "<tr><td>rolcanlogin</td><td>boolean</td></tr>",
                            "<tr><td>rolreplication</td><td>boolean</td></tr>",
                            "<tr><td>rolbypassrls</td><td>boolean</td></tr>",
                            "<tr><td>rolconnlimit</td><td>integer</td></tr>",
                            "<tr><td>datetime_precision</td><td>integer</td></tr>",
                            "<tr><td>rolvaliduntil</td><td>timestamp with time zone</td></tr>",
                            "<tr><td>oid</td><td>oid</td></tr>",
                            "<tr><td>roleid</td><td>oid</td></tr>",
                            "<tr><td>member</td><td>oid</td></tr>",
                            "<tr><td>grantor</td><td>oid</td></tr>",
                            "<tr><td>admin_option</td><td>boolean</td></tr>",
                            "<tr><td>inherit_option</td><td>boolean</td></tr>",
                            "<tr><td>set_option</td><td>boolean</td></tr>",
                            "<tr><td>dbid</td><td>oid</td></tr>",
                            "<tr><td>classid</td><td>oid</td></tr>",
                            "<tr><td>objid</td><td>oid</td></tr>",
                            "<tr><td>objsubid</td><td>integer</td></tr>",
                            "<tr><td>refclassid</td><td>oid</td></tr>",
                            "<tr><td>refobjid</td><td>oid</td></tr>",
                            "<tr><td>deptype</td><td>&quot;char&quot;</td></tr>",
                            "<tr><td>objoid</td><td>oid</td></tr>",
                            "<tr><td>classoid</td><td>oid</td></tr>",
                            "<tr><td>numeric_scale</td><td>integer</td></tr>",
                            "<tr><td>oid</td><td>oid</td></tr>",
                            "<tr><td>numeric_precision_radix</td><td>integer</td></tr>",
                            "<tr><td>cfgnamespace</td><td>oid</td></tr>",
                            "<tr><td>cfgowner</td><td>oid</td></tr>",
                            "<tr><td>cfgparser</td><td>oid</td></tr>",
                            "<tr><td>mapcfg</td><td>oid</td></tr>",
                            "<tr><td>maptokentype</td><td>integer</td></tr>",
                            "<tr><td>mapseqno</td><td>integer</td></tr>",
                            "<tr><td>mapdict</td><td>oid</td></tr>",
                            "<tr><td>oid</td><td>oid</td></tr>",
                            "<tr><td>numeric_precision</td><td>integer</td></tr>",
                            "<tr><td>dictnamespace</td><td>oid</td></tr>",
                            "<tr><td>dictowner</td><td>oid</td></tr>",
                            "<tr><td>dicttemplate</td><td>oid</td></tr>",
                            "<tr><td>character_octet_length</td><td>integer</td></tr>",
                            "<tr><td>oid</td><td>oid</td></tr>",
                            "<tr><td>character_maximum_length</td><td>integer</td></tr>",
                            "<tr><td>prsnamespace</td><td>oid</td></tr>",
                            "<tr><td>prsstart</td><td>regproc</td></tr>",
                            "<tr><td>prstoken</td><td>regproc</td></tr>",
                            "<tr><td>prsend</td><td>regproc</td></tr>",
                            "<tr><td>prsheadline</td><td>regproc</td></tr>",
                            "<tr><td>prslextype</td><td>regproc</td></tr>",
                            "<tr><td>oid</td><td>oid</td></tr>",
                            "<tr><td>ordinal_position</td><td>integer</td></tr>",
                            "<tr><td>tmplnamespace</td><td>oid</td></tr>",
                            "<tr><td>tmplinit</td><td>regproc</td></tr>",
                            "<tr><td>tmpllexize</td><td>regproc</td></tr>",
                            "<tr><td>oid</td><td>oid</td></tr>",
                            "<tr><td>position_in_unique_constraint</td><td>integer</td></tr>",
                            "<tr><td>extowner</td><td>oid</td></tr>",
                            "<tr><td>extnamespace</td><td>oid</td></tr>",
                            "<tr><td>extrelocatable</td><td>boolean</td></tr>",
                            "<tr><td>ordinal_position</td><td>integer</td></tr>",
                            "<tr><td>extconfig</td><td>ARRAY</td></tr>",
                            "<tr><td>maximum_cardinality</td><td>integer</td></tr>",
                            "<tr><td>oid</td><td>oid</td></tr>",
                            "<tr><td>interval_precision</td><td>integer</td></tr>",
                            "<tr><td>fdwowner</td><td>oid</td></tr>",
                            "<tr><td>fdwhandler</td><td>oid</td></tr>",
                            "<tr><td>fdwvalidator</td><td>oid</td></tr>",
                            "<tr><td>fdwacl</td><td>ARRAY</td></tr>",
                            "<tr><td>datetime_precision</td><td>integer</td></tr>",
                            "<tr><td>oid</td><td>oid</td></tr>",
                            "<tr><td>numeric_scale</td><td>integer</td></tr>",
                            "<tr><td>srvowner</td><td>oid</td></tr>",
                            "<tr><td>srvfdw</td><td>oid</td></tr>",
                            "<tr><td>numeric_precision_radix</td><td>integer</td></tr>",
                            "<tr><td>numeric_precision</td><td>integer</td></tr>",
                            "<tr><td>srvacl</td><td>ARRAY</td></tr>",
                            "<tr><td>character_octet_length</td><td>integer</td></tr>",
                            "<tr><td>oid</td><td>oid</td></tr>",
                            "<tr><td>umuser</td><td>oid</td></tr>",
                            "<tr><td>umserver</td><td>oid</td></tr>",
                            "<tr><td>character_maximum_length</td><td>integer</td></tr>",
                            "<tr><td>ftrelid</td><td>oid</td></tr>",
                            "<tr><td>ftserver</td><td>oid</td></tr>",
                            "<tr><td>maximum_cardinality</td><td>integer</td></tr>",
                            "<tr><td>oid</td><td>oid</td></tr>",
                            "<tr><td>interval_precision</td><td>integer</td></tr>",
                            "<tr><td>polrelid</td><td>oid</td></tr>",
                            "<tr><td>polcmd</td><td>&quot;char&quot;</td></tr>",
                            "<tr><td>polpermissive</td><td>boolean</td></tr>",
                            "<tr><td>polroles</td><td>ARRAY</td></tr>",
                            "<tr><td>datetime_precision</td><td>integer</td></tr>",
                            "<tr><td>numeric_scale</td><td>integer</td></tr>",
                            "<tr><td>roident</td><td>oid</td></tr>",
                            "<tr><td>numeric_precision_radix</td><td>integer</td></tr>",
                            "<tr><td>oid</td><td>oid</td></tr>",
                            "<tr><td>defaclrole</td><td>oid</td></tr>",
                            "<tr><td>defaclnamespace</td><td>oid</td></tr>",
                            "<tr><td>defaclobjtype</td><td>&quot;char&quot;</td></tr>",
                            "<tr><td>defaclacl</td><td>ARRAY</td></tr>",
                            "<tr><td>objoid</td><td>oid</td></tr>",
                            "<tr><td>classoid</td><td>oid</td></tr>",
                            "<tr><td>objsubid</td><td>integer</td></tr>",
                            "<tr><td>privtype</td><td>&quot;char&quot;</td></tr>",
                            "<tr><td>initprivs</td><td>ARRAY</td></tr>",
                            "<tr><td>objoid</td><td>oid</td></tr>",
                            "<tr><td>classoid</td><td>oid</td></tr>",
                            "<tr><td>objsubid</td><td>integer</td></tr>",
                            "<tr><td>numeric_precision</td><td>integer</td></tr>",
                            "<tr><td>character_octet_length</td><td>integer</td></tr>",
                            "<tr><td>objoid</td><td>oid</td></tr>",
                            "<tr><td>classoid</td><td>oid</td></tr>",
                            "<tr><td>character_maximum_length</td><td>integer</td></tr>",
                            "<tr><td>ordinal_position</td><td>integer</td></tr>",
                            "<tr><td>oid</td><td>oid</td></tr>",
                            "<tr><td>maximum_cardinality</td><td>integer</td></tr>",
                            "<tr><td>collnamespace</td><td>oid</td></tr>",
                            "<tr><td>collowner</td><td>oid</td></tr>",
                            "<tr><td>collprovider</td><td>&quot;char&quot;</td></tr>",
                            "<tr><td>collisdeterministic</td><td>boolean</td></tr>",
                            "<tr><td>collencoding</td><td>integer</td></tr>",
                            "<tr><td>interval_precision</td><td>integer</td></tr>",
                            "<tr><td>datetime_precision</td><td>integer</td></tr>",
                            "<tr><td>numeric_scale</td><td>integer</td></tr>",
                            "<tr><td>numeric_precision_radix</td><td>integer</td></tr>",
                            "<tr><td>numeric_precision</td><td>integer</td></tr>",
                            "<tr><td>oid</td><td>oid</td></tr>",
                            "<tr><td>character_octet_length</td><td>integer</td></tr>",
                            "<tr><td>paracl</td><td>ARRAY</td></tr>",
                            "<tr><td>partrelid</td><td>oid</td></tr>",
                            "<tr><td>partstrat</td><td>&quot;char&quot;</td></tr>",
                            "<tr><td>partnatts</td><td>smallint</td></tr>",
                            "<tr><td>partdefid</td><td>oid</td></tr>",
                            "<tr><td>partattrs</td><td>ARRAY</td></tr>",
                            "<tr><td>partclass</td><td>ARRAY</td></tr>",
                            "<tr><td>partcollation</td><td>ARRAY</td></tr>",
                            "<tr><td>character_maximum_length</td><td>integer</td></tr>",
                            "<tr><td>rngtypid</td><td>oid</td></tr>",
                            "<tr><td>rngsubtype</td><td>oid</td></tr>",
                            "<tr><td>rngmultitypid</td><td>oid</td></tr>",
                            "<tr><td>rngcollation</td><td>oid</td></tr>",
                            "<tr><td>rngsubopc</td><td>oid</td></tr>",
                            "<tr><td>rngcanonical</td><td>regproc</td></tr>",
                            "<tr><td>rngsubdiff</td><td>regproc</td></tr>",
                            "<tr><td>oid</td><td>oid</td></tr>",
                            "<tr><td>trftype</td><td>oid</td></tr>",
                            "<tr><td>trflang</td><td>oid</td></tr>",
                            "<tr><td>trffromsql</td><td>regproc</td></tr>",
                            "<tr><td>trftosql</td><td>regproc</td></tr>",
                            "<tr><td>seqrelid</td><td>oid</td></tr>",
                            "<tr><td>seqtypid</td><td>oid</td></tr>",
                            "<tr><td>seqstart</td><td>bigint</td></tr>",
                            "<tr><td>seqincrement</td><td>bigint</td></tr>",
                            "<tr><td>seqmax</td><td>bigint</td></tr>",
                            "<tr><td>seqmin</td><td>bigint</td></tr>",
                            "<tr><td>seqcache</td><td>bigint</td></tr>",
                            "<tr><td>seqcycle</td><td>boolean</td></tr>",
                            "<tr><td>oid</td><td>oid</td></tr>",
                            "<tr><td>ordinal_position</td><td>integer</td></tr>",
                            "<tr><td>pubowner</td><td>oid</td></tr>",
                            "<tr><td>puballtables</td><td>boolean</td></tr>",
                            "<tr><td>pubinsert</td><td>boolean</td></tr>",
                            "<tr><td>pubupdate</td><td>boolean</td></tr>",
                            "<tr><td>pubdelete</td><td>boolean</td></tr>",
                            "<tr><td>pubtruncate</td><td>boolean</td></tr>",
                            "<tr><td>pubviaroot</td><td>boolean</td></tr>",
                            "<tr><td>oid</td><td>oid</td></tr>",
                            "<tr><td>pnpubid</td><td>oid</td></tr>",
                            "<tr><td>pnnspid</td><td>oid</td></tr>",
                            "<tr><td>oid</td><td>oid</td></tr>",
                            "<tr><td>prpubid</td><td>oid</td></tr>",
                            "<tr><td>prrelid</td><td>oid</td></tr>",
                            "<tr><td>stats_reset</td><td>timestamp with time zone</td></tr>",
                            "<tr><td>prattrs</td><td>ARRAY</td></tr>",
                            "<tr><td>sync_error_count</td><td>bigint</td></tr>",
                            "<tr><td>srsubid</td><td>oid</td></tr>",
                            "<tr><td>srrelid</td><td>oid</td></tr>",
                            "<tr><td>srsubstate</td><td>&quot;char&quot;</td></tr>",
                            "<tr><td>srsublsn</td><td>pg_lsn</td></tr>",
                            "<tr><td>apply_error_count</td><td>bigint</td></tr>",
                            "<tr><td>rolsuper</td><td>boolean</td></tr>",
                            "<tr><td>rolinherit</td><td>boolean</td></tr>",
                            "<tr><td>rolcreaterole</td><td>boolean</td></tr>",
                            "<tr><td>rolcreatedb</td><td>boolean</td></tr>",
                            "<tr><td>rolcanlogin</td><td>boolean</td></tr>",
                            "<tr><td>rolreplication</td><td>boolean</td></tr>",
                            "<tr><td>rolconnlimit</td><td>integer</td></tr>",
                            "<tr><td>oid</td><td>oid</td></tr>",
                            "<tr><td>rolvaliduntil</td><td>timestamp with time zone</td></tr>",
                            "<tr><td>rolbypassrls</td><td>boolean</td></tr>",
                            "<tr><td>subid</td><td>oid</td></tr>",
                            "<tr><td>oid</td><td>oid</td></tr>",
                            "<tr><td>subrunasowner</td><td>boolean</td></tr>",
                            "<tr><td>usesysid</td><td>oid</td></tr>",
                            "<tr><td>usecreatedb</td><td>boolean</td></tr>",
                            "<tr><td>usesuper</td><td>boolean</td></tr>",
                            "<tr><td>userepl</td><td>boolean</td></tr>",
                            "<tr><td>usebypassrls</td><td>boolean</td></tr>",
                            "<tr><td>subpasswordrequired</td><td>boolean</td></tr>",
                            "<tr><td>valuntil</td><td>timestamp with time zone</td></tr>",
                            "<tr><td>subdisableonerr</td><td>boolean</td></tr>",
                            "<tr><td>subtwophasestate</td><td>&quot;char&quot;</td></tr>",
                            "<tr><td>grosysid</td><td>oid</td></tr>",
                            "<tr><td>grolist</td><td>ARRAY</td></tr>",
                            "<tr><td>substream</td><td>&quot;char&quot;</td></tr>",
                            "<tr><td>usesysid</td><td>oid</td></tr>",
                            "<tr><td>usecreatedb</td><td>boolean</td></tr>",
                            "<tr><td>usesuper</td><td>boolean</td></tr>",
                            "<tr><td>userepl</td><td>boolean</td></tr>",
                            "<tr><td>usebypassrls</td><td>boolean</td></tr>",
                            "<tr><td>pronamespace</td><td>oid</td></tr>",
                            "<tr><td>valuntil</td><td>timestamp with time zone</td></tr>",
                            "<tr><td>subbinary</td><td>boolean</td></tr>",
                            "<tr><td>subenabled</td><td>boolean</td></tr>",
                            "<tr><td>subowner</td><td>oid</td></tr>",
                            "<tr><td>subskiplsn</td><td>pg_lsn</td></tr>",
                            "<tr><td>proowner</td><td>oid</td></tr>",
                            "<tr><td>subdbid</td><td>oid</td></tr>",
                            "<tr><td>prolang</td><td>oid</td></tr>",
                            "<tr><td>oid</td><td>oid</td></tr>",
                            "<tr><td>local_lsn</td><td>pg_lsn</td></tr>",
                            "<tr><td>remote_lsn</td><td>pg_lsn</td></tr>",
                            "<tr><td>local_id</td><td>oid</td></tr>",
                            "<tr><td>umuser</td><td>oid</td></tr>",
                            "<tr><td>procost</td><td>real</td></tr>",
                            "<tr><td>srvid</td><td>oid</td></tr>",
                            "<tr><td>umid</td><td>oid</td></tr>",
                            "<tr><td>tuples_excluded</td><td>bigint</td></tr>",
                            "<tr><td>prorows</td><td>real</td></tr>",
                            "<tr><td>tuples_processed</td><td>bigint</td></tr>",
                            "<tr><td>bytes_total</td><td>bigint</td></tr>",
                            "<tr><td>bytes_processed</td><td>bigint</td></tr>",
                            "<tr><td>relid</td><td>oid</td></tr>",
                            "<tr><td>hasindexes</td><td>boolean</td></tr>",
                            "<tr><td>hasrules</td><td>boolean</td></tr>",
                            "<tr><td>hastriggers</td><td>boolean</td></tr>",
                            "<tr><td>rowsecurity</td><td>boolean</td></tr>",
                            "<tr><td>datid</td><td>oid</td></tr>",
                            "<tr><td>pid</td><td>integer</td></tr>",
                            "<tr><td>tablespaces_streamed</td><td>bigint</td></tr>",
                            "<tr><td>tablespaces_total</td><td>bigint</td></tr>",
                            "<tr><td>hasindexes</td><td>boolean</td></tr>",
                            "<tr><td>ispopulated</td><td>boolean</td></tr>",
                            "<tr><td>provariadic</td><td>oid</td></tr>",
                            "<tr><td>backup_streamed</td><td>bigint</td></tr>",
                            "<tr><td>backup_total</td><td>bigint</td></tr>",
                            "<tr><td>pid</td><td>integer</td></tr>",
                            "<tr><td>partitions_done</td><td>bigint</td></tr>",
                            "<tr><td>prosupport</td><td>regproc</td></tr>",
                            "<tr><td>partitions_total</td><td>bigint</td></tr>",
                            "<tr><td>tuples_done</td><td>bigint</td></tr>",
                            "<tr><td>tuples_total</td><td>bigint</td></tr>",
                            "<tr><td>data_type</td><td>regtype</td></tr>",
                            "<tr><td>start_value</td><td>bigint</td></tr>",
                            "<tr><td>min_value</td><td>bigint</td></tr>",
                            "<tr><td>max_value</td><td>bigint</td></tr>",
                            "<tr><td>increment_by</td><td>bigint</td></tr>",
                            "<tr><td>cycle</td><td>boolean</td></tr>",
                            "<tr><td>cache_size</td><td>bigint</td></tr>",
                            "<tr><td>last_value</td><td>bigint</td></tr>",
                            "<tr><td>blocks_done</td><td>bigint</td></tr>",
                            "<tr><td>blocks_total</td><td>bigint</td></tr>",
                            "<tr><td>current_locker_pid</td><td>bigint</td></tr>",
                            "<tr><td>inherited</td><td>boolean</td></tr>",
                            "<tr><td>null_frac</td><td>real</td></tr>",
                            "<tr><td>avg_width</td><td>integer</td></tr>",
                            "<tr><td>n_distinct</td><td>real</td></tr>",
                            "<tr><td>most_common_vals</td><td>anyarray</td></tr>",
                            "<tr><td>most_common_freqs</td><td>ARRAY</td></tr>",
                            "<tr><td>histogram_bounds</td><td>anyarray</td></tr>",
                            "<tr><td>correlation</td><td>real</td></tr>",
                            "<tr><td>most_common_elems</td><td>anyarray</td></tr>",
                            "<tr><td>most_common_elem_freqs</td><td>ARRAY</td></tr>",
                            "<tr><td>elem_count_histogram</td><td>ARRAY</td></tr>",
                            "<tr><td>lockers_done</td><td>bigint</td></tr>",
                            "<tr><td>lockers_total</td><td>bigint</td></tr>",
                            "<tr><td>index_relid</td><td>oid</td></tr>",
                            "<tr><td>relid</td><td>oid</td></tr>",
                            "<tr><td>datid</td><td>oid</td></tr>",
                            "<tr><td>pid</td><td>integer</td></tr>",
                            "<tr><td>prokind</td><td>&quot;char&quot;</td></tr>",
                            "<tr><td>kinds</td><td>ARRAY</td></tr>",
                            "<tr><td>inherited</td><td>boolean</td></tr>",
                            "<tr><td>index_rebuild_count</td><td>bigint</td></tr>",
                            "<tr><td>heap_blks_scanned</td><td>bigint</td></tr>",
                            "<tr><td>prosecdef</td><td>boolean</td></tr>",
                            "<tr><td>most_common_val_nulls</td><td>ARRAY</td></tr>",
                            "<tr><td>most_common_freqs</td><td>ARRAY</td></tr>",
                            "<tr><td>most_common_base_freqs</td><td>ARRAY</td></tr>",
                            "<tr><td>heap_blks_total</td><td>bigint</td></tr>",
                            "<tr><td>heap_tuples_written</td><td>bigint</td></tr>",
                            "<tr><td>heap_tuples_scanned</td><td>bigint</td></tr>",
                            "<tr><td>cluster_index_relid</td><td>oid</td></tr>",
                            "<tr><td>relid</td><td>oid</td></tr>",
                            "<tr><td>proleakproof</td><td>boolean</td></tr>",
                            "<tr><td>inherited</td><td>boolean</td></tr>",
                            "<tr><td>null_frac</td><td>real</td></tr>",
                            "<tr><td>avg_width</td><td>integer</td></tr>",
                            "<tr><td>n_distinct</td><td>real</td></tr>",
                            "<tr><td>most_common_vals</td><td>anyarray</td></tr>",
                            "<tr><td>most_common_freqs</td><td>ARRAY</td></tr>",
                            "<tr><td>histogram_bounds</td><td>anyarray</td></tr>",
                            "<tr><td>correlation</td><td>real</td></tr>",
                            "<tr><td>most_common_elems</td><td>anyarray</td></tr>",
                            "<tr><td>most_common_elem_freqs</td><td>ARRAY</td></tr>",
                            "<tr><td>elem_count_histogram</td><td>ARRAY</td></tr>",
                            "<tr><td>datid</td><td>oid</td></tr>",
                            "<tr><td>pid</td><td>integer</td></tr>",
                            "<tr><td>num_dead_tuples</td><td>bigint</td></tr>",
                            "<tr><td>max_dead_tuples</td><td>bigint</td></tr>",
                            "<tr><td>proisstrict</td><td>boolean</td></tr>",
                            "<tr><td>proretset</td><td>boolean</td></tr>",
                            "<tr><td>database</td><td>oid</td></tr>",
                            "<tr><td>relation</td><td>oid</td></tr>",
                            "<tr><td>page</td><td>integer</td></tr>",
                            "<tr><td>tuple</td><td>smallint</td></tr>",
                            "<tr><td>provolatile</td><td>&quot;char&quot;</td></tr>",
                            "<tr><td>transactionid</td><td>xid</td></tr>",
                            "<tr><td>classid</td><td>oid</td></tr>",
                            "<tr><td>objid</td><td>oid</td></tr>",
                            "<tr><td>objsubid</td><td>smallint</td></tr>",
                            "<tr><td>proparallel</td><td>&quot;char&quot;</td></tr>",
                            "<tr><td>pid</td><td>integer</td></tr>",
                            "<tr><td>pronargs</td><td>smallint</td></tr>",
                            "<tr><td>granted</td><td>boolean</td></tr>",
                            "<tr><td>fastpath</td><td>boolean</td></tr>",
                            "<tr><td>waitstart</td><td>timestamp with time zone</td></tr>",
                            "<tr><td>pronargdefaults</td><td>smallint</td></tr>",
                            "<tr><td>prorettype</td><td>oid</td></tr>",
                            "<tr><td>is_holdable</td><td>boolean</td></tr>",
                            "<tr><td>is_binary</td><td>boolean</td></tr>",
                            "<tr><td>is_scrollable</td><td>boolean</td></tr>",
                            "<tr><td>creation_time</td><td>timestamp with time zone</td></tr>",
                            "<tr><td>index_vacuum_count</td><td>bigint</td></tr>",
                            "<tr><td>proargtypes</td><td>ARRAY</td></tr>",
                            "<tr><td>heap_blks_vacuumed</td><td>bigint</td></tr>",
                            "<tr><td>proallargtypes</td><td>ARRAY</td></tr>",
                            "<tr><td>heap_blks_scanned</td><td>bigint</td></tr>",
                            "<tr><td>proargmodes</td><td>ARRAY</td></tr>",
                            "<tr><td>installed</td><td>boolean</td></tr>",
                            "<tr><td>superuser</td><td>boolean</td></tr>",
                            "<tr><td>trusted</td><td>boolean</td></tr>",
                            "<tr><td>relocatable</td><td>boolean</td></tr>",
                            "<tr><td>heap_blks_total</td><td>bigint</td></tr>",
                            "<tr><td>relid</td><td>oid</td></tr>",
                            "<tr><td>srid</td><td>integer</td></tr>",
                            "<tr><td>transaction</td><td>xid</td></tr>",
                            "<tr><td>coord_dimension</td><td>integer</td></tr>",
                            "<tr><td>prepared</td><td>timestamp with time zone</td></tr>",
                            "<tr><td>datid</td><td>oid</td></tr>",
                            "<tr><td>pid</td><td>integer</td></tr>",
                            "<tr><td>protrftypes</td><td>ARRAY</td></tr>",
                            "<tr><td>srid</td><td>integer</td></tr>",
                            "<tr><td>prepare_time</td><td>timestamp with time zone</td></tr>",
                            "<tr><td>parameter_types</td><td>ARRAY</td></tr>",
                            "<tr><td>result_types</td><td>ARRAY</td></tr>",
                            "<tr><td>from_sql</td><td>boolean</td></tr>",
                            "<tr><td>generic_plans</td><td>bigint</td></tr>",
                            "<tr><td>custom_plans</td><td>bigint</td></tr>",
                            "<tr><td>objoid</td><td>oid</td></tr>",
                            "<tr><td>classoid</td><td>oid</td></tr>",
                            "<tr><td>objsubid</td><td>integer</td></tr>",
                            "<tr><td>coord_dimension</td><td>integer</td></tr>",
                            "<tr><td>objnamespace</td><td>oid</td></tr>",
                            "<tr><td>current_child_table_relid</td><td>oid</td></tr>",
                            "<tr><td>child_tables_done</td><td>bigint</td></tr>",
                            "<tr><td>child_tables_total</td><td>bigint</td></tr>",
                            "<tr><td>auth_srid</td><td>integer</td></tr>",
                            "<tr><td>srid</td><td>integer</td></tr>",
                            "<tr><td>proacl</td><td>ARRAY</td></tr>",
                            "<tr><td>oid</td><td>oid</td></tr>",
                            "<tr><td>Year</td><td>bigint</td></tr>",
                            "<tr><td>typnamespace</td><td>oid</td></tr>",
                            "<tr><td>typowner</td><td>oid</td></tr>",
                            "<tr><td>typlen</td><td>smallint</td></tr>",
                            "<tr><td>typbyval</td><td>boolean</td></tr>",
                            "<tr><td>typtype</td><td>&quot;char&quot;</td></tr>",
                            "<tr><td>typcategory</td><td>&quot;char&quot;</td></tr>",
                            "<tr><td>typispreferred</td><td>boolean</td></tr>",
                            "<tr><td>typisdefined</td><td>boolean</td></tr>",
                            "<tr><td>typdelim</td><td>&quot;char&quot;</td></tr>",
                            "<tr><td>typrelid</td><td>oid</td></tr>",
                            "<tr><td>sourceline</td><td>integer</td></tr>",
                            "<tr><td>pending_restart</td><td>boolean</td></tr>",
                            "<tr><td>typsubscript</td><td>regproc</td></tr>",
                            "<tr><td>sourceline</td><td>integer</td></tr>",
                            "<tr><td>seqno</td><td>integer</td></tr>",
                            "<tr><td>typelem</td><td>oid</td></tr>",
                            "<tr><td>typarray</td><td>oid</td></tr>",
                            "<tr><td>applied</td><td>boolean</td></tr>",
                            "<tr><td>typinput</td><td>regproc</td></tr>",
                            "<tr><td>rule_number</td><td>integer</td></tr>",
                            "<tr><td>typoutput</td><td>regproc</td></tr>",
                            "<tr><td>line_number</td><td>integer</td></tr>",
                            "<tr><td>typreceive</td><td>regproc</td></tr>",
                            "<tr><td>typsend</td><td>regproc</td></tr>",
                            "<tr><td>typmodin</td><td>regproc</td></tr>",
                            "<tr><td>typmodout</td><td>regproc</td></tr>",
                            "<tr><td>typanalyze</td><td>regproc</td></tr>",
                            "<tr><td>typalign</td><td>&quot;char&quot;</td></tr>",
                            "<tr><td>typstorage</td><td>&quot;char&quot;</td></tr>",
                            "<tr><td>typnotnull</td><td>boolean</td></tr>",
                            "<tr><td>map_number</td><td>integer</td></tr>",
                            "<tr><td>typbasetype</td><td>oid</td></tr>",
                            "<tr><td>line_number</td><td>integer</td></tr>",
                            "<tr><td>typtypmod</td><td>integer</td></tr>",
                            "<tr><td>typndims</td><td>integer</td></tr>",
                            "<tr><td>typcollation</td><td>oid</td></tr>",
                            "<tr><td>umuser</td><td>oid</td></tr>",
                            "<tr><td>oid</td><td>oid</td></tr>",
                            "<tr><td>utc_offset</td><td>interval</td></tr>",
                            "<tr><td>is_dst</td><td>boolean</td></tr>",
                            "<tr><td>typacl</td><td>ARRAY</td></tr>",
                            "<tr><td>attrelid</td><td>oid</td></tr>",
                            "<tr><td>utc_offset</td><td>interval</td></tr>",
                            "<tr><td>is_dst</td><td>boolean</td></tr>",
                            "<tr><td>oid</td><td>oid</td></tr>",
                            "<tr><td>atttypid</td><td>oid</td></tr>",
                            "<tr><td>attlen</td><td>smallint</td></tr>",
                            "<tr><td>off</td><td>bigint</td></tr>",
                            "<tr><td>size</td><td>bigint</td></tr>",
                            "<tr><td>allocated_size</td><td>bigint</td></tr>",
                            "<tr><td>attnum</td><td>smallint</td></tr>",
                            "<tr><td>attcacheoff</td><td>integer</td></tr>",
                            "<tr><td>atttypmod</td><td>integer</td></tr>",
                            "<tr><td>level</td><td>integer</td></tr>",
                            "<tr><td>total_bytes</td><td>bigint</td></tr>",
                            "<tr><td>total_nblocks</td><td>bigint</td></tr>",
                            "<tr><td>free_bytes</td><td>bigint</td></tr>",
                            "<tr><td>free_chunks</td><td>bigint</td></tr>",
                            "<tr><td>used_bytes</td><td>bigint</td></tr>",
                            "<tr><td>relid</td><td>oid</td></tr>",
                            "<tr><td>ext_stats_computed</td><td>bigint</td></tr>",
                            "<tr><td>ext_stats_total</td><td>bigint</td></tr>",
                            "<tr><td>seq_scan</td><td>bigint</td></tr>",
                            "<tr><td>last_seq_scan</td><td>timestamp with time zone</td></tr>",
                            "<tr><td>seq_tup_read</td><td>bigint</td></tr>",
                            "<tr><td>idx_scan</td><td>bigint</td></tr>",
                            "<tr><td>last_idx_scan</td><td>timestamp with time zone</td></tr>",
                            "<tr><td>idx_tup_fetch</td><td>bigint</td></tr>",
                            "<tr><td>n_tup_ins</td><td>bigint</td></tr>",
                            "<tr><td>n_tup_upd</td><td>bigint</td></tr>",
                            "<tr><td>n_tup_del</td><td>bigint</td></tr>",
                            "<tr><td>n_tup_hot_upd</td><td>bigint</td></tr>",
                            "<tr><td>n_tup_newpage_upd</td><td>bigint</td></tr>",
                            "<tr><td>n_live_tup</td><td>bigint</td></tr>",
                            "<tr><td>n_dead_tup</td><td>bigint</td></tr>",
                            "<tr><td>n_mod_since_analyze</td><td>bigint</td></tr>",
                            "<tr><td>n_ins_since_vacuum</td><td>bigint</td></tr>",
                            "<tr><td>last_vacuum</td><td>timestamp with time zone</td></tr>",
                            "<tr><td>last_autovacuum</td><td>timestamp with time zone</td></tr>",
                            "<tr><td>last_analyze</td><td>timestamp with time zone</td></tr>",
                            "<tr><td>last_autoanalyze</td><td>timestamp with time zone</td></tr>",
                            "<tr><td>vacuum_count</td><td>bigint</td></tr>",
                            "<tr><td>autovacuum_count</td><td>bigint</td></tr>",
                            "<tr><td>analyze_count</td><td>bigint</td></tr>",
                            "<tr><td>autoanalyze_count</td><td>bigint</td></tr>",
                            "<tr><td>relid</td><td>oid</td></tr>",
                            "<tr><td>sample_blks_scanned</td><td>bigint</td></tr>",
                            "<tr><td>sample_blks_total</td><td>bigint</td></tr>",
                            "<tr><td>seq_scan</td><td>bigint</td></tr>",
                            "<tr><td>seq_tup_read</td><td>bigint</td></tr>",
                            "<tr><td>idx_scan</td><td>bigint</td></tr>",
                            "<tr><td>idx_tup_fetch</td><td>bigint</td></tr>",
                            "<tr><td>n_tup_ins</td><td>bigint</td></tr>",
                            "<tr><td>n_tup_upd</td><td>bigint</td></tr>",
                            "<tr><td>n_tup_del</td><td>bigint</td></tr>",
                            "<tr><td>n_tup_hot_upd</td><td>bigint</td></tr>",
                            "<tr><td>n_tup_newpage_upd</td><td>bigint</td></tr>",
                            "<tr><td>relid</td><td>oid</td></tr>",
                            "<tr><td>relid</td><td>oid</td></tr>",
                            "<tr><td>datid</td><td>oid</td></tr>",
                            "<tr><td>seq_scan</td><td>bigint</td></tr>",
                            "<tr><td>last_seq_scan</td><td>timestamp with time zone</td></tr>",
                            "<tr><td>seq_tup_read</td><td>bigint</td></tr>",
                            "<tr><td>idx_scan</td><td>bigint</td></tr>",
                            "<tr><td>last_idx_scan</td><td>timestamp with time zone</td></tr>",
                            "<tr><td>idx_tup_fetch</td><td>bigint</td></tr>",
                            "<tr><td>n_tup_ins</td><td>bigint</td></tr>",
                            "<tr><td>n_tup_upd</td><td>bigint</td></tr>",
                            "<tr><td>n_tup_del</td><td>bigint</td></tr>",
                            "<tr><td>n_tup_hot_upd</td><td>bigint</td></tr>",
                            "<tr><td>n_tup_newpage_upd</td><td>bigint</td></tr>",
                            "<tr><td>n_live_tup</td><td>bigint</td></tr>",
                            "<tr><td>n_dead_tup</td><td>bigint</td></tr>",
                            "<tr><td>n_mod_since_analyze</td><td>bigint</td></tr>",
                            "<tr><td>n_ins_since_vacuum</td><td>bigint</td></tr>",
                            "<tr><td>last_vacuum</td><td>timestamp with time zone</td></tr>",
                            "<tr><td>last_autovacuum</td><td>timestamp with time zone</td></tr>",
                            "<tr><td>last_analyze</td><td>timestamp with time zone</td></tr>",
                            "<tr><td>last_autoanalyze</td><td>timestamp with time zone</td></tr>",
                            "<tr><td>vacuum_count</td><td>bigint</td></tr>",
                            "<tr><td>autovacuum_count</td><td>bigint</td></tr>",
                            "<tr><td>analyze_count</td><td>bigint</td></tr>",
                            "<tr><td>autoanalyze_count</td><td>bigint</td></tr>",
                            "<tr><td>relid</td><td>oid</td></tr>",
                            "<tr><td>pid</td><td>integer</td></tr>",
                            "<tr><td>stats_reset</td><td>timestamp with time zone</td></tr>",
                            "<tr><td>seq_scan</td><td>bigint</td></tr>",
                            "<tr><td>seq_tup_read</td><td>bigint</td></tr>",
                            "<tr><td>idx_scan</td><td>bigint</td></tr>",
                            "<tr><td>idx_tup_fetch</td><td>bigint</td></tr>",
                            "<tr><td>n_tup_ins</td><td>bigint</td></tr>",
                            "<tr><td>n_tup_upd</td><td>bigint</td></tr>",
                            "<tr><td>n_tup_del</td><td>bigint</td></tr>",
                            "<tr><td>n_tup_hot_upd</td><td>bigint</td></tr>",
                            "<tr><td>n_tup_newpage_upd</td><td>bigint</td></tr>",
                            "<tr><td>relid</td><td>oid</td></tr>",
                            "<tr><td>wal_sync_time</td><td>double precision</td></tr>",
                            "<tr><td>wal_write_time</td><td>double precision</td></tr>",
                            "<tr><td>seq_scan</td><td>bigint</td></tr>",
                            "<tr><td>last_seq_scan</td><td>timestamp with time zone</td></tr>",
                            "<tr><td>seq_tup_read</td><td>bigint</td></tr>",
                            "<tr><td>idx_scan</td><td>bigint</td></tr>",
                            "<tr><td>last_idx_scan</td><td>timestamp with time zone</td></tr>",
                            "<tr><td>idx_tup_fetch</td><td>bigint</td></tr>",
                            "<tr><td>n_tup_ins</td><td>bigint</td></tr>",
                            "<tr><td>n_tup_upd</td><td>bigint</td></tr>",
                            "<tr><td>n_tup_del</td><td>bigint</td></tr>",
                            "<tr><td>n_tup_hot_upd</td><td>bigint</td></tr>",
                            "<tr><td>n_tup_newpage_upd</td><td>bigint</td></tr>",
                            "<tr><td>n_live_tup</td><td>bigint</td></tr>",
                            "<tr><td>n_dead_tup</td><td>bigint</td></tr>",
                            "<tr><td>n_mod_since_analyze</td><td>bigint</td></tr>",
                            "<tr><td>n_ins_since_vacuum</td><td>bigint</td></tr>",
                            "<tr><td>last_vacuum</td><td>timestamp with time zone</td></tr>",
                            "<tr><td>last_autovacuum</td><td>timestamp with time zone</td></tr>",
                            "<tr><td>last_analyze</td><td>timestamp with time zone</td></tr>",
                            "<tr><td>last_autoanalyze</td><td>timestamp with time zone</td></tr>",
                            "<tr><td>vacuum_count</td><td>bigint</td></tr>",
                            "<tr><td>autovacuum_count</td><td>bigint</td></tr>",
                            "<tr><td>analyze_count</td><td>bigint</td></tr>",
                            "<tr><td>autoanalyze_count</td><td>bigint</td></tr>",
                            "<tr><td>relid</td><td>oid</td></tr>",
                            "<tr><td>wal_sync</td><td>bigint</td></tr>",
                            "<tr><td>wal_write</td><td>bigint</td></tr>",
                            "<tr><td>seq_scan</td><td>bigint</td></tr>",
                            "<tr><td>seq_tup_read</td><td>bigint</td></tr>",
                            "<tr><td>idx_scan</td><td>bigint</td></tr>",
                            "<tr><td>idx_tup_fetch</td><td>bigint</td></tr>",
                            "<tr><td>n_tup_ins</td><td>bigint</td></tr>",
                            "<tr><td>n_tup_upd</td><td>bigint</td></tr>",
                            "<tr><td>n_tup_del</td><td>bigint</td></tr>",
                            "<tr><td>n_tup_hot_upd</td><td>bigint</td></tr>",
                            "<tr><td>n_tup_newpage_upd</td><td>bigint</td></tr>",
                            "<tr><td>relid</td><td>oid</td></tr>",
                            "<tr><td>wal_buffers_full</td><td>bigint</td></tr>",
                            "<tr><td>wal_bytes</td><td>numeric</td></tr>",
                            "<tr><td>heap_blks_read</td><td>bigint</td></tr>",
                            "<tr><td>heap_blks_hit</td><td>bigint</td></tr>",
                            "<tr><td>idx_blks_read</td><td>bigint</td></tr>",
                            "<tr><td>idx_blks_hit</td><td>bigint</td></tr>",
                            "<tr><td>toast_blks_read</td><td>bigint</td></tr>",
                            "<tr><td>toast_blks_hit</td><td>bigint</td></tr>",
                            "<tr><td>tidx_blks_read</td><td>bigint</td></tr>",
                            "<tr><td>tidx_blks_hit</td><td>bigint</td></tr>",
                            "<tr><td>relid</td><td>oid</td></tr>",
                            "<tr><td>wal_fpi</td><td>bigint</td></tr>",
                            "<tr><td>wal_records</td><td>bigint</td></tr>",
                            "<tr><td>heap_blks_read</td><td>bigint</td></tr>",
                            "<tr><td>heap_blks_hit</td><td>bigint</td></tr>",
                            "<tr><td>idx_blks_read</td><td>bigint</td></tr>",
                            "<tr><td>idx_blks_hit</td><td>bigint</td></tr>",
                            "<tr><td>toast_blks_read</td><td>bigint</td></tr>",
                            "<tr><td>toast_blks_hit</td><td>bigint</td></tr>",
                            "<tr><td>tidx_blks_read</td><td>bigint</td></tr>",
                            "<tr><td>tidx_blks_hit</td><td>bigint</td></tr>",
                            "<tr><td>relid</td><td>oid</td></tr>",
                            "<tr><td>stats_reset</td><td>timestamp with time zone</td></tr>",
                            "<tr><td>fsync_time</td><td>double precision</td></tr>",
                            "<tr><td>heap_blks_read</td><td>bigint</td></tr>",
                            "<tr><td>heap_blks_hit</td><td>bigint</td></tr>",
                            "<tr><td>idx_blks_read</td><td>bigint</td></tr>",
                            "<tr><td>idx_blks_hit</td><td>bigint</td></tr>",
                            "<tr><td>toast_blks_read</td><td>bigint</td></tr>",
                            "<tr><td>toast_blks_hit</td><td>bigint</td></tr>",
                            "<tr><td>tidx_blks_read</td><td>bigint</td></tr>",
                            "<tr><td>tidx_blks_hit</td><td>bigint</td></tr>",
                            "<tr><td>relid</td><td>oid</td></tr>",
                            "<tr><td>indexrelid</td><td>oid</td></tr>",
                            "<tr><td>fsyncs</td><td>bigint</td></tr>",
                            "<tr><td>reuses</td><td>bigint</td></tr>",
                            "<tr><td>evictions</td><td>bigint</td></tr>",
                            "<tr><td>idx_scan</td><td>bigint</td></tr>",
                            "<tr><td>last_idx_scan</td><td>timestamp with time zone</td></tr>",
                            "<tr><td>idx_tup_read</td><td>bigint</td></tr>",
                            "<tr><td>idx_tup_fetch</td><td>bigint</td></tr>",
                            "<tr><td>relid</td><td>oid</td></tr>",
                            "<tr><td>indexrelid</td><td>oid</td></tr>",
                            "<tr><td>hits</td><td>bigint</td></tr>",
                            "<tr><td>op_bytes</td><td>bigint</td></tr>",
                            "<tr><td>extend_time</td><td>double precision</td></tr>",
                            "<tr><td>idx_scan</td><td>bigint</td></tr>",
                            "<tr><td>last_idx_scan</td><td>timestamp with time zone</td></tr>",
                            "<tr><td>idx_tup_read</td><td>bigint</td></tr>",
                            "<tr><td>idx_tup_fetch</td><td>bigint</td></tr>",
                            "<tr><td>relid</td><td>oid</td></tr>",
                            "<tr><td>indexrelid</td><td>oid</td></tr>",
                            "<tr><td>extends</td><td>bigint</td></tr>",
                            "<tr><td>writeback_time</td><td>double precision</td></tr>",
                            "<tr><td>writebacks</td><td>bigint</td></tr>",
                            "<tr><td>idx_scan</td><td>bigint</td></tr>",
                            "<tr><td>last_idx_scan</td><td>timestamp with time zone</td></tr>",
                            "<tr><td>idx_tup_read</td><td>bigint</td></tr>",
                            "<tr><td>idx_tup_fetch</td><td>bigint</td></tr>",
                            "<tr><td>relid</td><td>oid</td></tr>",
                            "<tr><td>indexrelid</td><td>oid</td></tr>",
                            "<tr><td>write_time</td><td>double precision</td></tr>",
                            "<tr><td>writes</td><td>bigint</td></tr>",
                            "<tr><td>read_time</td><td>double precision</td></tr>",
                            "<tr><td>idx_blks_read</td><td>bigint</td></tr>",
                            "<tr><td>idx_blks_hit</td><td>bigint</td></tr>",
                            "<tr><td>relid</td><td>oid</td></tr>",
                            "<tr><td>indexrelid</td><td>oid</td></tr>",
                            "<tr><td>reads</td><td>bigint</td></tr>",
                            "<tr><td>stats_reset</td><td>timestamp with time zone</td></tr>",
                            "<tr><td>buffers_alloc</td><td>bigint</td></tr>",
                            "<tr><td>idx_blks_read</td><td>bigint</td></tr>",
                            "<tr><td>idx_blks_hit</td><td>bigint</td></tr>",
                            "<tr><td>relid</td><td>oid</td></tr>",
                            "<tr><td>indexrelid</td><td>oid</td></tr>",
                            "<tr><td>buffers_backend_fsync</td><td>bigint</td></tr>",
                            "<tr><td>buffers_backend</td><td>bigint</td></tr>",
                            "<tr><td>maxwritten_clean</td><td>bigint</td></tr>",
                            "<tr><td>idx_blks_read</td><td>bigint</td></tr>",
                            "<tr><td>idx_blks_hit</td><td>bigint</td></tr>",
                            "<tr><td>relid</td><td>oid</td></tr>",
                            "<tr><td>buffers_clean</td><td>bigint</td></tr>",
                            "<tr><td>buffers_checkpoint</td><td>bigint</td></tr>",
                            "<tr><td>blks_read</td><td>bigint</td></tr>",
                            "<tr><td>blks_hit</td><td>bigint</td></tr>",
                            "<tr><td>relid</td><td>oid</td></tr>",
                            "<tr><td>checkpoint_sync_time</td><td>double precision</td></tr>",
                            "<tr><td>checkpoint_write_time</td><td>double precision</td></tr>",
                            "<tr><td>blks_read</td><td>bigint</td></tr>",
                            "<tr><td>blks_hit</td><td>bigint</td></tr>",
                            "<tr><td>relid</td><td>oid</td></tr>",
                            "<tr><td>checkpoints_req</td><td>bigint</td></tr>",
                            "<tr><td>checkpoints_timed</td><td>bigint</td></tr>",
                            "<tr><td>blks_read</td><td>bigint</td></tr>",
                            "<tr><td>blks_hit</td><td>bigint</td></tr>",
                            "<tr><td>datid</td><td>oid</td></tr>",
                            "<tr><td>stats_reset</td><td>timestamp with time zone</td></tr>",
                            "<tr><td>pid</td><td>integer</td></tr>",
                            "<tr><td>leader_pid</td><td>integer</td></tr>",
                            "<tr><td>usesysid</td><td>oid</td></tr>",
                            "<tr><td>last_failed_time</td><td>timestamp with time zone</td></tr>",
                            "<tr><td>attndims</td><td>smallint</td></tr>",
                            "<tr><td>client_addr</td><td>inet</td></tr>",
                            "<tr><td>attbyval</td><td>boolean</td></tr>",
                            "<tr><td>client_port</td><td>integer</td></tr>",
                            "<tr><td>backend_start</td><td>timestamp with time zone</td></tr>",
                            "<tr><td>xact_start</td><td>timestamp with time zone</td></tr>",
                            "<tr><td>query_start</td><td>timestamp with time zone</td></tr>",
                            "<tr><td>state_change</td><td>timestamp with time zone</td></tr>",
                            "<tr><td>attalign</td><td>&quot;char&quot;</td></tr>",
                            "<tr><td>attstorage</td><td>&quot;char&quot;</td></tr>",
                            "<tr><td>attcompression</td><td>&quot;char&quot;</td></tr>",
                            "<tr><td>backend_xid</td><td>xid</td></tr>",
                            "<tr><td>backend_xmin</td><td>xid</td></tr>",
                            "<tr><td>query_id</td><td>bigint</td></tr>",
                            "<tr><td>attnotnull</td><td>boolean</td></tr>",
                            "<tr><td>atthasdef</td><td>boolean</td></tr>",
                            "<tr><td>pid</td><td>integer</td></tr>",
                            "<tr><td>usesysid</td><td>oid</td></tr>",
                            "<tr><td>failed_count</td><td>bigint</td></tr>",
                            "<tr><td>atthasmissing</td><td>boolean</td></tr>",
                            "<tr><td>client_addr</td><td>inet</td></tr>",
                            "<tr><td>attidentity</td><td>&quot;char&quot;</td></tr>",
                            "<tr><td>client_port</td><td>integer</td></tr>",
                            "<tr><td>backend_start</td><td>timestamp with time zone</td></tr>",
                            "<tr><td>backend_xmin</td><td>xid</td></tr>",
                            "<tr><td>attgenerated</td><td>&quot;char&quot;</td></tr>",
                            "<tr><td>sent_lsn</td><td>pg_lsn</td></tr>",
                            "<tr><td>write_lsn</td><td>pg_lsn</td></tr>",
                            "<tr><td>flush_lsn</td><td>pg_lsn</td></tr>",
                            "<tr><td>replay_lsn</td><td>pg_lsn</td></tr>",
                            "<tr><td>write_lag</td><td>interval</td></tr>",
                            "<tr><td>flush_lag</td><td>interval</td></tr>",
                            "<tr><td>replay_lag</td><td>interval</td></tr>",
                            "<tr><td>sync_priority</td><td>integer</td></tr>",
                            "<tr><td>attisdropped</td><td>boolean</td></tr>",
                            "<tr><td>reply_time</td><td>timestamp with time zone</td></tr>",
                            "<tr><td>attislocal</td><td>boolean</td></tr>",
                            "<tr><td>blks_zeroed</td><td>bigint</td></tr>",
                            "<tr><td>blks_hit</td><td>bigint</td></tr>",
                            "<tr><td>blks_read</td><td>bigint</td></tr>",
                            "<tr><td>blks_written</td><td>bigint</td></tr>",
                            "<tr><td>blks_exists</td><td>bigint</td></tr>",
                            "<tr><td>flushes</td><td>bigint</td></tr>",
                            "<tr><td>truncates</td><td>bigint</td></tr>",
                            "<tr><td>stats_reset</td><td>timestamp with time zone</td></tr>",
                            "<tr><td>pid</td><td>integer</td></tr>",
                            "<tr><td>attinhcount</td><td>smallint</td></tr>",
                            "<tr><td>receive_start_lsn</td><td>pg_lsn</td></tr>",
                            "<tr><td>receive_start_tli</td><td>integer</td></tr>",
                            "<tr><td>written_lsn</td><td>pg_lsn</td></tr>",
                            "<tr><td>flushed_lsn</td><td>pg_lsn</td></tr>",
                            "<tr><td>received_tli</td><td>integer</td></tr>",
                            "<tr><td>last_msg_send_time</td><td>timestamp with time zone</td></tr>",
                            "<tr><td>last_msg_receipt_time</td><td>timestamp with time zone</td></tr>",
                            "<tr><td>latest_end_lsn</td><td>pg_lsn</td></tr>",
                            "<tr><td>latest_end_time</td><td>timestamp with time zone</td></tr>",
                            "<tr><td>attstattarget</td><td>smallint</td></tr>",
                            "<tr><td>attcollation</td><td>oid</td></tr>",
                            "<tr><td>sender_port</td><td>integer</td></tr>",
                            "<tr><td>attacl</td><td>ARRAY</td></tr>",
                            "<tr><td>stats_reset</td><td>timestamp with time zone</td></tr>",
                            "<tr><td>prefetch</td><td>bigint</td></tr>",
                            "<tr><td>hit</td><td>bigint</td></tr>",
                            "<tr><td>skip_init</td><td>bigint</td></tr>",
                            "<tr><td>skip_new</td><td>bigint</td></tr>",
                            "<tr><td>skip_fpw</td><td>bigint</td></tr>",
                            "<tr><td>type</td><td>character varying</td></tr>",
                            "<tr><td>rolpassword</td><td>text</td></tr>",
                            "<tr><td>passwd</td><td>text</td></tr>",
                            "<tr><td>permissive</td><td>text</td></tr>",
                            "<tr><td>cmd</td><td>text</td></tr>",
                            "<tr><td>definition</td><td>text</td></tr>",
                            "<tr><td>definition</td><td>text</td></tr>",
                            "<tr><td>definition</td><td>text</td></tr>",
                            "<tr><td>indexdef</td><td>text</td></tr>",
                            "<tr><td>exprs</td><td>ARRAY</td></tr>",
                            "<tr><td>most_common_vals</td><td>ARRAY</td></tr>",
                            "<tr><td>expr</td><td>text</td></tr>",
                            "<tr><td>rowfilter</td><td>text</td></tr>",
                            "<tr><td>locktype</td><td>text</td></tr>",
                            "<tr><td>virtualxid</td><td>text</td></tr>",
                            "<tr><td>virtualtransaction</td><td>text</td></tr>",
                            "<tr><td>mode</td><td>text</td></tr>",
                            "<tr><td>name</td><td>text</td></tr>",
                            "<tr><td>statement</td><td>text</td></tr>",
                            "<tr><td>default_version</td><td>text</td></tr>",
                            "<tr><td>comment</td><td>text</td></tr>",
                            "<tr><td>version</td><td>text</td></tr>",
                            "<tr><td>comment</td><td>text</td></tr>",
                            "<tr><td>gid</td><td>text</td></tr>",
                            "<tr><td>name</td><td>text</td></tr>",
                            "<tr><td>statement</td><td>text</td></tr>",
                            "<tr><td>objtype</td><td>text</td></tr>",
                            "<tr><td>name</td><td>text</td></tr>",
                            "<tr><td>setting</td><td>text</td></tr>",
                            "<tr><td>unit</td><td>text</td></tr>",
                            "<tr><td>category</td><td>text</td></tr>",
                            "<tr><td>short_desc</td><td>text</td></tr>",
                            "<tr><td>extra_desc</td><td>text</td></tr>",
                            "<tr><td>context</td><td>text</td></tr>",
                            "<tr><td>vartype</td><td>text</td></tr>",
                            "<tr><td>source</td><td>text</td></tr>",
                            "<tr><td>min_val</td><td>text</td></tr>",
                            "<tr><td>max_val</td><td>text</td></tr>",
                            "<tr><td>enumvals</td><td>ARRAY</td></tr>",
                            "<tr><td>boot_val</td><td>text</td></tr>",
                            "<tr><td>reset_val</td><td>text</td></tr>",
                            "<tr><td>sourcefile</td><td>text</td></tr>",
                            "<tr><td>sourcefile</td><td>text</td></tr>",
                            "<tr><td>name</td><td>text</td></tr>",
                            "<tr><td>setting</td><td>text</td></tr>",
                            "<tr><td>error</td><td>text</td></tr>",
                            "<tr><td>file_name</td><td>text</td></tr>",
                            "<tr><td>type</td><td>text</td></tr>",
                            "<tr><td>database</td><td>ARRAY</td></tr>",
                            "<tr><td>user_name</td><td>ARRAY</td></tr>",
                            "<tr><td>address</td><td>text</td></tr>",
                            "<tr><td>netmask</td><td>text</td></tr>",
                            "<tr><td>auth_method</td><td>text</td></tr>",
                            "<tr><td>options</td><td>ARRAY</td></tr>",
                            "<tr><td>error</td><td>text</td></tr>",
                            "<tr><td>file_name</td><td>text</td></tr>",
                            "<tr><td>map_name</td><td>text</td></tr>",
                            "<tr><td>sys_name</td><td>text</td></tr>",
                            "<tr><td>pg_username</td><td>text</td></tr>",
                            "<tr><td>error</td><td>text</td></tr>",
                            "<tr><td>abbrev</td><td>text</td></tr>",
                            "<tr><td>name</td><td>text</td></tr>",
                            "<tr><td>abbrev</td><td>text</td></tr>",
                            "<tr><td>name</td><td>text</td></tr>",
                            "<tr><td>setting</td><td>text</td></tr>",
                            "<tr><td>name</td><td>text</td></tr>",
                            "<tr><td>name</td><td>text</td></tr>",
                            "<tr><td>ident</td><td>text</td></tr>",
                            "<tr><td>parent</td><td>text</td></tr>",
                            "<tr><td>application_name</td><td>text</td></tr>",
                            "<tr><td>client_hostname</td><td>text</td></tr>",
                            "<tr><td>wait_event_type</td><td>text</td></tr>",
                            "<tr><td>wait_event</td><td>text</td></tr>",
                            "<tr><td>state</td><td>text</td></tr>",
                            "<tr><td>query</td><td>text</td></tr>",
                            "<tr><td>backend_type</td><td>text</td></tr>",
                            "<tr><td>application_name</td><td>text</td></tr>",
                            "<tr><td>client_hostname</td><td>text</td></tr>",
                            "<tr><td>state</td><td>text</td></tr>",
                            "<tr><td>sync_state</td><td>text</td></tr>",
                            "<tr><td>name</td><td>text</td></tr>",
                            "<tr><td>status</td><td>text</td></tr>",
                            "<tr><td>slot_name</td><td>text</td></tr>",
                            "<tr><td>sender_host</td><td>text</td></tr>",
                            "<tr><td>conninfo</td><td>text</td></tr>",
                            "<tr><td>version</td><td>text</td></tr>",
                            "<tr><td>cipher</td><td>text</td></tr>",
                            "<tr><td>client_dn</td><td>text</td></tr>",
                            "<tr><td>issuer_dn</td><td>text</td></tr>",
                            "<tr><td>principal</td><td>text</td></tr>",
                            "<tr><td>slot_type</td><td>text</td></tr>",
                            "<tr><td>wal_status</td><td>text</td></tr>",
                            "<tr><td>slot_name</td><td>text</td></tr>",
                            "<tr><td>last_archived_wal</td><td>text</td></tr>",
                            "<tr><td>last_failed_wal</td><td>text</td></tr>",
                            "<tr><td>backend_type</td><td>text</td></tr>",
                            "<tr><td>object</td><td>text</td></tr>",
                            "<tr><td>context</td><td>text</td></tr>",
                            "<tr><td>phase</td><td>text</td></tr>",
                            "<tr><td>phase</td><td>text</td></tr>",
                            "<tr><td>command</td><td>text</td></tr>",
                            "<tr><td>phase</td><td>text</td></tr>",
                            "<tr><td>command</td><td>text</td></tr>",
                            "<tr><td>phase</td><td>text</td></tr>",
                            "<tr><td>phase</td><td>text</td></tr>",
                            "<tr><td>command</td><td>text</td></tr>",
                            "<tr><td>type</td><td>text</td></tr>",
                            "<tr><td>external_id</td><td>text</td></tr>",
                            "<tr><td>City</td><td>text</td></tr>",
                            "<tr><td>Sport</td><td>text</td></tr>",
                            "<tr><td>Discipline</td><td>text</td></tr>",
                            "<tr><td>Athlete</td><td>text</td></tr>",
                            "<tr><td>Country</td><td>text</td></tr>",
                            "<tr><td>Gender</td><td>text</td></tr>",
                            "<tr><td>Event</td><td>text</td></tr>",
                            "<tr><td>Medal</td><td>text</td></tr>",
                            "<tr><td>auth_name</td><td>character varying</td></tr>",
                            "<tr><td>srtext</td><td>character varying</td></tr>",
                            "<tr><td>proj4text</td><td>character varying</td></tr>",
                            "<tr><td>type</td><td>text</td></tr>",
                            "<tr><td>prosrc</td><td>text</td></tr>",
                            "<tr><td>proname</td><td>name</td></tr>",
                            "<tr><td>schemaname</td><td>name</td></tr>",
                            "<tr><td>indexrelname</td><td>name</td></tr>",
                            "<tr><td>relname</td><td>name</td></tr>",
                            "<tr><td>schemaname</td><td>name</td></tr>",
                            "<tr><td>indexrelname</td><td>name</td></tr>",
                            "<tr><td>relname</td><td>name</td></tr>",
                            "<tr><td>schemaname</td><td>name</td></tr>",
                            "<tr><td>indexrelname</td><td>name</td></tr>",
                            "<tr><td>relname</td><td>name</td></tr>",
                            "<tr><td>schemaname</td><td>name</td></tr>",
                            "<tr><td>indexrelname</td><td>name</td></tr>",
                            "<tr><td>relname</td><td>name</td></tr>",
                            "<tr><td>schemaname</td><td>name</td></tr>",
                            "<tr><td>relname</td><td>name</td></tr>",
                            "<tr><td>schemaname</td><td>name</td></tr>",
                            "<tr><td>relname</td><td>name</td></tr>",
                            "<tr><td>schemaname</td><td>name</td></tr>",
                            "<tr><td>relname</td><td>name</td></tr>",
                            "<tr><td>schemaname</td><td>name</td></tr>",
                            "<tr><td>relname</td><td>name</td></tr>",
                            "<tr><td>schemaname</td><td>name</td></tr>",
                            "<tr><td>relname</td><td>name</td></tr>",
                            "<tr><td>schemaname</td><td>name</td></tr>",
                            "<tr><td>relname</td><td>name</td></tr>",
                            "<tr><td>schemaname</td><td>name</td></tr>",
                            "<tr><td>relname</td><td>name</td></tr>",
                            "<tr><td>datname</td><td>name</td></tr>",
                            "<tr><td>schemaname</td><td>name</td></tr>",
                            "<tr><td>f_table_catalog</td><td>character varying</td></tr>",
                            "<tr><td>relname</td><td>name</td></tr>",
                            "<tr><td>schemaname</td><td>name</td></tr>",
                            "<tr><td>relname</td><td>name</td></tr>",
                            "<tr><td>schemaname</td><td>name</td></tr>",
                            "<tr><td>label</td><td>text</td></tr>",
                            "<tr><td>provider</td><td>text</td></tr>",
                            "<tr><td>objname</td><td>text</td></tr>",
                            "<tr><td>database</td><td>name</td></tr>",
                            "<tr><td>owner</td><td>name</td></tr>",
                            "<tr><td>datname</td><td>name</td></tr>",
                            "<tr><td>requires</td><td>ARRAY</td></tr>",
                            "<tr><td>f_table_schema</td><td>name</td></tr>",
                            "<tr><td>schema</td><td>name</td></tr>",
                            "<tr><td>name</td><td>name</td></tr>",
                            "<tr><td>installed_version</td><td>text</td></tr>",
                            "<tr><td>name</td><td>name</td></tr>",
                            "<tr><td>attnames</td><td>ARRAY</td></tr>",
                            "<tr><td>tablename</td><td>name</td></tr>",
                            "<tr><td>schemaname</td><td>name</td></tr>",
                            "<tr><td>pubname</td><td>name</td></tr>",
                            "<tr><td>datname</td><td>name</td></tr>",
                            "<tr><td>statistics_owner</td><td>name</td></tr>",
                            "<tr><td>f_table_name</td><td>name</td></tr>",
                            "<tr><td>proconfig</td><td>ARRAY</td></tr>",
                            "<tr><td>statistics_name</td><td>name</td></tr>",
                            "<tr><td>statistics_schemaname</td><td>name</td></tr>",
                            "<tr><td>tablename</td><td>name</td></tr>",
                            "<tr><td>schemaname</td><td>name</td></tr>",
                            "<tr><td>dependencies</td><td>pg_dependencies</td></tr>",
                            "<tr><td>n_distinct</td><td>pg_ndistinct</td></tr>",
                            "<tr><td>attnames</td><td>ARRAY</td></tr>",
                            "<tr><td>statistics_owner</td><td>name</td></tr>",
                            "<tr><td>datname</td><td>name</td></tr>",
                            "<tr><td>statistics_name</td><td>name</td></tr>",
                            "<tr><td>statistics_schemaname</td><td>name</td></tr>",
                            "<tr><td>f_geometry_column</td><td>name</td></tr>",
                            "<tr><td>prosqlbody</td><td>pg_node_tree</td></tr>",
                            "<tr><td>tablename</td><td>name</td></tr>",
                            "<tr><td>schemaname</td><td>name</td></tr>",
                            "<tr><td>attname</td><td>name</td></tr>",
                            "<tr><td>tablename</td><td>name</td></tr>",
                            "<tr><td>schemaname</td><td>name</td></tr>",
                            "<tr><td>sequenceowner</td><td>name</td></tr>",
                            "<tr><td>sequencename</td><td>name</td></tr>",
                            "<tr><td>schemaname</td><td>name</td></tr>",
                            "<tr><td>tablespace</td><td>name</td></tr>",
                            "<tr><td>indexname</td><td>name</td></tr>",
                            "<tr><td>proargdefaults</td><td>pg_node_tree</td></tr>",
                            "<tr><td>tablename</td><td>name</td></tr>",
                            "<tr><td>schemaname</td><td>name</td></tr>",
                            "<tr><td>tablespace</td><td>name</td></tr>",
                            "<tr><td>matviewowner</td><td>name</td></tr>",
                            "<tr><td>matviewname</td><td>name</td></tr>",
                            "<tr><td>schemaname</td><td>name</td></tr>",
                            "<tr><td>datname</td><td>name</td></tr>",
                            "<tr><td>tablespace</td><td>name</td></tr>",
                            "<tr><td>proargnames</td><td>ARRAY</td></tr>",
                            "<tr><td>f_table_catalog</td><td>name</td></tr>",
                            "<tr><td>tableowner</td><td>name</td></tr>",
                            "<tr><td>tablename</td><td>name</td></tr>",
                            "<tr><td>schemaname</td><td>name</td></tr>",
                            "<tr><td>viewowner</td><td>name</td></tr>",
                            "<tr><td>viewname</td><td>name</td></tr>",
                            "<tr><td>schemaname</td><td>name</td></tr>",
                            "<tr><td>srvname</td><td>name</td></tr>",
                            "<tr><td>rulename</td><td>name</td></tr>",
                            "<tr><td>usename</td><td>name</td></tr>",
                            "<tr><td>umoptions</td><td>ARRAY</td></tr>",
                            "<tr><td>tablename</td><td>name</td></tr>",
                            "<tr><td>f_table_schema</td><td>name</td></tr>",
                            "<tr><td>schemaname</td><td>name</td></tr>",
                            "<tr><td>with_check</td><td>text</td></tr>",
                            "<tr><td>qual</td><td>text</td></tr>",
                            "<tr><td>roles</td><td>ARRAY</td></tr>",
                            "<tr><td>policyname</td><td>name</td></tr>",
                            "<tr><td>subname</td><td>name</td></tr>",
                            "<tr><td>tablename</td><td>name</td></tr>",
                            "<tr><td>schemaname</td><td>name</td></tr>",
                            "<tr><td>useconfig</td><td>ARRAY</td></tr>",
                            "<tr><td>usename</td><td>name</td></tr>",
                            "<tr><td>groname</td><td>name</td></tr>",
                            "<tr><td>useconfig</td><td>ARRAY</td></tr>",
                            "<tr><td>passwd</td><td>text</td></tr>",
                            "<tr><td>usename</td><td>name</td></tr>",
                            "<tr><td>subslotname</td><td>name</td></tr>",
                            "<tr><td>subsynccommit</td><td>text</td></tr>",
                            "<tr><td>subpublications</td><td>ARRAY</td></tr>",
                            "<tr><td>suborigin</td><td>text</td></tr>",
                            "<tr><td>rolconfig</td><td>ARRAY</td></tr>",
                            "<tr><td>subname</td><td>name</td></tr>",
                            "<tr><td>rolname</td><td>name</td></tr>",
                            "<tr><td>subconninfo</td><td>text</td></tr>",
                            "<tr><td>prqual</td><td>pg_node_tree</td></tr>",
                            "<tr><td>catalog_name</td><td>name</td></tr>",
                            "<tr><td>grantee</td><td>name</td></tr>",
                            "<tr><td>role_name</td><td>name</td></tr>",
                            "<tr><td>is_grantable</td><td>character varying</td></tr>",
                            "<tr><td>grantee</td><td>name</td></tr>",
                            "<tr><td>role_name</td><td>name</td></tr>",
                            "<tr><td>is_grantable</td><td>character varying</td></tr>",
                            "<tr><td>udt_catalog</td><td>name</td></tr>",
                            "<tr><td>udt_schema</td><td>name</td></tr>",
                            "<tr><td>udt_name</td><td>name</td></tr>",
                            "<tr><td>attribute_name</td><td>name</td></tr>",
                            "<tr><td>pubname</td><td>name</td></tr>",
                            "<tr><td>attribute_default</td><td>character varying</td></tr>",
                            "<tr><td>is_nullable</td><td>character varying</td></tr>",
                            "<tr><td>data_type</td><td>character varying</td></tr>",
                            "<tr><td>partexprs</td><td>pg_node_tree</td></tr>",
                            "<tr><td>parname</td><td>text</td></tr>",
                            "<tr><td>character_set_catalog</td><td>name</td></tr>",
                            "<tr><td>character_set_schema</td><td>name</td></tr>",
                            "<tr><td>character_set_name</td><td>name</td></tr>",
                            "<tr><td>collation_catalog</td><td>name</td></tr>",
                            "<tr><td>collation_schema</td><td>name</td></tr>",
                            "<tr><td>collation_name</td><td>name</td></tr>",
                            "<tr><td>collversion</td><td>text</td></tr>",
                            "<tr><td>collicurules</td><td>text</td></tr>",
                            "<tr><td>colliculocale</td><td>text</td></tr>",
                            "<tr><td>collctype</td><td>text</td></tr>",
                            "<tr><td>interval_type</td><td>character varying</td></tr>",
                            "<tr><td>collcollate</td><td>text</td></tr>",
                            "<tr><td>attribute_udt_catalog</td><td>name</td></tr>",
                            "<tr><td>attribute_udt_schema</td><td>name</td></tr>",
                            "<tr><td>attribute_udt_name</td><td>name</td></tr>",
                            "<tr><td>scope_catalog</td><td>name</td></tr>",
                            "<tr><td>scope_schema</td><td>name</td></tr>",
                            "<tr><td>scope_name</td><td>name</td></tr>",
                            "<tr><td>collname</td><td>name</td></tr>",
                            "<tr><td>dtd_identifier</td><td>name</td></tr>",
                            "<tr><td>is_derived_reference_attribute</td><td>character varying</td></tr>",
                            "<tr><td>character_set_catalog</td><td>name</td></tr>",
                            "<tr><td>character_set_schema</td><td>name</td></tr>",
                            "<tr><td>character_set_name</td><td>name</td></tr>",
                            "<tr><td>character_repertoire</td><td>name</td></tr>",
                            "<tr><td>form_of_use</td><td>name</td></tr>",
                            "<tr><td>default_collate_catalog</td><td>name</td></tr>",
                            "<tr><td>default_collate_schema</td><td>name</td></tr>",
                            "<tr><td>default_collate_name</td><td>name</td></tr>",
                            "<tr><td>constraint_catalog</td><td>name</td></tr>",
                            "<tr><td>constraint_schema</td><td>name</td></tr>",
                            "<tr><td>constraint_name</td><td>name</td></tr>",
                            "<tr><td>specific_catalog</td><td>name</td></tr>",
                            "<tr><td>specific_schema</td><td>name</td></tr>",
                            "<tr><td>specific_name</td><td>name</td></tr>",
                            "<tr><td>constraint_catalog</td><td>name</td></tr>",
                            "<tr><td>constraint_schema</td><td>name</td></tr>",
                            "<tr><td>constraint_name</td><td>name</td></tr>",
                            "<tr><td>check_clause</td><td>character varying</td></tr>",
                            "<tr><td>collation_catalog</td><td>name</td></tr>",
                            "<tr><td>collation_schema</td><td>name</td></tr>",
                            "<tr><td>collation_name</td><td>name</td></tr>",
                            "<tr><td>pad_attribute</td><td>character varying</td></tr>",
                            "<tr><td>collation_catalog</td><td>name</td></tr>",
                            "<tr><td>collation_schema</td><td>name</td></tr>",
                            "<tr><td>collation_name</td><td>name</td></tr>",
                            "<tr><td>character_set_catalog</td><td>name</td></tr>",
                            "<tr><td>character_set_schema</td><td>name</td></tr>",
                            "<tr><td>character_set_name</td><td>name</td></tr>",
                            "<tr><td>table_catalog</td><td>name</td></tr>",
                            "<tr><td>table_schema</td><td>name</td></tr>",
                            "<tr><td>table_name</td><td>name</td></tr>",
                            "<tr><td>column_name</td><td>name</td></tr>",
                            "<tr><td>dependent_column</td><td>name</td></tr>",
                            "<tr><td>domain_catalog</td><td>name</td></tr>",
                            "<tr><td>domain_schema</td><td>name</td></tr>",
                            "<tr><td>domain_name</td><td>name</td></tr>",
                            "<tr><td>table_catalog</td><td>name</td></tr>",
                            "<tr><td>table_schema</td><td>name</td></tr>",
                            "<tr><td>table_name</td><td>name</td></tr>",
                            "<tr><td>column_name</td><td>name</td></tr>",
                            "<tr><td>grantor</td><td>name</td></tr>",
                            "<tr><td>grantee</td><td>name</td></tr>",
                            "<tr><td>table_catalog</td><td>name</td></tr>",
                            "<tr><td>table_schema</td><td>name</td></tr>",
                            "<tr><td>table_name</td><td>name</td></tr>",
                            "<tr><td>column_name</td><td>name</td></tr>",
                            "<tr><td>privilege_type</td><td>character varying</td></tr>",
                            "<tr><td>is_grantable</td><td>character varying</td></tr>",
                            "<tr><td>udt_catalog</td><td>name</td></tr>",
                            "<tr><td>udt_schema</td><td>name</td></tr>",
                            "<tr><td>udt_name</td><td>name</td></tr>",
                            "<tr><td>table_catalog</td><td>name</td></tr>",
                            "<tr><td>table_schema</td><td>name</td></tr>",
                            "<tr><td>table_name</td><td>name</td></tr>",
                            "<tr><td>column_name</td><td>name</td></tr>",
                            "<tr><td>table_catalog</td><td>name</td></tr>",
                            "<tr><td>table_schema</td><td>name</td></tr>",
                            "<tr><td>table_name</td><td>name</td></tr>",
                            "<tr><td>column_name</td><td>name</td></tr>",
                            "<tr><td>label</td><td>text</td></tr>",
                            "<tr><td>column_default</td><td>character varying</td></tr>",
                            "<tr><td>is_nullable</td><td>character varying</td></tr>",
                            "<tr><td>data_type</td><td>character varying</td></tr>",
                            "<tr><td>provider</td><td>text</td></tr>",
                            "<tr><td>label</td><td>text</td></tr>",
                            "<tr><td>provider</td><td>text</td></tr>",
                            "<tr><td>roname</td><td>text</td></tr>",
                            "<tr><td>polwithcheck</td><td>pg_node_tree</td></tr>",
                            "<tr><td>polqual</td><td>pg_node_tree</td></tr>",
                            "<tr><td>interval_type</td><td>character varying</td></tr>",
                            "<tr><td>polname</td><td>name</td></tr>",
                            "<tr><td>character_set_catalog</td><td>name</td></tr>",
                            "<tr><td>character_set_schema</td><td>name</td></tr>",
                            "<tr><td>character_set_name</td><td>name</td></tr>",
                            "<tr><td>collation_catalog</td><td>name</td></tr>",
                            "<tr><td>collation_schema</td><td>name</td></tr>",
                            "<tr><td>collation_name</td><td>name</td></tr>",
                            "<tr><td>domain_catalog</td><td>name</td></tr>",
                            "<tr><td>domain_schema</td><td>name</td></tr>",
                            "<tr><td>domain_name</td><td>name</td></tr>",
                            "<tr><td>udt_catalog</td><td>name</td></tr>",
                            "<tr><td>udt_schema</td><td>name</td></tr>",
                            "<tr><td>udt_name</td><td>name</td></tr>",
                            "<tr><td>scope_catalog</td><td>name</td></tr>",
                            "<tr><td>scope_schema</td><td>name</td></tr>",
                            "<tr><td>scope_name</td><td>name</td></tr>",
                            "<tr><td>ftoptions</td><td>ARRAY</td></tr>",
                            "<tr><td>dtd_identifier</td><td>name</td></tr>",
                            "<tr><td>is_self_referencing</td><td>character varying</td></tr>",
                            "<tr><td>is_identity</td><td>character varying</td></tr>",
                            "<tr><td>identity_generation</td><td>character varying</td></tr>",
                            "<tr><td>identity_start</td><td>character varying</td></tr>",
                            "<tr><td>identity_increment</td><td>character varying</td></tr>",
                            "<tr><td>identity_maximum</td><td>character varying</td></tr>",
                            "<tr><td>identity_minimum</td><td>character varying</td></tr>",
                            "<tr><td>identity_cycle</td><td>character varying</td></tr>",
                            "<tr><td>is_generated</td><td>character varying</td></tr>",
                            "<tr><td>generation_expression</td><td>character varying</td></tr>",
                            "<tr><td>is_updatable</td><td>character varying</td></tr>",
                            "<tr><td>table_catalog</td><td>name</td></tr>",
                            "<tr><td>table_schema</td><td>name</td></tr>",
                            "<tr><td>table_name</td><td>name</td></tr>",
                            "<tr><td>column_name</td><td>name</td></tr>",
                            "<tr><td>constraint_catalog</td><td>name</td></tr>",
                            "<tr><td>constraint_schema</td><td>name</td></tr>",
                            "<tr><td>constraint_name</td><td>name</td></tr>",
                            "<tr><td>table_catalog</td><td>name</td></tr>",
                            "<tr><td>table_schema</td><td>name</td></tr>",
                            "<tr><td>table_name</td><td>name</td></tr>",
                            "<tr><td>constraint_catalog</td><td>name</td></tr>",
                            "<tr><td>constraint_schema</td><td>name</td></tr>",
                            "<tr><td>constraint_name</td><td>name</td></tr>",
                            "<tr><td>constraint_catalog</td><td>name</td></tr>",
                            "<tr><td>constraint_schema</td><td>name</td></tr>",
                            "<tr><td>constraint_name</td><td>name</td></tr>",
                            "<tr><td>domain_catalog</td><td>name</td></tr>",
                            "<tr><td>domain_schema</td><td>name</td></tr>",
                            "<tr><td>domain_name</td><td>name</td></tr>",
                            "<tr><td>is_deferrable</td><td>character varying</td></tr>",
                            "<tr><td>initially_deferred</td><td>character varying</td></tr>",
                            "<tr><td>udt_catalog</td><td>name</td></tr>",
                            "<tr><td>udt_schema</td><td>name</td></tr>",
                            "<tr><td>udt_name</td><td>name</td></tr>",
                            "<tr><td>domain_catalog</td><td>name</td></tr>",
                            "<tr><td>domain_schema</td><td>name</td></tr>",
                            "<tr><td>domain_name</td><td>name</td></tr>",
                            "<tr><td>domain_catalog</td><td>name</td></tr>",
                            "<tr><td>domain_schema</td><td>name</td></tr>",
                            "<tr><td>domain_name</td><td>name</td></tr>",
                            "<tr><td>data_type</td><td>character varying</td></tr>",
                            "<tr><td>umoptions</td><td>ARRAY</td></tr>",
                            "<tr><td>srvoptions</td><td>ARRAY</td></tr>",
                            "<tr><td>character_set_catalog</td><td>name</td></tr>",
                            "<tr><td>character_set_schema</td><td>name</td></tr>",
                            "<tr><td>character_set_name</td><td>name</td></tr>",
                            "<tr><td>collation_catalog</td><td>name</td></tr>",
                            "<tr><td>collation_schema</td><td>name</td></tr>",
                            "<tr><td>collation_name</td><td>name</td></tr>",
                            "<tr><td>srvversion</td><td>text</td></tr>",
                            "<tr><td>srvtype</td><td>text</td></tr>",
                            "<tr><td>srvname</td><td>name</td></tr>",
                            "<tr><td>fdwoptions</td><td>ARRAY</td></tr>",
                            "<tr><td>interval_type</td><td>character varying</td></tr>",
                            "<tr><td>fdwname</td><td>name</td></tr>",
                            "<tr><td>domain_default</td><td>character varying</td></tr>",
                            "<tr><td>udt_catalog</td><td>name</td></tr>",
                            "<tr><td>udt_schema</td><td>name</td></tr>",
                            "<tr><td>udt_name</td><td>name</td></tr>",
                            "<tr><td>scope_catalog</td><td>name</td></tr>",
                            "<tr><td>scope_schema</td><td>name</td></tr>",
                            "<tr><td>scope_name</td><td>name</td></tr>",
                            "<tr><td>extcondition</td><td>ARRAY</td></tr>",
                            "<tr><td>dtd_identifier</td><td>name</td></tr>",
                            "<tr><td>role_name</td><td>name</td></tr>",
                            "<tr><td>constraint_catalog</td><td>name</td></tr>",
                            "<tr><td>constraint_schema</td><td>name</td></tr>",
                            "<tr><td>constraint_name</td><td>name</td></tr>",
                            "<tr><td>table_catalog</td><td>name</td></tr>",
                            "<tr><td>table_schema</td><td>name</td></tr>",
                            "<tr><td>table_name</td><td>name</td></tr>",
                            "<tr><td>column_name</td><td>name</td></tr>",
                            "<tr><td>extversion</td><td>text</td></tr>",
                            "<tr><td>extname</td><td>name</td></tr>",
                            "<tr><td>specific_catalog</td><td>name</td></tr>",
                            "<tr><td>specific_schema</td><td>name</td></tr>",
                            "<tr><td>specific_name</td><td>name</td></tr>",
                            "<tr><td>tmplname</td><td>name</td></tr>",
                            "<tr><td>parameter_mode</td><td>character varying</td></tr>",
                            "<tr><td>is_result</td><td>character varying</td></tr>",
                            "<tr><td>as_locator</td><td>character varying</td></tr>",
                            "<tr><td>parameter_name</td><td>name</td></tr>",
                            "<tr><td>data_type</td><td>character varying</td></tr>",
                            "<tr><td>prsname</td><td>name</td></tr>",
                            "<tr><td>dictinitoption</td><td>text</td></tr>",
                            "<tr><td>character_set_catalog</td><td>name</td></tr>",
                            "<tr><td>character_set_schema</td><td>name</td></tr>",
                            "<tr><td>character_set_name</td><td>name</td></tr>",
                            "<tr><td>collation_catalog</td><td>name</td></tr>",
                            "<tr><td>collation_schema</td><td>name</td></tr>",
                            "<tr><td>collation_name</td><td>name</td></tr>",
                            "<tr><td>dictname</td><td>name</td></tr>",
                            "<tr><td>cfgname</td><td>name</td></tr>",
                            "<tr><td>description</td><td>text</td></tr>",
                            "<tr><td>rolpassword</td><td>text</td></tr>",
                            "<tr><td>interval_type</td><td>character varying</td></tr>",
                            "<tr><td>rolname</td><td>name</td></tr>",
                            "<tr><td>udt_catalog</td><td>name</td></tr>",
                            "<tr><td>udt_schema</td><td>name</td></tr>",
                            "<tr><td>udt_name</td><td>name</td></tr>",
                            "<tr><td>scope_catalog</td><td>name</td></tr>",
                            "<tr><td>scope_schema</td><td>name</td></tr>",
                            "<tr><td>scope_name</td><td>name</td></tr>",
                            "<tr><td>spcoptions</td><td>ARRAY</td></tr>",
                            "<tr><td>dtd_identifier</td><td>name</td></tr>",
                            "<tr><td>parameter_default</td><td>character varying</td></tr>",
                            "<tr><td>constraint_catalog</td><td>name</td></tr>",
                            "<tr><td>constraint_schema</td><td>name</td></tr>",
                            "<tr><td>constraint_name</td><td>name</td></tr>",
                            "<tr><td>unique_constraint_catalog</td><td>name</td></tr>",
                            "<tr><td>unique_constraint_schema</td><td>name</td></tr>",
                            "<tr><td>unique_constraint_name</td><td>name</td></tr>",
                            "<tr><td>match_option</td><td>character varying</td></tr>",
                            "<tr><td>update_rule</td><td>character varying</td></tr>",
                            "<tr><td>delete_rule</td><td>character varying</td></tr>",
                            "<tr><td>grantor</td><td>name</td></tr>",
                            "<tr><td>grantee</td><td>name</td></tr>",
                            "<tr><td>table_catalog</td><td>name</td></tr>",
                            "<tr><td>table_schema</td><td>name</td></tr>",
                            "<tr><td>table_name</td><td>name</td></tr>",
                            "<tr><td>column_name</td><td>name</td></tr>",
                            "<tr><td>privilege_type</td><td>character varying</td></tr>",
                            "<tr><td>is_grantable</td><td>character varying</td></tr>",
                            "<tr><td>specific_catalog</td><td>name</td></tr>",
                            "<tr><td>specific_schema</td><td>name</td></tr>",
                            "<tr><td>specific_name</td><td>name</td></tr>",
                            "<tr><td>routine_catalog</td><td>name</td></tr>",
                            "<tr><td>routine_schema</td><td>name</td></tr>",
                            "<tr><td>routine_name</td><td>name</td></tr>",
                            "<tr><td>table_catalog</td><td>name</td></tr>",
                            "<tr><td>table_schema</td><td>name</td></tr>",
                            "<tr><td>table_name</td><td>name</td></tr>",
                            "<tr><td>column_name</td><td>name</td></tr>",
                            "<tr><td>grantor</td><td>name</td></tr>",
                            "<tr><td>grantee</td><td>name</td></tr>",
                            "<tr><td>specific_catalog</td><td>name</td></tr>",
                            "<tr><td>specific_schema</td><td>name</td></tr>",
                            "<tr><td>specific_name</td><td>name</td></tr>",
                            "<tr><td>routine_catalog</td><td>name</td></tr>",
                            "<tr><td>routine_schema</td><td>name</td></tr>",
                            "<tr><td>routine_name</td><td>name</td></tr>",
                            "<tr><td>privilege_type</td><td>character varying</td></tr>",
                            "<tr><td>is_grantable</td><td>character varying</td></tr>",
                            "<tr><td>grantor</td><td>name</td></tr>",
                            "<tr><td>grantee</td><td>name</td></tr>",
                            "<tr><td>specific_catalog</td><td>name</td></tr>",
                            "<tr><td>specific_schema</td><td>name</td></tr>",
                            "<tr><td>specific_name</td><td>name</td></tr>",
                            "<tr><td>routine_catalog</td><td>name</td></tr>",
                            "<tr><td>routine_schema</td><td>name</td></tr>",
                            "<tr><td>routine_name</td><td>name</td></tr>",
                            "<tr><td>privilege_type</td><td>character varying</td></tr>",
                            "<tr><td>is_grantable</td><td>character varying</td></tr>",
                            "<tr><td>specific_catalog</td><td>name</td></tr>",
                            "<tr><td>specific_schema</td><td>name</td></tr>",
                            "<tr><td>specific_name</td><td>name</td></tr>",
                            "<tr><td>routine_catalog</td><td>name</td></tr>",
                            "<tr><td>routine_schema</td><td>name</td></tr>",
                            "<tr><td>routine_name</td><td>name</td></tr>",
                            "<tr><td>specific_catalog</td><td>name</td></tr>",
                            "<tr><td>specific_schema</td><td>name</td></tr>",
                            "<tr><td>specific_name</td><td>name</td></tr>",
                            "<tr><td>routine_catalog</td><td>name</td></tr>",
                            "<tr><td>routine_schema</td><td>name</td></tr>",
                            "<tr><td>routine_name</td><td>name</td></tr>",
                            "<tr><td>sequence_catalog</td><td>name</td></tr>",
                            "<tr><td>sequence_schema</td><td>name</td></tr>",
                            "<tr><td>sequence_name</td><td>name</td></tr>",
                            "<tr><td>specific_catalog</td><td>name</td></tr>",
                            "<tr><td>specific_schema</td><td>name</td></tr>",
                            "<tr><td>specific_name</td><td>name</td></tr>",
                            "<tr><td>routine_catalog</td><td>name</td></tr>",
                            "<tr><td>routine_schema</td><td>name</td></tr>",
                            "<tr><td>routine_name</td><td>name</td></tr>",
                            "<tr><td>table_catalog</td><td>name</td></tr>",
                            "<tr><td>table_schema</td><td>name</td></tr>",
                            "<tr><td>table_name</td><td>name</td></tr>",
                            "<tr><td>specific_catalog</td><td>name</td></tr>",
                            "<tr><td>specific_schema</td><td>name</td></tr>",
                            "<tr><td>specific_name</td><td>name</td></tr>",
                            "<tr><td>routine_catalog</td><td>name</td></tr>",
                            "<tr><td>routine_schema</td><td>name</td></tr>",
                            "<tr><td>routine_name</td><td>name</td></tr>",
                            "<tr><td>routine_type</td><td>character varying</td></tr>",
                            "<tr><td>module_catalog</td><td>name</td></tr>",
                            "<tr><td>module_schema</td><td>name</td></tr>",
                            "<tr><td>module_name</td><td>name</td></tr>",
                            "<tr><td>udt_catalog</td><td>name</td></tr>",
                            "<tr><td>udt_schema</td><td>name</td></tr>",
                            "<tr><td>udt_name</td><td>name</td></tr>",
                            "<tr><td>data_type</td><td>character varying</td></tr>",
                            "<tr><td>spcname</td><td>name</td></tr>",
                            "<tr><td>setconfig</td><td>ARRAY</td></tr>",
                            "<tr><td>character_set_catalog</td><td>name</td></tr>",
                            "<tr><td>character_set_schema</td><td>name</td></tr>",
                            "<tr><td>character_set_name</td><td>name</td></tr>",
                            "<tr><td>collation_catalog</td><td>name</td></tr>",
                            "<tr><td>collation_schema</td><td>name</td></tr>",
                            "<tr><td>collation_name</td><td>name</td></tr>",
                            "<tr><td>datcollversion</td><td>text</td></tr>",
                            "<tr><td>daticurules</td><td>text</td></tr>",
                            "<tr><td>daticulocale</td><td>text</td></tr>",
                            "<tr><td>datctype</td><td>text</td></tr>",
                            "<tr><td>interval_type</td><td>character varying</td></tr>",
                            "<tr><td>datcollate</td><td>text</td></tr>",
                            "<tr><td>type_udt_catalog</td><td>name</td></tr>",
                            "<tr><td>type_udt_schema</td><td>name</td></tr>",
                            "<tr><td>type_udt_name</td><td>name</td></tr>",
                            "<tr><td>scope_catalog</td><td>name</td></tr>",
                            "<tr><td>scope_schema</td><td>name</td></tr>",
                            "<tr><td>scope_name</td><td>name</td></tr>",
                            "<tr><td>datname</td><td>name</td></tr>",
                            "<tr><td>dtd_identifier</td><td>name</td></tr>",
                            "<tr><td>routine_body</td><td>character varying</td></tr>",
                            "<tr><td>routine_definition</td><td>character varying</td></tr>",
                            "<tr><td>external_name</td><td>character varying</td></tr>",
                            "<tr><td>external_language</td><td>character varying</td></tr>",
                            "<tr><td>parameter_style</td><td>character varying</td></tr>",
                            "<tr><td>is_deterministic</td><td>character varying</td></tr>",
                            "<tr><td>sql_data_access</td><td>character varying</td></tr>",
                            "<tr><td>is_null_call</td><td>character varying</td></tr>",
                            "<tr><td>sql_path</td><td>character varying</td></tr>",
                            "<tr><td>schema_level_routine</td><td>character varying</td></tr>",
                            "<tr><td>conname</td><td>name</td></tr>",
                            "<tr><td>is_user_defined_cast</td><td>character varying</td></tr>",
                            "<tr><td>is_implicitly_invocable</td><td>character varying</td></tr>",
                            "<tr><td>security_type</td><td>character varying</td></tr>",
                            "<tr><td>to_sql_specific_catalog</td><td>name</td></tr>",
                            "<tr><td>to_sql_specific_schema</td><td>name</td></tr>",
                            "<tr><td>to_sql_specific_name</td><td>name</td></tr>",
                            "<tr><td>as_locator</td><td>character varying</td></tr>",
                            "<tr><td>nspname</td><td>name</td></tr>",
                            "<tr><td>enumlabel</td><td>name</td></tr>",
                            "<tr><td>new_savepoint_level</td><td>character varying</td></tr>",
                            "<tr><td>is_udt_dependent</td><td>character varying</td></tr>",
                            "<tr><td>result_cast_from_data_type</td><td>character varying</td></tr>",
                            "<tr><td>result_cast_as_locator</td><td>character varying</td></tr>",
                            "<tr><td>description</td><td>text</td></tr>",
                            "<tr><td>evttags</td><td>ARRAY</td></tr>",
                            "<tr><td>result_cast_char_set_catalog</td><td>name</td></tr>",
                            "<tr><td>result_cast_char_set_schema</td><td>name</td></tr>",
                            "<tr><td>result_cast_char_set_name</td><td>name</td></tr>",
                            "<tr><td>result_cast_collation_catalog</td><td>name</td></tr>",
                            "<tr><td>result_cast_collation_schema</td><td>name</td></tr>",
                            "<tr><td>result_cast_collation_name</td><td>name</td></tr>",
                            "<tr><td>evtevent</td><td>name</td></tr>",
                            "<tr><td>evtname</td><td>name</td></tr>",
                            "<tr><td>tgnewtable</td><td>name</td></tr>",
                            "<tr><td>tgoldtable</td><td>name</td></tr>",
                            "<tr><td>result_cast_interval_type</td><td>character varying</td></tr>",
                            "<tr><td>tgqual</td><td>pg_node_tree</td></tr>",
                            "<tr><td>result_cast_type_udt_catalog</td><td>name</td></tr>",
                            "<tr><td>result_cast_type_udt_schema</td><td>name</td></tr>",
                            "<tr><td>result_cast_type_udt_name</td><td>name</td></tr>",
                            "<tr><td>result_cast_scope_catalog</td><td>name</td></tr>",
                            "<tr><td>result_cast_scope_schema</td><td>name</td></tr>",
                            "<tr><td>result_cast_scope_name</td><td>name</td></tr>",
                            "<tr><td>tgname</td><td>name</td></tr>",
                            "<tr><td>result_cast_dtd_identifier</td><td>name</td></tr>",
                            "<tr><td>catalog_name</td><td>name</td></tr>",
                            "<tr><td>schema_name</td><td>name</td></tr>",
                            "<tr><td>schema_owner</td><td>name</td></tr>",
                            "<tr><td>default_character_set_catalog</td><td>name</td></tr>",
                            "<tr><td>default_character_set_schema</td><td>name</td></tr>",
                            "<tr><td>default_character_set_name</td><td>name</td></tr>",
                            "<tr><td>sql_path</td><td>character varying</td></tr>",
                            "<tr><td>sequence_catalog</td><td>name</td></tr>",
                            "<tr><td>sequence_schema</td><td>name</td></tr>",
                            "<tr><td>sequence_name</td><td>name</td></tr>",
                            "<tr><td>data_type</td><td>character varying</td></tr>",
                            "<tr><td>ev_action</td><td>pg_node_tree</td></tr>",
                            "<tr><td>ev_qual</td><td>pg_node_tree</td></tr>",
                            "<tr><td>rulename</td><td>name</td></tr>",
                            "<tr><td>start_value</td><td>character varying</td></tr>",
                            "<tr><td>minimum_value</td><td>character varying</td></tr>",
                            "<tr><td>maximum_value</td><td>character varying</td></tr>",
                            "<tr><td>increment</td><td>character varying</td></tr>",
                            "<tr><td>cycle_option</td><td>character varying</td></tr>",
                            "<tr><td>feature_id</td><td>character varying</td></tr>",
                            "<tr><td>feature_name</td><td>character varying</td></tr>",
                            "<tr><td>sub_feature_id</td><td>character varying</td></tr>",
                            "<tr><td>sub_feature_name</td><td>character varying</td></tr>",
                            "<tr><td>is_supported</td><td>character varying</td></tr>",
                            "<tr><td>is_verified_by</td><td>character varying</td></tr>",
                            "<tr><td>comments</td><td>character varying</td></tr>",
                            "<tr><td>implementation_info_id</td><td>character varying</td></tr>",
                            "<tr><td>implementation_info_name</td><td>character varying</td></tr>",
                            "<tr><td>stxdmcv</td><td>pg_mcv_list</td></tr>",
                            "<tr><td>character_value</td><td>character varying</td></tr>",
                            "<tr><td>comments</td><td>character varying</td></tr>",
                            "<tr><td>feature_id</td><td>character varying</td></tr>",
                            "<tr><td>feature_name</td><td>character varying</td></tr>",
                            "<tr><td>is_supported</td><td>character varying</td></tr>",
                            "<tr><td>is_verified_by</td><td>character varying</td></tr>",
                            "<tr><td>comments</td><td>character varying</td></tr>",
                            "<tr><td>stxddependencies</td><td>pg_dependencies</td></tr>",
                            "<tr><td>sizing_name</td><td>character varying</td></tr>",
                            "<tr><td>stxdndistinct</td><td>pg_ndistinct</td></tr>",
                            "<tr><td>comments</td><td>character varying</td></tr>",
                            "<tr><td>constraint_catalog</td><td>name</td></tr>",
                            "<tr><td>constraint_schema</td><td>name</td></tr>",
                            "<tr><td>constraint_name</td><td>name</td></tr>",
                            "<tr><td>table_catalog</td><td>name</td></tr>",
                            "<tr><td>table_schema</td><td>name</td></tr>",
                            "<tr><td>table_name</td><td>name</td></tr>",
                            "<tr><td>constraint_type</td><td>character varying</td></tr>",
                            "<tr><td>is_deferrable</td><td>character varying</td></tr>",
                            "<tr><td>initially_deferred</td><td>character varying</td></tr>",
                            "<tr><td>enforced</td><td>character varying</td></tr>",
                            "<tr><td>nulls_distinct</td><td>character varying</td></tr>",
                            "<tr><td>grantor</td><td>name</td></tr>",
                            "<tr><td>grantee</td><td>name</td></tr>",
                            "<tr><td>table_catalog</td><td>name</td></tr>",
                            "<tr><td>table_schema</td><td>name</td></tr>",
                            "<tr><td>table_name</td><td>name</td></tr>",
                            "<tr><td>privilege_type</td><td>character varying</td></tr>",
                            "<tr><td>is_grantable</td><td>character varying</td></tr>",
                            "<tr><td>with_hierarchy</td><td>character varying</td></tr>",
                            "<tr><td>grantor</td><td>name</td></tr>",
                            "<tr><td>grantee</td><td>name</td></tr>",
                            "<tr><td>table_catalog</td><td>name</td></tr>",
                            "<tr><td>table_schema</td><td>name</td></tr>",
                            "<tr><td>table_name</td><td>name</td></tr>",
                            "<tr><td>privilege_type</td><td>character varying</td></tr>",
                            "<tr><td>is_grantable</td><td>character varying</td></tr>",
                            "<tr><td>with_hierarchy</td><td>character varying</td></tr>",
                            "<tr><td>table_catalog</td><td>name</td></tr>",
                            "<tr><td>table_schema</td><td>name</td></tr>",
                            "<tr><td>table_name</td><td>name</td></tr>",
                            "<tr><td>table_type</td><td>character varying</td></tr>",
                            "<tr><td>self_referencing_column_name</td><td>name</td></tr>",
                            "<tr><td>reference_generation</td><td>character varying</td></tr>",
                            "<tr><td>user_defined_type_catalog</td><td>name</td></tr>",
                            "<tr><td>user_defined_type_schema</td><td>name</td></tr>",
                            "<tr><td>user_defined_type_name</td><td>name</td></tr>",
                            "<tr><td>is_insertable_into</td><td>character varying</td></tr>",
                            "<tr><td>is_typed</td><td>character varying</td></tr>",
                            "<tr><td>commit_action</td><td>character varying</td></tr>",
                            "<tr><td>udt_catalog</td><td>name</td></tr>",
                            "<tr><td>udt_schema</td><td>name</td></tr>",
                            "<tr><td>udt_name</td><td>name</td></tr>",
                            "<tr><td>specific_catalog</td><td>name</td></tr>",
                            "<tr><td>specific_schema</td><td>name</td></tr>",
                            "<tr><td>specific_name</td><td>name</td></tr>",
                            "<tr><td>group_name</td><td>name</td></tr>",
                            "<tr><td>transform_type</td><td>character varying</td></tr>",
                            "<tr><td>trigger_catalog</td><td>name</td></tr>",
                            "<tr><td>trigger_schema</td><td>name</td></tr>",
                            "<tr><td>trigger_name</td><td>name</td></tr>",
                            "<tr><td>event_object_catalog</td><td>name</td></tr>",
                            "<tr><td>event_object_schema</td><td>name</td></tr>",
                            "<tr><td>event_object_table</td><td>name</td></tr>",
                            "<tr><td>event_object_column</td><td>name</td></tr>",
                            "<tr><td>trigger_catalog</td><td>name</td></tr>",
                            "<tr><td>trigger_schema</td><td>name</td></tr>",
                            "<tr><td>trigger_name</td><td>name</td></tr>",
                            "<tr><td>event_manipulation</td><td>character varying</td></tr>",
                            "<tr><td>event_object_catalog</td><td>name</td></tr>",
                            "<tr><td>event_object_schema</td><td>name</td></tr>",
                            "<tr><td>event_object_table</td><td>name</td></tr>",
                            "<tr><td>stxexprs</td><td>pg_node_tree</td></tr>",
                            "<tr><td>action_condition</td><td>character varying</td></tr>",
                            "<tr><td>action_statement</td><td>character varying</td></tr>",
                            "<tr><td>action_orientation</td><td>character varying</td></tr>",
                            "<tr><td>action_timing</td><td>character varying</td></tr>",
                            "<tr><td>action_reference_old_table</td><td>name</td></tr>",
                            "<tr><td>action_reference_new_table</td><td>name</td></tr>",
                            "<tr><td>action_reference_old_row</td><td>name</td></tr>",
                            "<tr><td>action_reference_new_row</td><td>name</td></tr>",
                            "<tr><td>stxname</td><td>name</td></tr>",
                            "<tr><td>grantor</td><td>name</td></tr>",
                            "<tr><td>grantee</td><td>name</td></tr>",
                            "<tr><td>udt_catalog</td><td>name</td></tr>",
                            "<tr><td>udt_schema</td><td>name</td></tr>",
                            "<tr><td>udt_name</td><td>name</td></tr>",
                            "<tr><td>privilege_type</td><td>character varying</td></tr>",
                            "<tr><td>is_grantable</td><td>character varying</td></tr>",
                            "<tr><td>grantor</td><td>name</td></tr>",
                            "<tr><td>grantee</td><td>name</td></tr>",
                            "<tr><td>udt_catalog</td><td>name</td></tr>",
                            "<tr><td>udt_schema</td><td>name</td></tr>",
                            "<tr><td>udt_name</td><td>name</td></tr>",
                            "<tr><td>privilege_type</td><td>character varying</td></tr>",
                            "<tr><td>is_grantable</td><td>character varying</td></tr>",
                            "<tr><td>grantor</td><td>name</td></tr>",
                            "<tr><td>grantee</td><td>name</td></tr>",
                            "<tr><td>object_catalog</td><td>name</td></tr>",
                            "<tr><td>object_schema</td><td>name</td></tr>",
                            "<tr><td>object_name</td><td>name</td></tr>",
                            "<tr><td>object_type</td><td>character varying</td></tr>",
                            "<tr><td>privilege_type</td><td>character varying</td></tr>",
                            "<tr><td>is_grantable</td><td>character varying</td></tr>",
                            "<tr><td>grantor</td><td>name</td></tr>",
                            "<tr><td>grantee</td><td>name</td></tr>",
                            "<tr><td>object_catalog</td><td>name</td></tr>",
                            "<tr><td>object_schema</td><td>name</td></tr>",
                            "<tr><td>object_name</td><td>name</td></tr>",
                            "<tr><td>object_type</td><td>character varying</td></tr>",
                            "<tr><td>privilege_type</td><td>character varying</td></tr>",
                            "<tr><td>is_grantable</td><td>character varying</td></tr>",
                            "<tr><td>user_defined_type_catalog</td><td>name</td></tr>",
                            "<tr><td>user_defined_type_schema</td><td>name</td></tr>",
                            "<tr><td>user_defined_type_name</td><td>name</td></tr>",
                            "<tr><td>user_defined_type_category</td><td>character varying</td></tr>",
                            "<tr><td>is_instantiable</td><td>character varying</td></tr>",
                            "<tr><td>is_final</td><td>character varying</td></tr>",
                            "<tr><td>ordering_form</td><td>character varying</td></tr>",
                            "<tr><td>ordering_category</td><td>character varying</td></tr>",
                            "<tr><td>ordering_routine_catalog</td><td>name</td></tr>",
                            "<tr><td>ordering_routine_schema</td><td>name</td></tr>",
                            "<tr><td>ordering_routine_name</td><td>name</td></tr>",
                            "<tr><td>reference_type</td><td>character varying</td></tr>",
                            "<tr><td>data_type</td><td>character varying</td></tr>",
                            "<tr><td>aggminitval</td><td>text</td></tr>",
                            "<tr><td>agginitval</td><td>text</td></tr>",
                            "<tr><td>character_set_catalog</td><td>name</td></tr>",
                            "<tr><td>character_set_schema</td><td>name</td></tr>",
                            "<tr><td>character_set_name</td><td>name</td></tr>",
                            "<tr><td>collation_catalog</td><td>name</td></tr>",
                            "<tr><td>collation_schema</td><td>name</td></tr>",
                            "<tr><td>collation_name</td><td>name</td></tr>",
                            "<tr><td>lanname</td><td>name</td></tr>",
                            "<tr><td>amname</td><td>name</td></tr>",
                            "<tr><td>opcname</td><td>name</td></tr>",
                            "<tr><td>opfname</td><td>name</td></tr>",
                            "<tr><td>interval_type</td><td>character varying</td></tr>",
                            "<tr><td>oprname</td><td>name</td></tr>",
                            "<tr><td>source_dtd_identifier</td><td>name</td></tr>",
                            "<tr><td>ref_dtd_identifier</td><td>name</td></tr>",
                            "<tr><td>view_catalog</td><td>name</td></tr>",
                            "<tr><td>view_schema</td><td>name</td></tr>",
                            "<tr><td>view_name</td><td>name</td></tr>",
                            "<tr><td>table_catalog</td><td>name</td></tr>",
                            "<tr><td>table_schema</td><td>name</td></tr>",
                            "<tr><td>table_name</td><td>name</td></tr>",
                            "<tr><td>column_name</td><td>name</td></tr>",
                            "<tr><td>table_catalog</td><td>name</td></tr>",
                            "<tr><td>table_schema</td><td>name</td></tr>",
                            "<tr><td>table_name</td><td>name</td></tr>",
                            "<tr><td>specific_catalog</td><td>name</td></tr>",
                            "<tr><td>specific_schema</td><td>name</td></tr>",
                            "<tr><td>specific_name</td><td>name</td></tr>",
                            "<tr><td>view_catalog</td><td>name</td></tr>",
                            "<tr><td>view_schema</td><td>name</td></tr>",
                            "<tr><td>view_name</td><td>name</td></tr>",
                            "<tr><td>table_catalog</td><td>name</td></tr>",
                            "<tr><td>table_schema</td><td>name</td></tr>",
                            "<tr><td>table_name</td><td>name</td></tr>",
                            "<tr><td>table_catalog</td><td>name</td></tr>",
                            "<tr><td>table_schema</td><td>name</td></tr>",
                            "<tr><td>table_name</td><td>name</td></tr>",
                            "<tr><td>view_definition</td><td>character varying</td></tr>",
                            "<tr><td>check_option</td><td>character varying</td></tr>",
                            "<tr><td>is_updatable</td><td>character varying</td></tr>",
                            "<tr><td>is_insertable_into</td><td>character varying</td></tr>",
                            "<tr><td>is_trigger_updatable</td><td>character varying</td></tr>",
                            "<tr><td>is_trigger_deletable</td><td>character varying</td></tr>",
                            "<tr><td>is_trigger_insertable_into</td><td>character varying</td></tr>",
                            "<tr><td>object_catalog</td><td>name</td></tr>",
                            "<tr><td>object_schema</td><td>name</td></tr>",
                            "<tr><td>object_name</td><td>name</td></tr>",
                            "<tr><td>object_type</td><td>character varying</td></tr>",
                            "<tr><td>dtd_identifier</td><td>name</td></tr>",
                            "<tr><td>object_catalog</td><td>name</td></tr>",
                            "<tr><td>object_schema</td><td>name</td></tr>",
                            "<tr><td>object_name</td><td>name</td></tr>",
                            "<tr><td>object_type</td><td>character varying</td></tr>",
                            "<tr><td>collection_type_identifier</td><td>name</td></tr>",
                            "<tr><td>data_type</td><td>character varying</td></tr>",
                            "<tr><td>indpred</td><td>pg_node_tree</td></tr>",
                            "<tr><td>indexprs</td><td>pg_node_tree</td></tr>",
                            "<tr><td>character_set_catalog</td><td>name</td></tr>",
                            "<tr><td>character_set_schema</td><td>name</td></tr>",
                            "<tr><td>character_set_name</td><td>name</td></tr>",
                            "<tr><td>collation_catalog</td><td>name</td></tr>",
                            "<tr><td>collation_schema</td><td>name</td></tr>",
                            "<tr><td>collation_name</td><td>name</td></tr>",
                            "<tr><td>conbin</td><td>pg_node_tree</td></tr>",
                            "<tr><td>conname</td><td>name</td></tr>",
                            "<tr><td>adbin</td><td>pg_node_tree</td></tr>",
                            "<tr><td>relpartbound</td><td>pg_node_tree</td></tr>",
                            "<tr><td>interval_type</td><td>character varying</td></tr>",
                            "<tr><td>reloptions</td><td>ARRAY</td></tr>",
                            "<tr><td>domain_default</td><td>character varying</td></tr>",
                            "<tr><td>udt_catalog</td><td>name</td></tr>",
                            "<tr><td>udt_schema</td><td>name</td></tr>",
                            "<tr><td>udt_name</td><td>name</td></tr>",
                            "<tr><td>scope_catalog</td><td>name</td></tr>",
                            "<tr><td>scope_schema</td><td>name</td></tr>",
                            "<tr><td>scope_name</td><td>name</td></tr>",
                            "<tr><td>relname</td><td>name</td></tr>",
                            "<tr><td>dtd_identifier</td><td>name</td></tr>",
                            "<tr><td>nspname</td><td>name</td></tr>",
                            "<tr><td>relname</td><td>name</td></tr>",
                            "<tr><td>attname</td><td>name</td></tr>",
                            "<tr><td>attfdwoptions</td><td>ARRAY</td></tr>",
                            "<tr><td>table_catalog</td><td>name</td></tr>",
                            "<tr><td>table_schema</td><td>name</td></tr>",
                            "<tr><td>table_name</td><td>name</td></tr>",
                            "<tr><td>column_name</td><td>name</td></tr>",
                            "<tr><td>option_name</td><td>name</td></tr>",
                            "<tr><td>option_value</td><td>character varying</td></tr>",
                            "<tr><td>attfdwoptions</td><td>ARRAY</td></tr>",
                            "<tr><td>attoptions</td><td>ARRAY</td></tr>",
                            "<tr><td>fdwoptions</td><td>ARRAY</td></tr>",
                            "<tr><td>foreign_data_wrapper_catalog</td><td>name</td></tr>",
                            "<tr><td>foreign_data_wrapper_name</td><td>name</td></tr>",
                            "<tr><td>authorization_identifier</td><td>name</td></tr>",
                            "<tr><td>foreign_data_wrapper_language</td><td>character varying</td></tr>",
                            "<tr><td>foreign_data_wrapper_catalog</td><td>name</td></tr>",
                            "<tr><td>foreign_data_wrapper_name</td><td>name</td></tr>",
                            "<tr><td>option_name</td><td>name</td></tr>",
                            "<tr><td>option_value</td><td>character varying</td></tr>",
                            "<tr><td>foreign_data_wrapper_catalog</td><td>name</td></tr>",
                            "<tr><td>foreign_data_wrapper_name</td><td>name</td></tr>",
                            "<tr><td>authorization_identifier</td><td>name</td></tr>",
                            "<tr><td>library_name</td><td>character varying</td></tr>",
                            "<tr><td>foreign_data_wrapper_language</td><td>character varying</td></tr>",
                            "<tr><td>attname</td><td>name</td></tr>",
                            "<tr><td>srvoptions</td><td>ARRAY</td></tr>",
                            "<tr><td>foreign_server_catalog</td><td>name</td></tr>",
                            "<tr><td>foreign_server_name</td><td>name</td></tr>",
                            "<tr><td>foreign_data_wrapper_catalog</td><td>name</td></tr>",
                            "<tr><td>foreign_data_wrapper_name</td><td>name</td></tr>",
                            "<tr><td>foreign_server_type</td><td>character varying</td></tr>",
                            "<tr><td>foreign_server_version</td><td>character varying</td></tr>",
                            "<tr><td>authorization_identifier</td><td>name</td></tr>",
                            "<tr><td>foreign_server_catalog</td><td>name</td></tr>",
                            "<tr><td>foreign_server_name</td><td>name</td></tr>",
                            "<tr><td>option_name</td><td>name</td></tr>",
                            "<tr><td>option_value</td><td>character varying</td></tr>",
                            "<tr><td>foreign_server_catalog</td><td>name</td></tr>",
                            "<tr><td>foreign_server_name</td><td>name</td></tr>",
                            "<tr><td>foreign_data_wrapper_catalog</td><td>name</td></tr>",
                            "<tr><td>foreign_data_wrapper_name</td><td>name</td></tr>",
                            "<tr><td>foreign_server_type</td><td>character varying</td></tr>",
                            "<tr><td>foreign_server_version</td><td>character varying</td></tr>",
                            "<tr><td>authorization_identifier</td><td>name</td></tr>",
                            "<tr><td>foreign_table_catalog</td><td>name</td></tr>",
                            "<tr><td>foreign_table_schema</td><td>name</td></tr>",
                            "<tr><td>foreign_table_name</td><td>name</td></tr>",
                            "<tr><td>ftoptions</td><td>ARRAY</td></tr>",
                            "<tr><td>foreign_server_catalog</td><td>name</td></tr>",
                            "<tr><td>foreign_server_name</td><td>name</td></tr>",
                            "<tr><td>authorization_identifier</td><td>name</td></tr>",
                            "<tr><td>foreign_table_catalog</td><td>name</td></tr>",
                            "<tr><td>foreign_table_schema</td><td>name</td></tr>",
                            "<tr><td>foreign_table_name</td><td>name</td></tr>",
                            "<tr><td>option_name</td><td>name</td></tr>",
                            "<tr><td>option_value</td><td>character varying</td></tr>",
                            "<tr><td>foreign_table_catalog</td><td>name</td></tr>",
                            "<tr><td>foreign_table_schema</td><td>name</td></tr>",
                            "<tr><td>foreign_table_name</td><td>name</td></tr>",
                            "<tr><td>foreign_server_catalog</td><td>name</td></tr>",
                            "<tr><td>foreign_server_name</td><td>name</td></tr>",
                            "<tr><td>typdefault</td><td>text</td></tr>",
                            "<tr><td>umoptions</td><td>ARRAY</td></tr>",
                            "<tr><td>typdefaultbin</td><td>pg_node_tree</td></tr>",
                            "<tr><td>authorization_identifier</td><td>name</td></tr>",
                            "<tr><td>foreign_server_catalog</td><td>name</td></tr>",
                            "<tr><td>foreign_server_name</td><td>name</td></tr>",
                            "<tr><td>srvowner</td><td>name</td></tr>",
                            "<tr><td>authorization_identifier</td><td>name</td></tr>",
                            "<tr><td>foreign_server_catalog</td><td>name</td></tr>",
                            "<tr><td>foreign_server_name</td><td>name</td></tr>",
                            "<tr><td>option_name</td><td>name</td></tr>",
                            "<tr><td>option_value</td><td>character varying</td></tr>",
                            "<tr><td>authorization_identifier</td><td>name</td></tr>",
                            "<tr><td>foreign_server_catalog</td><td>name</td></tr>",
                            "<tr><td>foreign_server_name</td><td>name</td></tr>",
                            "<tr><td>typname</td><td>name</td></tr>",
                            "<tr><td>funcname</td><td>name</td></tr>",
                            "<tr><td>schemaname</td><td>name</td></tr>",
                            "<tr><td>datname</td><td>name</td></tr>",
                            "<tr><td>schemaname</td><td>name</td></tr>",
                            "<tr><td>funcname</td><td>name</td></tr>",
                            "<tr><td>datname</td><td>name</td></tr>",
                            "<tr><td>database</td><td>name</td></tr>",
                            "<tr><td>plugin</td><td>name</td></tr>",
                            "<tr><td>slot_name</td><td>name</td></tr>",
                            "<tr><td>f_table_name</td><td>name</td></tr>",
                            "<tr><td>subname</td><td>name</td></tr>",
                            "<tr><td>usename</td><td>name</td></tr>",
                            "<tr><td>f_geography_column</td><td>name</td></tr>",
                            "<tr><td>usename</td><td>name</td></tr>",
                            "<tr><td>datname</td><td>name</td></tr>",
                            "<tr><td>relname</td><td>name</td></tr>",
                            "<tr><td>schemaname</td><td>name</td></tr>",
                            "<tr><td>relname</td><td>name</td></tr>",
                            "<tr><td>schemaname</td><td>name</td></tr>",
                            "<tr><td>relname</td><td>name</td></tr>",
                            "<tr><td>schemaname</td><td>name</td></tr>",
                            "<tr><td>indexrelname</td><td>name</td></tr>",
                            "<tr><td>relname</td><td>name</td></tr>",
                            "<tr><td>schemaname</td><td>name</td></tr>",
                            "<tr><td>indexrelname</td><td>name</td></tr>",
                            "<tr><td>relname</td><td>name</td></tr>",
                            "<tr><td>probin</td><td>text</td></tr>",
                            "</table>"
                        ]
                    }
                }
            ],
            "execution_count": 3
        },
        {
            "cell_type": "markdown",
            "source": [
                "# **Query 01**"
            ],
            "metadata": {
                "language": "sql",
                "azdata_cell_guid": "dc5498cf-c77a-40f2-ac89-9cc40ba22b22"
            },
            "attachments": {}
        },
        {
            "cell_type": "code",
            "source": [
                "SELECT * FROM summer\r\n",
                "WHERE \"Country\" = 'GRE'\r\n",
                "LIMIT 10"
            ],
            "metadata": {
                "azdata_cell_guid": "5553cdb0-478d-4de4-9cea-f5411032041d",
                "language": "sql",
                "tags": []
            },
            "outputs": [
                {
                    "output_type": "display_data",
                    "data": {
                        "text/html": "(10 row(s) affected)"
                    },
                    "metadata": {}
                },
                {
                    "output_type": "display_data",
                    "data": {
                        "text/html": "Total execution time: 00:00:00.002"
                    },
                    "metadata": {}
                },
                {
                    "output_type": "execute_result",
                    "metadata": {},
                    "execution_count": 4,
                    "data": {
                        "application/vnd.dataresource+json": {
                            "schema": {
                                "fields": [
                                    {
                                        "name": "Year"
                                    },
                                    {
                                        "name": "City"
                                    },
                                    {
                                        "name": "Sport"
                                    },
                                    {
                                        "name": "Discipline"
                                    },
                                    {
                                        "name": "Athlete"
                                    },
                                    {
                                        "name": "Country"
                                    },
                                    {
                                        "name": "Gender"
                                    },
                                    {
                                        "name": "Event"
                                    },
                                    {
                                        "name": "Medal"
                                    }
                                ]
                            },
                            "data": [
                                {
                                    "Year": "1896",
                                    "City": "Athens",
                                    "Sport": "Aquatics",
                                    "Discipline": "Swimming",
                                    "Athlete": "DRIVAS Dimitrios",
                                    "Country": "GRE",
                                    "Gender": "Men",
                                    "Event": "100M Freestyle For Sailors",
                                    "Medal": "Bronze"
                                },
                                {
                                    "Year": "1896",
                                    "City": "Athens",
                                    "Sport": "Aquatics",
                                    "Discipline": "Swimming",
                                    "Athlete": "MALOKINIS Ioannis",
                                    "Country": "GRE",
                                    "Gender": "Men",
                                    "Event": "100M Freestyle For Sailors",
                                    "Medal": "Gold"
                                },
                                {
                                    "Year": "1896",
                                    "City": "Athens",
                                    "Sport": "Aquatics",
                                    "Discipline": "Swimming",
                                    "Athlete": "CHASAPIS Spiridon",
                                    "Country": "GRE",
                                    "Gender": "Men",
                                    "Event": "100M Freestyle For Sailors",
                                    "Medal": "Silver"
                                },
                                {
                                    "Year": "1896",
                                    "City": "Athens",
                                    "Sport": "Aquatics",
                                    "Discipline": "Swimming",
                                    "Athlete": "CHOROPHAS Efstathios",
                                    "Country": "GRE",
                                    "Gender": "Men",
                                    "Event": "1200M Freestyle",
                                    "Medal": "Bronze"
                                },
                                {
                                    "Year": "1896",
                                    "City": "Athens",
                                    "Sport": "Aquatics",
                                    "Discipline": "Swimming",
                                    "Athlete": "ANDREOU Joannis",
                                    "Country": "GRE",
                                    "Gender": "Men",
                                    "Event": "1200M Freestyle",
                                    "Medal": "Silver"
                                },
                                {
                                    "Year": "1896",
                                    "City": "Athens",
                                    "Sport": "Aquatics",
                                    "Discipline": "Swimming",
                                    "Athlete": "CHOROPHAS Efstathios",
                                    "Country": "GRE",
                                    "Gender": "Men",
                                    "Event": "400M Freestyle",
                                    "Medal": "Bronze"
                                },
                                {
                                    "Year": "1896",
                                    "City": "Athens",
                                    "Sport": "Aquatics",
                                    "Discipline": "Swimming",
                                    "Athlete": "PEPANOS Antonios",
                                    "Country": "GRE",
                                    "Gender": "Men",
                                    "Event": "400M Freestyle",
                                    "Medal": "Silver"
                                },
                                {
                                    "Year": "1896",
                                    "City": "Athens",
                                    "Sport": "Athletics",
                                    "Discipline": "Athletics",
                                    "Athlete": "GOLEMIS Dimitrios",
                                    "Country": "GRE",
                                    "Gender": "Men",
                                    "Event": "800M",
                                    "Medal": "Bronze"
                                },
                                {
                                    "Year": "1896",
                                    "City": "Athens",
                                    "Sport": "Athletics",
                                    "Discipline": "Athletics",
                                    "Athlete": "VERSIS Sotirios",
                                    "Country": "GRE",
                                    "Gender": "Men",
                                    "Event": "Discus Throw",
                                    "Medal": "Bronze"
                                },
                                {
                                    "Year": "1896",
                                    "City": "Athens",
                                    "Sport": "Athletics",
                                    "Discipline": "Athletics",
                                    "Athlete": "PARASKEVOPOULOS Panagiotis",
                                    "Country": "GRE",
                                    "Gender": "Men",
                                    "Event": "Discus Throw",
                                    "Medal": "Silver"
                                }
                            ]
                        },
                        "text/html": [
                            "<table>",
                            "<tr><th>Year</th><th>City</th><th>Sport</th><th>Discipline</th><th>Athlete</th><th>Country</th><th>Gender</th><th>Event</th><th>Medal</th></tr>",
                            "<tr><td>1896</td><td>Athens</td><td>Aquatics</td><td>Swimming</td><td>DRIVAS Dimitrios</td><td>GRE</td><td>Men</td><td>100M Freestyle For Sailors</td><td>Bronze</td></tr>",
                            "<tr><td>1896</td><td>Athens</td><td>Aquatics</td><td>Swimming</td><td>MALOKINIS Ioannis</td><td>GRE</td><td>Men</td><td>100M Freestyle For Sailors</td><td>Gold</td></tr>",
                            "<tr><td>1896</td><td>Athens</td><td>Aquatics</td><td>Swimming</td><td>CHASAPIS Spiridon</td><td>GRE</td><td>Men</td><td>100M Freestyle For Sailors</td><td>Silver</td></tr>",
                            "<tr><td>1896</td><td>Athens</td><td>Aquatics</td><td>Swimming</td><td>CHOROPHAS Efstathios</td><td>GRE</td><td>Men</td><td>1200M Freestyle</td><td>Bronze</td></tr>",
                            "<tr><td>1896</td><td>Athens</td><td>Aquatics</td><td>Swimming</td><td>ANDREOU Joannis</td><td>GRE</td><td>Men</td><td>1200M Freestyle</td><td>Silver</td></tr>",
                            "<tr><td>1896</td><td>Athens</td><td>Aquatics</td><td>Swimming</td><td>CHOROPHAS Efstathios</td><td>GRE</td><td>Men</td><td>400M Freestyle</td><td>Bronze</td></tr>",
                            "<tr><td>1896</td><td>Athens</td><td>Aquatics</td><td>Swimming</td><td>PEPANOS Antonios</td><td>GRE</td><td>Men</td><td>400M Freestyle</td><td>Silver</td></tr>",
                            "<tr><td>1896</td><td>Athens</td><td>Athletics</td><td>Athletics</td><td>GOLEMIS Dimitrios</td><td>GRE</td><td>Men</td><td>800M</td><td>Bronze</td></tr>",
                            "<tr><td>1896</td><td>Athens</td><td>Athletics</td><td>Athletics</td><td>VERSIS Sotirios</td><td>GRE</td><td>Men</td><td>Discus Throw</td><td>Bronze</td></tr>",
                            "<tr><td>1896</td><td>Athens</td><td>Athletics</td><td>Athletics</td><td>PARASKEVOPOULOS Panagiotis</td><td>GRE</td><td>Men</td><td>Discus Throw</td><td>Silver</td></tr>",
                            "</table>"
                        ]
                    }
                }
            ],
            "execution_count": 4
        },
        {
            "cell_type": "code",
            "source": [
                "SELECT * FROM summer\r\n",
                "WHERE \"Gender\" = 'Men'\r\n",
                "LIMIT 10;"
            ],
            "metadata": {
                "azdata_cell_guid": "dee5a4ea-2aa4-46ea-94d0-baa6ffeca025",
                "language": "sql"
            },
            "outputs": [
                {
                    "output_type": "display_data",
                    "data": {
                        "text/html": "(10 row(s) affected)"
                    },
                    "metadata": {}
                },
                {
                    "output_type": "display_data",
                    "data": {
                        "text/html": "Total execution time: 00:00:00.001"
                    },
                    "metadata": {}
                },
                {
                    "output_type": "execute_result",
                    "metadata": {},
                    "execution_count": 5,
                    "data": {
                        "application/vnd.dataresource+json": {
                            "schema": {
                                "fields": [
                                    {
                                        "name": "Year"
                                    },
                                    {
                                        "name": "City"
                                    },
                                    {
                                        "name": "Sport"
                                    },
                                    {
                                        "name": "Discipline"
                                    },
                                    {
                                        "name": "Athlete"
                                    },
                                    {
                                        "name": "Country"
                                    },
                                    {
                                        "name": "Gender"
                                    },
                                    {
                                        "name": "Event"
                                    },
                                    {
                                        "name": "Medal"
                                    }
                                ]
                            },
                            "data": [
                                {
                                    "Year": "1896",
                                    "City": "Athens",
                                    "Sport": "Aquatics",
                                    "Discipline": "Swimming",
                                    "Athlete": "HAJOS Alfred",
                                    "Country": "HUN",
                                    "Gender": "Men",
                                    "Event": "100M Freestyle",
                                    "Medal": "Gold"
                                },
                                {
                                    "Year": "1896",
                                    "City": "Athens",
                                    "Sport": "Aquatics",
                                    "Discipline": "Swimming",
                                    "Athlete": "HERSCHMANN Otto",
                                    "Country": "AUT",
                                    "Gender": "Men",
                                    "Event": "100M Freestyle",
                                    "Medal": "Silver"
                                },
                                {
                                    "Year": "1896",
                                    "City": "Athens",
                                    "Sport": "Aquatics",
                                    "Discipline": "Swimming",
                                    "Athlete": "DRIVAS Dimitrios",
                                    "Country": "GRE",
                                    "Gender": "Men",
                                    "Event": "100M Freestyle For Sailors",
                                    "Medal": "Bronze"
                                },
                                {
                                    "Year": "1896",
                                    "City": "Athens",
                                    "Sport": "Aquatics",
                                    "Discipline": "Swimming",
                                    "Athlete": "MALOKINIS Ioannis",
                                    "Country": "GRE",
                                    "Gender": "Men",
                                    "Event": "100M Freestyle For Sailors",
                                    "Medal": "Gold"
                                },
                                {
                                    "Year": "1896",
                                    "City": "Athens",
                                    "Sport": "Aquatics",
                                    "Discipline": "Swimming",
                                    "Athlete": "CHASAPIS Spiridon",
                                    "Country": "GRE",
                                    "Gender": "Men",
                                    "Event": "100M Freestyle For Sailors",
                                    "Medal": "Silver"
                                },
                                {
                                    "Year": "1896",
                                    "City": "Athens",
                                    "Sport": "Aquatics",
                                    "Discipline": "Swimming",
                                    "Athlete": "CHOROPHAS Efstathios",
                                    "Country": "GRE",
                                    "Gender": "Men",
                                    "Event": "1200M Freestyle",
                                    "Medal": "Bronze"
                                },
                                {
                                    "Year": "1896",
                                    "City": "Athens",
                                    "Sport": "Aquatics",
                                    "Discipline": "Swimming",
                                    "Athlete": "HAJOS Alfred",
                                    "Country": "HUN",
                                    "Gender": "Men",
                                    "Event": "1200M Freestyle",
                                    "Medal": "Gold"
                                },
                                {
                                    "Year": "1896",
                                    "City": "Athens",
                                    "Sport": "Aquatics",
                                    "Discipline": "Swimming",
                                    "Athlete": "ANDREOU Joannis",
                                    "Country": "GRE",
                                    "Gender": "Men",
                                    "Event": "1200M Freestyle",
                                    "Medal": "Silver"
                                },
                                {
                                    "Year": "1896",
                                    "City": "Athens",
                                    "Sport": "Aquatics",
                                    "Discipline": "Swimming",
                                    "Athlete": "CHOROPHAS Efstathios",
                                    "Country": "GRE",
                                    "Gender": "Men",
                                    "Event": "400M Freestyle",
                                    "Medal": "Bronze"
                                },
                                {
                                    "Year": "1896",
                                    "City": "Athens",
                                    "Sport": "Aquatics",
                                    "Discipline": "Swimming",
                                    "Athlete": "NEUMANN Paul",
                                    "Country": "AUT",
                                    "Gender": "Men",
                                    "Event": "400M Freestyle",
                                    "Medal": "Gold"
                                }
                            ]
                        },
                        "text/html": [
                            "<table>",
                            "<tr><th>Year</th><th>City</th><th>Sport</th><th>Discipline</th><th>Athlete</th><th>Country</th><th>Gender</th><th>Event</th><th>Medal</th></tr>",
                            "<tr><td>1896</td><td>Athens</td><td>Aquatics</td><td>Swimming</td><td>HAJOS Alfred</td><td>HUN</td><td>Men</td><td>100M Freestyle</td><td>Gold</td></tr>",
                            "<tr><td>1896</td><td>Athens</td><td>Aquatics</td><td>Swimming</td><td>HERSCHMANN Otto</td><td>AUT</td><td>Men</td><td>100M Freestyle</td><td>Silver</td></tr>",
                            "<tr><td>1896</td><td>Athens</td><td>Aquatics</td><td>Swimming</td><td>DRIVAS Dimitrios</td><td>GRE</td><td>Men</td><td>100M Freestyle For Sailors</td><td>Bronze</td></tr>",
                            "<tr><td>1896</td><td>Athens</td><td>Aquatics</td><td>Swimming</td><td>MALOKINIS Ioannis</td><td>GRE</td><td>Men</td><td>100M Freestyle For Sailors</td><td>Gold</td></tr>",
                            "<tr><td>1896</td><td>Athens</td><td>Aquatics</td><td>Swimming</td><td>CHASAPIS Spiridon</td><td>GRE</td><td>Men</td><td>100M Freestyle For Sailors</td><td>Silver</td></tr>",
                            "<tr><td>1896</td><td>Athens</td><td>Aquatics</td><td>Swimming</td><td>CHOROPHAS Efstathios</td><td>GRE</td><td>Men</td><td>1200M Freestyle</td><td>Bronze</td></tr>",
                            "<tr><td>1896</td><td>Athens</td><td>Aquatics</td><td>Swimming</td><td>HAJOS Alfred</td><td>HUN</td><td>Men</td><td>1200M Freestyle</td><td>Gold</td></tr>",
                            "<tr><td>1896</td><td>Athens</td><td>Aquatics</td><td>Swimming</td><td>ANDREOU Joannis</td><td>GRE</td><td>Men</td><td>1200M Freestyle</td><td>Silver</td></tr>",
                            "<tr><td>1896</td><td>Athens</td><td>Aquatics</td><td>Swimming</td><td>CHOROPHAS Efstathios</td><td>GRE</td><td>Men</td><td>400M Freestyle</td><td>Bronze</td></tr>",
                            "<tr><td>1896</td><td>Athens</td><td>Aquatics</td><td>Swimming</td><td>NEUMANN Paul</td><td>AUT</td><td>Men</td><td>400M Freestyle</td><td>Gold</td></tr>",
                            "</table>"
                        ]
                    }
                }
            ],
            "execution_count": 5
        }
    ]
}