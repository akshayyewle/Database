{
    "metadata": {
        "kernelspec": {
            "name": "SQL",
            "display_name": "SQL",
            "language": "sql"
        },
        "language_info": {
            "name": "sql",
            "version": ""
        }
    },
    "nbformat_minor": 2,
    "nbformat": 4,
    "cells": [
        {
            "cell_type": "markdown",
            "source": [
                "# **Setup**\r\n",
                "\r\n",
                "- https://towardsdatascience.com/the-most-useful-advanced-sql-techniques-to-succeed-in-the-tech-industry-0f0690e8386c/ "
            ],
            "metadata": {
                "azdata_cell_guid": "d3c22c2d-9070-4cee-bcef-9ea3ebf5c9ce"
            },
            "attachments": {}
        },
        {
            "cell_type": "code",
            "source": [
                "-- Get a list of databases\r\n",
                "SELECT datname FROM pg_database\r\n",
                "WHERE datistemplate = false"
            ],
            "metadata": {
                "azdata_cell_guid": "a7ef1be8-10b5-4a27-bf63-67aed29cf518",
                "language": "sql"
            },
            "outputs": [
                {
                    "output_type": "display_data",
                    "data": {
                        "text/html": "(14 row(s) affected)"
                    },
                    "metadata": {}
                },
                {
                    "output_type": "display_data",
                    "data": {
                        "text/html": "Total execution time: 00:00:00.002"
                    },
                    "metadata": {}
                },
                {
                    "output_type": "execute_result",
                    "execution_count": 5,
                    "data": {
                        "application/vnd.dataresource+json": {
                            "schema": {
                                "fields": [
                                    {
                                        "name": "datname"
                                    }
                                ]
                            },
                            "data": [
                                {
                                    "datname": "postgres"
                                },
                                {
                                    "datname": "dvd_rentals"
                                },
                                {
                                    "datname": "world"
                                },
                                {
                                    "datname": "periodic_table"
                                },
                                {
                                    "datname": "lego"
                                },
                                {
                                    "datname": "netflix"
                                },
                                {
                                    "datname": "chinook"
                                },
                                {
                                    "datname": "titanic"
                                },
                                {
                                    "datname": "happiness_index"
                                },
                                {
                                    "datname": "employees"
                                },
                                {
                                    "datname": "pagila"
                                },
                                {
                                    "datname": "holiday_songs"
                                },
                                {
                                    "datname": "demo-vectorDB"
                                },
                                {
                                    "datname": "ParkMaster"
                                }
                            ]
                        },
                        "text/html": "<table><tr><th>datname</th></tr><tr><td>postgres</td></tr><tr><td>dvd_rentals</td></tr><tr><td>world</td></tr><tr><td>periodic_table</td></tr><tr><td>lego</td></tr><tr><td>netflix</td></tr><tr><td>chinook</td></tr><tr><td>titanic</td></tr><tr><td>happiness_index</td></tr><tr><td>employees</td></tr><tr><td>pagila</td></tr><tr><td>holiday_songs</td></tr><tr><td>demo-vectorDB</td></tr><tr><td>ParkMaster</td></tr></table>"
                    },
                    "metadata": {}
                }
            ],
            "execution_count": 5
        },
        {
            "cell_type": "markdown",
            "source": [
                "# **Create Table**"
            ],
            "metadata": {
                "azdata_cell_guid": "e8f8929d-ddda-4be2-9399-5725ba271bb6"
            },
            "attachments": {}
        },
        {
            "cell_type": "code",
            "source": [
                "CREATE TABLE promo_sales(\r\n",
                "  Sale_Person_ID VARCHAR(40) PRIMARY KEY,\r\n",
                "  Department VARCHAR(40),\r\n",
                "  Sales_Amount int\r\n",
                ");"
            ],
            "metadata": {
                "azdata_cell_guid": "66ecd965-1515-42de-a676-2e11610a6bc7",
                "language": "sql"
            },
            "outputs": [
                {
                    "output_type": "display_data",
                    "data": {
                        "text/html": "CREATE TABLE"
                    },
                    "metadata": {}
                },
                {
                    "output_type": "display_data",
                    "data": {
                        "text/html": "Total execution time: 00:00:00.013"
                    },
                    "metadata": {}
                }
            ],
            "execution_count": 6
        },
        {
            "cell_type": "code",
            "source": [
                "INSERT INTO promo_sales VALUES (001, 'Cosmetics', 500);\r\n",
                "INSERT INTO promo_sales VALUES (002, 'Cosmetics', 700);\r\n",
                "INSERT INTO promo_sales VALUES (003, 'Fashion', 1000);\r\n",
                "INSERT INTO promo_sales VALUES (004, 'Jewellery', 800);\r\n",
                "INSERT INTO promo_sales VALUES (005, 'Fashion', 850);\r\n",
                "INSERT INTO promo_sales VALUES (006, 'Kid', 500);\r\n",
                "INSERT INTO promo_sales VALUES (007, 'Cosmetics', 900);\r\n",
                "INSERT INTO promo_sales VALUES (008, 'Fashion', 600);\r\n",
                "INSERT INTO promo_sales VALUES (009, 'Fashion', 1200);\r\n",
                "INSERT INTO promo_sales VALUES (010, 'Jewellery', 900);\r\n",
                "INSERT INTO promo_sales VALUES (011, 'Kid', 700);\r\n",
                "INSERT INTO promo_sales VALUES (012, 'Fashion', 1500);\r\n",
                "INSERT INTO promo_sales VALUES (013, 'Cosmetics', 850);\r\n",
                "INSERT INTO promo_sales VALUES (014, 'Kid', 750);\r\n",
                "INSERT INTO promo_sales VALUES (015, 'Jewellery', 950);"
            ],
            "metadata": {
                "language": "sql",
                "azdata_cell_guid": "55e9e210-fba9-4e9b-bc9b-598479cbb04e"
            },
            "outputs": [
                {
                    "output_type": "display_data",
                    "data": {
                        "text/html": "INSERT 0 1"
                    },
                    "metadata": {}
                },
                {
                    "output_type": "display_data",
                    "data": {
                        "text/html": "INSERT 0 1"
                    },
                    "metadata": {}
                },
                {
                    "output_type": "display_data",
                    "data": {
                        "text/html": "INSERT 0 1"
                    },
                    "metadata": {}
                },
                {
                    "output_type": "display_data",
                    "data": {
                        "text/html": "INSERT 0 1"
                    },
                    "metadata": {}
                },
                {
                    "output_type": "display_data",
                    "data": {
                        "text/html": "INSERT 0 1"
                    },
                    "metadata": {}
                },
                {
                    "output_type": "display_data",
                    "data": {
                        "text/html": "INSERT 0 1"
                    },
                    "metadata": {}
                },
                {
                    "output_type": "display_data",
                    "data": {
                        "text/html": "INSERT 0 1"
                    },
                    "metadata": {}
                },
                {
                    "output_type": "display_data",
                    "data": {
                        "text/html": "INSERT 0 1"
                    },
                    "metadata": {}
                },
                {
                    "output_type": "display_data",
                    "data": {
                        "text/html": "INSERT 0 1"
                    },
                    "metadata": {}
                },
                {
                    "output_type": "display_data",
                    "data": {
                        "text/html": "INSERT 0 1"
                    },
                    "metadata": {}
                },
                {
                    "output_type": "display_data",
                    "data": {
                        "text/html": "INSERT 0 1"
                    },
                    "metadata": {}
                },
                {
                    "output_type": "display_data",
                    "data": {
                        "text/html": "INSERT 0 1"
                    },
                    "metadata": {}
                },
                {
                    "output_type": "display_data",
                    "data": {
                        "text/html": "INSERT 0 1"
                    },
                    "metadata": {}
                },
                {
                    "output_type": "display_data",
                    "data": {
                        "text/html": "INSERT 0 1"
                    },
                    "metadata": {}
                },
                {
                    "output_type": "display_data",
                    "data": {
                        "text/html": "INSERT 0 1"
                    },
                    "metadata": {}
                },
                {
                    "output_type": "display_data",
                    "data": {
                        "text/html": "Total execution time: 00:00:00.008"
                    },
                    "metadata": {}
                }
            ],
            "execution_count": 7
        },
        {
            "cell_type": "code",
            "source": [
                "SELECT * FROM promo_sales"
            ],
            "metadata": {
                "language": "sql",
                "azdata_cell_guid": "86df51f3-4979-46ab-855f-89d7b8386b51"
            },
            "outputs": [
                {
                    "output_type": "display_data",
                    "data": {
                        "text/html": "(15 row(s) affected)"
                    },
                    "metadata": {}
                },
                {
                    "output_type": "display_data",
                    "data": {
                        "text/html": "Total execution time: 00:00:00.001"
                    },
                    "metadata": {}
                },
                {
                    "output_type": "execute_result",
                    "execution_count": 8,
                    "data": {
                        "application/vnd.dataresource+json": {
                            "schema": {
                                "fields": [
                                    {
                                        "name": "sale_person_id"
                                    },
                                    {
                                        "name": "department"
                                    },
                                    {
                                        "name": "sales_amount"
                                    }
                                ]
                            },
                            "data": [
                                {
                                    "sale_person_id": "1",
                                    "department": "Cosmetics",
                                    "sales_amount": "500"
                                },
                                {
                                    "sale_person_id": "2",
                                    "department": "Cosmetics",
                                    "sales_amount": "700"
                                },
                                {
                                    "sale_person_id": "3",
                                    "department": "Fashion",
                                    "sales_amount": "1000"
                                },
                                {
                                    "sale_person_id": "4",
                                    "department": "Jewellery",
                                    "sales_amount": "800"
                                },
                                {
                                    "sale_person_id": "5",
                                    "department": "Fashion",
                                    "sales_amount": "850"
                                },
                                {
                                    "sale_person_id": "6",
                                    "department": "Kid",
                                    "sales_amount": "500"
                                },
                                {
                                    "sale_person_id": "7",
                                    "department": "Cosmetics",
                                    "sales_amount": "900"
                                },
                                {
                                    "sale_person_id": "8",
                                    "department": "Fashion",
                                    "sales_amount": "600"
                                },
                                {
                                    "sale_person_id": "9",
                                    "department": "Fashion",
                                    "sales_amount": "1200"
                                },
                                {
                                    "sale_person_id": "10",
                                    "department": "Jewellery",
                                    "sales_amount": "900"
                                },
                                {
                                    "sale_person_id": "11",
                                    "department": "Kid",
                                    "sales_amount": "700"
                                },
                                {
                                    "sale_person_id": "12",
                                    "department": "Fashion",
                                    "sales_amount": "1500"
                                },
                                {
                                    "sale_person_id": "13",
                                    "department": "Cosmetics",
                                    "sales_amount": "850"
                                },
                                {
                                    "sale_person_id": "14",
                                    "department": "Kid",
                                    "sales_amount": "750"
                                },
                                {
                                    "sale_person_id": "15",
                                    "department": "Jewellery",
                                    "sales_amount": "950"
                                }
                            ]
                        },
                        "text/html": "<table><tr><th>sale_person_id</th><th>department</th><th>sales_amount</th></tr><tr><td>1</td><td>Cosmetics</td><td>500</td></tr><tr><td>2</td><td>Cosmetics</td><td>700</td></tr><tr><td>3</td><td>Fashion</td><td>1000</td></tr><tr><td>4</td><td>Jewellery</td><td>800</td></tr><tr><td>5</td><td>Fashion</td><td>850</td></tr><tr><td>6</td><td>Kid</td><td>500</td></tr><tr><td>7</td><td>Cosmetics</td><td>900</td></tr><tr><td>8</td><td>Fashion</td><td>600</td></tr><tr><td>9</td><td>Fashion</td><td>1200</td></tr><tr><td>10</td><td>Jewellery</td><td>900</td></tr><tr><td>11</td><td>Kid</td><td>700</td></tr><tr><td>12</td><td>Fashion</td><td>1500</td></tr><tr><td>13</td><td>Cosmetics</td><td>850</td></tr><tr><td>14</td><td>Kid</td><td>750</td></tr><tr><td>15</td><td>Jewellery</td><td>950</td></tr></table>"
                    },
                    "metadata": {}
                }
            ],
            "execution_count": 8
        },
        {
            "cell_type": "markdown",
            "source": [
                "# **WINDOW Function**\r\n",
                "\r\n",
                "calculate the subtotal sales amount for each department and add a column, _depttotal, to the table promo_sales"
            ],
            "metadata": {
                "azdata_cell_guid": "50018294-eeba-498e-939a-57edeffb8c3b"
            },
            "attachments": {}
        },
        {
            "cell_type": "code",
            "source": [
                "-- Option 01 (CTE)\r\n",
                "\r\n",
                "WITH department_total AS (\r\n",
                "SELECT promo_sales.Department, SUM(Sales_Amount)\r\n",
                "FROM promo_sales\r\n",
                "GROUP BY promo_sales.Department)\r\n",
                "\r\n",
                "SELECT * \r\n",
                "FROM promo_sales, department_total \r\n",
                "WHERE promo_sales.department = department_total.department"
            ],
            "metadata": {
                "azdata_cell_guid": "7d7e7b19-300d-4236-9f4c-fc3cc95c4c9d",
                "language": "sql",
                "tags": []
            },
            "outputs": [
                {
                    "output_type": "display_data",
                    "data": {
                        "text/html": "(15 row(s) affected)"
                    },
                    "metadata": {}
                },
                {
                    "output_type": "display_data",
                    "data": {
                        "text/html": "Total execution time: 00:00:00.001"
                    },
                    "metadata": {}
                },
                {
                    "output_type": "execute_result",
                    "execution_count": 18,
                    "data": {
                        "application/vnd.dataresource+json": {
                            "schema": {
                                "fields": [
                                    {
                                        "name": "sale_person_id"
                                    },
                                    {
                                        "name": "department"
                                    },
                                    {
                                        "name": "sales_amount"
                                    },
                                    {
                                        "name": "department"
                                    },
                                    {
                                        "name": "sum"
                                    }
                                ]
                            },
                            "data": [
                                {
                                    "sale_person_id": "1",
                                    "department": "Cosmetics",
                                    "sales_amount": "500",
                                    "sum": "2950"
                                },
                                {
                                    "sale_person_id": "2",
                                    "department": "Cosmetics",
                                    "sales_amount": "700",
                                    "sum": "2950"
                                },
                                {
                                    "sale_person_id": "3",
                                    "department": "Fashion",
                                    "sales_amount": "1000",
                                    "sum": "5150"
                                },
                                {
                                    "sale_person_id": "4",
                                    "department": "Jewellery",
                                    "sales_amount": "800",
                                    "sum": "2650"
                                },
                                {
                                    "sale_person_id": "5",
                                    "department": "Fashion",
                                    "sales_amount": "850",
                                    "sum": "5150"
                                },
                                {
                                    "sale_person_id": "6",
                                    "department": "Kid",
                                    "sales_amount": "500",
                                    "sum": "1950"
                                },
                                {
                                    "sale_person_id": "7",
                                    "department": "Cosmetics",
                                    "sales_amount": "900",
                                    "sum": "2950"
                                },
                                {
                                    "sale_person_id": "8",
                                    "department": "Fashion",
                                    "sales_amount": "600",
                                    "sum": "5150"
                                },
                                {
                                    "sale_person_id": "9",
                                    "department": "Fashion",
                                    "sales_amount": "1200",
                                    "sum": "5150"
                                },
                                {
                                    "sale_person_id": "10",
                                    "department": "Jewellery",
                                    "sales_amount": "900",
                                    "sum": "2650"
                                },
                                {
                                    "sale_person_id": "11",
                                    "department": "Kid",
                                    "sales_amount": "700",
                                    "sum": "1950"
                                },
                                {
                                    "sale_person_id": "12",
                                    "department": "Fashion",
                                    "sales_amount": "1500",
                                    "sum": "5150"
                                },
                                {
                                    "sale_person_id": "13",
                                    "department": "Cosmetics",
                                    "sales_amount": "850",
                                    "sum": "2950"
                                },
                                {
                                    "sale_person_id": "14",
                                    "department": "Kid",
                                    "sales_amount": "750",
                                    "sum": "1950"
                                },
                                {
                                    "sale_person_id": "15",
                                    "department": "Jewellery",
                                    "sales_amount": "950",
                                    "sum": "2650"
                                }
                            ]
                        },
                        "text/html": "<table><tr><th>sale_person_id</th><th>department</th><th>sales_amount</th><th>department</th><th>sum</th></tr><tr><td>1</td><td>Cosmetics</td><td>500</td><td>Cosmetics</td><td>2950</td></tr><tr><td>2</td><td>Cosmetics</td><td>700</td><td>Cosmetics</td><td>2950</td></tr><tr><td>3</td><td>Fashion</td><td>1000</td><td>Fashion</td><td>5150</td></tr><tr><td>4</td><td>Jewellery</td><td>800</td><td>Jewellery</td><td>2650</td></tr><tr><td>5</td><td>Fashion</td><td>850</td><td>Fashion</td><td>5150</td></tr><tr><td>6</td><td>Kid</td><td>500</td><td>Kid</td><td>1950</td></tr><tr><td>7</td><td>Cosmetics</td><td>900</td><td>Cosmetics</td><td>2950</td></tr><tr><td>8</td><td>Fashion</td><td>600</td><td>Fashion</td><td>5150</td></tr><tr><td>9</td><td>Fashion</td><td>1200</td><td>Fashion</td><td>5150</td></tr><tr><td>10</td><td>Jewellery</td><td>900</td><td>Jewellery</td><td>2650</td></tr><tr><td>11</td><td>Kid</td><td>700</td><td>Kid</td><td>1950</td></tr><tr><td>12</td><td>Fashion</td><td>1500</td><td>Fashion</td><td>5150</td></tr><tr><td>13</td><td>Cosmetics</td><td>850</td><td>Cosmetics</td><td>2950</td></tr><tr><td>14</td><td>Kid</td><td>750</td><td>Kid</td><td>1950</td></tr><tr><td>15</td><td>Jewellery</td><td>950</td><td>Jewellery</td><td>2650</td></tr></table>"
                    },
                    "metadata": {}
                }
            ],
            "execution_count": 18
        },
        {
            "cell_type": "code",
            "source": [
                "-- Option 02 (CTE With Table Join)\r\n",
                "\r\n",
                "WITH department_total AS (\r\n",
                "SELECT promo_sales.Department, SUM(Sales_Amount)\r\n",
                "FROM promo_sales\r\n",
                "GROUP BY promo_sales.Department)\r\n",
                "\r\n",
                "SELECT * \r\n",
                "FROM promo_sales\r\n",
                "JOIN department_total ON department_total.department = promo_sales.department"
            ],
            "metadata": {
                "azdata_cell_guid": "64fa8945-0c18-41cd-a44c-506c4ca2fcb3",
                "language": "sql"
            },
            "outputs": [
                {
                    "output_type": "display_data",
                    "data": {
                        "text/html": "(15 row(s) affected)"
                    },
                    "metadata": {}
                },
                {
                    "output_type": "display_data",
                    "data": {
                        "text/html": "Total execution time: 00:00:00.002"
                    },
                    "metadata": {}
                },
                {
                    "output_type": "execute_result",
                    "execution_count": 20,
                    "data": {
                        "application/vnd.dataresource+json": {
                            "schema": {
                                "fields": [
                                    {
                                        "name": "sale_person_id"
                                    },
                                    {
                                        "name": "department"
                                    },
                                    {
                                        "name": "sales_amount"
                                    },
                                    {
                                        "name": "department"
                                    },
                                    {
                                        "name": "sum"
                                    }
                                ]
                            },
                            "data": [
                                {
                                    "sale_person_id": "1",
                                    "department": "Cosmetics",
                                    "sales_amount": "500",
                                    "sum": "2950"
                                },
                                {
                                    "sale_person_id": "2",
                                    "department": "Cosmetics",
                                    "sales_amount": "700",
                                    "sum": "2950"
                                },
                                {
                                    "sale_person_id": "3",
                                    "department": "Fashion",
                                    "sales_amount": "1000",
                                    "sum": "5150"
                                },
                                {
                                    "sale_person_id": "4",
                                    "department": "Jewellery",
                                    "sales_amount": "800",
                                    "sum": "2650"
                                },
                                {
                                    "sale_person_id": "5",
                                    "department": "Fashion",
                                    "sales_amount": "850",
                                    "sum": "5150"
                                },
                                {
                                    "sale_person_id": "6",
                                    "department": "Kid",
                                    "sales_amount": "500",
                                    "sum": "1950"
                                },
                                {
                                    "sale_person_id": "7",
                                    "department": "Cosmetics",
                                    "sales_amount": "900",
                                    "sum": "2950"
                                },
                                {
                                    "sale_person_id": "8",
                                    "department": "Fashion",
                                    "sales_amount": "600",
                                    "sum": "5150"
                                },
                                {
                                    "sale_person_id": "9",
                                    "department": "Fashion",
                                    "sales_amount": "1200",
                                    "sum": "5150"
                                },
                                {
                                    "sale_person_id": "10",
                                    "department": "Jewellery",
                                    "sales_amount": "900",
                                    "sum": "2650"
                                },
                                {
                                    "sale_person_id": "11",
                                    "department": "Kid",
                                    "sales_amount": "700",
                                    "sum": "1950"
                                },
                                {
                                    "sale_person_id": "12",
                                    "department": "Fashion",
                                    "sales_amount": "1500",
                                    "sum": "5150"
                                },
                                {
                                    "sale_person_id": "13",
                                    "department": "Cosmetics",
                                    "sales_amount": "850",
                                    "sum": "2950"
                                },
                                {
                                    "sale_person_id": "14",
                                    "department": "Kid",
                                    "sales_amount": "750",
                                    "sum": "1950"
                                },
                                {
                                    "sale_person_id": "15",
                                    "department": "Jewellery",
                                    "sales_amount": "950",
                                    "sum": "2650"
                                }
                            ]
                        },
                        "text/html": "<table><tr><th>sale_person_id</th><th>department</th><th>sales_amount</th><th>department</th><th>sum</th></tr><tr><td>1</td><td>Cosmetics</td><td>500</td><td>Cosmetics</td><td>2950</td></tr><tr><td>2</td><td>Cosmetics</td><td>700</td><td>Cosmetics</td><td>2950</td></tr><tr><td>3</td><td>Fashion</td><td>1000</td><td>Fashion</td><td>5150</td></tr><tr><td>4</td><td>Jewellery</td><td>800</td><td>Jewellery</td><td>2650</td></tr><tr><td>5</td><td>Fashion</td><td>850</td><td>Fashion</td><td>5150</td></tr><tr><td>6</td><td>Kid</td><td>500</td><td>Kid</td><td>1950</td></tr><tr><td>7</td><td>Cosmetics</td><td>900</td><td>Cosmetics</td><td>2950</td></tr><tr><td>8</td><td>Fashion</td><td>600</td><td>Fashion</td><td>5150</td></tr><tr><td>9</td><td>Fashion</td><td>1200</td><td>Fashion</td><td>5150</td></tr><tr><td>10</td><td>Jewellery</td><td>900</td><td>Jewellery</td><td>2650</td></tr><tr><td>11</td><td>Kid</td><td>700</td><td>Kid</td><td>1950</td></tr><tr><td>12</td><td>Fashion</td><td>1500</td><td>Fashion</td><td>5150</td></tr><tr><td>13</td><td>Cosmetics</td><td>850</td><td>Cosmetics</td><td>2950</td></tr><tr><td>14</td><td>Kid</td><td>750</td><td>Kid</td><td>1950</td></tr><tr><td>15</td><td>Jewellery</td><td>950</td><td>Jewellery</td><td>2650</td></tr></table>"
                    },
                    "metadata": {}
                }
            ],
            "execution_count": 20
        },
        {
            "cell_type": "code",
            "source": [
                "-- Option 02 (Using Window function)\r\n",
                "\r\n",
                "SELECT Sale_Person_ID, Sales_Amount, department,\r\n",
                "    SUM(Sales_Amount) OVER (PARTITION BY Department) AS dept_total \r\n",
                "FROM promo_sales;"
            ],
            "metadata": {
                "language": "sql",
                "azdata_cell_guid": "30de695f-aa81-400f-9024-bf8b32b25596"
            },
            "outputs": [
                {
                    "output_type": "display_data",
                    "data": {
                        "text/html": "(15 row(s) affected)"
                    },
                    "metadata": {}
                },
                {
                    "output_type": "display_data",
                    "data": {
                        "text/html": "Total execution time: 00:00:00.006"
                    },
                    "metadata": {}
                },
                {
                    "output_type": "execute_result",
                    "execution_count": 16,
                    "data": {
                        "application/vnd.dataresource+json": {
                            "schema": {
                                "fields": [
                                    {
                                        "name": "sale_person_id"
                                    },
                                    {
                                        "name": "sales_amount"
                                    },
                                    {
                                        "name": "department"
                                    },
                                    {
                                        "name": "dept_total"
                                    }
                                ]
                            },
                            "data": [
                                {
                                    "sale_person_id": "2",
                                    "sales_amount": "700",
                                    "department": "Cosmetics",
                                    "dept_total": "2950"
                                },
                                {
                                    "sale_person_id": "1",
                                    "sales_amount": "500",
                                    "department": "Cosmetics",
                                    "dept_total": "2950"
                                },
                                {
                                    "sale_person_id": "7",
                                    "sales_amount": "900",
                                    "department": "Cosmetics",
                                    "dept_total": "2950"
                                },
                                {
                                    "sale_person_id": "13",
                                    "sales_amount": "850",
                                    "department": "Cosmetics",
                                    "dept_total": "2950"
                                },
                                {
                                    "sale_person_id": "8",
                                    "sales_amount": "600",
                                    "department": "Fashion",
                                    "dept_total": "5150"
                                },
                                {
                                    "sale_person_id": "3",
                                    "sales_amount": "1000",
                                    "department": "Fashion",
                                    "dept_total": "5150"
                                },
                                {
                                    "sale_person_id": "5",
                                    "sales_amount": "850",
                                    "department": "Fashion",
                                    "dept_total": "5150"
                                },
                                {
                                    "sale_person_id": "9",
                                    "sales_amount": "1200",
                                    "department": "Fashion",
                                    "dept_total": "5150"
                                },
                                {
                                    "sale_person_id": "12",
                                    "sales_amount": "1500",
                                    "department": "Fashion",
                                    "dept_total": "5150"
                                },
                                {
                                    "sale_person_id": "10",
                                    "sales_amount": "900",
                                    "department": "Jewellery",
                                    "dept_total": "2650"
                                },
                                {
                                    "sale_person_id": "15",
                                    "sales_amount": "950",
                                    "department": "Jewellery",
                                    "dept_total": "2650"
                                },
                                {
                                    "sale_person_id": "4",
                                    "sales_amount": "800",
                                    "department": "Jewellery",
                                    "dept_total": "2650"
                                },
                                {
                                    "sale_person_id": "11",
                                    "sales_amount": "700",
                                    "department": "Kid",
                                    "dept_total": "1950"
                                },
                                {
                                    "sale_person_id": "6",
                                    "sales_amount": "500",
                                    "department": "Kid",
                                    "dept_total": "1950"
                                },
                                {
                                    "sale_person_id": "14",
                                    "sales_amount": "750",
                                    "department": "Kid",
                                    "dept_total": "1950"
                                }
                            ]
                        },
                        "text/html": "<table><tr><th>sale_person_id</th><th>sales_amount</th><th>department</th><th>dept_total</th></tr><tr><td>2</td><td>700</td><td>Cosmetics</td><td>2950</td></tr><tr><td>1</td><td>500</td><td>Cosmetics</td><td>2950</td></tr><tr><td>7</td><td>900</td><td>Cosmetics</td><td>2950</td></tr><tr><td>13</td><td>850</td><td>Cosmetics</td><td>2950</td></tr><tr><td>8</td><td>600</td><td>Fashion</td><td>5150</td></tr><tr><td>3</td><td>1000</td><td>Fashion</td><td>5150</td></tr><tr><td>5</td><td>850</td><td>Fashion</td><td>5150</td></tr><tr><td>9</td><td>1200</td><td>Fashion</td><td>5150</td></tr><tr><td>12</td><td>1500</td><td>Fashion</td><td>5150</td></tr><tr><td>10</td><td>900</td><td>Jewellery</td><td>2650</td></tr><tr><td>15</td><td>950</td><td>Jewellery</td><td>2650</td></tr><tr><td>4</td><td>800</td><td>Jewellery</td><td>2650</td></tr><tr><td>11</td><td>700</td><td>Kid</td><td>1950</td></tr><tr><td>6</td><td>500</td><td>Kid</td><td>1950</td></tr><tr><td>14</td><td>750</td><td>Kid</td><td>1950</td></tr></table>"
                    },
                    "metadata": {}
                }
            ],
            "execution_count": 16
        },
        {
            "cell_type": "markdown",
            "source": [
                "# **RANK Function**\r\n",
                "\r\n",
                "rank the sales persons by their performance during the promotion within each department"
            ],
            "metadata": {
                "azdata_cell_guid": "e71f3629-ccb9-4fda-ac1d-14cd6e14a716"
            },
            "attachments": {}
        },
        {
            "cell_type": "code",
            "source": [
                "SELECT *,\r\n",
                "    RANK() OVER (PARTITION BY department ORDER BY Sales_Amount DESC) AS Rank_in_dept\r\n",
                "FROM promo_sales"
            ],
            "metadata": {
                "azdata_cell_guid": "c5a43174-8f7f-4472-a1b3-1e617c1f4489",
                "language": "sql"
            },
            "outputs": [
                {
                    "output_type": "display_data",
                    "data": {
                        "text/html": "(15 row(s) affected)"
                    },
                    "metadata": {}
                },
                {
                    "output_type": "display_data",
                    "data": {
                        "text/html": "Total execution time: 00:00:00.001"
                    },
                    "metadata": {}
                },
                {
                    "output_type": "execute_result",
                    "execution_count": 23,
                    "data": {
                        "application/vnd.dataresource+json": {
                            "schema": {
                                "fields": [
                                    {
                                        "name": "sale_person_id"
                                    },
                                    {
                                        "name": "department"
                                    },
                                    {
                                        "name": "sales_amount"
                                    },
                                    {
                                        "name": "rank_in_dept"
                                    }
                                ]
                            },
                            "data": [
                                {
                                    "sale_person_id": "7",
                                    "department": "Cosmetics",
                                    "sales_amount": "900",
                                    "rank_in_dept": "1"
                                },
                                {
                                    "sale_person_id": "13",
                                    "department": "Cosmetics",
                                    "sales_amount": "850",
                                    "rank_in_dept": "2"
                                },
                                {
                                    "sale_person_id": "2",
                                    "department": "Cosmetics",
                                    "sales_amount": "700",
                                    "rank_in_dept": "3"
                                },
                                {
                                    "sale_person_id": "1",
                                    "department": "Cosmetics",
                                    "sales_amount": "500",
                                    "rank_in_dept": "4"
                                },
                                {
                                    "sale_person_id": "12",
                                    "department": "Fashion",
                                    "sales_amount": "1500",
                                    "rank_in_dept": "1"
                                },
                                {
                                    "sale_person_id": "9",
                                    "department": "Fashion",
                                    "sales_amount": "1200",
                                    "rank_in_dept": "2"
                                },
                                {
                                    "sale_person_id": "3",
                                    "department": "Fashion",
                                    "sales_amount": "1000",
                                    "rank_in_dept": "3"
                                },
                                {
                                    "sale_person_id": "5",
                                    "department": "Fashion",
                                    "sales_amount": "850",
                                    "rank_in_dept": "4"
                                },
                                {
                                    "sale_person_id": "8",
                                    "department": "Fashion",
                                    "sales_amount": "600",
                                    "rank_in_dept": "5"
                                },
                                {
                                    "sale_person_id": "15",
                                    "department": "Jewellery",
                                    "sales_amount": "950",
                                    "rank_in_dept": "1"
                                },
                                {
                                    "sale_person_id": "10",
                                    "department": "Jewellery",
                                    "sales_amount": "900",
                                    "rank_in_dept": "2"
                                },
                                {
                                    "sale_person_id": "4",
                                    "department": "Jewellery",
                                    "sales_amount": "800",
                                    "rank_in_dept": "3"
                                },
                                {
                                    "sale_person_id": "14",
                                    "department": "Kid",
                                    "sales_amount": "750",
                                    "rank_in_dept": "1"
                                },
                                {
                                    "sale_person_id": "11",
                                    "department": "Kid",
                                    "sales_amount": "700",
                                    "rank_in_dept": "2"
                                },
                                {
                                    "sale_person_id": "6",
                                    "department": "Kid",
                                    "sales_amount": "500",
                                    "rank_in_dept": "3"
                                }
                            ]
                        },
                        "text/html": "<table><tr><th>sale_person_id</th><th>department</th><th>sales_amount</th><th>rank_in_dept</th></tr><tr><td>7</td><td>Cosmetics</td><td>900</td><td>1</td></tr><tr><td>13</td><td>Cosmetics</td><td>850</td><td>2</td></tr><tr><td>2</td><td>Cosmetics</td><td>700</td><td>3</td></tr><tr><td>1</td><td>Cosmetics</td><td>500</td><td>4</td></tr><tr><td>12</td><td>Fashion</td><td>1500</td><td>1</td></tr><tr><td>9</td><td>Fashion</td><td>1200</td><td>2</td></tr><tr><td>3</td><td>Fashion</td><td>1000</td><td>3</td></tr><tr><td>5</td><td>Fashion</td><td>850</td><td>4</td></tr><tr><td>8</td><td>Fashion</td><td>600</td><td>5</td></tr><tr><td>15</td><td>Jewellery</td><td>950</td><td>1</td></tr><tr><td>10</td><td>Jewellery</td><td>900</td><td>2</td></tr><tr><td>4</td><td>Jewellery</td><td>800</td><td>3</td></tr><tr><td>14</td><td>Kid</td><td>750</td><td>1</td></tr><tr><td>11</td><td>Kid</td><td>700</td><td>2</td></tr><tr><td>6</td><td>Kid</td><td>500</td><td>3</td></tr></table>"
                    },
                    "metadata": {}
                }
            ],
            "execution_count": 23
        },
        {
            "cell_type": "markdown",
            "source": [
                "# **SUB QUERY**"
            ],
            "metadata": {
                "azdata_cell_guid": "f8a65949-1e7f-482e-bfb6-ca1524a8cd12"
            },
            "attachments": {}
        },
        {
            "cell_type": "markdown",
            "source": [
                "## **For New Column**\r\n",
                "\r\n",
                "add a new column to calculate the percentage of each sale compared to the average sales amount in their department. This will give us insight into how each salesperson is performing relative to their department’s average."
            ],
            "metadata": {
                "azdata_cell_guid": "fae7ed1e-89e4-41cd-862e-378881785fff"
            },
            "attachments": {}
        },
        {
            "cell_type": "code",
            "source": [
                "SELECT department, AVG(Sales_Amount) \r\n",
                "FROM promo_sales\r\n",
                "GROUP BY department"
            ],
            "metadata": {
                "azdata_cell_guid": "01fe0d30-e886-43fd-ae79-1416ffb7e20c",
                "language": "sql"
            },
            "outputs": [
                {
                    "output_type": "display_data",
                    "data": {
                        "text/html": "(4 row(s) affected)"
                    },
                    "metadata": {}
                },
                {
                    "output_type": "display_data",
                    "data": {
                        "text/html": "Total execution time: 00:00:00.006"
                    },
                    "metadata": {}
                },
                {
                    "output_type": "execute_result",
                    "execution_count": 25,
                    "data": {
                        "application/vnd.dataresource+json": {
                            "schema": {
                                "fields": [
                                    {
                                        "name": "department"
                                    },
                                    {
                                        "name": "avg"
                                    }
                                ]
                            },
                            "data": [
                                {
                                    "department": "Jewellery",
                                    "avg": "883.3333333333333333"
                                },
                                {
                                    "department": "Kid",
                                    "avg": "650.0000000000000000"
                                },
                                {
                                    "department": "Cosmetics",
                                    "avg": "737.5000000000000000"
                                },
                                {
                                    "department": "Fashion",
                                    "avg": "1030.0000000000000000"
                                }
                            ]
                        },
                        "text/html": "<table><tr><th>department</th><th>avg</th></tr><tr><td>Jewellery</td><td>883.3333333333333333</td></tr><tr><td>Kid</td><td>650.0000000000000000</td></tr><tr><td>Cosmetics</td><td>737.5000000000000000</td></tr><tr><td>Fashion</td><td>1030.0000000000000000</td></tr></table>"
                    },
                    "metadata": {}
                }
            ],
            "execution_count": 25
        },
        {
            "cell_type": "code",
            "source": [
                "SELECT ps.*, \r\n",
                "    ROUND(Sales_Amount/ (\r\n",
                "        SELECT AVG(Sales_Amount) \r\n",
                "        FROM promo_sales AS ps2 \r\n",
                "        WHERE ps.department = ps2.department)\r\n",
                "        *100,2) AS  Percent_of_Dept_Avg\r\n",
                "FROM promo_sales AS ps"
            ],
            "metadata": {
                "azdata_cell_guid": "8a28a37b-7774-48c5-8578-b04fde5cc481",
                "language": "sql"
            },
            "outputs": [
                {
                    "output_type": "display_data",
                    "data": {
                        "text/html": "(15 row(s) affected)"
                    },
                    "metadata": {}
                },
                {
                    "output_type": "display_data",
                    "data": {
                        "text/html": "Total execution time: 00:00:00.005"
                    },
                    "metadata": {}
                },
                {
                    "output_type": "execute_result",
                    "execution_count": 28,
                    "data": {
                        "application/vnd.dataresource+json": {
                            "schema": {
                                "fields": [
                                    {
                                        "name": "sale_person_id"
                                    },
                                    {
                                        "name": "department"
                                    },
                                    {
                                        "name": "sales_amount"
                                    },
                                    {
                                        "name": "percent_of_dept_avg"
                                    }
                                ]
                            },
                            "data": [
                                {
                                    "sale_person_id": "1",
                                    "department": "Cosmetics",
                                    "sales_amount": "500",
                                    "percent_of_dept_avg": "67.80"
                                },
                                {
                                    "sale_person_id": "2",
                                    "department": "Cosmetics",
                                    "sales_amount": "700",
                                    "percent_of_dept_avg": "94.92"
                                },
                                {
                                    "sale_person_id": "3",
                                    "department": "Fashion",
                                    "sales_amount": "1000",
                                    "percent_of_dept_avg": "97.09"
                                },
                                {
                                    "sale_person_id": "4",
                                    "department": "Jewellery",
                                    "sales_amount": "800",
                                    "percent_of_dept_avg": "90.57"
                                },
                                {
                                    "sale_person_id": "5",
                                    "department": "Fashion",
                                    "sales_amount": "850",
                                    "percent_of_dept_avg": "82.52"
                                },
                                {
                                    "sale_person_id": "6",
                                    "department": "Kid",
                                    "sales_amount": "500",
                                    "percent_of_dept_avg": "76.92"
                                },
                                {
                                    "sale_person_id": "7",
                                    "department": "Cosmetics",
                                    "sales_amount": "900",
                                    "percent_of_dept_avg": "122.03"
                                },
                                {
                                    "sale_person_id": "8",
                                    "department": "Fashion",
                                    "sales_amount": "600",
                                    "percent_of_dept_avg": "58.25"
                                },
                                {
                                    "sale_person_id": "9",
                                    "department": "Fashion",
                                    "sales_amount": "1200",
                                    "percent_of_dept_avg": "116.50"
                                },
                                {
                                    "sale_person_id": "10",
                                    "department": "Jewellery",
                                    "sales_amount": "900",
                                    "percent_of_dept_avg": "101.89"
                                },
                                {
                                    "sale_person_id": "11",
                                    "department": "Kid",
                                    "sales_amount": "700",
                                    "percent_of_dept_avg": "107.69"
                                },
                                {
                                    "sale_person_id": "12",
                                    "department": "Fashion",
                                    "sales_amount": "1500",
                                    "percent_of_dept_avg": "145.63"
                                },
                                {
                                    "sale_person_id": "13",
                                    "department": "Cosmetics",
                                    "sales_amount": "850",
                                    "percent_of_dept_avg": "115.25"
                                },
                                {
                                    "sale_person_id": "14",
                                    "department": "Kid",
                                    "sales_amount": "750",
                                    "percent_of_dept_avg": "115.38"
                                },
                                {
                                    "sale_person_id": "15",
                                    "department": "Jewellery",
                                    "sales_amount": "950",
                                    "percent_of_dept_avg": "107.55"
                                }
                            ]
                        },
                        "text/html": "<table><tr><th>sale_person_id</th><th>department</th><th>sales_amount</th><th>percent_of_dept_avg</th></tr><tr><td>1</td><td>Cosmetics</td><td>500</td><td>67.80</td></tr><tr><td>2</td><td>Cosmetics</td><td>700</td><td>94.92</td></tr><tr><td>3</td><td>Fashion</td><td>1000</td><td>97.09</td></tr><tr><td>4</td><td>Jewellery</td><td>800</td><td>90.57</td></tr><tr><td>5</td><td>Fashion</td><td>850</td><td>82.52</td></tr><tr><td>6</td><td>Kid</td><td>500</td><td>76.92</td></tr><tr><td>7</td><td>Cosmetics</td><td>900</td><td>122.03</td></tr><tr><td>8</td><td>Fashion</td><td>600</td><td>58.25</td></tr><tr><td>9</td><td>Fashion</td><td>1200</td><td>116.50</td></tr><tr><td>10</td><td>Jewellery</td><td>900</td><td>101.89</td></tr><tr><td>11</td><td>Kid</td><td>700</td><td>107.69</td></tr><tr><td>12</td><td>Fashion</td><td>1500</td><td>145.63</td></tr><tr><td>13</td><td>Cosmetics</td><td>850</td><td>115.25</td></tr><tr><td>14</td><td>Kid</td><td>750</td><td>115.38</td></tr><tr><td>15</td><td>Jewellery</td><td>950</td><td>107.55</td></tr></table>"
                    },
                    "metadata": {}
                }
            ],
            "execution_count": 28
        },
        {
            "cell_type": "markdown",
            "source": [
                "## **SUB QUERY With FROM Clause**\r\n",
                "\r\n",
                "table mkt_cost contains the advertising costs for all departments during this promotion. To determine which department is the most cost-efficient, we need to calculate the return on advertising spend for each department. We can use a subquery to create a new table that includes the total sales amounts and marketing costs for these departments, and then analyze the data in this new table.\r\n",
                "\r\n",
                "![](https://towardsdatascience.com/wp-content/uploads/2024/07/1M2sE8qNm_PhuZdNJv7Ztag.png)"
            ],
            "metadata": {
                "language": "sql",
                "azdata_cell_guid": "7a3e6ee0-2e2a-4739-8963-100868136d4c"
            },
            "attachments": {}
        },
        {
            "cell_type": "code",
            "source": [
                "--Create Table\r\n",
                "CREATE TABLE mkt_cost_table (Department VARCHAR(40), Mkt_Cost int);\r\n",
                "\r\n",
                "-- Insert Data\r\n",
                "INSERT INTO mkt_cost_table VALUES ('Cosmetics',305);\r\n",
                "INSERT INTO mkt_cost_table VALUES ('Fashion',400);\r\n",
                "INSERT INTO mkt_cost_table VALUES ('Jewellery',195);\r\n",
                "INSERT INTO mkt_cost_table VALUES ('Kid',150);\r\n",
                "\r\n",
                "-- View Table\r\n",
                "SELECT * FROM mkt_cost_table;"
            ],
            "metadata": {
                "language": "sql",
                "azdata_cell_guid": "f2724470-0108-4af1-8667-344370689626",
                "tags": []
            },
            "outputs": [
                {
                    "output_type": "display_data",
                    "data": {
                        "text/html": "CREATE TABLE"
                    },
                    "metadata": {}
                },
                {
                    "output_type": "display_data",
                    "data": {
                        "text/html": "INSERT 0 1"
                    },
                    "metadata": {}
                },
                {
                    "output_type": "display_data",
                    "data": {
                        "text/html": "INSERT 0 1"
                    },
                    "metadata": {}
                },
                {
                    "output_type": "display_data",
                    "data": {
                        "text/html": "INSERT 0 1"
                    },
                    "metadata": {}
                },
                {
                    "output_type": "display_data",
                    "data": {
                        "text/html": "INSERT 0 1"
                    },
                    "metadata": {}
                },
                {
                    "output_type": "display_data",
                    "data": {
                        "text/html": "(4 row(s) affected)"
                    },
                    "metadata": {}
                },
                {
                    "output_type": "display_data",
                    "data": {
                        "text/html": "Total execution time: 00:00:00.010"
                    },
                    "metadata": {}
                },
                {
                    "output_type": "execute_result",
                    "execution_count": 49,
                    "data": {
                        "application/vnd.dataresource+json": {
                            "schema": {
                                "fields": [
                                    {
                                        "name": "department"
                                    },
                                    {
                                        "name": "mkt_cost"
                                    }
                                ]
                            },
                            "data": [
                                {
                                    "department": "Cosmetics",
                                    "mkt_cost": "305"
                                },
                                {
                                    "department": "Fashion",
                                    "mkt_cost": "400"
                                },
                                {
                                    "department": "Jewellery",
                                    "mkt_cost": "195"
                                },
                                {
                                    "department": "Kid",
                                    "mkt_cost": "150"
                                }
                            ]
                        },
                        "text/html": "<table><tr><th>department</th><th>mkt_cost</th></tr><tr><td>Cosmetics</td><td>305</td></tr><tr><td>Fashion</td><td>400</td></tr><tr><td>Jewellery</td><td>195</td></tr><tr><td>Kid</td><td>150</td></tr></table>"
                    },
                    "metadata": {}
                }
            ],
            "execution_count": 49
        },
        {
            "cell_type": "code",
            "source": [
                "SELECT ps.department, SUM(ps.sales_amount) AS dept_sales_amt\r\n",
                "    , mkt_cost_table.mkt_cost \r\n",
                "FROM promo_sales AS ps\r\n",
                "GROUP BY ps.department\r\n",
                "JOIN mkt_cost_table ON ps.department = mkt_cost_table.department"
            ],
            "metadata": {
                "language": "sql",
                "azdata_cell_guid": "2c4ba5da-14a3-4bce-8cec-3d8ef3125498"
            },
            "outputs": [
                {
                    "output_type": "error",
                    "ename": "",
                    "evalue": "syntax error at or near \"JOIN\"",
                    "traceback": []
                },
                {
                    "output_type": "display_data",
                    "data": {
                        "text/html": "Total execution time: 00:00:00.001"
                    },
                    "metadata": {}
                }
            ],
            "execution_count": 85
        },
        {
            "cell_type": "code",
            "source": [
                "SELECT \r\n",
                "    Department, \r\n",
                "    dept_ttl,\r\n",
                "    Mkt_Cost,\r\n",
                "    dept_ttl/Mkt_Cost AS ROAS\r\n",
                "FROM \r\n",
                "    (SELECT\r\n",
                "        s.Department,\r\n",
                "        SUM(s.Sales_Amount) AS dept_ttl,\r\n",
                "        c.Mkt_Cost\r\n",
                "     FROM \r\n",
                "        promo_sales s\r\n",
                "     GROUP BY s.Department\r\n",
                "     LEFT JOIN \r\n",
                "        mkt_cost_table c\r\n",
                "     ON s.Department=c.Department\r\n",
                "     ) "
            ],
            "metadata": {
                "language": "sql",
                "azdata_cell_guid": "d5e023f0-7127-4343-ab5f-f86fc44ae9f3"
            },
            "outputs": [
                {
                    "output_type": "error",
                    "ename": "",
                    "evalue": "syntax error at or near \"LEFT\"",
                    "traceback": []
                },
                {
                    "output_type": "display_data",
                    "data": {
                        "text/html": "Total execution time: 00:00:00.001"
                    },
                    "metadata": {}
                }
            ],
            "execution_count": 117
        },
        {
            "cell_type": "markdown",
            "source": [
                "## **SUB QUERY With WHERE Clause**\r\n",
                "\r\n",
                "select sales persons whose sales amount exceeded the average amount of all sales persons"
            ],
            "metadata": {
                "language": "sql",
                "azdata_cell_guid": "3e0d4661-a374-4626-b3df-8e93c6683748"
            },
            "attachments": {}
        },
        {
            "cell_type": "code",
            "source": [
                "SELECT AVG(Sales_Amount) FROM promo_sales"
            ],
            "metadata": {
                "language": "sql",
                "azdata_cell_guid": "81ae70f4-dec4-47db-81d4-a557fc26180a"
            },
            "outputs": [
                {
                    "output_type": "display_data",
                    "data": {
                        "text/html": "(1 row(s) affected)"
                    },
                    "metadata": {}
                },
                {
                    "output_type": "display_data",
                    "data": {
                        "text/html": "Total execution time: 00:00:00.002"
                    },
                    "metadata": {}
                },
                {
                    "output_type": "execute_result",
                    "execution_count": 30,
                    "data": {
                        "application/vnd.dataresource+json": {
                            "schema": {
                                "fields": [
                                    {
                                        "name": "avg"
                                    }
                                ]
                            },
                            "data": [
                                {
                                    "avg": "846.6666666666666667"
                                }
                            ]
                        },
                        "text/html": "<table><tr><th>avg</th></tr><tr><td>846.6666666666666667</td></tr></table>"
                    },
                    "metadata": {}
                }
            ],
            "execution_count": 30
        },
        {
            "cell_type": "code",
            "source": [
                "SELECT *\r\n",
                "FROM promo_sales \r\n",
                "WHERE Sales_Amount >= (SELECT AVG(Sales_Amount) FROM promo_sales)"
            ],
            "metadata": {
                "language": "sql",
                "azdata_cell_guid": "4dcfb55a-edce-40b8-b5f3-e7e3834d9473",
                "tags": []
            },
            "outputs": [
                {
                    "output_type": "display_data",
                    "data": {
                        "text/html": "(8 row(s) affected)"
                    },
                    "metadata": {}
                },
                {
                    "output_type": "display_data",
                    "data": {
                        "text/html": "Total execution time: 00:00:00.002"
                    },
                    "metadata": {}
                },
                {
                    "output_type": "execute_result",
                    "execution_count": 37,
                    "data": {
                        "application/vnd.dataresource+json": {
                            "schema": {
                                "fields": [
                                    {
                                        "name": "sale_person_id"
                                    },
                                    {
                                        "name": "department"
                                    },
                                    {
                                        "name": "sales_amount"
                                    },
                                    {
                                        "name": "avg_sales_amt"
                                    }
                                ]
                            },
                            "data": [
                                {
                                    "sale_person_id": "3",
                                    "department": "Fashion",
                                    "sales_amount": "1000",
                                    "avg_sales_amt": "847"
                                },
                                {
                                    "sale_person_id": "5",
                                    "department": "Fashion",
                                    "sales_amount": "850",
                                    "avg_sales_amt": "847"
                                },
                                {
                                    "sale_person_id": "7",
                                    "department": "Cosmetics",
                                    "sales_amount": "900",
                                    "avg_sales_amt": "847"
                                },
                                {
                                    "sale_person_id": "9",
                                    "department": "Fashion",
                                    "sales_amount": "1200",
                                    "avg_sales_amt": "847"
                                },
                                {
                                    "sale_person_id": "10",
                                    "department": "Jewellery",
                                    "sales_amount": "900",
                                    "avg_sales_amt": "847"
                                },
                                {
                                    "sale_person_id": "12",
                                    "department": "Fashion",
                                    "sales_amount": "1500",
                                    "avg_sales_amt": "847"
                                },
                                {
                                    "sale_person_id": "13",
                                    "department": "Cosmetics",
                                    "sales_amount": "850",
                                    "avg_sales_amt": "847"
                                },
                                {
                                    "sale_person_id": "15",
                                    "department": "Jewellery",
                                    "sales_amount": "950",
                                    "avg_sales_amt": "847"
                                }
                            ]
                        },
                        "text/html": "<table><tr><th>sale_person_id</th><th>department</th><th>sales_amount</th><th>avg_sales_amt</th></tr><tr><td>3</td><td>Fashion</td><td>1000</td><td>847</td></tr><tr><td>5</td><td>Fashion</td><td>850</td><td>847</td></tr><tr><td>7</td><td>Cosmetics</td><td>900</td><td>847</td></tr><tr><td>9</td><td>Fashion</td><td>1200</td><td>847</td></tr><tr><td>10</td><td>Jewellery</td><td>900</td><td>847</td></tr><tr><td>12</td><td>Fashion</td><td>1500</td><td>847</td></tr><tr><td>13</td><td>Cosmetics</td><td>850</td><td>847</td></tr><tr><td>15</td><td>Jewellery</td><td>950</td><td>847</td></tr></table>"
                    },
                    "metadata": {}
                }
            ],
            "execution_count": 37
        },
        {
            "cell_type": "markdown",
            "source": [
                "# **CTE**"
            ],
            "metadata": {
                "language": "sql",
                "azdata_cell_guid": "e7850eed-592d-4fe4-a2a0-987f34242cf3"
            },
            "attachments": {}
        },
        {
            "cell_type": "markdown",
            "source": [
                "## **Non-recursive CTE**\r\n",
                "\r\n",
                "Non-recursive CTEs are used to simplify complex queries through breaking them down into more manageable parts. They don’t reference themselves so they are the simplest type of CTEs.\r\n",
                "\r\n",
                "**Query**\r\n",
                "Now, let’s use the non-recursive CTEs to work with data table promo_sales. The task is to calculate the average sales amount from each department and compare it with the store average during the promotion."
            ],
            "metadata": {
                "language": "sql",
                "azdata_cell_guid": "3c3db67d-14be-4dc4-a1dc-759846433276"
            },
            "attachments": {}
        },
        {
            "cell_type": "code",
            "source": [
                "WITH dept_avg AS (\r\n",
                "    SELECT department, AVG(sales_amount) AS avg_sales\r\n",
                "    FROM promo_sales AS ps \r\n",
                "    GROUP BY ps.department),\r\n",
                "\r\n",
                "    store_avg AS (SELECT AVG(Sales_Amount) AS store_avg FROM promo_sales)\r\n",
                "\r\n",
                "SELECT d.department, d.avg_sales, s.store_avg, d.avg_sales - s.store_avg AS diff\r\n",
                "FROM dept_avg AS d \r\n",
                "CROSS JOIN store_avg AS s"
            ],
            "metadata": {
                "language": "sql",
                "azdata_cell_guid": "8bab925e-b1f6-49a9-8b94-73e43014c9e7"
            },
            "outputs": [
                {
                    "output_type": "display_data",
                    "data": {
                        "text/html": "(4 row(s) affected)"
                    },
                    "metadata": {}
                },
                {
                    "output_type": "display_data",
                    "data": {
                        "text/html": "Total execution time: 00:00:00.003"
                    },
                    "metadata": {}
                },
                {
                    "output_type": "execute_result",
                    "execution_count": 111,
                    "data": {
                        "application/vnd.dataresource+json": {
                            "schema": {
                                "fields": [
                                    {
                                        "name": "department"
                                    },
                                    {
                                        "name": "avg_sales"
                                    },
                                    {
                                        "name": "store_avg"
                                    },
                                    {
                                        "name": "diff"
                                    }
                                ]
                            },
                            "data": [
                                {
                                    "department": "Jewellery",
                                    "avg_sales": "883.3333333333333333",
                                    "store_avg": "846.6666666666666667",
                                    "diff": "36.6666666666666666"
                                },
                                {
                                    "department": "Kid",
                                    "avg_sales": "650.0000000000000000",
                                    "store_avg": "846.6666666666666667",
                                    "diff": "-196.6666666666666667"
                                },
                                {
                                    "department": "Cosmetics",
                                    "avg_sales": "737.5000000000000000",
                                    "store_avg": "846.6666666666666667",
                                    "diff": "-109.1666666666666667"
                                },
                                {
                                    "department": "Fashion",
                                    "avg_sales": "1030.0000000000000000",
                                    "store_avg": "846.6666666666666667",
                                    "diff": "183.3333333333333333"
                                }
                            ]
                        },
                        "text/html": "<table><tr><th>department</th><th>avg_sales</th><th>store_avg</th><th>diff</th></tr><tr><td>Jewellery</td><td>883.3333333333333333</td><td>846.6666666666666667</td><td>36.6666666666666666</td></tr><tr><td>Kid</td><td>650.0000000000000000</td><td>846.6666666666666667</td><td>-196.6666666666666667</td></tr><tr><td>Cosmetics</td><td>737.5000000000000000</td><td>846.6666666666666667</td><td>-109.1666666666666667</td></tr><tr><td>Fashion</td><td>1030.0000000000000000</td><td>846.6666666666666667</td><td>183.3333333333333333</td></tr></table>"
                    },
                    "metadata": {}
                }
            ],
            "execution_count": 111
        },
        {
            "cell_type": "markdown",
            "source": [
                "## **Recursive CTE**\r\n",
                "\r\n",
                "Recursive CTEs references themselves within their definitions, allowing you to work with hierarchical or tree-structure data.\r\n",
                "\r\n",
                "**Query**\r\n",
                "Since recursive CTEs can deal with hierarchical data, we are trying to generate a sequence of numbers from 1 to 10"
            ],
            "metadata": {
                "language": "sql",
                "azdata_cell_guid": "b35da09f-496f-4e37-aad0-1e9dbf1fbab3"
            },
            "attachments": {}
        },
        {
            "cell_type": "code",
            "source": [
                "WITH RECURSIVE table1(n) AS (\r\n",
                "    SELECT 1\r\n",
                "\r\n",
                "    UNION ALL \r\n",
                "    \r\n",
                "    SELECT n+1 FROM table1 WHERE n < 10 \r\n",
                ")\r\n",
                "\r\n",
                "SELECT * FROM table1;"
            ],
            "metadata": {
                "language": "sql",
                "azdata_cell_guid": "f8358739-9644-47a1-9258-b61a5d5e5271"
            },
            "outputs": [
                {
                    "output_type": "display_data",
                    "data": {
                        "text/html": "(10 row(s) affected)"
                    },
                    "metadata": {}
                },
                {
                    "output_type": "display_data",
                    "data": {
                        "text/html": "Total execution time: 00:00:00.002"
                    },
                    "metadata": {}
                },
                {
                    "output_type": "execute_result",
                    "execution_count": 116,
                    "data": {
                        "application/vnd.dataresource+json": {
                            "schema": {
                                "fields": [
                                    {
                                        "name": "n"
                                    }
                                ]
                            },
                            "data": [
                                {
                                    "n": "1"
                                },
                                {
                                    "n": "2"
                                },
                                {
                                    "n": "3"
                                },
                                {
                                    "n": "4"
                                },
                                {
                                    "n": "5"
                                },
                                {
                                    "n": "6"
                                },
                                {
                                    "n": "7"
                                },
                                {
                                    "n": "8"
                                },
                                {
                                    "n": "9"
                                },
                                {
                                    "n": "10"
                                }
                            ]
                        },
                        "text/html": "<table><tr><th>n</th></tr><tr><td>1</td></tr><tr><td>2</td></tr><tr><td>3</td></tr><tr><td>4</td></tr><tr><td>5</td></tr><tr><td>6</td></tr><tr><td>7</td></tr><tr><td>8</td></tr><tr><td>9</td></tr><tr><td>10</td></tr></table>"
                    },
                    "metadata": {}
                }
            ],
            "execution_count": 116
        }
    ]
}