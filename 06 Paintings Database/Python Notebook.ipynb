{
 "cells": [
  {
   "cell_type": "markdown",
   "metadata": {},
   "source": [
    "# **Setup**"
   ]
  },
  {
   "cell_type": "code",
   "execution_count": 21,
   "metadata": {},
   "outputs": [],
   "source": [
    "import os\n",
    "import regex as re\n",
    "import pandas as pd\n",
    "from sqlalchemy import create_engine"
   ]
  },
  {
   "cell_type": "code",
   "execution_count": 24,
   "metadata": {},
   "outputs": [],
   "source": [
    "Folder_Input = 'Input Data'"
   ]
  },
  {
   "cell_type": "markdown",
   "metadata": {},
   "source": [
    "# **Create Database Connection**"
   ]
  },
  {
   "cell_type": "code",
   "execution_count": 6,
   "metadata": {},
   "outputs": [],
   "source": [
    "PGSQL_Server = 'localhost:5432'  # Use Your Server Name\n",
    "PGSQL_Username = 'postgres'      # Use Your Username\n",
    "PGSQL_Password = '23poonam'      # Use Your Password\n",
    "PGSQL_Database = 'paintings'      # Use Your Database Name\n",
    "\n",
    "connection_string = f'postgresql://{PGSQL_Username}:{PGSQL_Password}@{PGSQL_Server}/{PGSQL_Database}'\n",
    "Query_Engine = create_engine(connection_string)\n",
    "\n",
    "Connection = Query_Engine.connect()"
   ]
  },
  {
   "cell_type": "markdown",
   "metadata": {},
   "source": [
    "# **Read Data Files**"
   ]
  },
  {
   "cell_type": "code",
   "execution_count": 25,
   "metadata": {},
   "outputs": [
    {
     "name": "stdout",
     "output_type": "stream",
     "text": [
      "No. Of Files Found: 8\n",
      "['artist.csv', 'canvas_size.csv', 'image_link.csv', 'museum.csv', 'museum_hours.csv', 'product_size.csv', 'subject.csv', 'work.csv']\n"
     ]
    }
   ],
   "source": [
    "Files_List = os.listdir(Folder_Input)\n",
    "Files_List = sorted(Files_List)\n",
    "\n",
    "print('No. Of Files Found:',len(Files_List))\n",
    "print(Files_List)"
   ]
  },
  {
   "cell_type": "markdown",
   "metadata": {},
   "source": [
    "# **Filter CSV Filenames**"
   ]
  },
  {
   "cell_type": "code",
   "execution_count": 31,
   "metadata": {},
   "outputs": [
    {
     "name": "stdout",
     "output_type": "stream",
     "text": [
      "No. Of CSV Files: 8\n",
      "['artist.csv', 'canvas_size.csv', 'image_link.csv', 'museum.csv', 'museum_hours.csv', 'product_size.csv', 'subject.csv', 'work.csv']\n"
     ]
    }
   ],
   "source": [
    "CSV_Files_List = [filename for filename in Files_List if '.csv' in filename.lower()]\n",
    "# CSV_Files_List = [filename for filename in Files_List if re.findall(r'\\.csv',filename,re.I)]\n",
    "\n",
    "print('No. Of CSV Files:', len(CSV_Files_List))\n",
    "print(CSV_Files_List)"
   ]
  },
  {
   "cell_type": "markdown",
   "metadata": {},
   "source": [
    "# **Extract SQL Table Names**"
   ]
  },
  {
   "cell_type": "code",
   "execution_count": 33,
   "metadata": {},
   "outputs": [
    {
     "name": "stdout",
     "output_type": "stream",
     "text": [
      "artist\n",
      "canvas_size\n",
      "image_link\n",
      "museum\n",
      "museum_hours\n",
      "product_size\n",
      "subject\n",
      "work\n"
     ]
    }
   ],
   "source": [
    "# METHOD 01 - Extract Table Name \n",
    "for filename in CSV_Files_List:\n",
    "    table_name = filename.split('.')[0]\n",
    "    print(table_name)"
   ]
  },
  {
   "cell_type": "code",
   "execution_count": 42,
   "metadata": {},
   "outputs": [
    {
     "name": "stdout",
     "output_type": "stream",
     "text": [
      "artist\n",
      "canvas_size\n",
      "image_link\n",
      "museum\n",
      "museum_hours\n",
      "product_size\n",
      "subject\n",
      "work\n"
     ]
    }
   ],
   "source": [
    "# METHOD 02 - Extract Table Name \n",
    "for filename in CSV_Files_List:\n",
    "    table_name = re.findall('(\\w+)\\.csv$',filename)[0]\n",
    "    print(table_name)"
   ]
  },
  {
   "cell_type": "markdown",
   "metadata": {},
   "source": [
    "# **Read & Load To SQL Database**"
   ]
  },
  {
   "cell_type": "code",
   "execution_count": 62,
   "metadata": {},
   "outputs": [
    {
     "name": "stdout",
     "output_type": "stream",
     "text": [
      "Reading & Loading:  work.csv\n"
     ]
    },
    {
     "data": {
      "text/html": [
       "<div>\n",
       "<style scoped>\n",
       "    .dataframe tbody tr th:only-of-type {\n",
       "        vertical-align: middle;\n",
       "    }\n",
       "\n",
       "    .dataframe tbody tr th {\n",
       "        vertical-align: top;\n",
       "    }\n",
       "\n",
       "    .dataframe thead th {\n",
       "        text-align: right;\n",
       "    }\n",
       "</style>\n",
       "<table border=\"1\" class=\"dataframe\">\n",
       "  <thead>\n",
       "    <tr style=\"text-align: right;\">\n",
       "      <th></th>\n",
       "      <th>work_id</th>\n",
       "      <th>name</th>\n",
       "      <th>artist_id</th>\n",
       "      <th>style</th>\n",
       "      <th>museum_id</th>\n",
       "    </tr>\n",
       "  </thead>\n",
       "  <tbody>\n",
       "    <tr>\n",
       "      <th>0</th>\n",
       "      <td>160228</td>\n",
       "      <td>Still Life with Flowers and a Watch</td>\n",
       "      <td>615</td>\n",
       "      <td>Baroque</td>\n",
       "      <td>43.0</td>\n",
       "    </tr>\n",
       "    <tr>\n",
       "      <th>1</th>\n",
       "      <td>160236</td>\n",
       "      <td>Still Life with Fruit and a Beaker on a Cock's...</td>\n",
       "      <td>615</td>\n",
       "      <td>Baroque</td>\n",
       "      <td>43.0</td>\n",
       "    </tr>\n",
       "    <tr>\n",
       "      <th>2</th>\n",
       "      <td>160244</td>\n",
       "      <td>Still Life with Fruit and a Goldfinch</td>\n",
       "      <td>615</td>\n",
       "      <td>Baroque</td>\n",
       "      <td>43.0</td>\n",
       "    </tr>\n",
       "    <tr>\n",
       "      <th>3</th>\n",
       "      <td>160252</td>\n",
       "      <td>Still Life with Fruit and Oysters</td>\n",
       "      <td>615</td>\n",
       "      <td>Baroque</td>\n",
       "      <td>43.0</td>\n",
       "    </tr>\n",
       "    <tr>\n",
       "      <th>4</th>\n",
       "      <td>160260</td>\n",
       "      <td>Still Life with Fruit, Oysters, and a Porcelai...</td>\n",
       "      <td>615</td>\n",
       "      <td>Baroque</td>\n",
       "      <td>43.0</td>\n",
       "    </tr>\n",
       "    <tr>\n",
       "      <th>5</th>\n",
       "      <td>160268</td>\n",
       "      <td>The Overturned Bouquet</td>\n",
       "      <td>615</td>\n",
       "      <td>Baroque</td>\n",
       "      <td>43.0</td>\n",
       "    </tr>\n",
       "    <tr>\n",
       "      <th>6</th>\n",
       "      <td>125752</td>\n",
       "      <td>Arabian Horses at Pasture</td>\n",
       "      <td>757</td>\n",
       "      <td>Baroque</td>\n",
       "      <td>NaN</td>\n",
       "    </tr>\n",
       "    <tr>\n",
       "      <th>7</th>\n",
       "      <td>125818</td>\n",
       "      <td>Count Halm on His Basedow Estate</td>\n",
       "      <td>757</td>\n",
       "      <td>Baroque</td>\n",
       "      <td>NaN</td>\n",
       "    </tr>\n",
       "    <tr>\n",
       "      <th>8</th>\n",
       "      <td>23448</td>\n",
       "      <td>Horses at the Porch</td>\n",
       "      <td>757</td>\n",
       "      <td>Baroque</td>\n",
       "      <td>34.0</td>\n",
       "    </tr>\n",
       "    <tr>\n",
       "      <th>9</th>\n",
       "      <td>125763</td>\n",
       "      <td>Napoleon Before the Burning City of Smolensk</td>\n",
       "      <td>757</td>\n",
       "      <td>Baroque</td>\n",
       "      <td>NaN</td>\n",
       "    </tr>\n",
       "  </tbody>\n",
       "</table>\n",
       "</div>"
      ],
      "text/plain": [
       "   work_id                                               name  artist_id  \\\n",
       "0   160228                Still Life with Flowers and a Watch        615   \n",
       "1   160236  Still Life with Fruit and a Beaker on a Cock's...        615   \n",
       "2   160244              Still Life with Fruit and a Goldfinch        615   \n",
       "3   160252                  Still Life with Fruit and Oysters        615   \n",
       "4   160260  Still Life with Fruit, Oysters, and a Porcelai...        615   \n",
       "5   160268                             The Overturned Bouquet        615   \n",
       "6   125752                          Arabian Horses at Pasture        757   \n",
       "7   125818                   Count Halm on His Basedow Estate        757   \n",
       "8    23448                                Horses at the Porch        757   \n",
       "9   125763       Napoleon Before the Burning City of Smolensk        757   \n",
       "\n",
       "     style  museum_id  \n",
       "0  Baroque       43.0  \n",
       "1  Baroque       43.0  \n",
       "2  Baroque       43.0  \n",
       "3  Baroque       43.0  \n",
       "4  Baroque       43.0  \n",
       "5  Baroque       43.0  \n",
       "6  Baroque        NaN  \n",
       "7  Baroque        NaN  \n",
       "8  Baroque       34.0  \n",
       "9  Baroque        NaN  "
      ]
     },
     "metadata": {},
     "output_type": "display_data"
    }
   ],
   "source": [
    "# Load Data To SQL Database\n",
    "from IPython.display import clear_output\n",
    "\n",
    "for filename in CSV_Files:\n",
    "    clear_output(wait=True)\n",
    "    print('Reading & Loading: ',filename)\n",
    "\n",
    "    df = pd.read_csv(f'{Folder_Input}/{filename}')\n",
    "    display(df.head(10))\n",
    "    table_name = re.findall('(\\w+)\\.csv$',filename)[0]\n",
    "    # print(table_name)\n",
    "\n",
    "    df.to_sql(name=table_name,con=Connection,if_exists='replace',index=False)"
   ]
  },
  {
   "cell_type": "code",
   "execution_count": 61,
   "metadata": {},
   "outputs": [
    {
     "data": {
      "text/plain": [
       "artist_id        int64\n",
       "full_name       object\n",
       "first_name      object\n",
       "middle_names    object\n",
       "last_name       object\n",
       "nationality     object\n",
       "style           object\n",
       "birth            int64\n",
       "death            int64\n",
       "dtype: object"
      ]
     },
     "execution_count": 61,
     "metadata": {},
     "output_type": "execute_result"
    }
   ],
   "source": [
    "df = pd.read_csv(f'{Folder_Input}/artist.csv')\n",
    "df.dtypes"
   ]
  },
  {
   "cell_type": "markdown",
   "metadata": {},
   "source": [
    "# **Read SQL Database Table**"
   ]
  },
  {
   "cell_type": "code",
   "execution_count": 57,
   "metadata": {},
   "outputs": [
    {
     "name": "stdout",
     "output_type": "stream",
     "text": [
      "(421, 9)\n"
     ]
    },
    {
     "data": {
      "text/html": [
       "<div>\n",
       "<style scoped>\n",
       "    .dataframe tbody tr th:only-of-type {\n",
       "        vertical-align: middle;\n",
       "    }\n",
       "\n",
       "    .dataframe tbody tr th {\n",
       "        vertical-align: top;\n",
       "    }\n",
       "\n",
       "    .dataframe thead th {\n",
       "        text-align: right;\n",
       "    }\n",
       "</style>\n",
       "<table border=\"1\" class=\"dataframe\">\n",
       "  <thead>\n",
       "    <tr style=\"text-align: right;\">\n",
       "      <th></th>\n",
       "      <th>artist_id</th>\n",
       "      <th>full_name</th>\n",
       "      <th>first_name</th>\n",
       "      <th>middle_names</th>\n",
       "      <th>last_name</th>\n",
       "      <th>nationality</th>\n",
       "      <th>style</th>\n",
       "      <th>birth</th>\n",
       "      <th>death</th>\n",
       "    </tr>\n",
       "  </thead>\n",
       "  <tbody>\n",
       "    <tr>\n",
       "      <th>0</th>\n",
       "      <td>500</td>\n",
       "      <td>Pierre-Auguste Renoir</td>\n",
       "      <td>Pierre</td>\n",
       "      <td>Auguste</td>\n",
       "      <td>Renoir</td>\n",
       "      <td>French</td>\n",
       "      <td>Impressionist</td>\n",
       "      <td>0 days 00:30:41</td>\n",
       "      <td>1919</td>\n",
       "    </tr>\n",
       "    <tr>\n",
       "      <th>1</th>\n",
       "      <td>501</td>\n",
       "      <td>Alexandre Cabanel</td>\n",
       "      <td>Alexandre</td>\n",
       "      <td>None</td>\n",
       "      <td>Cabanel</td>\n",
       "      <td>French</td>\n",
       "      <td>Classicist</td>\n",
       "      <td>0 days 00:30:23</td>\n",
       "      <td>1889</td>\n",
       "    </tr>\n",
       "    <tr>\n",
       "      <th>2</th>\n",
       "      <td>502</td>\n",
       "      <td>James Ensor</td>\n",
       "      <td>James</td>\n",
       "      <td>None</td>\n",
       "      <td>Ensor</td>\n",
       "      <td>Belgian</td>\n",
       "      <td>Expressionist</td>\n",
       "      <td>0 days 00:31:00</td>\n",
       "      <td>1949</td>\n",
       "    </tr>\n",
       "    <tr>\n",
       "      <th>3</th>\n",
       "      <td>503</td>\n",
       "      <td>Maximilien Luce</td>\n",
       "      <td>Maximilien</td>\n",
       "      <td>None</td>\n",
       "      <td>Luce</td>\n",
       "      <td>French</td>\n",
       "      <td>Pointillist</td>\n",
       "      <td>0 days 00:30:58</td>\n",
       "      <td>1941</td>\n",
       "    </tr>\n",
       "    <tr>\n",
       "      <th>4</th>\n",
       "      <td>504</td>\n",
       "      <td>August Macke</td>\n",
       "      <td>August</td>\n",
       "      <td>None</td>\n",
       "      <td>Macke</td>\n",
       "      <td>German</td>\n",
       "      <td>Expressionist</td>\n",
       "      <td>0 days 00:31:27</td>\n",
       "      <td>1914</td>\n",
       "    </tr>\n",
       "  </tbody>\n",
       "</table>\n",
       "</div>"
      ],
      "text/plain": [
       "   artist_id              full_name  first_name middle_names last_name  \\\n",
       "0        500  Pierre-Auguste Renoir      Pierre      Auguste    Renoir   \n",
       "1        501      Alexandre Cabanel   Alexandre         None   Cabanel   \n",
       "2        502            James Ensor       James         None     Ensor   \n",
       "3        503        Maximilien Luce  Maximilien         None      Luce   \n",
       "4        504           August Macke      August         None     Macke   \n",
       "\n",
       "  nationality          style           birth  death  \n",
       "0      French  Impressionist 0 days 00:30:41   1919  \n",
       "1      French     Classicist 0 days 00:30:23   1889  \n",
       "2     Belgian  Expressionist 0 days 00:31:00   1949  \n",
       "3      French    Pointillist 0 days 00:30:58   1941  \n",
       "4      German  Expressionist 0 days 00:31:27   1914  "
      ]
     },
     "execution_count": 57,
     "metadata": {},
     "output_type": "execute_result"
    }
   ],
   "source": [
    "df = pd.read_sql_table(table_name='artist',con=Connection,columns=[])\n",
    "print(df.shape)\n",
    "df.head()"
   ]
  }
 ],
 "metadata": {
  "kernelspec": {
   "display_name": "Python 3",
   "language": "python",
   "name": "python3"
  },
  "language_info": {
   "codemirror_mode": {
    "name": "ipython",
    "version": 3
   },
   "file_extension": ".py",
   "mimetype": "text/x-python",
   "name": "python",
   "nbconvert_exporter": "python",
   "pygments_lexer": "ipython3",
   "version": "3.11.8"
  }
 },
 "nbformat": 4,
 "nbformat_minor": 2
}
