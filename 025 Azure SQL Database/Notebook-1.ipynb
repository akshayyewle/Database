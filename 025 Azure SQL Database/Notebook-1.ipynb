{
    "metadata": {
        "kernelspec": {
            "name": "SQL",
            "display_name": "SQL",
            "language": "sql"
        },
        "language_info": {
            "name": "sql",
            "version": ""
        }
    },
    "nbformat_minor": 2,
    "nbformat": 4,
    "cells": [
        {
            "cell_type": "markdown",
            "source": [
                "**Create New Database**"
            ],
            "metadata": {
                "azdata_cell_guid": "eb8fdfe4-9c53-4c64-8943-d736e5bcaa38"
            },
            "attachments": {}
        },
        {
            "cell_type": "code",
            "source": [
                "SELECT name FROM sys.databases"
            ],
            "metadata": {
                "azdata_cell_guid": "8a140c2a-d3e9-4624-9885-5db6de078483",
                "language": "sql"
            },
            "outputs": [
                {
                    "output_type": "display_data",
                    "data": {
                        "text/html": "(11 rows affected)"
                    },
                    "metadata": {}
                },
                {
                    "output_type": "display_data",
                    "data": {
                        "text/html": "Total execution time: 00:00:00.024"
                    },
                    "metadata": {}
                },
                {
                    "output_type": "execute_result",
                    "metadata": {},
                    "execution_count": 9,
                    "data": {
                        "application/vnd.dataresource+json": {
                            "schema": {
                                "fields": [
                                    {
                                        "name": "name"
                                    }
                                ]
                            },
                            "data": [
                                {
                                    "name": "master"
                                },
                                {
                                    "name": "tempdb"
                                },
                                {
                                    "name": "model"
                                },
                                {
                                    "name": "msdb"
                                },
                                {
                                    "name": "AdventureWorks2022"
                                },
                                {
                                    "name": "ATA_Portfolio_Project_01"
                                },
                                {
                                    "name": "AdventureWorks2017"
                                },
                                {
                                    "name": "northwind"
                                },
                                {
                                    "name": "contoso-data-warehouse"
                                },
                                {
                                    "name": "pubs"
                                },
                                {
                                    "name": "demo01"
                                }
                            ]
                        },
                        "text/html": [
                            "<table>",
                            "<tr><th>name</th></tr>",
                            "<tr><td>master</td></tr>",
                            "<tr><td>tempdb</td></tr>",
                            "<tr><td>model</td></tr>",
                            "<tr><td>msdb</td></tr>",
                            "<tr><td>AdventureWorks2022</td></tr>",
                            "<tr><td>ATA_Portfolio_Project_01</td></tr>",
                            "<tr><td>AdventureWorks2017</td></tr>",
                            "<tr><td>northwind</td></tr>",
                            "<tr><td>contoso-data-warehouse</td></tr>",
                            "<tr><td>pubs</td></tr>",
                            "<tr><td>demo01</td></tr>",
                            "</table>"
                        ]
                    }
                }
            ],
            "execution_count": 9
        },
        {
            "cell_type": "code",
            "source": [
                "IF NOT EXISTS (SELECT name FROM sys.databases WHERE name = 'demo01')\r\n",
                "BEGIN\r\n",
                "    CREATE DATABASE demo01 \r\n",
                "END \r\n",
                ""
            ],
            "metadata": {
                "azdata_cell_guid": "b6cab77c-1d08-4a5c-ad03-bc1146b07691",
                "language": "sql"
            },
            "outputs": [
                {
                    "output_type": "display_data",
                    "data": {
                        "text/html": "Commands completed successfully."
                    },
                    "metadata": {}
                },
                {
                    "output_type": "display_data",
                    "data": {
                        "text/html": "Total execution time: 00:00:00.017"
                    },
                    "metadata": {}
                }
            ],
            "execution_count": 11
        },
        {
            "cell_type": "code",
            "source": [
                "CREATE DATABASE demo01"
            ],
            "metadata": {
                "azdata_cell_guid": "a716851e-9b2d-467b-8d87-b26ad0c127b4",
                "language": "sql"
            },
            "outputs": [
                {
                    "output_type": "display_data",
                    "data": {
                        "text/html": "Commands completed successfully."
                    },
                    "metadata": {}
                },
                {
                    "output_type": "display_data",
                    "data": {
                        "text/html": "Total execution time: 00:00:00.183"
                    },
                    "metadata": {}
                }
            ],
            "execution_count": 2
        },
        {
            "cell_type": "code",
            "source": [
                "USE demo01\r\n",
                "\r\n",
                "CREATE TABLE Customers (\r\n",
                "    CustomerID INT PRIMARY KEY,\r\n",
                "    FirstName VARCHAR(30),\r\n",
                "    LastName VARCHAR(30)\r\n",
                ")"
            ],
            "metadata": {
                "azdata_cell_guid": "6e021096-6bbf-4a3f-823b-4580d4ab3208",
                "language": "sql"
            },
            "outputs": [
                {
                    "output_type": "error",
                    "ename": "",
                    "evalue": "Msg 156, Level 15, State 1, Line 3\r\nIncorrect syntax near the keyword 'CREATE'.",
                    "traceback": []
                },
                {
                    "output_type": "display_data",
                    "data": {
                        "text/html": "Total execution time: 00:00:00"
                    },
                    "metadata": {}
                }
            ],
            "execution_count": 7
        },
        {
            "cell_type": "code",
            "source": [
                "USE demo01\r\n",
                "CREATE TABLE Employees(\r\n",
                "    EmployeeID INT PRIMARY KEY,\r\n",
                "    FirstName VARCHAR,\r\n",
                "    LastName VARCHAR\r\n",
                ")"
            ],
            "metadata": {
                "azdata_cell_guid": "14e08322-f7c7-4710-b69d-59671b0dc4c9",
                "language": "sql"
            },
            "outputs": [
                {
                    "output_type": "display_data",
                    "data": {
                        "text/html": "Commands completed successfully."
                    },
                    "metadata": {}
                },
                {
                    "output_type": "display_data",
                    "data": {
                        "text/html": "Total execution time: 00:00:00.002"
                    },
                    "metadata": {}
                }
            ],
            "execution_count": 8
        },
        {
            "cell_type": "code",
            "source": [
                "SELECT * \r\n",
                "FROM information_schema.TABLES\r\n",
                "WHERE TABLE_TYPE = 'BASE TABLE'"
            ],
            "metadata": {
                "azdata_cell_guid": "8cee3973-9959-490f-8d42-59deb3fcda4b",
                "language": "sql"
            },
            "outputs": [
                {
                    "output_type": "display_data",
                    "data": {
                        "text/html": "(7 rows affected)"
                    },
                    "metadata": {}
                },
                {
                    "output_type": "display_data",
                    "data": {
                        "text/html": "Total execution time: 00:00:00.004"
                    },
                    "metadata": {}
                },
                {
                    "output_type": "execute_result",
                    "execution_count": 1,
                    "data": {
                        "application/vnd.dataresource+json": {
                            "schema": {
                                "fields": [
                                    {
                                        "name": "TABLE_CATALOG"
                                    },
                                    {
                                        "name": "TABLE_SCHEMA"
                                    },
                                    {
                                        "name": "TABLE_NAME"
                                    },
                                    {
                                        "name": "TABLE_TYPE"
                                    }
                                ]
                            },
                            "data": [
                                {
                                    "TABLE_CATALOG": "master",
                                    "TABLE_SCHEMA": "dbo",
                                    "TABLE_NAME": "Customers",
                                    "TABLE_TYPE": "BASE TABLE"
                                },
                                {
                                    "TABLE_CATALOG": "master",
                                    "TABLE_SCHEMA": "dbo",
                                    "TABLE_NAME": "spt_fallback_db",
                                    "TABLE_TYPE": "BASE TABLE"
                                },
                                {
                                    "TABLE_CATALOG": "master",
                                    "TABLE_SCHEMA": "dbo",
                                    "TABLE_NAME": "spt_fallback_dev",
                                    "TABLE_TYPE": "BASE TABLE"
                                },
                                {
                                    "TABLE_CATALOG": "master",
                                    "TABLE_SCHEMA": "dbo",
                                    "TABLE_NAME": "spt_fallback_usg",
                                    "TABLE_TYPE": "BASE TABLE"
                                },
                                {
                                    "TABLE_CATALOG": "master",
                                    "TABLE_SCHEMA": "dbo",
                                    "TABLE_NAME": "cricketers",
                                    "TABLE_TYPE": "BASE TABLE"
                                },
                                {
                                    "TABLE_CATALOG": "master",
                                    "TABLE_SCHEMA": "dbo",
                                    "TABLE_NAME": "spt_monitor",
                                    "TABLE_TYPE": "BASE TABLE"
                                },
                                {
                                    "TABLE_CATALOG": "master",
                                    "TABLE_SCHEMA": "dbo",
                                    "TABLE_NAME": "MSreplication_options",
                                    "TABLE_TYPE": "BASE TABLE"
                                }
                            ]
                        },
                        "text/html": "<table><tr><th>TABLE_CATALOG</th><th>TABLE_SCHEMA</th><th>TABLE_NAME</th><th>TABLE_TYPE</th></tr><tr><td>master</td><td>dbo</td><td>Customers</td><td>BASE TABLE</td></tr><tr><td>master</td><td>dbo</td><td>spt_fallback_db</td><td>BASE TABLE</td></tr><tr><td>master</td><td>dbo</td><td>spt_fallback_dev</td><td>BASE TABLE</td></tr><tr><td>master</td><td>dbo</td><td>spt_fallback_usg</td><td>BASE TABLE</td></tr><tr><td>master</td><td>dbo</td><td>cricketers</td><td>BASE TABLE</td></tr><tr><td>master</td><td>dbo</td><td>spt_monitor</td><td>BASE TABLE</td></tr><tr><td>master</td><td>dbo</td><td>MSreplication_options</td><td>BASE TABLE</td></tr></table>"
                    },
                    "metadata": {}
                }
            ],
            "execution_count": 1
        },
        {
            "cell_type": "code",
            "source": [
                "USE demo01\r\n",
                "SELECT * FROM Customers "
            ],
            "metadata": {
                "azdata_cell_guid": "446dc61c-9c63-425f-8413-b7f2a1932d95",
                "language": "sql"
            },
            "outputs": [
                {
                    "output_type": "display_data",
                    "data": {
                        "text/html": "(0 rows affected)"
                    },
                    "metadata": {}
                },
                {
                    "output_type": "display_data",
                    "data": {
                        "text/html": "Total execution time: 00:00:05.073"
                    },
                    "metadata": {}
                },
                {
                    "output_type": "execute_result",
                    "execution_count": 5,
                    "data": {
                        "application/vnd.dataresource+json": {
                            "schema": {
                                "fields": [
                                    {
                                        "name": "CustomerID"
                                    },
                                    {
                                        "name": "FirstName"
                                    },
                                    {
                                        "name": "LastName"
                                    }
                                ]
                            },
                            "data": []
                        },
                        "text/html": "<table><tr><th>CustomerID</th><th>FirstName</th><th>LastName</th></tr></table>"
                    },
                    "metadata": {}
                }
            ],
            "execution_count": 5
        },
        {
            "cell_type": "code",
            "source": [
                "SELECT * FROM sys.tables"
            ],
            "metadata": {
                "azdata_cell_guid": "64157979-9ffa-40f1-a5b1-01faaa48b55f",
                "language": "sql"
            },
            "outputs": [
                {
                    "output_type": "display_data",
                    "data": {
                        "text/html": "(2 rows affected)"
                    },
                    "metadata": {}
                },
                {
                    "output_type": "display_data",
                    "data": {
                        "text/html": "Total execution time: 00:00:01.182"
                    },
                    "metadata": {}
                },
                {
                    "output_type": "execute_result",
                    "execution_count": 10,
                    "data": {
                        "application/vnd.dataresource+json": {
                            "schema": {
                                "fields": [
                                    {
                                        "name": "name"
                                    },
                                    {
                                        "name": "object_id"
                                    },
                                    {
                                        "name": "principal_id"
                                    },
                                    {
                                        "name": "schema_id"
                                    },
                                    {
                                        "name": "parent_object_id"
                                    },
                                    {
                                        "name": "type"
                                    },
                                    {
                                        "name": "type_desc"
                                    },
                                    {
                                        "name": "create_date"
                                    },
                                    {
                                        "name": "modify_date"
                                    },
                                    {
                                        "name": "is_ms_shipped"
                                    },
                                    {
                                        "name": "is_published"
                                    },
                                    {
                                        "name": "is_schema_published"
                                    },
                                    {
                                        "name": "lob_data_space_id"
                                    },
                                    {
                                        "name": "filestream_data_space_id"
                                    },
                                    {
                                        "name": "max_column_id_used"
                                    },
                                    {
                                        "name": "lock_on_bulk_load"
                                    },
                                    {
                                        "name": "uses_ansi_nulls"
                                    },
                                    {
                                        "name": "is_replicated"
                                    },
                                    {
                                        "name": "has_replication_filter"
                                    },
                                    {
                                        "name": "is_merge_published"
                                    },
                                    {
                                        "name": "is_sync_tran_subscribed"
                                    },
                                    {
                                        "name": "has_unchecked_assembly_data"
                                    },
                                    {
                                        "name": "text_in_row_limit"
                                    },
                                    {
                                        "name": "large_value_types_out_of_row"
                                    },
                                    {
                                        "name": "is_tracked_by_cdc"
                                    },
                                    {
                                        "name": "lock_escalation"
                                    },
                                    {
                                        "name": "lock_escalation_desc"
                                    },
                                    {
                                        "name": "is_filetable"
                                    },
                                    {
                                        "name": "is_memory_optimized"
                                    },
                                    {
                                        "name": "durability"
                                    },
                                    {
                                        "name": "durability_desc"
                                    },
                                    {
                                        "name": "temporal_type"
                                    },
                                    {
                                        "name": "temporal_type_desc"
                                    },
                                    {
                                        "name": "history_table_id"
                                    },
                                    {
                                        "name": "is_remote_data_archive_enabled"
                                    },
                                    {
                                        "name": "is_external"
                                    },
                                    {
                                        "name": "history_retention_period"
                                    },
                                    {
                                        "name": "history_retention_period_unit"
                                    },
                                    {
                                        "name": "history_retention_period_unit_desc"
                                    },
                                    {
                                        "name": "is_node"
                                    },
                                    {
                                        "name": "is_edge"
                                    },
                                    {
                                        "name": "data_retention_period"
                                    },
                                    {
                                        "name": "data_retention_period_unit"
                                    },
                                    {
                                        "name": "data_retention_period_unit_desc"
                                    },
                                    {
                                        "name": "ledger_type"
                                    },
                                    {
                                        "name": "ledger_type_desc"
                                    },
                                    {
                                        "name": "ledger_view_id"
                                    },
                                    {
                                        "name": "is_dropped_ledger_table"
                                    }
                                ]
                            },
                            "data": [
                                {
                                    "name": "Customers",
                                    "object_id": "1205579333",
                                    "principal_id": "NULL",
                                    "schema_id": "1",
                                    "parent_object_id": "0",
                                    "type": "U ",
                                    "type_desc": "USER_TABLE",
                                    "create_date": "2024-08-03 19:45:54.150",
                                    "modify_date": "2024-08-03 19:45:54.150",
                                    "is_ms_shipped": "0",
                                    "is_published": "0",
                                    "is_schema_published": "0",
                                    "lob_data_space_id": "0",
                                    "filestream_data_space_id": "NULL",
                                    "max_column_id_used": "3",
                                    "lock_on_bulk_load": "0",
                                    "uses_ansi_nulls": "1",
                                    "is_replicated": "0",
                                    "has_replication_filter": "0",
                                    "is_merge_published": "0",
                                    "is_sync_tran_subscribed": "0",
                                    "has_unchecked_assembly_data": "0",
                                    "text_in_row_limit": "0",
                                    "large_value_types_out_of_row": "0",
                                    "is_tracked_by_cdc": "0",
                                    "lock_escalation": "0",
                                    "lock_escalation_desc": "TABLE",
                                    "is_filetable": "0",
                                    "is_memory_optimized": "0",
                                    "durability": "0",
                                    "durability_desc": "SCHEMA_AND_DATA",
                                    "temporal_type": "0",
                                    "temporal_type_desc": "NON_TEMPORAL_TABLE",
                                    "history_table_id": "NULL",
                                    "is_remote_data_archive_enabled": "0",
                                    "is_external": "0",
                                    "history_retention_period": "NULL",
                                    "history_retention_period_unit": "NULL",
                                    "history_retention_period_unit_desc": "NULL",
                                    "is_node": "0",
                                    "is_edge": "0",
                                    "data_retention_period": "-1",
                                    "data_retention_period_unit": "-1",
                                    "data_retention_period_unit_desc": "INFINITE",
                                    "ledger_type": "0",
                                    "ledger_type_desc": "NON_LEDGER_TABLE",
                                    "ledger_view_id": "NULL",
                                    "is_dropped_ledger_table": "0"
                                },
                                {
                                    "name": "Employees",
                                    "object_id": "1237579447",
                                    "principal_id": "NULL",
                                    "schema_id": "1",
                                    "parent_object_id": "0",
                                    "type": "U ",
                                    "type_desc": "USER_TABLE",
                                    "create_date": "2024-08-03 19:47:02.053",
                                    "modify_date": "2024-08-03 19:47:02.053",
                                    "is_ms_shipped": "0",
                                    "is_published": "0",
                                    "is_schema_published": "0",
                                    "lob_data_space_id": "0",
                                    "filestream_data_space_id": "NULL",
                                    "max_column_id_used": "3",
                                    "lock_on_bulk_load": "0",
                                    "uses_ansi_nulls": "1",
                                    "is_replicated": "0",
                                    "has_replication_filter": "0",
                                    "is_merge_published": "0",
                                    "is_sync_tran_subscribed": "0",
                                    "has_unchecked_assembly_data": "0",
                                    "text_in_row_limit": "0",
                                    "large_value_types_out_of_row": "0",
                                    "is_tracked_by_cdc": "0",
                                    "lock_escalation": "0",
                                    "lock_escalation_desc": "TABLE",
                                    "is_filetable": "0",
                                    "is_memory_optimized": "0",
                                    "durability": "0",
                                    "durability_desc": "SCHEMA_AND_DATA",
                                    "temporal_type": "0",
                                    "temporal_type_desc": "NON_TEMPORAL_TABLE",
                                    "history_table_id": "NULL",
                                    "is_remote_data_archive_enabled": "0",
                                    "is_external": "0",
                                    "history_retention_period": "NULL",
                                    "history_retention_period_unit": "NULL",
                                    "history_retention_period_unit_desc": "NULL",
                                    "is_node": "0",
                                    "is_edge": "0",
                                    "data_retention_period": "-1",
                                    "data_retention_period_unit": "-1",
                                    "data_retention_period_unit_desc": "INFINITE",
                                    "ledger_type": "0",
                                    "ledger_type_desc": "NON_LEDGER_TABLE",
                                    "ledger_view_id": "NULL",
                                    "is_dropped_ledger_table": "0"
                                }
                            ]
                        },
                        "text/html": "<table><tr><th>name</th><th>object_id</th><th>principal_id</th><th>schema_id</th><th>parent_object_id</th><th>type</th><th>type_desc</th><th>create_date</th><th>modify_date</th><th>is_ms_shipped</th><th>is_published</th><th>is_schema_published</th><th>lob_data_space_id</th><th>filestream_data_space_id</th><th>max_column_id_used</th><th>lock_on_bulk_load</th><th>uses_ansi_nulls</th><th>is_replicated</th><th>has_replication_filter</th><th>is_merge_published</th><th>is_sync_tran_subscribed</th><th>has_unchecked_assembly_data</th><th>text_in_row_limit</th><th>large_value_types_out_of_row</th><th>is_tracked_by_cdc</th><th>lock_escalation</th><th>lock_escalation_desc</th><th>is_filetable</th><th>is_memory_optimized</th><th>durability</th><th>durability_desc</th><th>temporal_type</th><th>temporal_type_desc</th><th>history_table_id</th><th>is_remote_data_archive_enabled</th><th>is_external</th><th>history_retention_period</th><th>history_retention_period_unit</th><th>history_retention_period_unit_desc</th><th>is_node</th><th>is_edge</th><th>data_retention_period</th><th>data_retention_period_unit</th><th>data_retention_period_unit_desc</th><th>ledger_type</th><th>ledger_type_desc</th><th>ledger_view_id</th><th>is_dropped_ledger_table</th></tr><tr><td>Customers</td><td>1205579333</td><td>NULL</td><td>1</td><td>0</td><td>U </td><td>USER_TABLE</td><td>2024-08-03 19:45:54.150</td><td>2024-08-03 19:45:54.150</td><td>0</td><td>0</td><td>0</td><td>0</td><td>NULL</td><td>3</td><td>0</td><td>1</td><td>0</td><td>0</td><td>0</td><td>0</td><td>0</td><td>0</td><td>0</td><td>0</td><td>0</td><td>TABLE</td><td>0</td><td>0</td><td>0</td><td>SCHEMA_AND_DATA</td><td>0</td><td>NON_TEMPORAL_TABLE</td><td>NULL</td><td>0</td><td>0</td><td>NULL</td><td>NULL</td><td>NULL</td><td>0</td><td>0</td><td>-1</td><td>-1</td><td>INFINITE</td><td>0</td><td>NON_LEDGER_TABLE</td><td>NULL</td><td>0</td></tr><tr><td>Employees</td><td>1237579447</td><td>NULL</td><td>1</td><td>0</td><td>U </td><td>USER_TABLE</td><td>2024-08-03 19:47:02.053</td><td>2024-08-03 19:47:02.053</td><td>0</td><td>0</td><td>0</td><td>0</td><td>NULL</td><td>3</td><td>0</td><td>1</td><td>0</td><td>0</td><td>0</td><td>0</td><td>0</td><td>0</td><td>0</td><td>0</td><td>0</td><td>TABLE</td><td>0</td><td>0</td><td>0</td><td>SCHEMA_AND_DATA</td><td>0</td><td>NON_TEMPORAL_TABLE</td><td>NULL</td><td>0</td><td>0</td><td>NULL</td><td>NULL</td><td>NULL</td><td>0</td><td>0</td><td>-1</td><td>-1</td><td>INFINITE</td><td>0</td><td>NON_LEDGER_TABLE</td><td>NULL</td><td>0</td></tr></table>"
                    },
                    "metadata": {}
                }
            ],
            "execution_count": 10
        },
        {
            "cell_type": "code",
            "source": [
                "Use demo01\r\n",
                "ALTER TABLE Customers(\r\n",
                "    ADD COLUMN HomeAddress VARCHAR,\r\n",
                "    ADD COLUMN PostalCode VARCHAR\r\n",
                ")\r\n",
                "\r\n",
                "SELECT * FROM Customers"
            ],
            "metadata": {
                "azdata_cell_guid": "1bc7681e-3b90-4aac-b944-2f788017508a",
                "language": "sql"
            },
            "outputs": [
                {
                    "output_type": "error",
                    "ename": "",
                    "evalue": "Msg 102, Level 15, State 1, Line 2\r\nIncorrect syntax near '('.",
                    "traceback": []
                },
                {
                    "output_type": "display_data",
                    "data": {
                        "text/html": "Total execution time: 00:00:00"
                    },
                    "metadata": {}
                }
            ],
            "execution_count": 9
        },
        {
            "cell_type": "code",
            "source": [
                "-- Check if the Customers table exists\r\n",
                "IF EXISTS (SELECT * FROM sys.tables WHERE name = 'Customers' AND type = 'U')\r\n",
                "BEGIN\r\n",
                "    -- Add HomeAddress column if it doesn't already exist\r\n",
                "    IF NOT EXISTS (SELECT * FROM sys.columns WHERE object_id = OBJECT_ID('Customers') AND name = 'HomeAddress')\r\n",
                "    BEGIN\r\n",
                "        ALTER TABLE Customers\r\n",
                "        ADD HomeAddress NVARCHAR(255);\r\n",
                "    END\r\n",
                "\r\n",
                "    -- Add PostCode column if it doesn't already exist\r\n",
                "    IF NOT EXISTS (SELECT * FROM sys.columns WHERE object_id = OBJECT_ID('Customers') AND name = 'PostCode')\r\n",
                "    BEGIN\r\n",
                "        ALTER TABLE Customers\r\n",
                "        ADD PostCode NVARCHAR(20);\r\n",
                "    END\r\n",
                "END\r\n",
                ""
            ],
            "metadata": {
                "azdata_cell_guid": "64252943-c6ee-411f-8e5d-08fe73e1e93d",
                "language": "sql",
                "tags": []
            },
            "outputs": [
                {
                    "output_type": "display_data",
                    "data": {
                        "text/html": "Commands completed successfully."
                    },
                    "metadata": {}
                },
                {
                    "output_type": "display_data",
                    "data": {
                        "text/html": "Total execution time: 00:00:00.055"
                    },
                    "metadata": {}
                }
            ],
            "execution_count": 11
        },
        {
            "cell_type": "code",
            "source": [
                "USE demo01\r\n",
                "SELECT * FROM Customers "
            ],
            "metadata": {
                "azdata_cell_guid": "fb8d02ad-89ed-442b-ad6d-a5bf960c32bb",
                "language": "sql"
            },
            "outputs": [
                {
                    "output_type": "display_data",
                    "data": {
                        "text/html": "(0 rows affected)"
                    },
                    "metadata": {}
                },
                {
                    "output_type": "display_data",
                    "data": {
                        "text/html": "Total execution time: 00:00:02.037"
                    },
                    "metadata": {}
                },
                {
                    "output_type": "execute_result",
                    "execution_count": 12,
                    "data": {
                        "application/vnd.dataresource+json": {
                            "schema": {
                                "fields": [
                                    {
                                        "name": "CustomerID"
                                    },
                                    {
                                        "name": "FirstName"
                                    },
                                    {
                                        "name": "LastName"
                                    },
                                    {
                                        "name": "HomeAddress"
                                    },
                                    {
                                        "name": "PostCode"
                                    }
                                ]
                            },
                            "data": []
                        },
                        "text/html": "<table><tr><th>CustomerID</th><th>FirstName</th><th>LastName</th><th>HomeAddress</th><th>PostCode</th></tr></table>"
                    },
                    "metadata": {}
                }
            ],
            "execution_count": 12
        }
    ]
}