{
    "metadata": {
        "kernelspec": {
            "name": "SQL",
            "display_name": "SQL",
            "language": "sql"
        },
        "language_info": {
            "name": "sql",
            "version": ""
        }
    },
    "nbformat_minor": 2,
    "nbformat": 4,
    "cells": [
        {
            "cell_type": "markdown",
            "source": [
                "# **Create Database**"
            ],
            "metadata": {
                "azdata_cell_guid": "a9498d93-dc13-4f8d-9ece-c70335538324"
            },
            "attachments": {}
        },
        {
            "cell_type": "code",
            "source": [
                "CREATE DATABASE demo01"
            ],
            "metadata": {
                "azdata_cell_guid": "5b5a7a4e-6f22-4d0f-a5ee-e187d8de7e22",
                "language": "sql"
            },
            "outputs": [
                {
                    "output_type": "display_data",
                    "data": {
                        "text/html": "Commands completed successfully."
                    },
                    "metadata": {}
                },
                {
                    "output_type": "display_data",
                    "data": {
                        "text/html": "Total execution time: 00:00:50.319"
                    },
                    "metadata": {}
                }
            ],
            "execution_count": 5
        },
        {
            "cell_type": "markdown",
            "source": [
                "# **Crea<span style=\"color: var(--vscode-foreground);\">te Tables</span>**"
            ],
            "metadata": {
                "language": "sql",
                "azdata_cell_guid": "0dfbeefa-480b-469b-8bff-8fec311f356c"
            },
            "attachments": {}
        },
        {
            "cell_type": "code",
            "source": [
                "CREATE TABLE Customers(\r\n",
                "    CustomerID INT PRIMARY KEY,\r\n",
                "    FirstName VARCHAR,\r\n",
                "    LastName VARCHAR,\r\n",
                "    Phone SMALLINT,\r\n",
                "    Email VARCHAR(30)\r\n",
                ")"
            ],
            "metadata": {
                "azdata_cell_guid": "3b40c465-7700-418b-b940-27e2c0d9b358",
                "language": "sql",
                "tags": []
            },
            "outputs": [
                {
                    "output_type": "error",
                    "evalue": "Msg 2714, Level 16, State 6, Line 1\r\nThere is already an object named 'Customers' in the database.",
                    "ename": "",
                    "traceback": []
                },
                {
                    "output_type": "display_data",
                    "data": {
                        "text/html": "Total execution time: 00:00:00.031"
                    },
                    "metadata": {}
                }
            ],
            "execution_count": 13
        }
    ]
}