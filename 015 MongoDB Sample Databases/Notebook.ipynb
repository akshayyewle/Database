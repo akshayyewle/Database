{
 "cells": [
  {
   "cell_type": "markdown",
   "metadata": {},
   "source": [
    "# **Setup**"
   ]
  },
  {
   "cell_type": "code",
   "execution_count": 1,
   "metadata": {},
   "outputs": [],
   "source": [
    "from pymongo import MongoClient\n",
    "import pandas as pd"
   ]
  },
  {
   "cell_type": "markdown",
   "metadata": {},
   "source": [
    "# **Connect To MongoDB Atlas Cluster**"
   ]
  },
  {
   "cell_type": "code",
   "execution_count": 3,
   "metadata": {},
   "outputs": [
    {
     "data": {
      "text/plain": [
       "['sample_airbnb',\n",
       " 'sample_analytics',\n",
       " 'sample_geospatial',\n",
       " 'sample_guides',\n",
       " 'sample_mflix',\n",
       " 'sample_restaurants',\n",
       " 'sample_supplies',\n",
       " 'sample_training',\n",
       " 'sample_weatherdata',\n",
       " 'admin',\n",
       " 'local']"
      ]
     },
     "execution_count": 3,
     "metadata": {},
     "output_type": "execute_result"
    }
   ],
   "source": [
    "# MongoDB_Cluster_Username = \"username\"\n",
    "# MongoDB_Cluster_Password = \"password\"\n",
    "\n",
    "MongoDB_Cluster_Username = input(\"Enter MongoDB Username: \")\n",
    "MongoDB_Cluster_Password = input(\"Enter MongoDB Password: \")\n",
    "\n",
    "MongoDB_Cluster_Name = 'mongodb-cluster00.abcdef.mongodb.net/'\n",
    "\n",
    "client = MongoClient(f\"mongodb+srv://{MongoDB_Cluster_Username}:{MongoDB_Cluster_Password}@{MongoDB_Cluster_Name}\")\n",
    "\n",
    "# List Available Databases\n",
    "client.list_database_names()"
   ]
  },
  {
   "cell_type": "markdown",
   "metadata": {},
   "source": [
    "# **Connect To Sample_mflix Database**"
   ]
  },
  {
   "cell_type": "code",
   "execution_count": 4,
   "metadata": {},
   "outputs": [
    {
     "data": {
      "text/plain": [
       "['theaters', 'sessions', 'embedded_movies', 'movies', 'users', 'comments']"
      ]
     },
     "execution_count": 4,
     "metadata": {},
     "output_type": "execute_result"
    }
   ],
   "source": [
    "# Access the database collection directly\n",
    "db = client['sample_mflix']\n",
    "\n",
    "# Get List Of Collections\n",
    "db.list_collection_names()"
   ]
  },
  {
   "cell_type": "code",
   "execution_count": 7,
   "metadata": {},
   "outputs": [],
   "source": [
    "# Check Size & Count Of All Collections\n",
    "for db_name in db.list_collection_names():\n",
    "    current_db = client[db_name]\n",
    "    collections = current_db.list_collection_names()\n",
    "\n",
    "    # Iterate through collections\n",
    "    for coll_name in collections:\n",
    "        coll = current_db[coll_name]\n",
    "        print(f\"{db_name}.{coll_name}: Size = {coll.estimated_document_count()}\")\n",
    "        coll_size = coll.stats(1024 * 1024).storageSize  # Size in MB\n",
    "        doc_count = coll.count_documents({})\n",
    "        print(f\"{db_name}.{coll_name}: Size = {coll_size} MB, Records = {doc_count}\")"
   ]
  },
  {
   "cell_type": "code",
   "execution_count": null,
   "metadata": {},
   "outputs": [
    {
     "data": {
      "text/plain": [
       "{'_id': ObjectId('573a1390f29313caabcd42e8'),\n",
       " 'plot': 'A group of bandits stage a brazen train hold-up, only to find a determined posse hot on their heels.',\n",
       " 'genres': ['Short', 'Western'],\n",
       " 'runtime': 11,\n",
       " 'cast': ['A.C. Abadie',\n",
       "  \"Gilbert M. 'Broncho Billy' Anderson\",\n",
       "  'George Barnes',\n",
       "  'Justus D. Barnes'],\n",
       " 'poster': 'https://m.media-amazon.com/images/M/MV5BMTU3NjE5NzYtYTYyNS00MDVmLWIwYjgtMmYwYWIxZDYyNzU2XkEyXkFqcGdeQXVyNzQzNzQxNzI@._V1_SY1000_SX677_AL_.jpg',\n",
       " 'title': 'The Great Train Robbery',\n",
       " 'fullplot': \"Among the earliest existing films in American cinema - notable as the first film that presented a narrative story to tell - it depicts a group of cowboy outlaws who hold up a train and rob the passengers. They are then pursued by a Sheriff's posse. Several scenes have color included - all hand tinted.\",\n",
       " 'languages': ['English'],\n",
       " 'released': datetime.datetime(1903, 12, 1, 0, 0),\n",
       " 'directors': ['Edwin S. Porter'],\n",
       " 'rated': 'TV-G',\n",
       " 'awards': {'wins': 1, 'nominations': 0, 'text': '1 win.'},\n",
       " 'lastupdated': '2015-08-13 00:27:59.177000000',\n",
       " 'year': 1903,\n",
       " 'imdb': {'rating': 7.4, 'votes': 9847, 'id': 439},\n",
       " 'countries': ['USA'],\n",
       " 'type': 'movie',\n",
       " 'tomatoes': {'viewer': {'rating': 3.7, 'numReviews': 2559, 'meter': 75},\n",
       "  'fresh': 6,\n",
       "  'critic': {'rating': 7.6, 'numReviews': 6, 'meter': 100},\n",
       "  'rotten': 0,\n",
       "  'lastUpdated': datetime.datetime(2015, 8, 8, 19, 16, 10)},\n",
       " 'num_mflix_comments': 0}"
      ]
     },
     "execution_count": 14,
     "metadata": {},
     "output_type": "execute_result"
    }
   ],
   "source": [
    "client.sample_mflix['movies'].find_one()"
   ]
  }
 ],
 "metadata": {
  "kernelspec": {
   "display_name": "Python 3",
   "language": "python",
   "name": "python3"
  },
  "language_info": {
   "codemirror_mode": {
    "name": "ipython",
    "version": 3
   },
   "file_extension": ".py",
   "mimetype": "text/x-python",
   "name": "python",
   "nbconvert_exporter": "python",
   "pygments_lexer": "ipython3",
   "version": "3.12.3"
  }
 },
 "nbformat": 4,
 "nbformat_minor": 2
}
